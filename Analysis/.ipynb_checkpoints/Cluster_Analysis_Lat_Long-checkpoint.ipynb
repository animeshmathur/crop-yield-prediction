{
 "cells": [
  {
   "cell_type": "code",
   "execution_count": 1,
   "metadata": {},
   "outputs": [],
   "source": [
    "import pandas as pd\n",
    "import numpy as np\n",
    "import matplotlib.pyplot as plt"
   ]
  },
  {
   "cell_type": "code",
   "execution_count": 2,
   "metadata": {},
   "outputs": [],
   "source": [
    "df = pd.read_csv('../data/Crop_Data.csv')"
   ]
  },
  {
   "cell_type": "code",
   "execution_count": 3,
   "metadata": {},
   "outputs": [
    {
     "data": {
      "text/plain": [
       "(214471, 25)"
      ]
     },
     "execution_count": 3,
     "metadata": {},
     "output_type": "execute_result"
    }
   ],
   "source": [
    "df.shape"
   ]
  },
  {
   "cell_type": "code",
   "execution_count": 4,
   "metadata": {},
   "outputs": [
    {
     "data": {
      "text/html": [
       "<div>\n",
       "<style scoped>\n",
       "    .dataframe tbody tr th:only-of-type {\n",
       "        vertical-align: middle;\n",
       "    }\n",
       "\n",
       "    .dataframe tbody tr th {\n",
       "        vertical-align: top;\n",
       "    }\n",
       "\n",
       "    .dataframe thead th {\n",
       "        text-align: right;\n",
       "    }\n",
       "</style>\n",
       "<table border=\"1\" class=\"dataframe\">\n",
       "  <thead>\n",
       "    <tr style=\"text-align: right;\">\n",
       "      <th></th>\n",
       "      <th>State</th>\n",
       "      <th>District</th>\n",
       "      <th>Lat</th>\n",
       "      <th>Long</th>\n",
       "      <th>GW_depth_Min</th>\n",
       "      <th>GW_depth_Max</th>\n",
       "      <th>Wells_depth_0_to_2</th>\n",
       "      <th>Wells_depth_2_to_5</th>\n",
       "      <th>Wells_depth_5_to_10</th>\n",
       "      <th>Wells_depth_10_to_20</th>\n",
       "      <th>...</th>\n",
       "      <th>Humidity</th>\n",
       "      <th>Temp_Max</th>\n",
       "      <th>Temp_Min</th>\n",
       "      <th>Dew_Frost_Point</th>\n",
       "      <th>Wind_Speed</th>\n",
       "      <th>Year</th>\n",
       "      <th>Season</th>\n",
       "      <th>Crop</th>\n",
       "      <th>Area</th>\n",
       "      <th>Production</th>\n",
       "    </tr>\n",
       "  </thead>\n",
       "  <tbody>\n",
       "    <tr>\n",
       "      <th>0</th>\n",
       "      <td>ANDAMAN AND NICOBAR</td>\n",
       "      <td>NORTH AND MIDDLE ANDAMAN</td>\n",
       "      <td>11.66891</td>\n",
       "      <td>92.73273</td>\n",
       "      <td>0.04</td>\n",
       "      <td>4.56</td>\n",
       "      <td>29</td>\n",
       "      <td>4</td>\n",
       "      <td>0</td>\n",
       "      <td>0.0</td>\n",
       "      <td>...</td>\n",
       "      <td>84.786</td>\n",
       "      <td>27.886</td>\n",
       "      <td>27.200</td>\n",
       "      <td>24.768</td>\n",
       "      <td>5.766</td>\n",
       "      <td>2000</td>\n",
       "      <td>Kharif</td>\n",
       "      <td>Arecanut</td>\n",
       "      <td>3100.0</td>\n",
       "      <td>5200.0</td>\n",
       "    </tr>\n",
       "    <tr>\n",
       "      <th>1</th>\n",
       "      <td>ANDAMAN AND NICOBAR</td>\n",
       "      <td>NORTH AND MIDDLE ANDAMAN</td>\n",
       "      <td>11.66891</td>\n",
       "      <td>92.73273</td>\n",
       "      <td>0.04</td>\n",
       "      <td>4.56</td>\n",
       "      <td>29</td>\n",
       "      <td>4</td>\n",
       "      <td>0</td>\n",
       "      <td>0.0</td>\n",
       "      <td>...</td>\n",
       "      <td>84.786</td>\n",
       "      <td>27.886</td>\n",
       "      <td>27.200</td>\n",
       "      <td>24.768</td>\n",
       "      <td>5.766</td>\n",
       "      <td>2000</td>\n",
       "      <td>Kharif</td>\n",
       "      <td>Other Kharif pulses</td>\n",
       "      <td>668.0</td>\n",
       "      <td>448.0</td>\n",
       "    </tr>\n",
       "    <tr>\n",
       "      <th>2</th>\n",
       "      <td>ANDAMAN AND NICOBAR</td>\n",
       "      <td>NORTH AND MIDDLE ANDAMAN</td>\n",
       "      <td>11.66891</td>\n",
       "      <td>92.73273</td>\n",
       "      <td>0.04</td>\n",
       "      <td>4.56</td>\n",
       "      <td>29</td>\n",
       "      <td>4</td>\n",
       "      <td>0</td>\n",
       "      <td>0.0</td>\n",
       "      <td>...</td>\n",
       "      <td>84.786</td>\n",
       "      <td>27.886</td>\n",
       "      <td>27.200</td>\n",
       "      <td>24.768</td>\n",
       "      <td>5.766</td>\n",
       "      <td>2000</td>\n",
       "      <td>Kharif</td>\n",
       "      <td>Rice</td>\n",
       "      <td>10779.0</td>\n",
       "      <td>31863.0</td>\n",
       "    </tr>\n",
       "    <tr>\n",
       "      <th>3</th>\n",
       "      <td>ANDAMAN AND NICOBAR</td>\n",
       "      <td>NORTH AND MIDDLE ANDAMAN</td>\n",
       "      <td>11.66891</td>\n",
       "      <td>92.73273</td>\n",
       "      <td>0.04</td>\n",
       "      <td>4.56</td>\n",
       "      <td>29</td>\n",
       "      <td>4</td>\n",
       "      <td>0</td>\n",
       "      <td>0.0</td>\n",
       "      <td>...</td>\n",
       "      <td>80.225</td>\n",
       "      <td>28.057</td>\n",
       "      <td>26.927</td>\n",
       "      <td>23.741</td>\n",
       "      <td>4.752</td>\n",
       "      <td>2000</td>\n",
       "      <td>Whole Year</td>\n",
       "      <td>Banana</td>\n",
       "      <td>1531.0</td>\n",
       "      <td>12073.0</td>\n",
       "    </tr>\n",
       "    <tr>\n",
       "      <th>4</th>\n",
       "      <td>ANDAMAN AND NICOBAR</td>\n",
       "      <td>NORTH AND MIDDLE ANDAMAN</td>\n",
       "      <td>11.66891</td>\n",
       "      <td>92.73273</td>\n",
       "      <td>0.04</td>\n",
       "      <td>4.56</td>\n",
       "      <td>29</td>\n",
       "      <td>4</td>\n",
       "      <td>0</td>\n",
       "      <td>0.0</td>\n",
       "      <td>...</td>\n",
       "      <td>80.225</td>\n",
       "      <td>28.057</td>\n",
       "      <td>26.927</td>\n",
       "      <td>23.741</td>\n",
       "      <td>4.752</td>\n",
       "      <td>2000</td>\n",
       "      <td>Whole Year</td>\n",
       "      <td>Cashewnut</td>\n",
       "      <td>80.0</td>\n",
       "      <td>54.0</td>\n",
       "    </tr>\n",
       "  </tbody>\n",
       "</table>\n",
       "<p>5 rows × 25 columns</p>\n",
       "</div>"
      ],
      "text/plain": [
       "                 State                  District       Lat      Long  \\\n",
       "0  ANDAMAN AND NICOBAR  NORTH AND MIDDLE ANDAMAN  11.66891  92.73273   \n",
       "1  ANDAMAN AND NICOBAR  NORTH AND MIDDLE ANDAMAN  11.66891  92.73273   \n",
       "2  ANDAMAN AND NICOBAR  NORTH AND MIDDLE ANDAMAN  11.66891  92.73273   \n",
       "3  ANDAMAN AND NICOBAR  NORTH AND MIDDLE ANDAMAN  11.66891  92.73273   \n",
       "4  ANDAMAN AND NICOBAR  NORTH AND MIDDLE ANDAMAN  11.66891  92.73273   \n",
       "\n",
       "   GW_depth_Min  GW_depth_Max  Wells_depth_0_to_2  Wells_depth_2_to_5  \\\n",
       "0          0.04          4.56                  29                   4   \n",
       "1          0.04          4.56                  29                   4   \n",
       "2          0.04          4.56                  29                   4   \n",
       "3          0.04          4.56                  29                   4   \n",
       "4          0.04          4.56                  29                   4   \n",
       "\n",
       "   Wells_depth_5_to_10  Wells_depth_10_to_20  ...  Humidity  Temp_Max  \\\n",
       "0                    0                   0.0  ...    84.786    27.886   \n",
       "1                    0                   0.0  ...    84.786    27.886   \n",
       "2                    0                   0.0  ...    84.786    27.886   \n",
       "3                    0                   0.0  ...    80.225    28.057   \n",
       "4                    0                   0.0  ...    80.225    28.057   \n",
       "\n",
       "   Temp_Min  Dew_Frost_Point  Wind_Speed  Year      Season  \\\n",
       "0    27.200           24.768       5.766  2000      Kharif   \n",
       "1    27.200           24.768       5.766  2000      Kharif   \n",
       "2    27.200           24.768       5.766  2000      Kharif   \n",
       "3    26.927           23.741       4.752  2000  Whole Year   \n",
       "4    26.927           23.741       4.752  2000  Whole Year   \n",
       "\n",
       "                  Crop     Area  Production  \n",
       "0             Arecanut   3100.0      5200.0  \n",
       "1  Other Kharif pulses    668.0       448.0  \n",
       "2                 Rice  10779.0     31863.0  \n",
       "3               Banana   1531.0     12073.0  \n",
       "4            Cashewnut     80.0        54.0  \n",
       "\n",
       "[5 rows x 25 columns]"
      ]
     },
     "execution_count": 4,
     "metadata": {},
     "output_type": "execute_result"
    }
   ],
   "source": [
    "df.head()"
   ]
  },
  {
   "cell_type": "code",
   "execution_count": 5,
   "metadata": {},
   "outputs": [
    {
     "data": {
      "text/plain": [
       "Index(['State', 'District', 'Lat', 'Long', 'GW_depth_Min', 'GW_depth_Max',\n",
       "       'Wells_depth_0_to_2', 'Wells_depth_2_to_5', 'Wells_depth_5_to_10',\n",
       "       'Wells_depth_10_to_20', 'Wells_depth_20_to_40',\n",
       "       'Wells_depth_40_and_above', 'Precipitation', 'Solar_Radiation',\n",
       "       'Surface_Pressure', 'Humidity', 'Temp_Max', 'Temp_Min',\n",
       "       'Dew_Frost_Point', 'Wind_Speed', 'Year', 'Season', 'Crop', 'Area',\n",
       "       'Production'],\n",
       "      dtype='object')"
      ]
     },
     "execution_count": 5,
     "metadata": {},
     "output_type": "execute_result"
    }
   ],
   "source": [
    "df.columns"
   ]
  },
  {
   "cell_type": "code",
   "execution_count": 6,
   "metadata": {
    "scrolled": true
   },
   "outputs": [
    {
     "data": {
      "text/html": [
       "<div>\n",
       "<style scoped>\n",
       "    .dataframe tbody tr th:only-of-type {\n",
       "        vertical-align: middle;\n",
       "    }\n",
       "\n",
       "    .dataframe tbody tr th {\n",
       "        vertical-align: top;\n",
       "    }\n",
       "\n",
       "    .dataframe thead th {\n",
       "        text-align: right;\n",
       "    }\n",
       "</style>\n",
       "<table border=\"1\" class=\"dataframe\">\n",
       "  <thead>\n",
       "    <tr style=\"text-align: right;\">\n",
       "      <th></th>\n",
       "      <th>Lat</th>\n",
       "      <th>Long</th>\n",
       "    </tr>\n",
       "  </thead>\n",
       "  <tbody>\n",
       "    <tr>\n",
       "      <th>0</th>\n",
       "      <td>11.66891</td>\n",
       "      <td>92.73273</td>\n",
       "    </tr>\n",
       "    <tr>\n",
       "      <th>124</th>\n",
       "      <td>14.66857</td>\n",
       "      <td>77.58358</td>\n",
       "    </tr>\n",
       "    <tr>\n",
       "      <th>908</th>\n",
       "      <td>13.29780</td>\n",
       "      <td>78.97922</td>\n",
       "    </tr>\n",
       "    <tr>\n",
       "      <th>1690</th>\n",
       "      <td>16.94374</td>\n",
       "      <td>82.23506</td>\n",
       "    </tr>\n",
       "    <tr>\n",
       "      <th>2446</th>\n",
       "      <td>16.14674</td>\n",
       "      <td>80.39570</td>\n",
       "    </tr>\n",
       "    <tr>\n",
       "      <th>3130</th>\n",
       "      <td>16.18194</td>\n",
       "      <td>81.13513</td>\n",
       "    </tr>\n",
       "    <tr>\n",
       "      <th>3762</th>\n",
       "      <td>15.72356</td>\n",
       "      <td>80.24427</td>\n",
       "    </tr>\n",
       "    <tr>\n",
       "      <th>4586</th>\n",
       "      <td>14.45165</td>\n",
       "      <td>79.98941</td>\n",
       "    </tr>\n",
       "    <tr>\n",
       "      <th>5264</th>\n",
       "      <td>15.63227</td>\n",
       "      <td>79.64718</td>\n",
       "    </tr>\n",
       "    <tr>\n",
       "      <th>6066</th>\n",
       "      <td>18.47272</td>\n",
       "      <td>84.14628</td>\n",
       "    </tr>\n",
       "    <tr>\n",
       "      <th>6750</th>\n",
       "      <td>17.73209</td>\n",
       "      <td>82.84888</td>\n",
       "    </tr>\n",
       "    <tr>\n",
       "      <th>7559</th>\n",
       "      <td>18.39887</td>\n",
       "      <td>83.25060</td>\n",
       "    </tr>\n",
       "    <tr>\n",
       "      <th>8294</th>\n",
       "      <td>16.71043</td>\n",
       "      <td>81.11538</td>\n",
       "    </tr>\n",
       "    <tr>\n",
       "      <th>8868</th>\n",
       "      <td>27.87412</td>\n",
       "      <td>94.50858</td>\n",
       "    </tr>\n",
       "    <tr>\n",
       "      <th>9240</th>\n",
       "      <td>28.08034</td>\n",
       "      <td>96.65348</td>\n",
       "    </tr>\n",
       "    <tr>\n",
       "      <th>9430</th>\n",
       "      <td>27.65325</td>\n",
       "      <td>93.95652</td>\n",
       "    </tr>\n",
       "    <tr>\n",
       "      <th>9601</th>\n",
       "      <td>26.02404</td>\n",
       "      <td>92.05010</td>\n",
       "    </tr>\n",
       "    <tr>\n",
       "      <th>10301</th>\n",
       "      <td>26.46633</td>\n",
       "      <td>91.03334</td>\n",
       "    </tr>\n",
       "    <tr>\n",
       "      <th>10893</th>\n",
       "      <td>26.48595</td>\n",
       "      <td>90.61387</td>\n",
       "    </tr>\n",
       "    <tr>\n",
       "      <th>11479</th>\n",
       "      <td>24.75699</td>\n",
       "      <td>92.88151</td>\n",
       "    </tr>\n",
       "    <tr>\n",
       "      <th>12054</th>\n",
       "      <td>26.56356</td>\n",
       "      <td>92.06753</td>\n",
       "    </tr>\n",
       "    <tr>\n",
       "      <th>12633</th>\n",
       "      <td>27.16350</td>\n",
       "      <td>94.39170</td>\n",
       "    </tr>\n",
       "    <tr>\n",
       "      <th>13223</th>\n",
       "      <td>25.88074</td>\n",
       "      <td>89.92114</td>\n",
       "    </tr>\n",
       "    <tr>\n",
       "      <th>13794</th>\n",
       "      <td>27.45732</td>\n",
       "      <td>94.90788</td>\n",
       "    </tr>\n",
       "    <tr>\n",
       "      <th>14333</th>\n",
       "      <td>26.07339</td>\n",
       "      <td>90.56595</td>\n",
       "    </tr>\n",
       "    <tr>\n",
       "      <th>14923</th>\n",
       "      <td>26.37178</td>\n",
       "      <td>94.01048</td>\n",
       "    </tr>\n",
       "    <tr>\n",
       "      <th>15503</th>\n",
       "      <td>24.51414</td>\n",
       "      <td>92.63435</td>\n",
       "    </tr>\n",
       "    <tr>\n",
       "      <th>16037</th>\n",
       "      <td>26.75970</td>\n",
       "      <td>94.20758</td>\n",
       "    </tr>\n",
       "    <tr>\n",
       "      <th>16588</th>\n",
       "      <td>26.26094</td>\n",
       "      <td>91.61302</td>\n",
       "    </tr>\n",
       "    <tr>\n",
       "      <th>17526</th>\n",
       "      <td>25.99404</td>\n",
       "      <td>93.25153</td>\n",
       "    </tr>\n",
       "    <tr>\n",
       "      <th>...</th>\n",
       "      <td>...</td>\n",
       "      <td>...</td>\n",
       "    </tr>\n",
       "    <tr>\n",
       "      <th>199861</th>\n",
       "      <td>25.88183</td>\n",
       "      <td>81.82502</td>\n",
       "    </tr>\n",
       "    <tr>\n",
       "      <th>200328</th>\n",
       "      <td>28.78157</td>\n",
       "      <td>79.16468</td>\n",
       "    </tr>\n",
       "    <tr>\n",
       "      <th>200791</th>\n",
       "      <td>29.99071</td>\n",
       "      <td>77.49169</td>\n",
       "    </tr>\n",
       "    <tr>\n",
       "      <th>201209</th>\n",
       "      <td>25.36022</td>\n",
       "      <td>82.49182</td>\n",
       "    </tr>\n",
       "    <tr>\n",
       "      <th>201603</th>\n",
       "      <td>27.96604</td>\n",
       "      <td>79.77584</td>\n",
       "    </tr>\n",
       "    <tr>\n",
       "      <th>202130</th>\n",
       "      <td>27.20649</td>\n",
       "      <td>82.85035</td>\n",
       "    </tr>\n",
       "    <tr>\n",
       "      <th>202531</th>\n",
       "      <td>27.51200</td>\n",
       "      <td>80.82441</td>\n",
       "    </tr>\n",
       "    <tr>\n",
       "      <th>203069</th>\n",
       "      <td>24.39438</td>\n",
       "      <td>83.07248</td>\n",
       "    </tr>\n",
       "    <tr>\n",
       "      <th>203540</th>\n",
       "      <td>26.31825</td>\n",
       "      <td>81.98092</td>\n",
       "    </tr>\n",
       "    <tr>\n",
       "      <th>204046</th>\n",
       "      <td>26.57627</td>\n",
       "      <td>80.60775</td>\n",
       "    </tr>\n",
       "    <tr>\n",
       "      <th>204570</th>\n",
       "      <td>25.38029</td>\n",
       "      <td>82.93882</td>\n",
       "    </tr>\n",
       "    <tr>\n",
       "      <th>205021</th>\n",
       "      <td>29.70950</td>\n",
       "      <td>79.41645</td>\n",
       "    </tr>\n",
       "    <tr>\n",
       "      <th>205367</th>\n",
       "      <td>29.29266</td>\n",
       "      <td>80.05724</td>\n",
       "    </tr>\n",
       "    <tr>\n",
       "      <th>205773</th>\n",
       "      <td>30.46371</td>\n",
       "      <td>77.91558</td>\n",
       "    </tr>\n",
       "    <tr>\n",
       "      <th>206223</th>\n",
       "      <td>29.90485</td>\n",
       "      <td>77.99313</td>\n",
       "    </tr>\n",
       "    <tr>\n",
       "      <th>206572</th>\n",
       "      <td>29.39740</td>\n",
       "      <td>79.44690</td>\n",
       "    </tr>\n",
       "    <tr>\n",
       "      <th>207006</th>\n",
       "      <td>29.88055</td>\n",
       "      <td>78.67379</td>\n",
       "    </tr>\n",
       "    <tr>\n",
       "      <th>207378</th>\n",
       "      <td>30.02624</td>\n",
       "      <td>79.14314</td>\n",
       "    </tr>\n",
       "    <tr>\n",
       "      <th>207730</th>\n",
       "      <td>23.12927</td>\n",
       "      <td>87.19972</td>\n",
       "    </tr>\n",
       "    <tr>\n",
       "      <th>208351</th>\n",
       "      <td>22.93530</td>\n",
       "      <td>88.61297</td>\n",
       "    </tr>\n",
       "    <tr>\n",
       "      <th>208951</th>\n",
       "      <td>24.06277</td>\n",
       "      <td>87.69082</td>\n",
       "    </tr>\n",
       "    <tr>\n",
       "      <th>209519</th>\n",
       "      <td>26.83386</td>\n",
       "      <td>88.30684</td>\n",
       "    </tr>\n",
       "    <tr>\n",
       "      <th>210092</th>\n",
       "      <td>21.91675</td>\n",
       "      <td>87.74232</td>\n",
       "    </tr>\n",
       "    <tr>\n",
       "      <th>210439</th>\n",
       "      <td>26.52430</td>\n",
       "      <td>88.72002</td>\n",
       "    </tr>\n",
       "    <tr>\n",
       "      <th>211071</th>\n",
       "      <td>25.09625</td>\n",
       "      <td>88.11775</td>\n",
       "    </tr>\n",
       "    <tr>\n",
       "      <th>211632</th>\n",
       "      <td>24.28722</td>\n",
       "      <td>88.36601</td>\n",
       "    </tr>\n",
       "    <tr>\n",
       "      <th>212222</th>\n",
       "      <td>23.41045</td>\n",
       "      <td>88.36592</td>\n",
       "    </tr>\n",
       "    <tr>\n",
       "      <th>212802</th>\n",
       "      <td>25.87013</td>\n",
       "      <td>87.97010</td>\n",
       "    </tr>\n",
       "    <tr>\n",
       "      <th>213199</th>\n",
       "      <td>23.20086</td>\n",
       "      <td>86.29734</td>\n",
       "    </tr>\n",
       "    <tr>\n",
       "      <th>213836</th>\n",
       "      <td>22.42410</td>\n",
       "      <td>87.32094</td>\n",
       "    </tr>\n",
       "  </tbody>\n",
       "</table>\n",
       "<p>459 rows × 2 columns</p>\n",
       "</div>"
      ],
      "text/plain": [
       "             Lat      Long\n",
       "0       11.66891  92.73273\n",
       "124     14.66857  77.58358\n",
       "908     13.29780  78.97922\n",
       "1690    16.94374  82.23506\n",
       "2446    16.14674  80.39570\n",
       "3130    16.18194  81.13513\n",
       "3762    15.72356  80.24427\n",
       "4586    14.45165  79.98941\n",
       "5264    15.63227  79.64718\n",
       "6066    18.47272  84.14628\n",
       "6750    17.73209  82.84888\n",
       "7559    18.39887  83.25060\n",
       "8294    16.71043  81.11538\n",
       "8868    27.87412  94.50858\n",
       "9240    28.08034  96.65348\n",
       "9430    27.65325  93.95652\n",
       "9601    26.02404  92.05010\n",
       "10301   26.46633  91.03334\n",
       "10893   26.48595  90.61387\n",
       "11479   24.75699  92.88151\n",
       "12054   26.56356  92.06753\n",
       "12633   27.16350  94.39170\n",
       "13223   25.88074  89.92114\n",
       "13794   27.45732  94.90788\n",
       "14333   26.07339  90.56595\n",
       "14923   26.37178  94.01048\n",
       "15503   24.51414  92.63435\n",
       "16037   26.75970  94.20758\n",
       "16588   26.26094  91.61302\n",
       "17526   25.99404  93.25153\n",
       "...          ...       ...\n",
       "199861  25.88183  81.82502\n",
       "200328  28.78157  79.16468\n",
       "200791  29.99071  77.49169\n",
       "201209  25.36022  82.49182\n",
       "201603  27.96604  79.77584\n",
       "202130  27.20649  82.85035\n",
       "202531  27.51200  80.82441\n",
       "203069  24.39438  83.07248\n",
       "203540  26.31825  81.98092\n",
       "204046  26.57627  80.60775\n",
       "204570  25.38029  82.93882\n",
       "205021  29.70950  79.41645\n",
       "205367  29.29266  80.05724\n",
       "205773  30.46371  77.91558\n",
       "206223  29.90485  77.99313\n",
       "206572  29.39740  79.44690\n",
       "207006  29.88055  78.67379\n",
       "207378  30.02624  79.14314\n",
       "207730  23.12927  87.19972\n",
       "208351  22.93530  88.61297\n",
       "208951  24.06277  87.69082\n",
       "209519  26.83386  88.30684\n",
       "210092  21.91675  87.74232\n",
       "210439  26.52430  88.72002\n",
       "211071  25.09625  88.11775\n",
       "211632  24.28722  88.36601\n",
       "212222  23.41045  88.36592\n",
       "212802  25.87013  87.97010\n",
       "213199  23.20086  86.29734\n",
       "213836  22.42410  87.32094\n",
       "\n",
       "[459 rows x 2 columns]"
      ]
     },
     "execution_count": 6,
     "metadata": {},
     "output_type": "execute_result"
    }
   ],
   "source": [
    "df_geo = df[['Lat', 'Long']].drop_duplicates()\n",
    "df_geo"
   ]
  },
  {
   "cell_type": "code",
   "execution_count": 7,
   "metadata": {},
   "outputs": [],
   "source": [
    "# Clustering"
   ]
  },
  {
   "cell_type": "code",
   "execution_count": 8,
   "metadata": {},
   "outputs": [],
   "source": [
    "from sklearn.cluster import KMeans\n",
    "from sklearn.metrics import silhouette_score"
   ]
  },
  {
   "cell_type": "code",
   "execution_count": 9,
   "metadata": {},
   "outputs": [],
   "source": [
    "silhouette_scores = []\n",
    "inertia_scores = []\n",
    "k_range = range(2, 20)\n",
    "for k in k_range:\n",
    "    clusterer = KMeans(n_clusters=k)\n",
    "    clusterer.fit(df_geo)\n",
    "    preds = clusterer.predict(df_geo)\n",
    "    centers = clusterer.cluster_centers_\n",
    "    inertia_scores.append(clusterer.inertia_)\n",
    "    silhouette_scores.append(silhouette_score(df_geo, preds))"
   ]
  },
  {
   "cell_type": "code",
   "execution_count": 10,
   "metadata": {},
   "outputs": [
    {
     "data": {
      "text/plain": [
       "[<matplotlib.lines.Line2D at 0x1d4d7767ba8>]"
      ]
     },
     "execution_count": 10,
     "metadata": {},
     "output_type": "execute_result"
    },
    {
     "data": {
      "image/png": "[encoded data removed]",
      "text/plain": [
       "<Figure size 432x288 with 1 Axes>"
      ]
     },
     "metadata": {
      "needs_background": "light"
     },
     "output_type": "display_data"
    }
   ],
   "source": [
    "# Inertia vs k\n",
    "plt.plot(k_range, inertia_scores, 'bx-')"
   ]
  },
  {
   "cell_type": "code",
   "execution_count": 11,
   "metadata": {},
   "outputs": [
    {
     "data": {
      "text/plain": [
       "[<matplotlib.lines.Line2D at 0x1d4d7ec3358>]"
      ]
     },
     "execution_count": 11,
     "metadata": {},
     "output_type": "execute_result"
    },
    {
     "data": {
      "image/png": "[encoded data removed]",
      "text/plain": [
       "<Figure size 432x288 with 1 Axes>"
      ]
     },
     "metadata": {
      "needs_background": "light"
     },
     "output_type": "display_data"
    }
   ],
   "source": [
    "# Plot Silhoutte scores vs k\n",
    "plt.plot(k_range, silhouette_scores, 'bx-')"
   ]
  },
  {
   "cell_type": "code",
   "execution_count": 12,
   "metadata": {},
   "outputs": [
    {
     "data": {
      "text/plain": [
       "<matplotlib.collections.PathCollection at 0x1d4d7f37048>"
      ]
     },
     "execution_count": 12,
     "metadata": {},
     "output_type": "execute_result"
    },
    {
     "data": {
      "image/png": "[encoded data removed]",
      "text/plain": [
       "<Figure size 432x288 with 1 Axes>"
      ]
     },
     "metadata": {
      "needs_background": "light"
     },
     "output_type": "display_data"
    }
   ],
   "source": [
    "plt.scatter(df_geo.Long, df_geo.Lat)"
   ]
  },
  {
   "cell_type": "code",
   "execution_count": 13,
   "metadata": {},
   "outputs": [
    {
     "data": {
      "text/plain": [
       "KMeans(algorithm='auto', copy_x=True, init='k-means++', max_iter=300,\n",
       "       n_clusters=5, n_init=10, n_jobs=None, precompute_distances='auto',\n",
       "       random_state=None, tol=0.0001, verbose=0)"
      ]
     },
     "execution_count": 13,
     "metadata": {},
     "output_type": "execute_result"
    }
   ],
   "source": [
    "# With 5 custers\n",
    "clusterer_5 = KMeans(n_clusters=5)\n",
    "clusterer_5.fit(df_geo)"
   ]
  },
  {
   "cell_type": "code",
   "execution_count": 14,
   "metadata": {},
   "outputs": [
    {
     "data": {
      "text/plain": [
       "(459,)"
      ]
     },
     "execution_count": 14,
     "metadata": {},
     "output_type": "execute_result"
    }
   ],
   "source": [
    "preds_5 = clusterer_5.predict(df_geo)\n",
    "preds_5.shape"
   ]
  },
  {
   "cell_type": "code",
   "execution_count": 16,
   "metadata": {},
   "outputs": [
    {
     "data": {
      "text/plain": [
       "<matplotlib.collections.PathCollection at 0x1d4d91ef550>"
      ]
     },
     "execution_count": 16,
     "metadata": {},
     "output_type": "execute_result"
    },
    {
     "data": {
      "image/png": "[encoded data removed]",
      "text/plain": [
       "<Figure size 432x288 with 1 Axes>"
      ]
     },
     "metadata": {
      "needs_background": "light"
     },
     "output_type": "display_data"
    }
   ],
   "source": [
    "# With 3 clusters\n",
    "clusterer_3 = KMeans(n_clusters=3)\n",
    "clusterer_3.fit(df_geo)\n",
    "preds_3 = clusterer_3.predict(df_geo)\n",
    "plt.scatter(df_geo.Long, df_geo.Lat, c=preds_3, cmap='rainbow')"
   ]
  },
  {
   "cell_type": "markdown",
   "metadata": {},
   "source": [
    "K=3 represents Northern, Southern and Eastern regions. But there are many practical differences within cluster regions such as, Rajasthan and J&K seems to represent same cluster but have totally different climate."
   ]
  },
  {
   "cell_type": "code",
   "execution_count": 15,
   "metadata": {},
   "outputs": [
    {
     "data": {
      "text/plain": [
       "<matplotlib.collections.PathCollection at 0x1d4d9191128>"
      ]
     },
     "execution_count": 15,
     "metadata": {},
     "output_type": "execute_result"
    },
    {
     "data": {
      "image/png": "[encoded data removed]",
      "text/plain": [
       "<Figure size 432x288 with 1 Axes>"
      ]
     },
     "metadata": {
      "needs_background": "light"
     },
     "output_type": "display_data"
    }
   ],
   "source": [
    "plt.scatter(df_geo.Long, df_geo.Lat, c=preds_5, cmap='rainbow')"
   ]
  },
  {
   "cell_type": "markdown",
   "metadata": {},
   "source": [
    "K=5 represent some differences in cluster regions which can be differentiated based on extreme climate, coastal regions, etc."
   ]
  },
  {
   "cell_type": "code",
   "execution_count": 21,
   "metadata": {},
   "outputs": [
    {
     "data": {
      "text/plain": [
       "<matplotlib.collections.PathCollection at 0x1d4d9410400>"
      ]
     },
     "execution_count": 21,
     "metadata": {},
     "output_type": "execute_result"
    },
    {
     "data": {
      "image/png": "[encoded data removed]",
      "text/plain": [
       "<Figure size 432x288 with 1 Axes>"
      ]
     },
     "metadata": {
      "needs_background": "light"
     },
     "output_type": "display_data"
    }
   ],
   "source": [
    "# With 6 clusters\n",
    "clusterer_6 = KMeans(n_clusters=6)\n",
    "clusterer_6.fit(df_geo)\n",
    "preds_6 = clusterer_6.predict(df_geo)\n",
    "plt.scatter(df_geo.Long, df_geo.Lat, c=preds_6, cmap='rainbow')"
   ]
  },
  {
   "cell_type": "markdown",
   "metadata": {},
   "source": [
    "K=6 and K=5 do not represent much differences. But K=6 has higher Silhouette coefficient, hence may be considered during evaluation."
   ]
  },
  {
   "cell_type": "markdown",
   "metadata": {},
   "source": [
    "Looks like optimal number of clusters can be one of 3, 5 or 6."
   ]
  },
  {
   "cell_type": "code",
   "execution_count": null,
   "metadata": {},
   "outputs": [],
   "source": []
  }
 ],
 "metadata": {
  "kernelspec": {
   "display_name": "Python 3",
   "language": "python",
   "name": "python3"
  },
  "language_info": {
   "codemirror_mode": {
    "name": "ipython",
    "version": 3
   },
   "file_extension": ".py",
   "mimetype": "text/x-python",
   "name": "python",
   "nbconvert_exporter": "python",
   "pygments_lexer": "ipython3",
   "version": "3.7.3"
  }
 },
 "nbformat": 4,
 "nbformat_minor": 2
}
