{
 "cells": [
  {
   "cell_type": "code",
   "execution_count": 1,
   "metadata": {
    "executionInfo": {
     "elapsed": 1902,
     "status": "ok",
     "timestamp": 1605856799607,
     "user": {
      "displayName": "Animesh Mathur",
      "photoUrl": "",
      "userId": "12851398661452389381"
     },
     "user_tz": -330
    },
    "id": "phX_q500aML4"
   },
   "outputs": [],
   "source": [
    "import numpy as np\n",
    "import pandas as pd\n",
    "import matplotlib.pyplot as plt\n",
    "import seaborn as sns\n",
    "\n",
    "sns.set()"
   ]
  },
  {
   "cell_type": "code",
   "execution_count": 2,
   "metadata": {
    "executionInfo": {
     "elapsed": 9098,
     "status": "ok",
     "timestamp": 1605856806813,
     "user": {
      "displayName": "Animesh Mathur",
      "photoUrl": "",
      "userId": "12851398661452389381"
     },
     "user_tz": -330
    },
    "id": "W-ZBtwHlKF7y"
   },
   "outputs": [],
   "source": [
    "crop_data = pd.read_csv('../data/Crop_Data.csv')"
   ]
  },
  {
   "cell_type": "code",
   "execution_count": 3,
   "metadata": {
    "colab": {
     "base_uri": "https://localhost:8080/"
    },
    "executionInfo": {
     "elapsed": 9007,
     "status": "ok",
     "timestamp": 1605856806814,
     "user": {
      "displayName": "Animesh Mathur",
      "photoUrl": "",
      "userId": "12851398661452389381"
     },
     "user_tz": -330
    },
    "id": "u_kt_T5NKYSb",
    "outputId": "f242bd27-c398-49d1-e12f-7d1f9436bd0e"
   },
   "outputs": [
    {
     "data": {
      "text/plain": [
       "(214471, 25)"
      ]
     },
     "execution_count": 3,
     "metadata": {},
     "output_type": "execute_result"
    }
   ],
   "source": [
    "crop_data.shape"
   ]
  },
  {
   "cell_type": "code",
   "execution_count": 4,
   "metadata": {
    "colab": {
     "base_uri": "https://localhost:8080/",
     "height": 467
    },
    "executionInfo": {
     "elapsed": 8992,
     "status": "ok",
     "timestamp": 1605856806815,
     "user": {
      "displayName": "Animesh Mathur",
      "photoUrl": "",
      "userId": "12851398661452389381"
     },
     "user_tz": -330
    },
    "id": "SZQ-TTrsKbK5",
    "outputId": "e5286737-17f1-47a1-e87c-f8202883540c"
   },
   "outputs": [
    {
     "data": {
      "text/html": [
       "<div>\n",
       "<style scoped>\n",
       "    .dataframe tbody tr th:only-of-type {\n",
       "        vertical-align: middle;\n",
       "    }\n",
       "\n",
       "    .dataframe tbody tr th {\n",
       "        vertical-align: top;\n",
       "    }\n",
       "\n",
       "    .dataframe thead th {\n",
       "        text-align: right;\n",
       "    }\n",
       "</style>\n",
       "<table border=\"1\" class=\"dataframe\">\n",
       "  <thead>\n",
       "    <tr style=\"text-align: right;\">\n",
       "      <th></th>\n",
       "      <th>State</th>\n",
       "      <th>District</th>\n",
       "      <th>Lat</th>\n",
       "      <th>Long</th>\n",
       "      <th>GW_depth_Min</th>\n",
       "      <th>GW_depth_Max</th>\n",
       "      <th>Wells_depth_0_to_2</th>\n",
       "      <th>Wells_depth_2_to_5</th>\n",
       "      <th>Wells_depth_5_to_10</th>\n",
       "      <th>Wells_depth_10_to_20</th>\n",
       "      <th>...</th>\n",
       "      <th>Humidity</th>\n",
       "      <th>Temp_Max</th>\n",
       "      <th>Temp_Min</th>\n",
       "      <th>Dew_Frost_Point</th>\n",
       "      <th>Wind_Speed</th>\n",
       "      <th>Year</th>\n",
       "      <th>Season</th>\n",
       "      <th>Crop</th>\n",
       "      <th>Area</th>\n",
       "      <th>Production</th>\n",
       "    </tr>\n",
       "  </thead>\n",
       "  <tbody>\n",
       "    <tr>\n",
       "      <th>0</th>\n",
       "      <td>ANDAMAN AND NICOBAR</td>\n",
       "      <td>NORTH AND MIDDLE ANDAMAN</td>\n",
       "      <td>11.66891</td>\n",
       "      <td>92.73273</td>\n",
       "      <td>0.04</td>\n",
       "      <td>4.56</td>\n",
       "      <td>29</td>\n",
       "      <td>4</td>\n",
       "      <td>0</td>\n",
       "      <td>0.0</td>\n",
       "      <td>...</td>\n",
       "      <td>84.786</td>\n",
       "      <td>27.886</td>\n",
       "      <td>27.200</td>\n",
       "      <td>24.768</td>\n",
       "      <td>5.766</td>\n",
       "      <td>2000</td>\n",
       "      <td>Kharif</td>\n",
       "      <td>Arecanut</td>\n",
       "      <td>3100.0</td>\n",
       "      <td>5200.0</td>\n",
       "    </tr>\n",
       "    <tr>\n",
       "      <th>1</th>\n",
       "      <td>ANDAMAN AND NICOBAR</td>\n",
       "      <td>NORTH AND MIDDLE ANDAMAN</td>\n",
       "      <td>11.66891</td>\n",
       "      <td>92.73273</td>\n",
       "      <td>0.04</td>\n",
       "      <td>4.56</td>\n",
       "      <td>29</td>\n",
       "      <td>4</td>\n",
       "      <td>0</td>\n",
       "      <td>0.0</td>\n",
       "      <td>...</td>\n",
       "      <td>84.786</td>\n",
       "      <td>27.886</td>\n",
       "      <td>27.200</td>\n",
       "      <td>24.768</td>\n",
       "      <td>5.766</td>\n",
       "      <td>2000</td>\n",
       "      <td>Kharif</td>\n",
       "      <td>Other Kharif pulses</td>\n",
       "      <td>668.0</td>\n",
       "      <td>448.0</td>\n",
       "    </tr>\n",
       "    <tr>\n",
       "      <th>2</th>\n",
       "      <td>ANDAMAN AND NICOBAR</td>\n",
       "      <td>NORTH AND MIDDLE ANDAMAN</td>\n",
       "      <td>11.66891</td>\n",
       "      <td>92.73273</td>\n",
       "      <td>0.04</td>\n",
       "      <td>4.56</td>\n",
       "      <td>29</td>\n",
       "      <td>4</td>\n",
       "      <td>0</td>\n",
       "      <td>0.0</td>\n",
       "      <td>...</td>\n",
       "      <td>84.786</td>\n",
       "      <td>27.886</td>\n",
       "      <td>27.200</td>\n",
       "      <td>24.768</td>\n",
       "      <td>5.766</td>\n",
       "      <td>2000</td>\n",
       "      <td>Kharif</td>\n",
       "      <td>Rice</td>\n",
       "      <td>10779.0</td>\n",
       "      <td>31863.0</td>\n",
       "    </tr>\n",
       "    <tr>\n",
       "      <th>3</th>\n",
       "      <td>ANDAMAN AND NICOBAR</td>\n",
       "      <td>NORTH AND MIDDLE ANDAMAN</td>\n",
       "      <td>11.66891</td>\n",
       "      <td>92.73273</td>\n",
       "      <td>0.04</td>\n",
       "      <td>4.56</td>\n",
       "      <td>29</td>\n",
       "      <td>4</td>\n",
       "      <td>0</td>\n",
       "      <td>0.0</td>\n",
       "      <td>...</td>\n",
       "      <td>80.225</td>\n",
       "      <td>28.057</td>\n",
       "      <td>26.927</td>\n",
       "      <td>23.741</td>\n",
       "      <td>4.752</td>\n",
       "      <td>2000</td>\n",
       "      <td>Whole Year</td>\n",
       "      <td>Banana</td>\n",
       "      <td>1531.0</td>\n",
       "      <td>12073.0</td>\n",
       "    </tr>\n",
       "    <tr>\n",
       "      <th>4</th>\n",
       "      <td>ANDAMAN AND NICOBAR</td>\n",
       "      <td>NORTH AND MIDDLE ANDAMAN</td>\n",
       "      <td>11.66891</td>\n",
       "      <td>92.73273</td>\n",
       "      <td>0.04</td>\n",
       "      <td>4.56</td>\n",
       "      <td>29</td>\n",
       "      <td>4</td>\n",
       "      <td>0</td>\n",
       "      <td>0.0</td>\n",
       "      <td>...</td>\n",
       "      <td>80.225</td>\n",
       "      <td>28.057</td>\n",
       "      <td>26.927</td>\n",
       "      <td>23.741</td>\n",
       "      <td>4.752</td>\n",
       "      <td>2000</td>\n",
       "      <td>Whole Year</td>\n",
       "      <td>Cashewnut</td>\n",
       "      <td>80.0</td>\n",
       "      <td>54.0</td>\n",
       "    </tr>\n",
       "  </tbody>\n",
       "</table>\n",
       "<p>5 rows × 25 columns</p>\n",
       "</div>"
      ],
      "text/plain": [
       "                 State                  District       Lat      Long  \\\n",
       "0  ANDAMAN AND NICOBAR  NORTH AND MIDDLE ANDAMAN  11.66891  92.73273   \n",
       "1  ANDAMAN AND NICOBAR  NORTH AND MIDDLE ANDAMAN  11.66891  92.73273   \n",
       "2  ANDAMAN AND NICOBAR  NORTH AND MIDDLE ANDAMAN  11.66891  92.73273   \n",
       "3  ANDAMAN AND NICOBAR  NORTH AND MIDDLE ANDAMAN  11.66891  92.73273   \n",
       "4  ANDAMAN AND NICOBAR  NORTH AND MIDDLE ANDAMAN  11.66891  92.73273   \n",
       "\n",
       "   GW_depth_Min  GW_depth_Max  Wells_depth_0_to_2  Wells_depth_2_to_5  \\\n",
       "0          0.04          4.56                  29                   4   \n",
       "1          0.04          4.56                  29                   4   \n",
       "2          0.04          4.56                  29                   4   \n",
       "3          0.04          4.56                  29                   4   \n",
       "4          0.04          4.56                  29                   4   \n",
       "\n",
       "   Wells_depth_5_to_10  Wells_depth_10_to_20  ...  Humidity  Temp_Max  \\\n",
       "0                    0                   0.0  ...    84.786    27.886   \n",
       "1                    0                   0.0  ...    84.786    27.886   \n",
       "2                    0                   0.0  ...    84.786    27.886   \n",
       "3                    0                   0.0  ...    80.225    28.057   \n",
       "4                    0                   0.0  ...    80.225    28.057   \n",
       "\n",
       "   Temp_Min  Dew_Frost_Point  Wind_Speed  Year      Season  \\\n",
       "0    27.200           24.768       5.766  2000      Kharif   \n",
       "1    27.200           24.768       5.766  2000      Kharif   \n",
       "2    27.200           24.768       5.766  2000      Kharif   \n",
       "3    26.927           23.741       4.752  2000  Whole Year   \n",
       "4    26.927           23.741       4.752  2000  Whole Year   \n",
       "\n",
       "                  Crop     Area  Production  \n",
       "0             Arecanut   3100.0      5200.0  \n",
       "1  Other Kharif pulses    668.0       448.0  \n",
       "2                 Rice  10779.0     31863.0  \n",
       "3               Banana   1531.0     12073.0  \n",
       "4            Cashewnut     80.0        54.0  \n",
       "\n",
       "[5 rows x 25 columns]"
      ]
     },
     "execution_count": 4,
     "metadata": {},
     "output_type": "execute_result"
    }
   ],
   "source": [
    "crop_data.head()"
   ]
  },
  {
   "cell_type": "code",
   "execution_count": 5,
   "metadata": {
    "colab": {
     "base_uri": "https://localhost:8080/",
     "height": 414
    },
    "executionInfo": {
     "elapsed": 8977,
     "status": "ok",
     "timestamp": 1605856806816,
     "user": {
      "displayName": "Animesh Mathur",
      "photoUrl": "",
      "userId": "12851398661452389381"
     },
     "user_tz": -330
    },
    "id": "yqp6ratNKfpp",
    "outputId": "9c5fce36-1cd6-4bf9-efed-a30ddb674167"
   },
   "outputs": [
    {
     "data": {
      "text/html": [
       "<div>\n",
       "<style scoped>\n",
       "    .dataframe tbody tr th:only-of-type {\n",
       "        vertical-align: middle;\n",
       "    }\n",
       "\n",
       "    .dataframe tbody tr th {\n",
       "        vertical-align: top;\n",
       "    }\n",
       "\n",
       "    .dataframe thead th {\n",
       "        text-align: right;\n",
       "    }\n",
       "</style>\n",
       "<table border=\"1\" class=\"dataframe\">\n",
       "  <thead>\n",
       "    <tr style=\"text-align: right;\">\n",
       "      <th></th>\n",
       "      <th>State</th>\n",
       "      <th>District</th>\n",
       "      <th>Lat</th>\n",
       "      <th>Long</th>\n",
       "      <th>GW_depth_Min</th>\n",
       "      <th>GW_depth_Max</th>\n",
       "      <th>Wells_depth_0_to_2</th>\n",
       "      <th>Wells_depth_2_to_5</th>\n",
       "      <th>Wells_depth_5_to_10</th>\n",
       "      <th>Wells_depth_10_to_20</th>\n",
       "      <th>...</th>\n",
       "      <th>Humidity</th>\n",
       "      <th>Temp_Max</th>\n",
       "      <th>Temp_Min</th>\n",
       "      <th>Dew_Frost_Point</th>\n",
       "      <th>Wind_Speed</th>\n",
       "      <th>Year</th>\n",
       "      <th>Season</th>\n",
       "      <th>Crop</th>\n",
       "      <th>Area</th>\n",
       "      <th>Production</th>\n",
       "    </tr>\n",
       "  </thead>\n",
       "  <tbody>\n",
       "    <tr>\n",
       "      <th>count</th>\n",
       "      <td>214471</td>\n",
       "      <td>214471</td>\n",
       "      <td>214471.000000</td>\n",
       "      <td>214471.000000</td>\n",
       "      <td>214471.000000</td>\n",
       "      <td>214471.000000</td>\n",
       "      <td>214471.000000</td>\n",
       "      <td>214471.000000</td>\n",
       "      <td>214471.00000</td>\n",
       "      <td>214471.000000</td>\n",
       "      <td>...</td>\n",
       "      <td>214471.000000</td>\n",
       "      <td>214471.000000</td>\n",
       "      <td>214471.000000</td>\n",
       "      <td>214471.000000</td>\n",
       "      <td>214471.000000</td>\n",
       "      <td>214471.000000</td>\n",
       "      <td>214471</td>\n",
       "      <td>214471</td>\n",
       "      <td>2.144710e+05</td>\n",
       "      <td>2.144710e+05</td>\n",
       "    </tr>\n",
       "    <tr>\n",
       "      <th>unique</th>\n",
       "      <td>30</td>\n",
       "      <td>516</td>\n",
       "      <td>NaN</td>\n",
       "      <td>NaN</td>\n",
       "      <td>NaN</td>\n",
       "      <td>NaN</td>\n",
       "      <td>NaN</td>\n",
       "      <td>NaN</td>\n",
       "      <td>NaN</td>\n",
       "      <td>NaN</td>\n",
       "      <td>...</td>\n",
       "      <td>NaN</td>\n",
       "      <td>NaN</td>\n",
       "      <td>NaN</td>\n",
       "      <td>NaN</td>\n",
       "      <td>NaN</td>\n",
       "      <td>NaN</td>\n",
       "      <td>6</td>\n",
       "      <td>119</td>\n",
       "      <td>NaN</td>\n",
       "      <td>NaN</td>\n",
       "    </tr>\n",
       "    <tr>\n",
       "      <th>top</th>\n",
       "      <td>UTTAR PRADESH</td>\n",
       "      <td>TUMKUR</td>\n",
       "      <td>NaN</td>\n",
       "      <td>NaN</td>\n",
       "      <td>NaN</td>\n",
       "      <td>NaN</td>\n",
       "      <td>NaN</td>\n",
       "      <td>NaN</td>\n",
       "      <td>NaN</td>\n",
       "      <td>NaN</td>\n",
       "      <td>...</td>\n",
       "      <td>NaN</td>\n",
       "      <td>NaN</td>\n",
       "      <td>NaN</td>\n",
       "      <td>NaN</td>\n",
       "      <td>NaN</td>\n",
       "      <td>NaN</td>\n",
       "      <td>Kharif</td>\n",
       "      <td>Rice</td>\n",
       "      <td>NaN</td>\n",
       "      <td>NaN</td>\n",
       "    </tr>\n",
       "    <tr>\n",
       "      <th>freq</th>\n",
       "      <td>32311</td>\n",
       "      <td>931</td>\n",
       "      <td>NaN</td>\n",
       "      <td>NaN</td>\n",
       "      <td>NaN</td>\n",
       "      <td>NaN</td>\n",
       "      <td>NaN</td>\n",
       "      <td>NaN</td>\n",
       "      <td>NaN</td>\n",
       "      <td>NaN</td>\n",
       "      <td>...</td>\n",
       "      <td>NaN</td>\n",
       "      <td>NaN</td>\n",
       "      <td>NaN</td>\n",
       "      <td>NaN</td>\n",
       "      <td>NaN</td>\n",
       "      <td>NaN</td>\n",
       "      <td>82628</td>\n",
       "      <td>13084</td>\n",
       "      <td>NaN</td>\n",
       "      <td>NaN</td>\n",
       "    </tr>\n",
       "    <tr>\n",
       "      <th>mean</th>\n",
       "      <td>NaN</td>\n",
       "      <td>NaN</td>\n",
       "      <td>22.160305</td>\n",
       "      <td>80.514050</td>\n",
       "      <td>2.934676</td>\n",
       "      <td>21.601544</td>\n",
       "      <td>1.279124</td>\n",
       "      <td>6.920017</td>\n",
       "      <td>12.14754</td>\n",
       "      <td>6.803119</td>\n",
       "      <td>...</td>\n",
       "      <td>60.089344</td>\n",
       "      <td>31.152616</td>\n",
       "      <td>19.993916</td>\n",
       "      <td>15.318695</td>\n",
       "      <td>2.159913</td>\n",
       "      <td>2005.520882</td>\n",
       "      <td>NaN</td>\n",
       "      <td>NaN</td>\n",
       "      <td>1.292376e+04</td>\n",
       "      <td>6.506939e+05</td>\n",
       "    </tr>\n",
       "    <tr>\n",
       "      <th>std</th>\n",
       "      <td>NaN</td>\n",
       "      <td>NaN</td>\n",
       "      <td>5.612272</td>\n",
       "      <td>5.410934</td>\n",
       "      <td>3.074370</td>\n",
       "      <td>17.397094</td>\n",
       "      <td>2.975476</td>\n",
       "      <td>8.011450</td>\n",
       "      <td>11.72026</td>\n",
       "      <td>8.326753</td>\n",
       "      <td>...</td>\n",
       "      <td>16.610346</td>\n",
       "      <td>3.777467</td>\n",
       "      <td>4.905693</td>\n",
       "      <td>7.085581</td>\n",
       "      <td>0.865233</td>\n",
       "      <td>4.942737</td>\n",
       "      <td>NaN</td>\n",
       "      <td>NaN</td>\n",
       "      <td>5.124845e+04</td>\n",
       "      <td>1.813419e+07</td>\n",
       "    </tr>\n",
       "    <tr>\n",
       "      <th>min</th>\n",
       "      <td>NaN</td>\n",
       "      <td>NaN</td>\n",
       "      <td>8.087830</td>\n",
       "      <td>69.611000</td>\n",
       "      <td>-0.950000</td>\n",
       "      <td>-0.210000</td>\n",
       "      <td>0.000000</td>\n",
       "      <td>0.000000</td>\n",
       "      <td>0.00000</td>\n",
       "      <td>0.000000</td>\n",
       "      <td>...</td>\n",
       "      <td>16.972000</td>\n",
       "      <td>-5.605000</td>\n",
       "      <td>-15.615000</td>\n",
       "      <td>-18.140000</td>\n",
       "      <td>0.038000</td>\n",
       "      <td>1997.000000</td>\n",
       "      <td>NaN</td>\n",
       "      <td>NaN</td>\n",
       "      <td>1.000000e-01</td>\n",
       "      <td>0.000000e+00</td>\n",
       "    </tr>\n",
       "    <tr>\n",
       "      <th>25%</th>\n",
       "      <td>NaN</td>\n",
       "      <td>NaN</td>\n",
       "      <td>18.526880</td>\n",
       "      <td>76.530210</td>\n",
       "      <td>1.400000</td>\n",
       "      <td>10.920000</td>\n",
       "      <td>0.000000</td>\n",
       "      <td>2.000000</td>\n",
       "      <td>3.00000</td>\n",
       "      <td>1.000000</td>\n",
       "      <td>...</td>\n",
       "      <td>47.642000</td>\n",
       "      <td>28.960000</td>\n",
       "      <td>16.750000</td>\n",
       "      <td>10.274000</td>\n",
       "      <td>1.588000</td>\n",
       "      <td>2001.000000</td>\n",
       "      <td>NaN</td>\n",
       "      <td>NaN</td>\n",
       "      <td>9.300000e+01</td>\n",
       "      <td>9.400000e+01</td>\n",
       "    </tr>\n",
       "    <tr>\n",
       "      <th>50%</th>\n",
       "      <td>NaN</td>\n",
       "      <td>NaN</td>\n",
       "      <td>23.645530</td>\n",
       "      <td>79.164680</td>\n",
       "      <td>2.420000</td>\n",
       "      <td>17.390000</td>\n",
       "      <td>0.000000</td>\n",
       "      <td>4.000000</td>\n",
       "      <td>9.00000</td>\n",
       "      <td>4.000000</td>\n",
       "      <td>...</td>\n",
       "      <td>62.858000</td>\n",
       "      <td>31.251000</td>\n",
       "      <td>20.966000</td>\n",
       "      <td>17.138000</td>\n",
       "      <td>2.042000</td>\n",
       "      <td>2005.000000</td>\n",
       "      <td>NaN</td>\n",
       "      <td>NaN</td>\n",
       "      <td>6.830000e+02</td>\n",
       "      <td>8.130000e+02</td>\n",
       "    </tr>\n",
       "    <tr>\n",
       "      <th>75%</th>\n",
       "      <td>NaN</td>\n",
       "      <td>NaN</td>\n",
       "      <td>26.330520</td>\n",
       "      <td>83.578200</td>\n",
       "      <td>3.650000</td>\n",
       "      <td>25.820000</td>\n",
       "      <td>1.000000</td>\n",
       "      <td>10.000000</td>\n",
       "      <td>17.00000</td>\n",
       "      <td>10.000000</td>\n",
       "      <td>...</td>\n",
       "      <td>74.044000</td>\n",
       "      <td>33.382000</td>\n",
       "      <td>24.018000</td>\n",
       "      <td>21.180000</td>\n",
       "      <td>2.588000</td>\n",
       "      <td>2010.000000</td>\n",
       "      <td>NaN</td>\n",
       "      <td>NaN</td>\n",
       "      <td>5.100000e+03</td>\n",
       "      <td>7.953000e+03</td>\n",
       "    </tr>\n",
       "    <tr>\n",
       "      <th>max</th>\n",
       "      <td>NaN</td>\n",
       "      <td>NaN</td>\n",
       "      <td>33.220280</td>\n",
       "      <td>96.653480</td>\n",
       "      <td>43.950000</td>\n",
       "      <td>128.150000</td>\n",
       "      <td>51.000000</td>\n",
       "      <td>48.000000</td>\n",
       "      <td>67.00000</td>\n",
       "      <td>77.000000</td>\n",
       "      <td>...</td>\n",
       "      <td>91.464000</td>\n",
       "      <td>42.600000</td>\n",
       "      <td>28.874000</td>\n",
       "      <td>26.014000</td>\n",
       "      <td>6.018000</td>\n",
       "      <td>2015.000000</td>\n",
       "      <td>NaN</td>\n",
       "      <td>NaN</td>\n",
       "      <td>8.580100e+06</td>\n",
       "      <td>1.250800e+09</td>\n",
       "    </tr>\n",
       "  </tbody>\n",
       "</table>\n",
       "<p>11 rows × 25 columns</p>\n",
       "</div>"
      ],
      "text/plain": [
       "                State District            Lat           Long   GW_depth_Min  \\\n",
       "count          214471   214471  214471.000000  214471.000000  214471.000000   \n",
       "unique             30      516            NaN            NaN            NaN   \n",
       "top     UTTAR PRADESH   TUMKUR            NaN            NaN            NaN   \n",
       "freq            32311      931            NaN            NaN            NaN   \n",
       "mean              NaN      NaN      22.160305      80.514050       2.934676   \n",
       "std               NaN      NaN       5.612272       5.410934       3.074370   \n",
       "min               NaN      NaN       8.087830      69.611000      -0.950000   \n",
       "25%               NaN      NaN      18.526880      76.530210       1.400000   \n",
       "50%               NaN      NaN      23.645530      79.164680       2.420000   \n",
       "75%               NaN      NaN      26.330520      83.578200       3.650000   \n",
       "max               NaN      NaN      33.220280      96.653480      43.950000   \n",
       "\n",
       "         GW_depth_Max  Wells_depth_0_to_2  Wells_depth_2_to_5  \\\n",
       "count   214471.000000       214471.000000       214471.000000   \n",
       "unique            NaN                 NaN                 NaN   \n",
       "top               NaN                 NaN                 NaN   \n",
       "freq              NaN                 NaN                 NaN   \n",
       "mean        21.601544            1.279124            6.920017   \n",
       "std         17.397094            2.975476            8.011450   \n",
       "min         -0.210000            0.000000            0.000000   \n",
       "25%         10.920000            0.000000            2.000000   \n",
       "50%         17.390000            0.000000            4.000000   \n",
       "75%         25.820000            1.000000           10.000000   \n",
       "max        128.150000           51.000000           48.000000   \n",
       "\n",
       "        Wells_depth_5_to_10  Wells_depth_10_to_20  ...       Humidity  \\\n",
       "count          214471.00000         214471.000000  ...  214471.000000   \n",
       "unique                  NaN                   NaN  ...            NaN   \n",
       "top                     NaN                   NaN  ...            NaN   \n",
       "freq                    NaN                   NaN  ...            NaN   \n",
       "mean               12.14754              6.803119  ...      60.089344   \n",
       "std                11.72026              8.326753  ...      16.610346   \n",
       "min                 0.00000              0.000000  ...      16.972000   \n",
       "25%                 3.00000              1.000000  ...      47.642000   \n",
       "50%                 9.00000              4.000000  ...      62.858000   \n",
       "75%                17.00000             10.000000  ...      74.044000   \n",
       "max                67.00000             77.000000  ...      91.464000   \n",
       "\n",
       "             Temp_Max       Temp_Min  Dew_Frost_Point     Wind_Speed  \\\n",
       "count   214471.000000  214471.000000    214471.000000  214471.000000   \n",
       "unique            NaN            NaN              NaN            NaN   \n",
       "top               NaN            NaN              NaN            NaN   \n",
       "freq              NaN            NaN              NaN            NaN   \n",
       "mean        31.152616      19.993916        15.318695       2.159913   \n",
       "std          3.777467       4.905693         7.085581       0.865233   \n",
       "min         -5.605000     -15.615000       -18.140000       0.038000   \n",
       "25%         28.960000      16.750000        10.274000       1.588000   \n",
       "50%         31.251000      20.966000        17.138000       2.042000   \n",
       "75%         33.382000      24.018000        21.180000       2.588000   \n",
       "max         42.600000      28.874000        26.014000       6.018000   \n",
       "\n",
       "                 Year  Season    Crop          Area    Production  \n",
       "count   214471.000000  214471  214471  2.144710e+05  2.144710e+05  \n",
       "unique            NaN       6     119           NaN           NaN  \n",
       "top               NaN  Kharif    Rice           NaN           NaN  \n",
       "freq              NaN   82628   13084           NaN           NaN  \n",
       "mean      2005.520882     NaN     NaN  1.292376e+04  6.506939e+05  \n",
       "std          4.942737     NaN     NaN  5.124845e+04  1.813419e+07  \n",
       "min       1997.000000     NaN     NaN  1.000000e-01  0.000000e+00  \n",
       "25%       2001.000000     NaN     NaN  9.300000e+01  9.400000e+01  \n",
       "50%       2005.000000     NaN     NaN  6.830000e+02  8.130000e+02  \n",
       "75%       2010.000000     NaN     NaN  5.100000e+03  7.953000e+03  \n",
       "max       2015.000000     NaN     NaN  8.580100e+06  1.250800e+09  \n",
       "\n",
       "[11 rows x 25 columns]"
      ]
     },
     "execution_count": 5,
     "metadata": {},
     "output_type": "execute_result"
    }
   ],
   "source": [
    "crop_data.describe(include='all')"
   ]
  },
  {
   "cell_type": "code",
   "execution_count": 6,
   "metadata": {
    "colab": {
     "base_uri": "https://localhost:8080/"
    },
    "executionInfo": {
     "elapsed": 8964,
     "status": "ok",
     "timestamp": 1605856806817,
     "user": {
      "displayName": "Animesh Mathur",
      "photoUrl": "",
      "userId": "12851398661452389381"
     },
     "user_tz": -330
    },
    "id": "IEmSZGDLKpYc",
    "outputId": "ec6ae369-d8c1-40b5-bcf6-3008b2c300b9"
   },
   "outputs": [
    {
     "name": "stdout",
     "output_type": "stream",
     "text": [
      "<class 'pandas.core.frame.DataFrame'>\n",
      "RangeIndex: 214471 entries, 0 to 214470\n",
      "Data columns (total 25 columns):\n",
      " #   Column                    Non-Null Count   Dtype  \n",
      "---  ------                    --------------   -----  \n",
      " 0   State                     214471 non-null  object \n",
      " 1   District                  214471 non-null  object \n",
      " 2   Lat                       214471 non-null  float64\n",
      " 3   Long                      214471 non-null  float64\n",
      " 4   GW_depth_Min              214471 non-null  float64\n",
      " 5   GW_depth_Max              214471 non-null  float64\n",
      " 6   Wells_depth_0_to_2        214471 non-null  int64  \n",
      " 7   Wells_depth_2_to_5        214471 non-null  int64  \n",
      " 8   Wells_depth_5_to_10       214471 non-null  int64  \n",
      " 9   Wells_depth_10_to_20      214471 non-null  float64\n",
      " 10  Wells_depth_20_to_40      214471 non-null  float64\n",
      " 11  Wells_depth_40_and_above  214471 non-null  float64\n",
      " 12  Precipitation             214471 non-null  float64\n",
      " 13  Solar_Radiation           214471 non-null  float64\n",
      " 14  Surface_Pressure          214471 non-null  float64\n",
      " 15  Humidity                  214471 non-null  float64\n",
      " 16  Temp_Max                  214471 non-null  float64\n",
      " 17  Temp_Min                  214471 non-null  float64\n",
      " 18  Dew_Frost_Point           214471 non-null  float64\n",
      " 19  Wind_Speed                214471 non-null  float64\n",
      " 20  Year                      214471 non-null  int64  \n",
      " 21  Season                    214471 non-null  object \n",
      " 22  Crop                      214471 non-null  object \n",
      " 23  Area                      214471 non-null  float64\n",
      " 24  Production                214471 non-null  float64\n",
      "dtypes: float64(17), int64(4), object(4)\n",
      "memory usage: 40.9+ MB\n"
     ]
    }
   ],
   "source": [
    "crop_data.info()"
   ]
  },
  {
   "cell_type": "code",
   "execution_count": 7,
   "metadata": {
    "executionInfo": {
     "elapsed": 8962,
     "status": "ok",
     "timestamp": 1605856806818,
     "user": {
      "displayName": "Animesh Mathur",
      "photoUrl": "",
      "userId": "12851398661452389381"
     },
     "user_tz": -330
    },
    "id": "iTmTn0urUnA2"
   },
   "outputs": [],
   "source": [
    "df_raw = crop_data.copy()"
   ]
  },
  {
   "cell_type": "markdown",
   "metadata": {
    "id": "kpNXXJuXCWz3"
   },
   "source": [
    "# Check for null values"
   ]
  },
  {
   "cell_type": "code",
   "execution_count": 8,
   "metadata": {
    "colab": {
     "base_uri": "https://localhost:8080/"
    },
    "executionInfo": {
     "elapsed": 8951,
     "status": "ok",
     "timestamp": 1605856806819,
     "user": {
      "displayName": "Animesh Mathur",
      "photoUrl": "",
      "userId": "12851398661452389381"
     },
     "user_tz": -330
    },
    "id": "Xw20HLyeCdJR",
    "outputId": "5801a7ff-e989-47a7-f932-11b36ef26f92"
   },
   "outputs": [
    {
     "data": {
      "text/plain": [
       "State                       0\n",
       "District                    0\n",
       "Lat                         0\n",
       "Long                        0\n",
       "GW_depth_Min                0\n",
       "GW_depth_Max                0\n",
       "Wells_depth_0_to_2          0\n",
       "Wells_depth_2_to_5          0\n",
       "Wells_depth_5_to_10         0\n",
       "Wells_depth_10_to_20        0\n",
       "Wells_depth_20_to_40        0\n",
       "Wells_depth_40_and_above    0\n",
       "Precipitation               0\n",
       "Solar_Radiation             0\n",
       "Surface_Pressure            0\n",
       "Humidity                    0\n",
       "Temp_Max                    0\n",
       "Temp_Min                    0\n",
       "Dew_Frost_Point             0\n",
       "Wind_Speed                  0\n",
       "Year                        0\n",
       "Season                      0\n",
       "Crop                        0\n",
       "Area                        0\n",
       "Production                  0\n",
       "dtype: int64"
      ]
     },
     "execution_count": 8,
     "metadata": {},
     "output_type": "execute_result"
    }
   ],
   "source": [
    "df_raw.isnull().sum()"
   ]
  },
  {
   "cell_type": "markdown",
   "metadata": {
    "id": "KHqI0dKeClkn"
   },
   "source": [
    "Data contains no null values."
   ]
  },
  {
   "cell_type": "markdown",
   "metadata": {
    "id": "96ZoFIgpg-qf"
   },
   "source": [
    "#  Correlations"
   ]
  },
  {
   "cell_type": "code",
   "execution_count": 9,
   "metadata": {
    "colab": {
     "base_uri": "https://localhost:8080/",
     "height": 577
    },
    "executionInfo": {
     "elapsed": 11087,
     "status": "ok",
     "timestamp": 1605856808967,
     "user": {
      "displayName": "Animesh Mathur",
      "photoUrl": "",
      "userId": "12851398661452389381"
     },
     "user_tz": -330
    },
    "id": "uXLheb_7UvKx",
    "outputId": "7d56b151-3c57-4e5e-f23b-b9ef88184293"
   },
   "outputs": [
    {
     "data": {
      "image/png": "[encoded data removed]",
      "text/plain": [
       "<Figure size 504x504 with 2 Axes>"
      ]
     },
     "metadata": {},
     "output_type": "display_data"
    }
   ],
   "source": [
    "# Check correlations among columns related to Groundwater\n",
    "plt.figure(figsize=(7,7))\n",
    "sns.heatmap(df_raw.iloc[:, 4:12].corr())\n",
    "plt.show()"
   ]
  },
  {
   "cell_type": "markdown",
   "metadata": {
    "id": "-wZ-ysrhhK22"
   },
   "source": [
    "The most correlated columns are - GW_depth_Max ~ Wells_depth_20_to_40"
   ]
  },
  {
   "cell_type": "code",
   "execution_count": 10,
   "metadata": {
    "colab": {
     "base_uri": "https://localhost:8080/",
     "height": 520
    },
    "executionInfo": {
     "elapsed": 11075,
     "status": "ok",
     "timestamp": 1605856808968,
     "user": {
      "displayName": "Animesh Mathur",
      "photoUrl": "",
      "userId": "12851398661452389381"
     },
     "user_tz": -330
    },
    "id": "sK8oxH_mUw6p",
    "outputId": "89e30a1a-b31b-4e4c-f0cf-588a2bc03b33"
   },
   "outputs": [
    {
     "data": {
      "image/png": "[encoded data removed]",
      "text/plain": [
       "<Figure size 504x504 with 2 Axes>"
      ]
     },
     "metadata": {},
     "output_type": "display_data"
    }
   ],
   "source": [
    "# Check correlations among columns related to weather\n",
    "plt.figure(figsize=(7,7))\n",
    "sns.heatmap(df_raw.iloc[:, 12:20].corr())\n",
    "plt.show()"
   ]
  },
  {
   "cell_type": "markdown",
   "metadata": {
    "id": "wNnvBIO4h3Nl"
   },
   "source": [
    "Following are noticable correlations:\n",
    "1. Precipitation ~ Humidity\n",
    "2. Precipitation ~ Due Frost Point\n",
    "3. Humidity ~ Due Frost Point\n",
    "4. Temp_Min ~ Due Frost Point"
   ]
  },
  {
   "cell_type": "code",
   "execution_count": 11,
   "metadata": {
    "colab": {
     "base_uri": "https://localhost:8080/",
     "height": 679
    },
    "executionInfo": {
     "elapsed": 11060,
     "status": "ok",
     "timestamp": 1605856808969,
     "user": {
      "displayName": "Animesh Mathur",
      "photoUrl": "",
      "userId": "12851398661452389381"
     },
     "user_tz": -330
    },
    "id": "xwHewpRPgoR_",
    "outputId": "12b4b479-a6ca-4be6-8081-23b6dab01291"
   },
   "outputs": [
    {
     "data": {
      "image/png": "[encoded data removed]",
      "text/plain": [
       "<Figure size 720x720 with 2 Axes>"
      ]
     },
     "metadata": {},
     "output_type": "display_data"
    }
   ],
   "source": [
    "plt.figure(figsize=(10,10))\n",
    "sns.heatmap(df_raw.corr().iloc[:10,10:])\n",
    "plt.show()"
   ]
  },
  {
   "cell_type": "code",
   "execution_count": 12,
   "metadata": {
    "colab": {
     "base_uri": "https://localhost:8080/",
     "height": 268
    },
    "executionInfo": {
     "elapsed": 11706,
     "status": "ok",
     "timestamp": 1605856809634,
     "user": {
      "displayName": "Animesh Mathur",
      "photoUrl": "",
      "userId": "12851398661452389381"
     },
     "user_tz": -330
    },
    "id": "SZcILPIQ5XFB",
    "outputId": "eb80a9cb-73b5-4e50-fc5e-f1044445a9fa"
   },
   "outputs": [
    {
     "data": {
      "image/png": "[encoded data removed]",
      "text/plain": [
       "<Figure size 432x288 with 2 Axes>"
      ]
     },
     "metadata": {},
     "output_type": "display_data"
    }
   ],
   "source": [
    "plt.figure()\n",
    "sns.heatmap(df_raw.corr().iloc[10:19,19:])\n",
    "plt.show()"
   ]
  },
  {
   "cell_type": "markdown",
   "metadata": {
    "id": "vf-h0PeE_StH"
   },
   "source": [
    "# Covered areas of India in dataset (Visual)"
   ]
  },
  {
   "cell_type": "code",
   "execution_count": 13,
   "metadata": {
    "colab": {
     "base_uri": "https://localhost:8080/",
     "height": 289
    },
    "executionInfo": {
     "elapsed": 13185,
     "status": "ok",
     "timestamp": 1605856811126,
     "user": {
      "displayName": "Animesh Mathur",
      "photoUrl": "",
      "userId": "12851398661452389381"
     },
     "user_tz": -330
    },
    "id": "5bF-Tcd38NuD",
    "outputId": "84f97123-0642-4d4c-c9ad-b5c51353a485"
   },
   "outputs": [
    {
     "data": {
      "text/plain": [
       "<matplotlib.collections.PathCollection at 0x7f87b095bd90>"
      ]
     },
     "execution_count": 13,
     "metadata": {},
     "output_type": "execute_result"
    },
    {
     "data": {
      "image/png": "[encoded data removed]",
      "text/plain": [
       "<Figure size 432x288 with 1 Axes>"
      ]
     },
     "metadata": {},
     "output_type": "display_data"
    }
   ],
   "source": [
    "plt.xlim(60, 100)\n",
    "plt.ylim(0, 40)\n",
    "plt.scatter(df_raw['Long'], df_raw['Lat'])"
   ]
  },
  {
   "cell_type": "markdown",
   "metadata": {
    "id": "SNGqSGWTAJHi"
   },
   "source": [
    "Looks like **variance of samples within state** for states in extreme North (J&K), West (Rajasthan / Gujarat) and South-Central (Karnataka / AP / Kerela) regions is comparatively less from states in other regions of India."
   ]
  },
  {
   "cell_type": "code",
   "execution_count": 14,
   "metadata": {
    "colab": {
     "base_uri": "https://localhost:8080/"
    },
    "executionInfo": {
     "elapsed": 13175,
     "status": "ok",
     "timestamp": 1605856811127,
     "user": {
      "displayName": "Animesh Mathur",
      "photoUrl": "",
      "userId": "12851398661452389381"
     },
     "user_tz": -330
    },
    "id": "9rxrl624_f1O",
    "outputId": "4997fc84-a663-43df-8ac9-1c24202b8e9d"
   },
   "outputs": [
    {
     "data": {
      "text/plain": [
       "UTTAR PRADESH             32311\n",
       "MADHYA PRADESH            21525\n",
       "KARNATAKA                 19562\n",
       "BIHAR                     18577\n",
       "ASSAM                     13456\n",
       "TAMIL NADU                13266\n",
       "MAHARASHTRA               12485\n",
       "RAJASTHAN                 11744\n",
       "ODISHA                    11608\n",
       "ANDHRA PRADESH             8744\n",
       "GUJARAT                    7875\n",
       "CHHATTISGARH               7298\n",
       "WEST BENGAL                6741\n",
       "TELANGANA                  5591\n",
       "HARYANA                    4540\n",
       "KERALA                     4003\n",
       "PUNJAB                     2945\n",
       "UTTARAKHAND                2709\n",
       "MEGHALAYA                  2395\n",
       "HIMACHAL PRADESH           1581\n",
       "TRIPURA                    1412\n",
       "JHARKHAND                   997\n",
       "ARUNACHAL PRADESH           733\n",
       "PUDUCHERRY                  658\n",
       "JAMMU AND KASHMIR           618\n",
       "NAGALAND                    414\n",
       "DADRA AND NAGAR HAVELI      263\n",
       "GOA                         207\n",
       "ANDAMAN AND NICOBAR         124\n",
       "CHANDIGARH                   89\n",
       "Name: State, dtype: int64"
      ]
     },
     "execution_count": 14,
     "metadata": {},
     "output_type": "execute_result"
    }
   ],
   "source": [
    "df_raw['State'].value_counts()"
   ]
  },
  {
   "cell_type": "markdown",
   "metadata": {
    "id": "Re3NHBRFI7lW"
   },
   "source": [
    "# Area farmed in each State / UT (in hect)"
   ]
  },
  {
   "cell_type": "code",
   "execution_count": 15,
   "metadata": {
    "colab": {
     "base_uri": "https://localhost:8080/"
    },
    "executionInfo": {
     "elapsed": 13165,
     "status": "ok",
     "timestamp": 1605856811128,
     "user": {
      "displayName": "Animesh Mathur",
      "photoUrl": "",
      "userId": "12851398661452389381"
     },
     "user_tz": -330
    },
    "id": "VSwbPfCDEgzH",
    "outputId": "734835f0-60d2-429b-b27b-5ef92f74ada5"
   },
   "outputs": [
    {
     "data": {
      "text/plain": [
       "State\n",
       "CHANDIGARH                  140.471910\n",
       "PUDUCHERRY                  771.206687\n",
       "ANDAMAN AND NICOBAR        1499.301694\n",
       "DADRA AND NAGAR HAVELI     1507.661597\n",
       "MEGHALAYA                  1564.514823\n",
       "ARUNACHAL PRADESH          2206.118690\n",
       "NAGALAND                   2540.823671\n",
       "TRIPURA                    3287.258499\n",
       "UTTARAKHAND                3522.146918\n",
       "HIMACHAL PRADESH           5004.529412\n",
       "ASSAM                      5007.267687\n",
       "GOA                        5824.533816\n",
       "BIHAR                      6876.390268\n",
       "TAMIL NADU                 7192.593774\n",
       "JAMMU AND KASHMIR          7635.118123\n",
       "KERALA                     7944.604567\n",
       "JHARKHAND                  8200.813049\n",
       "ODISHA                     8520.185389\n",
       "CHHATTISGARH               9105.681557\n",
       "KARNATAKA                 10101.496984\n",
       "UTTAR PRADESH             13165.801554\n",
       "ANDHRA PRADESH            14214.056038\n",
       "TELANGANA                 14543.131104\n",
       "MADHYA PRADESH            14595.859977\n",
       "GUJARAT                   18564.612571\n",
       "HARYANA                   19716.844273\n",
       "RAJASTHAN                 22149.448144\n",
       "WEST BENGAL               23235.104268\n",
       "MAHARASHTRA               25798.360753\n",
       "PUNJAB                    41775.239049\n",
       "Name: Area, dtype: float64"
      ]
     },
     "execution_count": 15,
     "metadata": {},
     "output_type": "execute_result"
    }
   ],
   "source": [
    "df_raw.groupby(['State'])['Area'].mean().sort_values()"
   ]
  },
  {
   "cell_type": "markdown",
   "metadata": {
    "id": "2E8Jhz2DMRiE"
   },
   "source": [
    "# Crop yield (per hectare) in each state"
   ]
  },
  {
   "cell_type": "code",
   "execution_count": 16,
   "metadata": {
    "colab": {
     "base_uri": "https://localhost:8080/"
    },
    "executionInfo": {
     "elapsed": 13155,
     "status": "ok",
     "timestamp": 1605856811129,
     "user": {
      "displayName": "Animesh Mathur",
      "photoUrl": "",
      "userId": "12851398661452389381"
     },
     "user_tz": -330
    },
    "id": "3LKckLFYMXCj",
    "outputId": "6a6fa9c1-17d1-40aa-e4ce-5c89f9a248bc"
   },
   "outputs": [
    {
     "name": "stdout",
     "output_type": "stream",
     "text": [
      "Crop          State         \n",
      "Apple         TAMIL NADU            0.000000\n",
      "Citrus Fruit  RAJASTHAN             0.000000\n",
      "Pome Granet   TAMIL NADU            0.000000\n",
      "Citrus Fruit  MADHYA PRADESH        0.000000\n",
      "Grapes        RAJASTHAN             0.000000\n",
      "                                    ...     \n",
      "Coconut       ASSAM              6130.273290\n",
      "              KERALA             6308.224170\n",
      "              TELANGANA          9976.679758\n",
      "              ANDHRA PRADESH    12615.914876\n",
      "              PUDUCHERRY        13061.657502\n",
      "Length: 1146, dtype: float64\n"
     ]
    }
   ],
   "source": [
    "df_grouped_by_state = df_raw.groupby(['Crop', 'State'])\n",
    "# with pd.option_context('display.max_rows', None, 'display.max_columns', None):\n",
    "print((df_grouped_by_state['Production'].sum() / df_grouped_by_state['Area'].sum()).sort_values())"
   ]
  },
  {
   "cell_type": "markdown",
   "metadata": {
    "id": "uv6wI5q93CVf"
   },
   "source": [
    "# Column Relationships"
   ]
  },
  {
   "cell_type": "code",
   "execution_count": 17,
   "metadata": {
    "colab": {
     "base_uri": "https://localhost:8080/",
     "height": 285
    },
    "executionInfo": {
     "elapsed": 13144,
     "status": "ok",
     "timestamp": 1605856811130,
     "user": {
      "displayName": "Animesh Mathur",
      "photoUrl": "",
      "userId": "12851398661452389381"
     },
     "user_tz": -330
    },
    "id": "UnsDcRGoIT30",
    "outputId": "0f3061af-be3c-4ab7-9c32-7f2e8f357d47"
   },
   "outputs": [
    {
     "data": {
      "text/plain": [
       "<matplotlib.collections.PathCollection at 0x7f87b094ac40>"
      ]
     },
     "execution_count": 17,
     "metadata": {},
     "output_type": "execute_result"
    },
    {
     "data": {
      "image/png": "[encoded data removed]",
      "text/plain": [
       "<Figure size 432x288 with 1 Axes>"
      ]
     },
     "metadata": {},
     "output_type": "display_data"
    }
   ],
   "source": [
    "# Groundwater - Wells_depth_20_to_40 vs. GW_depth_Max\n",
    "plt.scatter(df_raw['Wells_depth_20_to_40'], df_raw['GW_depth_Max'])"
   ]
  },
  {
   "cell_type": "code",
   "execution_count": 18,
   "metadata": {
    "colab": {
     "base_uri": "https://localhost:8080/",
     "height": 284
    },
    "executionInfo": {
     "elapsed": 13854,
     "status": "ok",
     "timestamp": 1605856811852,
     "user": {
      "displayName": "Animesh Mathur",
      "photoUrl": "",
      "userId": "12851398661452389381"
     },
     "user_tz": -330
    },
    "id": "mh_n3CbL3cNc",
    "outputId": "d9895641-6a0d-4ca0-d734-7720a455853b"
   },
   "outputs": [
    {
     "data": {
      "image/png": "[encoded data removed]",
      "text/plain": [
       "<Figure size 432x288 with 1 Axes>"
      ]
     },
     "metadata": {},
     "output_type": "display_data"
    }
   ],
   "source": [
    "# Humidity ~ Precipitation\n",
    "plt.scatter(df_raw['Humidity'], df_raw['Precipitation'])\n",
    "plt.title('Humidity vs. Precipitation')\n",
    "plt.show()"
   ]
  },
  {
   "cell_type": "code",
   "execution_count": 19,
   "metadata": {
    "colab": {
     "base_uri": "https://localhost:8080/",
     "height": 284
    },
    "executionInfo": {
     "elapsed": 15314,
     "status": "ok",
     "timestamp": 1605856813322,
     "user": {
      "displayName": "Animesh Mathur",
      "photoUrl": "",
      "userId": "12851398661452389381"
     },
     "user_tz": -330
    },
    "id": "uTPb8Y-j36gR",
    "outputId": "c1c49919-cfcd-434d-f33c-ba437c634674"
   },
   "outputs": [
    {
     "data": {
      "image/png": "[encoded data removed]",
      "text/plain": [
       "<Figure size 432x288 with 1 Axes>"
      ]
     },
     "metadata": {},
     "output_type": "display_data"
    }
   ],
   "source": [
    "# Dew Frost Point ~ Precipitation\n",
    "plt.scatter(df_raw['Dew_Frost_Point'], df_raw['Precipitation'])\n",
    "plt.title('Dew_Frost_Point vs. Precipitation')\n",
    "plt.show()"
   ]
  },
  {
   "cell_type": "code",
   "execution_count": 20,
   "metadata": {
    "colab": {
     "base_uri": "https://localhost:8080/",
     "height": 284
    },
    "executionInfo": {
     "elapsed": 15302,
     "status": "ok",
     "timestamp": 1605856813323,
     "user": {
      "displayName": "Animesh Mathur",
      "photoUrl": "",
      "userId": "12851398661452389381"
     },
     "user_tz": -330
    },
    "id": "-z2EwyKL4Al5",
    "outputId": "2525661a-0680-4104-d9c7-78ef50c224cf"
   },
   "outputs": [
    {
     "data": {
      "image/png": "[encoded data removed]",
      "text/plain": [
       "<Figure size 432x288 with 1 Axes>"
      ]
     },
     "metadata": {},
     "output_type": "display_data"
    }
   ],
   "source": [
    "# Humidity ~ Dew Frost Point\n",
    "plt.scatter(df_raw['Humidity'], df_raw['Dew_Frost_Point'])\n",
    "plt.title('Humidity vs. Dew_Frost_Point')\n",
    "plt.show()"
   ]
  },
  {
   "cell_type": "code",
   "execution_count": 21,
   "metadata": {
    "colab": {
     "base_uri": "https://localhost:8080/",
     "height": 284
    },
    "executionInfo": {
     "elapsed": 16029,
     "status": "ok",
     "timestamp": 1605856814061,
     "user": {
      "displayName": "Animesh Mathur",
      "photoUrl": "",
      "userId": "12851398661452389381"
     },
     "user_tz": -330
    },
    "id": "kaM2XC6Y4Ag1",
    "outputId": "abb88083-912a-4275-a0fd-84ecddf6ba9b"
   },
   "outputs": [
    {
     "data": {
      "image/png": "[encoded data removed]",
      "text/plain": [
       "<Figure size 432x288 with 1 Axes>"
      ]
     },
     "metadata": {},
     "output_type": "display_data"
    }
   ],
   "source": [
    "# Temp_Min ~ Dew Frost Point\n",
    "plt.scatter(df_raw['Temp_Min'], df_raw['Dew_Frost_Point'])\n",
    "plt.title('Temp_Min vs. Dew_Frost_Point')\n",
    "plt.show()"
   ]
  },
  {
   "cell_type": "markdown",
   "metadata": {
    "id": "KzLFYp3KNrCa"
   },
   "source": [
    "# Analysis for Production column"
   ]
  },
  {
   "cell_type": "code",
   "execution_count": 22,
   "metadata": {
    "colab": {
     "base_uri": "https://localhost:8080/",
     "height": 368
    },
    "executionInfo": {
     "elapsed": 18100,
     "status": "ok",
     "timestamp": 1605856816143,
     "user": {
      "displayName": "Animesh Mathur",
      "photoUrl": "",
      "userId": "12851398661452389381"
     },
     "user_tz": -330
    },
    "id": "DuoztMkFNr7M",
    "outputId": "2f788a22-a860-4059-8692-0a6a8021fe4c"
   },
   "outputs": [
    {
     "name": "stderr",
     "output_type": "stream",
     "text": [
      "/home/animathur/anaconda3/envs/py3-TF2/lib/python3.8/site-packages/seaborn/distributions.py:2551: FutureWarning: `distplot` is a deprecated function and will be removed in a future version. Please adapt your code to use either `displot` (a figure-level function with similar flexibility) or `histplot` (an axes-level function for histograms).\n",
      "  warnings.warn(msg, FutureWarning)\n"
     ]
    },
    {
     "data": {
      "text/plain": [
       "<AxesSubplot:xlabel='Production', ylabel='Density'>"
      ]
     },
     "execution_count": 22,
     "metadata": {},
     "output_type": "execute_result"
    },
    {
     "data": {
      "image/png": "[encoded data removed]",
      "text/plain": [
       "<Figure size 432x288 with 1 Axes>"
      ]
     },
     "metadata": {},
     "output_type": "display_data"
    }
   ],
   "source": [
    "sns.distplot(df_raw['Production'])"
   ]
  },
  {
   "cell_type": "code",
   "execution_count": 23,
   "metadata": {
    "colab": {
     "base_uri": "https://localhost:8080/"
    },
    "executionInfo": {
     "elapsed": 18090,
     "status": "ok",
     "timestamp": 1605856816144,
     "user": {
      "displayName": "Animesh Mathur",
      "photoUrl": "",
      "userId": "12851398661452389381"
     },
     "user_tz": -330
    },
    "id": "cHY_wKBLcJYG",
    "outputId": "d9c5c134-289b-4df9-dac4-a35c8e09953b"
   },
   "outputs": [
    {
     "data": {
      "text/plain": [
       "count    2.144710e+05\n",
       "mean     6.506939e+05\n",
       "std      1.813419e+07\n",
       "min      0.000000e+00\n",
       "25%      9.400000e+01\n",
       "50%      8.130000e+02\n",
       "75%      7.953000e+03\n",
       "max      1.250800e+09\n",
       "Name: Production, dtype: float64"
      ]
     },
     "execution_count": 23,
     "metadata": {},
     "output_type": "execute_result"
    }
   ],
   "source": [
    "df_raw['Production'].describe()"
   ]
  },
  {
   "cell_type": "code",
   "execution_count": 24,
   "metadata": {
    "colab": {
     "base_uri": "https://localhost:8080/",
     "height": 418
    },
    "executionInfo": {
     "elapsed": 18081,
     "status": "ok",
     "timestamp": 1605856816145,
     "user": {
      "displayName": "Animesh Mathur",
      "photoUrl": "",
      "userId": "12851398661452389381"
     },
     "user_tz": -330
    },
    "id": "nCf3dg5gk07L",
    "outputId": "6af859e3-ae3e-4e5c-bd4c-e97389c6e5e7"
   },
   "outputs": [
    {
     "data": {
      "text/plain": [
       "{'whiskers': [<matplotlib.lines.Line2D at 0x7f87b096a730>,\n",
       "  <matplotlib.lines.Line2D at 0x7f87b06e5b20>],\n",
       " 'caps': [<matplotlib.lines.Line2D at 0x7f87b165dbe0>,\n",
       "  <matplotlib.lines.Line2D at 0x7f87b0748a30>],\n",
       " 'boxes': [<matplotlib.lines.Line2D at 0x7f87add598b0>],\n",
       " 'medians': [<matplotlib.lines.Line2D at 0x7f87b06d7b20>],\n",
       " 'fliers': [<matplotlib.lines.Line2D at 0x7f87b06a3940>],\n",
       " 'means': []}"
      ]
     },
     "execution_count": 24,
     "metadata": {},
     "output_type": "execute_result"
    },
    {
     "data": {
      "image/png": "[encoded data removed]",
      "text/plain": [
       "<Figure size 432x288 with 1 Axes>"
      ]
     },
     "metadata": {},
     "output_type": "display_data"
    }
   ],
   "source": [
    "plt.boxplot(df_raw['Production'])"
   ]
  },
  {
   "cell_type": "code",
   "execution_count": 25,
   "metadata": {
    "colab": {
     "base_uri": "https://localhost:8080/"
    },
    "executionInfo": {
     "elapsed": 18072,
     "status": "ok",
     "timestamp": 1605856816146,
     "user": {
      "displayName": "Animesh Mathur",
      "photoUrl": "",
      "userId": "12851398661452389381"
     },
     "user_tz": -330
    },
    "id": "9GtxzIFOcJue",
    "outputId": "a9bb8763-123a-4d20-94d2-3add4c3ab824"
   },
   "outputs": [
    {
     "data": {
      "text/plain": [
       "1066893.399999992"
      ]
     },
     "execution_count": 25,
     "metadata": {},
     "output_type": "execute_result"
    }
   ],
   "source": [
    "df_raw['Production'].quantile(0.99)"
   ]
  },
  {
   "cell_type": "code",
   "execution_count": 26,
   "metadata": {
    "colab": {
     "base_uri": "https://localhost:8080/",
     "height": 407
    },
    "executionInfo": {
     "elapsed": 18059,
     "status": "ok",
     "timestamp": 1605856816146,
     "user": {
      "displayName": "Animesh Mathur",
      "photoUrl": "",
      "userId": "12851398661452389381"
     },
     "user_tz": -330
    },
    "id": "5F333qhHk-MP",
    "outputId": "b4862bab-f571-4b84-f753-95bc63285c98"
   },
   "outputs": [
    {
     "data": {
      "text/plain": [
       "{'whiskers': [<matplotlib.lines.Line2D at 0x7f87b07fffd0>,\n",
       "  <matplotlib.lines.Line2D at 0x7f87b07ff4f0>],\n",
       " 'caps': [<matplotlib.lines.Line2D at 0x7f87b07ffee0>,\n",
       "  <matplotlib.lines.Line2D at 0x7f87b07ff970>],\n",
       " 'boxes': [<matplotlib.lines.Line2D at 0x7f87b07f61c0>],\n",
       " 'medians': [<matplotlib.lines.Line2D at 0x7f87b07dffd0>],\n",
       " 'fliers': [<matplotlib.lines.Line2D at 0x7f87b07df700>],\n",
       " 'means': []}"
      ]
     },
     "execution_count": 26,
     "metadata": {},
     "output_type": "execute_result"
    },
    {
     "data": {
      "image/png": "[encoded data removed]",
      "text/plain": [
       "<Figure size 432x288 with 1 Axes>"
      ]
     },
     "metadata": {},
     "output_type": "display_data"
    }
   ],
   "source": [
    "plt.boxplot(df_raw['Production'].loc[df_raw['Production'] < df_raw['Production'].quantile(0.90)])"
   ]
  },
  {
   "cell_type": "code",
   "execution_count": null,
   "metadata": {
    "colab": {
     "base_uri": "https://localhost:8080/",
     "height": 357
    },
    "executionInfo": {
     "elapsed": 20045,
     "status": "ok",
     "timestamp": 1605856818143,
     "user": {
      "displayName": "Animesh Mathur",
      "photoUrl": "",
      "userId": "12851398661452389381"
     },
     "user_tz": -330
    },
    "id": "b6cJ2Zk7nVVv",
    "outputId": "085d398d-c8be-47f7-944d-204925b5b8b8"
   },
   "outputs": [
    {
     "name": "stderr",
     "output_type": "stream",
     "text": [
      "/home/animathur/anaconda3/envs/py3-TF2/lib/python3.8/site-packages/seaborn/distributions.py:2551: FutureWarning: `distplot` is a deprecated function and will be removed in a future version. Please adapt your code to use either `displot` (a figure-level function with similar flexibility) or `histplot` (an axes-level function for histograms).\n",
      "  warnings.warn(msg, FutureWarning)\n"
     ]
    }
   ],
   "source": [
    "sns.distplot(df_raw['Production'].loc[df_raw['Production'] < df_raw['Production'].quantile(0.90)])"
   ]
  },
  {
   "cell_type": "markdown",
   "metadata": {
    "id": "kWoJFuKUndPL"
   },
   "source": [
    "Looks like Production values follow exponential distribution. Hence, we can try to analyse it using exponential-log distribution."
   ]
  },
  {
   "cell_type": "code",
   "execution_count": null,
   "metadata": {
    "colab": {
     "base_uri": "https://localhost:8080/",
     "height": 407
    },
    "executionInfo": {
     "elapsed": 20035,
     "status": "ok",
     "timestamp": 1605856818144,
     "user": {
      "displayName": "Animesh Mathur",
      "photoUrl": "",
      "userId": "12851398661452389381"
     },
     "user_tz": -330
    },
    "id": "DG8BSgKjkIpk",
    "outputId": "4e450405-f872-44b7-aa1c-7216bac66f14"
   },
   "outputs": [],
   "source": [
    "plt.boxplot(np.log(df_raw['Production']+1))"
   ]
  },
  {
   "cell_type": "code",
   "execution_count": null,
   "metadata": {
    "colab": {
     "base_uri": "https://localhost:8080/",
     "height": 357
    },
    "executionInfo": {
     "elapsed": 22132,
     "status": "ok",
     "timestamp": 1605856820252,
     "user": {
      "displayName": "Animesh Mathur",
      "photoUrl": "",
      "userId": "12851398661452389381"
     },
     "user_tz": -330
    },
    "id": "TdPTrJ2tdL_B",
    "outputId": "ee3b5f61-a678-45b3-8157-c052f269fcb0"
   },
   "outputs": [],
   "source": [
    "sns.distplot(np.log(df_raw['Production'] + 1))"
   ]
  },
  {
   "cell_type": "code",
   "execution_count": null,
   "metadata": {
    "colab": {
     "base_uri": "https://localhost:8080/",
     "height": 407
    },
    "executionInfo": {
     "elapsed": 22123,
     "status": "ok",
     "timestamp": 1605856820253,
     "user": {
      "displayName": "Animesh Mathur",
      "photoUrl": "",
      "userId": "12851398661452389381"
     },
     "user_tz": -330
    },
    "id": "j0aVzJQPlXWB",
    "outputId": "ce3078b8-ecbd-4438-ca5f-f9f74b2836dd"
   },
   "outputs": [],
   "source": [
    "plt.boxplot(np.log(df_raw['Production'].loc[df_raw['Production'] < df_raw['Production'].quantile(0.997)] + 1))"
   ]
  },
  {
   "cell_type": "code",
   "execution_count": null,
   "metadata": {
    "colab": {
     "base_uri": "https://localhost:8080/",
     "height": 357
    },
    "executionInfo": {
     "elapsed": 24120,
     "status": "ok",
     "timestamp": 1605856822260,
     "user": {
      "displayName": "Animesh Mathur",
      "photoUrl": "",
      "userId": "12851398661452389381"
     },
     "user_tz": -330
    },
    "id": "PreBuw0mcJQw",
    "outputId": "062986f2-a67c-4ea4-f308-b5374b25afdf"
   },
   "outputs": [],
   "source": [
    "sns.distplot(np.log(df_raw['Production'].loc[df_raw['Production'] < df_raw['Production'].quantile(0.997)] + 1))"
   ]
  },
  {
   "cell_type": "code",
   "execution_count": null,
   "metadata": {},
   "outputs": [],
   "source": [
    "# Checkpoint\n",
    "df = df_raw.copy()"
   ]
  },
  {
   "cell_type": "code",
   "execution_count": null,
   "metadata": {},
   "outputs": [],
   "source": [
    "# Add column for log(Poduction)\n",
    "df['Log_Production'] = np.log(df_raw['Production'] + 1)"
   ]
  },
  {
   "cell_type": "code",
   "execution_count": null,
   "metadata": {},
   "outputs": [],
   "source": [
    "df = df.loc[df['Log_Production'] < df['Log_Production'].quantile(0.99)].copy()"
   ]
  },
  {
   "cell_type": "code",
   "execution_count": null,
   "metadata": {
    "scrolled": true
   },
   "outputs": [],
   "source": [
    "df.head()"
   ]
  },
  {
   "cell_type": "markdown",
   "metadata": {
    "id": "j9ByWYicn7ck"
   },
   "source": [
    "A normal distribution with perfect bell curve can be seen for log of Production values."
   ]
  },
  {
   "cell_type": "code",
   "execution_count": null,
   "metadata": {},
   "outputs": [],
   "source": [
    "df_crop_prod = df.groupby('Crop')['Production'].sum()"
   ]
  },
  {
   "cell_type": "code",
   "execution_count": null,
   "metadata": {
    "scrolled": true
   },
   "outputs": [],
   "source": [
    "# Crops with \"net production = 0\" in dataset\n",
    "crops_with_no_production = list(df_crop_prod[df_crop_prod == 0].index)\n",
    "crops_with_no_production"
   ]
  },
  {
   "cell_type": "markdown",
   "metadata": {},
   "source": [
    "*** Records for crops with overall zero production should be removed."
   ]
  },
  {
   "cell_type": "code",
   "execution_count": null,
   "metadata": {},
   "outputs": [],
   "source": [
    "for crop in crops_with_no_production:\n",
    "    df = df.loc[df['Crop'] != crop]"
   ]
  },
  {
   "cell_type": "code",
   "execution_count": null,
   "metadata": {},
   "outputs": [],
   "source": [
    "# Included Crops\n",
    "print(\"Included crops - \", df['Crop'].nunique())\n",
    "print(df['Crop'].unique())"
   ]
  },
  {
   "cell_type": "code",
   "execution_count": null,
   "metadata": {},
   "outputs": [],
   "source": [
    "# Comparing 'Beans & Mutter(Vegetable)' and 'Peas & beans (Pulses)' as they seem similar\n",
    "df.loc[(df['Crop'] == 'Beans & Mutter(Vegetable)') | (df['Crop'] == 'Peas & beans (Pulses)')].groupby('State')['Production'].sum().sort_values(ascending=False)"
   ]
  },
  {
   "cell_type": "code",
   "execution_count": null,
   "metadata": {},
   "outputs": [],
   "source": [
    "# Production of 'Beans & Mutter(Vegetable)' in states\n",
    "df.loc[(df['Crop'] == 'Beans & Mutter(Vegetable)')].groupby('State')['Production'].sum().sort_values(ascending=False)"
   ]
  },
  {
   "cell_type": "code",
   "execution_count": null,
   "metadata": {},
   "outputs": [],
   "source": [
    "# Production of 'Peas & beans (Pulses)' in states\n",
    "df.loc[(df['Crop'] == 'Peas & beans (Pulses)')].groupby('State')['Production'].sum().sort_values(ascending=False)"
   ]
  },
  {
   "cell_type": "markdown",
   "metadata": {},
   "source": [
    "Based on external agricultaral sources of India - Uttar Pradesh, Madhya Pradesh and Bihar are among major producers of Peas.\n",
    "\n",
    "Production records of 'Beans & Mutter(Vegetable)' do not show the name of these states. But production records of 'Peas & beans (Pulses)' shows their name.\n",
    "\n",
    "It is found that Peas are also considered as beans/pulses.\n",
    "\n",
    "Hence, 'Beans & Mutter(Vegetable)' and 'Peas & beans (Pulses)' can be merged to define a single category - 'Peas'."
   ]
  },
  {
   "cell_type": "code",
   "execution_count": null,
   "metadata": {},
   "outputs": [],
   "source": [
    "df_merged_peas = df.copy()"
   ]
  },
  {
   "cell_type": "code",
   "execution_count": null,
   "metadata": {},
   "outputs": [],
   "source": [
    "# Merging records with crop names 'Beans & Mutter(Vegetable)' and 'Peas & beans (Pulses)' as 'Peas'\n",
    "def changeToPeas(x):\n",
    "    if x in ['Beans & Mutter(Vegetable)', 'Peas & beans (Pulses)']:\n",
    "        return 'Peas'\n",
    "    return x\n",
    "\n",
    "df_merged_peas['Crop'] = df_merged_peas['Crop'].apply(changeToPeas)"
   ]
  },
  {
   "cell_type": "code",
   "execution_count": null,
   "metadata": {},
   "outputs": [],
   "source": [
    "# df_merged_peas.loc[(df_merged_peas['Crop'] == 'Peas') & (df_merged_peas['State'] == 'KARNATAKA')]"
   ]
  },
  {
   "cell_type": "code",
   "execution_count": null,
   "metadata": {},
   "outputs": [],
   "source": [
    "# Checking duplicate rows\n",
    "print(\"With Duplicates: \", df_merged_peas.shape)\n",
    "print(\"Without Duplicate: \", df_merged_peas.drop_duplicates().shape)"
   ]
  },
  {
   "cell_type": "code",
   "execution_count": null,
   "metadata": {
    "scrolled": true
   },
   "outputs": [],
   "source": [
    "# Cross check records of Karnataka for peas\n",
    "# df_merged_peas.loc[(df_merged_peas['Crop'] == 'Peas') & (df_merged_peas['State'] == 'KARNATAKA') & (df_merged_peas.duplicated(['State', 'District', 'Year']))][['State', 'District', 'Crop', 'Year', 'Area', 'Production']]"
   ]
  },
  {
   "cell_type": "markdown",
   "metadata": {},
   "source": [
    "*** Merge 'Beans & Mutter(Vegetable)' and 'Peas & beans (Pulses)' as 'Peas'. "
   ]
  },
  {
   "cell_type": "code",
   "execution_count": null,
   "metadata": {},
   "outputs": [],
   "source": [
    "df = df_merged_peas.copy()"
   ]
  },
  {
   "cell_type": "markdown",
   "metadata": {
    "id": "jrUb5JU9_v2F"
   },
   "source": [
    "# Relationship of Production with other columns"
   ]
  },
  {
   "cell_type": "code",
   "execution_count": null,
   "metadata": {},
   "outputs": [],
   "source": [
    "# Relation with Production\n",
    "fig, axes= plt.subplots(nrows=9, ncols=2, clear=True)\n",
    "fig.set_figwidth(20)\n",
    "fig.set_figheight(25)\n",
    "i = 0\n",
    "j = 0\n",
    "for col in df.columns[4:-2]:\n",
    "  if df[col].dtype != 'object':\n",
    "    if j % 2 == 0:\n",
    "      j = 0\n",
    "    # print(i,j)\n",
    "    axes[i][j].set_title(f\"{col} vs. Production\")\n",
    "    # plt.xlabel(col)\n",
    "    # plt.ylabel('Production')\n",
    "    axes[i][j].scatter(df[col], df['Production'])\n",
    "    if j == 1:\n",
    "      i += 1\n",
    "    j += 1\n",
    "fig.tight_layout()"
   ]
  },
  {
   "cell_type": "code",
   "execution_count": null,
   "metadata": {
    "colab": {
     "base_uri": "https://localhost:8080/",
     "height": 1000
    },
    "executionInfo": {
     "elapsed": 46078,
     "status": "ok",
     "timestamp": 1605856844229,
     "user": {
      "displayName": "Animesh Mathur",
      "photoUrl": "",
      "userId": "12851398661452389381"
     },
     "user_tz": -330
    },
    "id": "ma5VntdD_vIP",
    "outputId": "bbaf9ace-29dc-450c-e7a5-99cdae3a9a94"
   },
   "outputs": [],
   "source": [
    "# Relation with log-Production\n",
    "fig, axes= plt.subplots(nrows=9, ncols=2, clear=True)\n",
    "fig.set_figwidth(20)\n",
    "fig.set_figheight(25)\n",
    "i = 0\n",
    "j = 0\n",
    "for col in df.columns[4:-2]:\n",
    "  if df[col].dtype != 'object':\n",
    "    if j % 2 == 0:\n",
    "      j = 0\n",
    "    # print(i,j)\n",
    "    axes[i][j].set_title(f\"{col} vs. Log-Production\")\n",
    "    # plt.xlabel(col)\n",
    "    # plt.ylabel('Log-Production')\n",
    "    axes[i][j].scatter(df[col], df['Log_Production'])\n",
    "    if j == 1:\n",
    "      i += 1\n",
    "    j += 1\n",
    "fig.tight_layout()"
   ]
  },
  {
   "cell_type": "markdown",
   "metadata": {},
   "source": [
    "# Analysis for Crop"
   ]
  },
  {
   "cell_type": "code",
   "execution_count": null,
   "metadata": {},
   "outputs": [],
   "source": [
    "sorted(df['Crop'].unique())"
   ]
  },
  {
   "cell_type": "code",
   "execution_count": null,
   "metadata": {},
   "outputs": [],
   "source": [
    "# Finding broad category - others\n",
    "[crop for crop in df['Crop'].unique() if 'other' in crop.lower()]"
   ]
  },
  {
   "cell_type": "code",
   "execution_count": null,
   "metadata": {
    "scrolled": true
   },
   "outputs": [],
   "source": [
    "pd.options.display.max_rows = 100\n",
    "df['Crop'].value_counts().sort_index()"
   ]
  },
  {
   "cell_type": "code",
   "execution_count": null,
   "metadata": {},
   "outputs": [],
   "source": []
  }
 ],
 "metadata": {
  "colab": {
   "authorship_tag": "ABX9TyNr/GuyapAw83S+cjUKuImf",
   "collapsed_sections": [],
   "mount_file_id": "1wAcElVQf9IlLcPeyNNvkxKxAuGRJMDnR",
   "name": "EDA.ipynb",
   "provenance": []
  },
  "kernelspec": {
   "display_name": "Python 3",
   "language": "python",
   "name": "python3"
  },
  "language_info": {
   "codemirror_mode": {
    "name": "ipython",
    "version": 3
   },
   "file_extension": ".py",
   "mimetype": "text/x-python",
   "name": "python",
   "nbconvert_exporter": "python",
   "pygments_lexer": "ipython3",
   "version": "3.8.5"
  }
 },
 "nbformat": 4,
 "nbformat_minor": 1
}
