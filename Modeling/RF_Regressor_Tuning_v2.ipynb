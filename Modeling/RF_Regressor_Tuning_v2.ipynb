{
 "cells": [
  {
   "cell_type": "code",
   "execution_count": 1,
   "metadata": {},
   "outputs": [],
   "source": [
    "import os,sys,inspect\n",
    "current_dir = os.path.dirname(os.path.abspath(inspect.getfile(inspect.currentframe())))\n",
    "parent_dir = os.path.dirname(current_dir)\n",
    "sys.path.insert(0, parent_dir)"
   ]
  },
  {
   "cell_type": "code",
   "execution_count": 2,
   "metadata": {},
   "outputs": [],
   "source": [
    "import pandas as pd\n",
    "import numpy as np\n",
    "\n",
    "import matplotlib.pyplot as plt\n",
    "import seaborn as sns\n",
    "\n",
    "from dask.distributed import Client\n",
    "import joblib\n",
    "\n",
    "from sklearn.ensemble import RandomForestRegressor\n",
    "from sklearn.model_selection import RandomizedSearchCV, GridSearchCV, train_test_split\n",
    "\n",
    "from common.preprocessing import CropDataProcessor\n",
    "\n",
    "import time\n",
    "\n",
    "import pickle"
   ]
  },
  {
   "cell_type": "code",
   "execution_count": 3,
   "metadata": {},
   "outputs": [],
   "source": [
    "client = Client(processes=False)"
   ]
  },
  {
   "cell_type": "code",
   "execution_count": 4,
   "metadata": {},
   "outputs": [],
   "source": [
    "train_data = pd.read_csv(\"../data/Crop_Data__train.csv\")"
   ]
  },
  {
   "cell_type": "code",
   "execution_count": 5,
   "metadata": {},
   "outputs": [
    {
     "data": {
      "text/plain": [
       "(164550, 25)"
      ]
     },
     "execution_count": 5,
     "metadata": {},
     "output_type": "execute_result"
    }
   ],
   "source": [
    "train_data.shape"
   ]
  },
  {
   "cell_type": "code",
   "execution_count": 6,
   "metadata": {},
   "outputs": [
    {
     "name": "stderr",
     "output_type": "stream",
     "text": [
      "/usr/local/lib/python3.6/dist-packages/sklearn/base.py:315: UserWarning: Trying to unpickle estimator KMeans from version 0.23.2 when using version 0.24.1. This might lead to breaking code or invalid results. Use at your own risk.\n",
      "  UserWarning)\n"
     ]
    }
   ],
   "source": [
    "data_preprocessor = CropDataProcessor(train_data, excluded_features=['State', 'District', 'Dew_Frost_Point', 'Year'])"
   ]
  },
  {
   "cell_type": "code",
   "execution_count": 7,
   "metadata": {},
   "outputs": [
    {
     "name": "stdout",
     "output_type": "stream",
     "text": [
      "Warning 1: Features are not processed yet.\n",
      "Warning 2: Distribution of Yield may not be normal.\n"
     ]
    },
    {
     "data": {
      "text/plain": [
       "Lat                         float64\n",
       "Long                        float64\n",
       "GW_depth_Min                float64\n",
       "GW_depth_Max                float64\n",
       "Wells_depth_0_to_2            int64\n",
       "Wells_depth_2_to_5            int64\n",
       "Wells_depth_5_to_10           int64\n",
       "Wells_depth_10_to_20        float64\n",
       "Wells_depth_20_to_40        float64\n",
       "Wells_depth_40_and_above    float64\n",
       "Precipitation               float64\n",
       "Solar_Radiation             float64\n",
       "Surface_Pressure            float64\n",
       "Humidity                    float64\n",
       "Temp_Max                    float64\n",
       "Temp_Min                    float64\n",
       "Wind_Speed                  float64\n",
       "Season                       object\n",
       "Crop                         object\n",
       "dtype: object"
      ]
     },
     "execution_count": 7,
     "metadata": {},
     "output_type": "execute_result"
    }
   ],
   "source": [
    "data_preprocessor.get_training_data()[0].dtypes"
   ]
  },
  {
   "cell_type": "code",
   "execution_count": 8,
   "metadata": {
    "scrolled": true
   },
   "outputs": [
    {
     "name": "stdout",
     "output_type": "stream",
     "text": [
      "Clustered Lat-Long to Geo Region.\n",
      "Encoded Crop using WoE.\n",
      "Transforming numerical features.\n",
      "Transforming categorical features.\n"
     ]
    }
   ],
   "source": [
    "data_preprocessor.process_to_train()"
   ]
  },
  {
   "cell_type": "code",
   "execution_count": 9,
   "metadata": {},
   "outputs": [
    {
     "data": {
      "text/plain": [
       "((164550, 28), (164550,))"
      ]
     },
     "execution_count": 9,
     "metadata": {},
     "output_type": "execute_result"
    }
   ],
   "source": [
    "X, y = data_preprocessor.get_training_data()\n",
    "X.shape, y.shape"
   ]
  },
  {
   "cell_type": "code",
   "execution_count": 10,
   "metadata": {},
   "outputs": [],
   "source": [
    "# print(data_preprocessor.process_to_predict(train_data.loc[100:105].drop(['Area', 'Production'], axis=1)).shape)\n",
    "# data_preprocessor.process_to_predict(train_data.loc[100:105].drop(['Area', 'Production'], axis=1))[:10]"
   ]
  },
  {
   "cell_type": "code",
   "execution_count": 24,
   "metadata": {},
   "outputs": [],
   "source": [
    "X_train, X_val, y_train, y_val = train_test_split(X, y, test_size=0.2, random_state=101)"
   ]
  },
  {
   "cell_type": "code",
   "execution_count": 25,
   "metadata": {},
   "outputs": [
    {
     "data": {
      "text/plain": [
       "((131640, 28), (32910, 28))"
      ]
     },
     "execution_count": 25,
     "metadata": {},
     "output_type": "execute_result"
    }
   ],
   "source": [
    "X_train.shape, X_val.shape"
   ]
  },
  {
   "cell_type": "code",
   "execution_count": 16,
   "metadata": {},
   "outputs": [
    {
     "name": "stdout",
     "output_type": "stream",
     "text": [
      "Finished in 10.303147792816162 secs\n"
     ]
    }
   ],
   "source": [
    "start_time = time.time()\n",
    "\n",
    "reg = RandomForestRegressor(n_estimators=40,\n",
    "                            min_samples_split=2,\n",
    "                            min_samples_leaf=2,\n",
    "                            n_jobs=-1,\n",
    "                            random_state=101)\n",
    "\n",
    "with joblib.parallel_backend('dask'):\n",
    "    reg.fit(X_train, y_train)\n",
    "    \n",
    "print(f\"Finished in {time.time() - start_time} secs\")"
   ]
  },
  {
   "cell_type": "code",
   "execution_count": 17,
   "metadata": {},
   "outputs": [
    {
     "data": {
      "text/plain": [
       "0.9735075151688256"
      ]
     },
     "execution_count": 17,
     "metadata": {},
     "output_type": "execute_result"
    }
   ],
   "source": [
    "reg.score(X_train, y_train)"
   ]
  },
  {
   "cell_type": "code",
   "execution_count": 18,
   "metadata": {},
   "outputs": [
    {
     "data": {
      "text/plain": [
       "0.8960729257744161"
      ]
     },
     "execution_count": 18,
     "metadata": {},
     "output_type": "execute_result"
    }
   ],
   "source": [
    "reg.score(X_val, y_val)"
   ]
  },
  {
   "cell_type": "markdown",
   "metadata": {},
   "source": [
    "# Hyper-parameters search for RF"
   ]
  },
  {
   "cell_type": "markdown",
   "metadata": {},
   "source": [
    "## RandomizedSearchCV"
   ]
  },
  {
   "cell_type": "markdown",
   "metadata": {},
   "source": [
    "### Iter 1"
   ]
  },
  {
   "cell_type": "code",
   "execution_count": 10,
   "metadata": {},
   "outputs": [],
   "source": [
    "param_space = {\n",
    "    \"n_estimators\": np.arange(10, 101, 10),\n",
    "    \"max_depth\": [25, 50, 75, 100],\n",
    "    \"min_samples_split\": np.arange(2, 15, 2),\n",
    "    \"min_samples_leaf\": np.arange(2, 11, 2)\n",
    "}"
   ]
  },
  {
   "cell_type": "code",
   "execution_count": 11,
   "metadata": {},
   "outputs": [],
   "source": [
    "random_search = RandomizedSearchCV(\n",
    "    estimator=RandomForestRegressor(), \n",
    "    param_distributions=param_space,\n",
    "    cv=5,\n",
    "    return_train_score=True,\n",
    "    n_iter=100,\n",
    "    n_jobs=-1,\n",
    "    verbose=5)"
   ]
  },
  {
   "cell_type": "code",
   "execution_count": 12,
   "metadata": {
    "collapsed": true,
    "jupyter": {
     "outputs_hidden": true
    }
   },
   "outputs": [
    {
     "name": "stdout",
     "output_type": "stream",
     "text": [
      "Fitting 5 folds for each of 100 candidates, totalling 500 fits\n",
      "[CV 4/5] END max_depth=75, min_samples_leaf=6, min_samples_split=10, n_estimators=20; total time=  29.5s\n",
      "[CV 3/5] END max_depth=75, min_samples_leaf=6, min_samples_split=10, n_estimators=20; total time=  29.9s\n",
      "[CV 2/5] END max_depth=75, min_samples_leaf=6, min_samples_split=10, n_estimators=20; total time=  36.1s\n",
      "[CV 4/5] END max_depth=75, min_samples_leaf=2, min_samples_split=14, n_estimators=20; total time= 1.0min\n",
      "[CV 3/5] END max_depth=75, min_samples_leaf=2, min_samples_split=14, n_estimators=20; total time= 1.1min\n",
      "[CV 1/5] END max_depth=75, min_samples_leaf=2, min_samples_split=14, n_estimators=20; total time= 1.2min\n",
      "[CV 2/5] END max_depth=75, min_samples_leaf=2, min_samples_split=14, n_estimators=20; total time= 1.2min\n",
      "[CV 1/5] END max_depth=75, min_samples_leaf=6, min_samples_split=10, n_estimators=20; total time=  12.1s\n",
      "[CV 5/5] END max_depth=75, min_samples_leaf=2, min_samples_split=14, n_estimators=20; total time=   7.9s\n",
      "[CV 3/5] END max_depth=50, min_samples_leaf=6, min_samples_split=14, n_estimators=30; total time= 2.1min\n",
      "[CV 5/5] END max_depth=75, min_samples_leaf=6, min_samples_split=10, n_estimators=20; total time=  12.7s\n",
      "[CV 5/5] END max_depth=50, min_samples_leaf=6, min_samples_split=14, n_estimators=30; total time= 2.4min\n",
      "[CV 4/5] END max_depth=50, min_samples_leaf=6, min_samples_split=14, n_estimators=30; total time= 2.5min\n",
      "[CV 2/5] END max_depth=50, min_samples_leaf=6, min_samples_split=14, n_estimators=30; total time= 2.5min\n",
      "[CV 1/5] END max_depth=50, min_samples_leaf=6, min_samples_split=14, n_estimators=30; total time= 1.8min\n",
      "[CV 5/5] END max_depth=25, min_samples_leaf=10, min_samples_split=6, n_estimators=60; total time= 3.8min\n",
      "[CV 1/5] END max_depth=25, min_samples_leaf=10, min_samples_split=6, n_estimators=60; total time= 3.8min\n",
      "[CV 2/5] END max_depth=25, min_samples_leaf=10, min_samples_split=6, n_estimators=60; total time= 3.8min\n",
      "[CV 3/5] END max_depth=25, min_samples_leaf=10, min_samples_split=6, n_estimators=60; total time= 3.9min\n",
      "[CV 4/5] END max_depth=25, min_samples_leaf=10, min_samples_split=6, n_estimators=60; total time= 3.9min\n",
      "[CV 1/5] END max_depth=100, min_samples_leaf=10, min_samples_split=8, n_estimators=90; total time= 5.6min\n",
      "[CV 2/5] END max_depth=100, min_samples_leaf=10, min_samples_split=8, n_estimators=90; total time= 5.8min\n",
      "[CV 1/5] END max_depth=25, min_samples_leaf=8, min_samples_split=6, n_estimators=50; total time= 3.7min\n",
      "[CV 3/5] END max_depth=100, min_samples_leaf=10, min_samples_split=8, n_estimators=90; total time= 5.8min\n",
      "[CV 2/5] END max_depth=25, min_samples_leaf=8, min_samples_split=6, n_estimators=50; total time= 3.6min\n",
      "[CV 1/5] END max_depth=25, min_samples_leaf=4, min_samples_split=6, n_estimators=40; total time= 1.9min\n",
      "[CV 2/5] END max_depth=25, min_samples_leaf=4, min_samples_split=6, n_estimators=40; total time= 1.8min\n",
      "[CV 3/5] END max_depth=25, min_samples_leaf=4, min_samples_split=6, n_estimators=40; total time= 1.8min\n",
      "[CV 4/5] END max_depth=100, min_samples_leaf=10, min_samples_split=8, n_estimators=90; total time= 6.2min\n",
      "[CV 5/5] END max_depth=25, min_samples_leaf=8, min_samples_split=6, n_estimators=50; total time= 3.6min\n",
      "[CV 4/5] END max_depth=25, min_samples_leaf=8, min_samples_split=6, n_estimators=50; total time= 3.6min\n",
      "[CV 3/5] END max_depth=25, min_samples_leaf=8, min_samples_split=6, n_estimators=50; total time= 3.6min\n",
      "[CV 1/5] END max_depth=50, min_samples_leaf=4, min_samples_split=2, n_estimators=60; total time= 3.4min\n",
      "[CV 2/5] END max_depth=50, min_samples_leaf=4, min_samples_split=2, n_estimators=60; total time= 3.4min\n",
      "[CV 4/5] END max_depth=25, min_samples_leaf=4, min_samples_split=6, n_estimators=40; total time= 1.6min\n",
      "[CV 3/5] END max_depth=50, min_samples_leaf=4, min_samples_split=2, n_estimators=60; total time= 3.4min\n",
      "[CV 5/5] END max_depth=100, min_samples_leaf=10, min_samples_split=8, n_estimators=90; total time= 5.2min\n",
      "[CV 4/5] END max_depth=50, min_samples_leaf=4, min_samples_split=2, n_estimators=60; total time= 3.3min\n",
      "[CV 5/5] END max_depth=50, min_samples_leaf=4, min_samples_split=2, n_estimators=60; total time= 3.4min\n",
      "[CV 2/5] END max_depth=25, min_samples_leaf=2, min_samples_split=8, n_estimators=10; total time=   5.6s\n",
      "[CV 1/5] END max_depth=25, min_samples_leaf=2, min_samples_split=8, n_estimators=10; total time=  13.5s\n",
      "[CV 5/5] END max_depth=25, min_samples_leaf=4, min_samples_split=6, n_estimators=40; total time= 1.9min\n",
      "[CV 3/5] END max_depth=25, min_samples_leaf=2, min_samples_split=8, n_estimators=10; total time=   6.3s\n",
      "[CV 4/5] END max_depth=25, min_samples_leaf=2, min_samples_split=8, n_estimators=10; total time=   4.8s\n",
      "[CV 5/5] END max_depth=25, min_samples_leaf=2, min_samples_split=8, n_estimators=10; total time=   5.2s\n",
      "[CV 1/5] END max_depth=25, min_samples_leaf=2, min_samples_split=14, n_estimators=20; total time=   7.2s\n",
      "[CV 2/5] END max_depth=25, min_samples_leaf=2, min_samples_split=14, n_estimators=20; total time=   7.3s\n",
      "[CV 3/5] END max_depth=25, min_samples_leaf=2, min_samples_split=14, n_estimators=20; total time=   7.3s\n",
      "[CV 4/5] END max_depth=25, min_samples_leaf=2, min_samples_split=14, n_estimators=20; total time=   8.1s\n",
      "[CV 5/5] END max_depth=25, min_samples_leaf=2, min_samples_split=14, n_estimators=20; total time=   7.8s\n",
      "[CV 1/5] END max_depth=100, min_samples_leaf=10, min_samples_split=10, n_estimators=50; total time= 3.7min\n",
      "[CV 2/5] END max_depth=100, min_samples_leaf=10, min_samples_split=10, n_estimators=50; total time= 3.7min\n",
      "[CV 3/5] END max_depth=100, min_samples_leaf=10, min_samples_split=10, n_estimators=50; total time= 3.6min\n",
      "[CV 5/5] END max_depth=100, min_samples_leaf=10, min_samples_split=10, n_estimators=50; total time= 3.5min\n",
      "[CV 4/5] END max_depth=100, min_samples_leaf=10, min_samples_split=10, n_estimators=50; total time= 3.9min\n",
      "[CV 3/5] END max_depth=25, min_samples_leaf=8, min_samples_split=10, n_estimators=80; total time= 5.3min\n",
      "[CV 2/5] END max_depth=25, min_samples_leaf=8, min_samples_split=10, n_estimators=80; total time= 5.4min\n",
      "[CV 1/5] END max_depth=25, min_samples_leaf=8, min_samples_split=10, n_estimators=80; total time= 5.4min\n",
      "[CV 4/5] END max_depth=25, min_samples_leaf=8, min_samples_split=10, n_estimators=80; total time= 5.2min\n",
      "[CV 5/5] END max_depth=25, min_samples_leaf=8, min_samples_split=10, n_estimators=80; total time= 5.1min\n",
      "[CV 3/5] END max_depth=25, min_samples_leaf=4, min_samples_split=6, n_estimators=90; total time= 5.4min\n",
      "[CV 2/5] END max_depth=25, min_samples_leaf=4, min_samples_split=6, n_estimators=90; total time= 5.4min\n",
      "[CV 1/5] END max_depth=25, min_samples_leaf=4, min_samples_split=6, n_estimators=90; total time= 5.5min\n",
      "[CV 5/5] END max_depth=25, min_samples_leaf=4, min_samples_split=6, n_estimators=90; total time= 5.3min\n",
      "[CV 4/5] END max_depth=25, min_samples_leaf=4, min_samples_split=6, n_estimators=90; total time= 5.5min\n",
      "[CV 2/5] END max_depth=25, min_samples_leaf=8, min_samples_split=10, n_estimators=20; total time=   7.8s\n",
      "[CV 1/5] END max_depth=25, min_samples_leaf=8, min_samples_split=10, n_estimators=20; total time=  11.7s\n",
      "[CV 3/5] END max_depth=25, min_samples_leaf=8, min_samples_split=10, n_estimators=20; total time=   7.4s\n",
      "[CV 4/5] END max_depth=25, min_samples_leaf=8, min_samples_split=10, n_estimators=20; total time=   7.6s\n",
      "[CV 1/5] END max_depth=50, min_samples_leaf=10, min_samples_split=2, n_estimators=90; total time= 5.4min\n",
      "[CV 2/5] END max_depth=50, min_samples_leaf=10, min_samples_split=2, n_estimators=90; total time= 5.5min\n",
      "[CV 2/5] END max_depth=25, min_samples_leaf=2, min_samples_split=12, n_estimators=40; total time= 2.1min\n",
      "[CV 1/5] END max_depth=25, min_samples_leaf=2, min_samples_split=12, n_estimators=40; total time= 2.1min\n",
      "[CV 3/5] END max_depth=25, min_samples_leaf=2, min_samples_split=12, n_estimators=40; total time= 2.0min\n",
      "[CV 3/5] END max_depth=50, min_samples_leaf=10, min_samples_split=2, n_estimators=90; total time= 5.4min\n",
      "[CV 4/5] END max_depth=50, min_samples_leaf=10, min_samples_split=2, n_estimators=90; total time= 5.4min\n",
      "[CV 4/5] END max_depth=25, min_samples_leaf=2, min_samples_split=12, n_estimators=40; total time= 2.0min\n",
      "[CV 5/5] END max_depth=50, min_samples_leaf=10, min_samples_split=2, n_estimators=90; total time= 5.4min\n",
      "[CV 1/5] END max_depth=100, min_samples_leaf=8, min_samples_split=4, n_estimators=80; total time= 5.4min\n",
      "[CV 1/5] END max_depth=25, min_samples_leaf=6, min_samples_split=4, n_estimators=60; total time= 3.8min\n",
      "[CV 2/5] END max_depth=25, min_samples_leaf=6, min_samples_split=4, n_estimators=60; total time= 3.8min\n",
      "[CV 3/5] END max_depth=25, min_samples_leaf=6, min_samples_split=4, n_estimators=60; total time= 3.7min\n",
      "[CV 2/5] END max_depth=100, min_samples_leaf=8, min_samples_split=4, n_estimators=80; total time= 5.4min\n",
      "[CV 5/5] END max_depth=25, min_samples_leaf=8, min_samples_split=10, n_estimators=20; total time=  13.8s\n",
      "[CV 5/5] END max_depth=25, min_samples_leaf=2, min_samples_split=12, n_estimators=40; total time= 1.9min\n",
      "[CV 4/5] END max_depth=25, min_samples_leaf=6, min_samples_split=4, n_estimators=60; total time= 3.6min\n",
      "[CV 3/5] END max_depth=100, min_samples_leaf=8, min_samples_split=4, n_estimators=80; total time= 5.3min\n",
      "[CV 4/5] END max_depth=100, min_samples_leaf=8, min_samples_split=4, n_estimators=80; total time= 5.3min\n",
      "[CV 5/5] END max_depth=25, min_samples_leaf=6, min_samples_split=4, n_estimators=60; total time= 3.5min\n",
      "[CV 5/5] END max_depth=100, min_samples_leaf=8, min_samples_split=4, n_estimators=80; total time= 5.4min\n",
      "[CV 1/5] END max_depth=75, min_samples_leaf=10, min_samples_split=10, n_estimators=10; total time=   4.4s\n",
      "[CV 2/5] END max_depth=75, min_samples_leaf=10, min_samples_split=10, n_estimators=10; total time=   5.3s\n",
      "[CV 3/5] END max_depth=75, min_samples_leaf=10, min_samples_split=10, n_estimators=10; total time=   5.0s\n",
      "[CV 4/5] END max_depth=75, min_samples_leaf=10, min_samples_split=10, n_estimators=10; total time=   5.0s\n",
      "[CV 5/5] END max_depth=75, min_samples_leaf=10, min_samples_split=10, n_estimators=10; total time=   4.7s\n",
      "[CV 4/5] END max_depth=75, min_samples_leaf=6, min_samples_split=10, n_estimators=30; total time= 1.8min\n",
      "[CV 3/5] END max_depth=75, min_samples_leaf=6, min_samples_split=10, n_estimators=30; total time= 1.8min\n",
      "[CV 2/5] END max_depth=75, min_samples_leaf=6, min_samples_split=10, n_estimators=30; total time= 1.8min\n",
      "[CV 1/5] END max_depth=75, min_samples_leaf=6, min_samples_split=10, n_estimators=30; total time= 1.9min\n",
      "[CV 5/5] END max_depth=75, min_samples_leaf=6, min_samples_split=10, n_estimators=30; total time= 1.6min\n",
      "[CV 1/5] END max_depth=75, min_samples_leaf=6, min_samples_split=10, n_estimators=60; total time= 3.3min\n",
      "[CV 2/5] END max_depth=75, min_samples_leaf=6, min_samples_split=10, n_estimators=60; total time= 3.4min\n",
      "[CV 4/5] END max_depth=75, min_samples_leaf=6, min_samples_split=10, n_estimators=60; total time= 3.4min\n",
      "[CV 3/5] END max_depth=75, min_samples_leaf=6, min_samples_split=10, n_estimators=60; total time= 3.4min\n",
      "[CV 5/5] END max_depth=75, min_samples_leaf=6, min_samples_split=10, n_estimators=60; total time= 3.7min\n",
      "[CV 1/5] END max_depth=75, min_samples_leaf=10, min_samples_split=10, n_estimators=60; total time= 3.4min\n",
      "[CV 2/5] END max_depth=75, min_samples_leaf=10, min_samples_split=10, n_estimators=60; total time= 3.3min\n",
      "[CV 5/5] END max_depth=75, min_samples_leaf=10, min_samples_split=10, n_estimators=60; total time= 3.3min\n",
      "[CV 4/5] END max_depth=75, min_samples_leaf=10, min_samples_split=10, n_estimators=60; total time= 3.4min\n",
      "[CV 3/5] END max_depth=75, min_samples_leaf=10, min_samples_split=10, n_estimators=60; total time= 3.4min\n",
      "[CV 1/5] END max_depth=25, min_samples_leaf=8, min_samples_split=10, n_estimators=60; total time= 3.5min\n",
      "[CV 2/5] END max_depth=25, min_samples_leaf=8, min_samples_split=10, n_estimators=60; total time= 3.4min\n",
      "[CV 3/5] END max_depth=25, min_samples_leaf=8, min_samples_split=10, n_estimators=60; total time= 3.4min\n",
      "[CV 1/5] END max_depth=100, min_samples_leaf=6, min_samples_split=4, n_estimators=20; total time=   7.2s\n",
      "[CV 4/5] END max_depth=25, min_samples_leaf=8, min_samples_split=10, n_estimators=60; total time= 3.8min\n",
      "[CV 3/5] END max_depth=100, min_samples_leaf=6, min_samples_split=4, n_estimators=20; total time=   8.3s\n",
      "[CV 2/5] END max_depth=100, min_samples_leaf=6, min_samples_split=4, n_estimators=20; total time=  11.9s\n",
      "[CV 4/5] END max_depth=100, min_samples_leaf=6, min_samples_split=4, n_estimators=20; total time=   8.3s\n",
      "[CV 5/5] END max_depth=25, min_samples_leaf=8, min_samples_split=10, n_estimators=60; total time= 3.7min\n",
      "[CV 5/5] END max_depth=100, min_samples_leaf=6, min_samples_split=4, n_estimators=20; total time=   7.9s\n",
      "[CV 1/5] END max_depth=50, min_samples_leaf=2, min_samples_split=10, n_estimators=10; total time=   5.6s\n",
      "[CV 2/5] END max_depth=50, min_samples_leaf=2, min_samples_split=10, n_estimators=10; total time=   5.3s\n",
      "[CV 2/5] END max_depth=75, min_samples_leaf=4, min_samples_split=2, n_estimators=70; total time= 3.7min\n",
      "[CV 1/5] END max_depth=75, min_samples_leaf=4, min_samples_split=2, n_estimators=70; total time= 3.8min\n",
      "[CV 3/5] END max_depth=75, min_samples_leaf=4, min_samples_split=2, n_estimators=70; total time= 3.7min\n",
      "[CV 4/5] END max_depth=75, min_samples_leaf=4, min_samples_split=2, n_estimators=70; total time= 3.8min\n",
      "[CV 4/5] END max_depth=50, min_samples_leaf=2, min_samples_split=10, n_estimators=10; total time=   5.5s\n",
      "[CV 3/5] END max_depth=50, min_samples_leaf=2, min_samples_split=10, n_estimators=10; total time=   7.8s\n",
      "[CV 5/5] END max_depth=50, min_samples_leaf=2, min_samples_split=10, n_estimators=10; total time=  16.1s\n",
      "[CV 1/5] END max_depth=25, min_samples_leaf=6, min_samples_split=4, n_estimators=90; total time= 5.5min\n",
      "[CV 5/5] END max_depth=75, min_samples_leaf=4, min_samples_split=2, n_estimators=70; total time= 3.8min\n",
      "[CV 3/5] END max_depth=25, min_samples_leaf=6, min_samples_split=4, n_estimators=90; total time= 5.6min\n",
      "[CV 2/5] END max_depth=25, min_samples_leaf=6, min_samples_split=4, n_estimators=90; total time= 5.6min\n",
      "[CV 4/5] END max_depth=25, min_samples_leaf=6, min_samples_split=4, n_estimators=90; total time= 5.5min\n",
      "[CV 5/5] END max_depth=25, min_samples_leaf=6, min_samples_split=4, n_estimators=90; total time= 5.8min\n",
      "[CV 1/5] END max_depth=50, min_samples_leaf=4, min_samples_split=10, n_estimators=20; total time=   8.3s\n",
      "[CV 2/5] END max_depth=50, min_samples_leaf=4, min_samples_split=10, n_estimators=20; total time=   7.6s\n",
      "[CV 3/5] END max_depth=50, min_samples_leaf=4, min_samples_split=10, n_estimators=20; total time=   7.7s\n",
      "[CV 5/5] END max_depth=50, min_samples_leaf=4, min_samples_split=10, n_estimators=20; total time=   7.5s\n",
      "[CV 4/5] END max_depth=50, min_samples_leaf=4, min_samples_split=10, n_estimators=20; total time=  12.2s\n",
      "[CV 2/5] END max_depth=100, min_samples_leaf=4, min_samples_split=2, n_estimators=20; total time=   8.1s\n",
      "[CV 1/5] END max_depth=100, min_samples_leaf=4, min_samples_split=2, n_estimators=20; total time=  12.7s\n",
      "[CV 3/5] END max_depth=100, min_samples_leaf=4, min_samples_split=2, n_estimators=20; total time=   8.1s\n",
      "[CV 1/5] END max_depth=50, min_samples_leaf=2, min_samples_split=14, n_estimators=90; total time= 5.8min\n",
      "[CV 2/5] END max_depth=50, min_samples_leaf=2, min_samples_split=14, n_estimators=90; total time= 5.8min\n",
      "[CV 3/5] END max_depth=50, min_samples_leaf=2, min_samples_split=14, n_estimators=90; total time= 5.8min\n",
      "[CV 1/5] END max_depth=100, min_samples_leaf=8, min_samples_split=2, n_estimators=40; total time= 2.1min\n",
      "[CV 2/5] END max_depth=100, min_samples_leaf=8, min_samples_split=2, n_estimators=40; total time= 2.1min\n",
      "[CV 3/5] END max_depth=100, min_samples_leaf=8, min_samples_split=2, n_estimators=40; total time= 2.0min\n",
      "[CV 4/5] END max_depth=100, min_samples_leaf=4, min_samples_split=2, n_estimators=20; total time=   7.7s\n",
      "[CV 4/5] END max_depth=100, min_samples_leaf=8, min_samples_split=2, n_estimators=40; total time= 2.0min\n",
      "[CV 4/5] END max_depth=50, min_samples_leaf=2, min_samples_split=14, n_estimators=90; total time= 5.7min\n",
      "[CV 5/5] END max_depth=50, min_samples_leaf=2, min_samples_split=14, n_estimators=90; total time= 5.7min\n",
      "[CV 5/5] END max_depth=100, min_samples_leaf=4, min_samples_split=2, n_estimators=20; total time=   8.3s\n",
      "[CV 5/5] END max_depth=100, min_samples_leaf=8, min_samples_split=2, n_estimators=40; total time= 2.0min\n",
      "[CV 1/5] END max_depth=25, min_samples_leaf=6, min_samples_split=4, n_estimators=40; total time= 2.2min\n",
      "[CV 2/5] END max_depth=25, min_samples_leaf=6, min_samples_split=4, n_estimators=40; total time= 2.2min\n",
      "[CV 5/5] END max_depth=25, min_samples_leaf=6, min_samples_split=4, n_estimators=40; total time= 2.2min\n",
      "[CV 4/5] END max_depth=25, min_samples_leaf=6, min_samples_split=4, n_estimators=40; total time= 2.3min\n",
      "[CV 3/5] END max_depth=25, min_samples_leaf=6, min_samples_split=4, n_estimators=40; total time= 2.3min\n",
      "[CV 2/5] END max_depth=50, min_samples_leaf=6, min_samples_split=14, n_estimators=100; total time= 7.7min\n",
      "[CV 1/5] END max_depth=50, min_samples_leaf=6, min_samples_split=14, n_estimators=100; total time= 7.9min\n",
      "[CV 3/5] END max_depth=50, min_samples_leaf=6, min_samples_split=14, n_estimators=100; total time= 7.7min\n",
      "[CV 1/5] END max_depth=50, min_samples_leaf=10, min_samples_split=4, n_estimators=10; total time=   6.8s\n",
      "[CV 1/5] END max_depth=50, min_samples_leaf=6, min_samples_split=12, n_estimators=70; total time= 3.9min\n",
      "[CV 2/5] END max_depth=50, min_samples_leaf=10, min_samples_split=4, n_estimators=10; total time=   6.0s\n",
      "[CV 4/5] END max_depth=50, min_samples_leaf=6, min_samples_split=14, n_estimators=100; total time= 7.4min\n",
      "[CV 3/5] END max_depth=50, min_samples_leaf=10, min_samples_split=4, n_estimators=10; total time=   6.4s\n",
      "[CV 4/5] END max_depth=50, min_samples_leaf=10, min_samples_split=4, n_estimators=10; total time=   5.9s\n",
      "[CV 2/5] END max_depth=50, min_samples_leaf=6, min_samples_split=12, n_estimators=70; total time= 3.8min\n",
      "[CV 3/5] END max_depth=50, min_samples_leaf=6, min_samples_split=12, n_estimators=70; total time= 3.7min\n",
      "[CV 5/5] END max_depth=50, min_samples_leaf=6, min_samples_split=14, n_estimators=100; total time= 7.5min\n",
      "[CV 4/5] END max_depth=50, min_samples_leaf=6, min_samples_split=12, n_estimators=70; total time= 3.8min\n",
      "[CV 5/5] END max_depth=50, min_samples_leaf=6, min_samples_split=12, n_estimators=70; total time= 3.9min\n",
      "[CV 5/5] END max_depth=50, min_samples_leaf=10, min_samples_split=4, n_estimators=10; total time=   5.5s\n",
      "[CV 1/5] END max_depth=50, min_samples_leaf=10, min_samples_split=12, n_estimators=10; total time=   5.2s\n",
      "[CV 4/5] END max_depth=50, min_samples_leaf=10, min_samples_split=12, n_estimators=10; total time=   7.5s\n",
      "[CV 2/5] END max_depth=50, min_samples_leaf=10, min_samples_split=12, n_estimators=10; total time=   8.4s\n",
      "[CV 3/5] END max_depth=50, min_samples_leaf=10, min_samples_split=12, n_estimators=10; total time=   8.8s\n",
      "[CV 5/5] END max_depth=50, min_samples_leaf=10, min_samples_split=12, n_estimators=10; total time=  10.3s\n",
      "[CV 3/5] END max_depth=100, min_samples_leaf=10, min_samples_split=6, n_estimators=90; total time= 5.5min\n",
      "[CV 4/5] END max_depth=100, min_samples_leaf=10, min_samples_split=6, n_estimators=90; total time= 5.5min\n",
      "[CV 2/5] END max_depth=100, min_samples_leaf=10, min_samples_split=6, n_estimators=90; total time= 5.7min\n",
      "[CV 1/5] END max_depth=100, min_samples_leaf=10, min_samples_split=6, n_estimators=90; total time= 5.8min\n",
      "[CV 5/5] END max_depth=100, min_samples_leaf=10, min_samples_split=6, n_estimators=90; total time= 5.7min\n",
      "[CV 3/5] END max_depth=100, min_samples_leaf=6, min_samples_split=10, n_estimators=100; total time= 7.5min\n",
      "[CV 2/5] END max_depth=100, min_samples_leaf=6, min_samples_split=10, n_estimators=100; total time= 7.5min\n",
      "[CV 1/5] END max_depth=100, min_samples_leaf=6, min_samples_split=10, n_estimators=100; total time= 7.5min\n",
      "[CV 4/5] END max_depth=100, min_samples_leaf=6, min_samples_split=10, n_estimators=100; total time= 7.2min\n",
      "[CV 5/5] END max_depth=100, min_samples_leaf=2, min_samples_split=2, n_estimators=60; total time= 3.9min\n",
      "[CV 4/5] END max_depth=100, min_samples_leaf=2, min_samples_split=2, n_estimators=60; total time= 4.0min\n",
      "[CV 3/5] END max_depth=100, min_samples_leaf=2, min_samples_split=2, n_estimators=60; total time= 4.0min\n",
      "[CV 2/5] END max_depth=100, min_samples_leaf=2, min_samples_split=2, n_estimators=60; total time= 4.1min\n",
      "[CV 1/5] END max_depth=100, min_samples_leaf=2, min_samples_split=2, n_estimators=60; total time= 4.1min\n",
      "[CV 5/5] END max_depth=100, min_samples_leaf=6, min_samples_split=10, n_estimators=100; total time= 7.5min\n",
      "[CV 1/5] END max_depth=50, min_samples_leaf=10, min_samples_split=8, n_estimators=90; total time= 6.2min\n",
      "[CV 2/5] END max_depth=50, min_samples_leaf=10, min_samples_split=8, n_estimators=90; total time= 6.3min\n",
      "[CV 3/5] END max_depth=50, min_samples_leaf=10, min_samples_split=8, n_estimators=90; total time= 6.3min\n",
      "[CV 4/5] END max_depth=50, min_samples_leaf=10, min_samples_split=8, n_estimators=90; total time= 6.5min\n",
      "[CV 2/5] END max_depth=25, min_samples_leaf=8, min_samples_split=2, n_estimators=90; total time= 6.5min\n",
      "[CV 1/5] END max_depth=25, min_samples_leaf=8, min_samples_split=2, n_estimators=90; total time= 6.6min\n",
      "[CV 5/5] END max_depth=50, min_samples_leaf=10, min_samples_split=8, n_estimators=90; total time= 6.6min\n",
      "[CV 3/5] END max_depth=25, min_samples_leaf=8, min_samples_split=2, n_estimators=90; total time= 6.4min\n",
      "[CV 4/5] END max_depth=25, min_samples_leaf=8, min_samples_split=2, n_estimators=90; total time= 6.5min\n",
      "[CV 5/5] END max_depth=25, min_samples_leaf=8, min_samples_split=2, n_estimators=90; total time= 6.5min\n",
      "[CV 1/5] END max_depth=75, min_samples_leaf=2, min_samples_split=2, n_estimators=90; total time= 6.4min\n",
      "[CV 3/5] END max_depth=75, min_samples_leaf=2, min_samples_split=2, n_estimators=90; total time= 6.5min\n",
      "[CV 2/5] END max_depth=75, min_samples_leaf=2, min_samples_split=2, n_estimators=90; total time= 6.6min\n",
      "[CV 2/5] END max_depth=25, min_samples_leaf=2, min_samples_split=12, n_estimators=60; total time= 4.6min\n",
      "[CV 1/5] END max_depth=25, min_samples_leaf=2, min_samples_split=12, n_estimators=60; total time= 4.6min\n",
      "[CV 3/5] END max_depth=25, min_samples_leaf=2, min_samples_split=12, n_estimators=60; total time= 4.5min\n",
      "[CV 4/5] END max_depth=75, min_samples_leaf=2, min_samples_split=2, n_estimators=90; total time= 6.7min\n",
      "[CV 5/5] END max_depth=25, min_samples_leaf=2, min_samples_split=12, n_estimators=60; total time= 4.8min\n",
      "[CV 4/5] END max_depth=25, min_samples_leaf=2, min_samples_split=12, n_estimators=60; total time= 4.8min\n",
      "[CV 5/5] END max_depth=75, min_samples_leaf=2, min_samples_split=2, n_estimators=90; total time= 6.8min\n",
      "[CV 1/5] END max_depth=100, min_samples_leaf=2, min_samples_split=2, n_estimators=80; total time= 6.8min\n",
      "[CV 2/5] END max_depth=100, min_samples_leaf=2, min_samples_split=2, n_estimators=80; total time= 6.9min\n",
      "[CV 3/5] END max_depth=100, min_samples_leaf=2, min_samples_split=2, n_estimators=80; total time= 6.6min\n",
      "[CV 2/5] END max_depth=100, min_samples_leaf=10, min_samples_split=14, n_estimators=40; total time= 2.3min\n",
      "[CV 1/5] END max_depth=100, min_samples_leaf=10, min_samples_split=14, n_estimators=40; total time= 2.4min\n",
      "[CV 4/5] END max_depth=100, min_samples_leaf=10, min_samples_split=14, n_estimators=40; total time= 2.2min\n",
      "[CV 3/5] END max_depth=100, min_samples_leaf=10, min_samples_split=14, n_estimators=40; total time= 2.3min\n",
      "[CV 5/5] END max_depth=100, min_samples_leaf=10, min_samples_split=14, n_estimators=40; total time= 2.2min\n",
      "[CV 1/5] END max_depth=75, min_samples_leaf=4, min_samples_split=6, n_estimators=60; total time= 4.3min\n",
      "[CV 2/5] END max_depth=75, min_samples_leaf=4, min_samples_split=6, n_estimators=60; total time= 4.2min\n",
      "[CV 3/5] END max_depth=75, min_samples_leaf=4, min_samples_split=6, n_estimators=60; total time= 4.3min\n",
      "[CV 4/5] END max_depth=100, min_samples_leaf=2, min_samples_split=2, n_estimators=80; total time= 6.4min\n",
      "[CV 5/5] END max_depth=75, min_samples_leaf=4, min_samples_split=6, n_estimators=60; total time= 4.5min\n",
      "[CV 4/5] END max_depth=75, min_samples_leaf=4, min_samples_split=6, n_estimators=60; total time= 4.6min\n",
      "[CV 5/5] END max_depth=100, min_samples_leaf=2, min_samples_split=2, n_estimators=80; total time= 6.3min\n",
      "[CV 1/5] END max_depth=25, min_samples_leaf=6, min_samples_split=6, n_estimators=70; total time= 4.2min\n",
      "[CV 2/5] END max_depth=25, min_samples_leaf=6, min_samples_split=6, n_estimators=70; total time= 4.2min\n",
      "[CV 3/5] END max_depth=25, min_samples_leaf=6, min_samples_split=6, n_estimators=70; total time= 4.3min\n",
      "[CV 4/5] END max_depth=25, min_samples_leaf=6, min_samples_split=6, n_estimators=70; total time= 4.3min\n",
      "[CV 5/5] END max_depth=25, min_samples_leaf=6, min_samples_split=6, n_estimators=70; total time= 4.3min\n",
      "[CV 1/5] END max_depth=75, min_samples_leaf=4, min_samples_split=4, n_estimators=50; total time= 4.2min\n",
      "[CV 2/5] END max_depth=75, min_samples_leaf=4, min_samples_split=4, n_estimators=50; total time= 3.8min\n",
      "[CV 1/5] END max_depth=25, min_samples_leaf=8, min_samples_split=14, n_estimators=20; total time=   8.4s\n",
      "[CV 1/5] END max_depth=50, min_samples_leaf=2, min_samples_split=4, n_estimators=40; total time= 2.3min\n",
      "[CV 3/5] END max_depth=75, min_samples_leaf=4, min_samples_split=4, n_estimators=50; total time= 4.0min\n",
      "[CV 2/5] END max_depth=50, min_samples_leaf=2, min_samples_split=4, n_estimators=40; total time= 2.2min\n",
      "[CV 3/5] END max_depth=50, min_samples_leaf=2, min_samples_split=4, n_estimators=40; total time= 2.0min\n",
      "[CV 4/5] END max_depth=50, min_samples_leaf=2, min_samples_split=4, n_estimators=40; total time= 2.0min\n",
      "[CV 3/5] END max_depth=25, min_samples_leaf=8, min_samples_split=14, n_estimators=20; total time=   9.2s\n",
      "[CV 2/5] END max_depth=25, min_samples_leaf=8, min_samples_split=14, n_estimators=20; total time=  13.4s\n",
      "[CV 4/5] END max_depth=25, min_samples_leaf=8, min_samples_split=14, n_estimators=20; total time=   8.8s\n",
      "[CV 5/5] END max_depth=50, min_samples_leaf=2, min_samples_split=4, n_estimators=40; total time= 2.4min\n",
      "[CV 5/5] END max_depth=25, min_samples_leaf=8, min_samples_split=14, n_estimators=20; total time=  11.9s\n",
      "[CV 4/5] END max_depth=75, min_samples_leaf=4, min_samples_split=4, n_estimators=50; total time= 4.1min\n",
      "[CV 5/5] END max_depth=75, min_samples_leaf=4, min_samples_split=4, n_estimators=50; total time= 4.1min\n",
      "[CV 1/5] END max_depth=75, min_samples_leaf=8, min_samples_split=6, n_estimators=10; total time=   4.8s\n",
      "[CV 2/5] END max_depth=75, min_samples_leaf=8, min_samples_split=6, n_estimators=10; total time=   3.6s\n",
      "[CV 3/5] END max_depth=75, min_samples_leaf=8, min_samples_split=6, n_estimators=10; total time=   5.5s\n",
      "[CV 4/5] END max_depth=75, min_samples_leaf=8, min_samples_split=6, n_estimators=10; total time=   6.1s\n",
      "[CV 5/5] END max_depth=75, min_samples_leaf=8, min_samples_split=6, n_estimators=10; total time=   5.9s\n",
      "[CV 1/5] END max_depth=100, min_samples_leaf=8, min_samples_split=6, n_estimators=70; total time= 4.3min\n",
      "[CV 4/5] END max_depth=100, min_samples_leaf=8, min_samples_split=6, n_estimators=70; total time= 4.5min\n",
      "[CV 5/5] END max_depth=100, min_samples_leaf=8, min_samples_split=6, n_estimators=70; total time= 4.6min\n",
      "[CV 3/5] END max_depth=100, min_samples_leaf=8, min_samples_split=6, n_estimators=70; total time= 4.6min\n",
      "[CV 2/5] END max_depth=100, min_samples_leaf=8, min_samples_split=6, n_estimators=70; total time= 4.7min\n",
      "[CV 3/5] END max_depth=50, min_samples_leaf=4, min_samples_split=6, n_estimators=100; total time= 7.9min\n",
      "[CV 2/5] END max_depth=50, min_samples_leaf=4, min_samples_split=6, n_estimators=100; total time= 8.3min\n",
      "[CV 1/5] END max_depth=50, min_samples_leaf=4, min_samples_split=6, n_estimators=100; total time= 8.3min\n",
      "[CV 4/5] END max_depth=50, min_samples_leaf=4, min_samples_split=6, n_estimators=100; total time= 7.9min\n",
      "[CV 1/5] END max_depth=75, min_samples_leaf=10, min_samples_split=2, n_estimators=40; total time= 2.1min\n",
      "[CV 2/5] END max_depth=75, min_samples_leaf=10, min_samples_split=2, n_estimators=40; total time= 2.0min\n",
      "[CV 5/5] END max_depth=50, min_samples_leaf=4, min_samples_split=6, n_estimators=100; total time= 7.9min\n",
      "[CV 3/5] END max_depth=75, min_samples_leaf=10, min_samples_split=2, n_estimators=40; total time= 1.9min\n",
      "[CV 3/5] END max_depth=100, min_samples_leaf=10, min_samples_split=4, n_estimators=10; total time=   5.8s\n",
      "[CV 2/5] END max_depth=100, min_samples_leaf=10, min_samples_split=4, n_estimators=10; total time=   6.7s\n",
      "[CV 1/5] END max_depth=100, min_samples_leaf=10, min_samples_split=4, n_estimators=10; total time=   9.6s\n",
      "[CV 4/5] END max_depth=100, min_samples_leaf=10, min_samples_split=4, n_estimators=10; total time=   6.0s\n",
      "[CV 5/5] END max_depth=100, min_samples_leaf=10, min_samples_split=4, n_estimators=10; total time=   5.6s\n",
      "[CV 1/5] END max_depth=50, min_samples_leaf=8, min_samples_split=12, n_estimators=20; total time=   8.3s\n",
      "[CV 2/5] END max_depth=50, min_samples_leaf=8, min_samples_split=12, n_estimators=20; total time=   8.1s\n",
      "[CV 3/5] END max_depth=50, min_samples_leaf=8, min_samples_split=12, n_estimators=20; total time=   9.1s\n",
      "[CV 4/5] END max_depth=75, min_samples_leaf=10, min_samples_split=2, n_estimators=40; total time= 1.9min\n",
      "[CV 1/5] END max_depth=25, min_samples_leaf=10, min_samples_split=12, n_estimators=100; total time= 7.8min\n",
      "[CV 2/5] END max_depth=25, min_samples_leaf=10, min_samples_split=12, n_estimators=100; total time= 7.7min\n",
      "[CV 5/5] END max_depth=50, min_samples_leaf=8, min_samples_split=12, n_estimators=20; total time=  10.1s\n",
      "[CV 4/5] END max_depth=50, min_samples_leaf=8, min_samples_split=12, n_estimators=20; total time=  14.5s\n",
      "[CV 4/5] END max_depth=25, min_samples_leaf=10, min_samples_split=12, n_estimators=100; total time= 7.7min\n",
      "[CV 3/5] END max_depth=25, min_samples_leaf=10, min_samples_split=12, n_estimators=100; total time= 7.8min\n",
      "[CV 5/5] END max_depth=25, min_samples_leaf=10, min_samples_split=12, n_estimators=100; total time= 7.6min\n",
      "[CV 5/5] END max_depth=75, min_samples_leaf=10, min_samples_split=2, n_estimators=40; total time= 1.7min\n",
      "[CV 1/5] END max_depth=50, min_samples_leaf=6, min_samples_split=12, n_estimators=100; total time= 7.5min\n",
      "[CV 3/5] END max_depth=50, min_samples_leaf=6, min_samples_split=12, n_estimators=100; total time= 7.5min\n",
      "[CV 4/5] END max_depth=50, min_samples_leaf=6, min_samples_split=12, n_estimators=100; total time= 7.7min\n",
      "[CV 2/5] END max_depth=50, min_samples_leaf=6, min_samples_split=12, n_estimators=100; total time= 7.7min\n",
      "[CV 5/5] END max_depth=50, min_samples_leaf=6, min_samples_split=12, n_estimators=100; total time= 7.4min\n",
      "[CV 3/5] END max_depth=75, min_samples_leaf=2, min_samples_split=10, n_estimators=20; total time=  10.3s\n",
      "[CV 2/5] END max_depth=75, min_samples_leaf=2, min_samples_split=10, n_estimators=20; total time=  14.4s\n",
      "[CV 1/5] END max_depth=75, min_samples_leaf=2, min_samples_split=10, n_estimators=20; total time=  20.9s\n",
      "[CV 4/5] END max_depth=75, min_samples_leaf=2, min_samples_split=10, n_estimators=20; total time=   9.7s\n",
      "[CV 5/5] END max_depth=75, min_samples_leaf=2, min_samples_split=10, n_estimators=20; total time=   9.7s\n",
      "[CV 2/5] END max_depth=25, min_samples_leaf=8, min_samples_split=6, n_estimators=30; total time= 2.1min\n",
      "[CV 1/5] END max_depth=25, min_samples_leaf=8, min_samples_split=6, n_estimators=30; total time= 2.3min\n",
      "[CV 3/5] END max_depth=25, min_samples_leaf=8, min_samples_split=6, n_estimators=30; total time= 2.1min\n",
      "[CV 4/5] END max_depth=25, min_samples_leaf=8, min_samples_split=6, n_estimators=30; total time= 2.2min\n",
      "[CV 5/5] END max_depth=25, min_samples_leaf=8, min_samples_split=6, n_estimators=30; total time= 2.1min\n",
      "[CV 1/5] END max_depth=75, min_samples_leaf=6, min_samples_split=10, n_estimators=50; total time= 3.7min\n",
      "[CV 4/5] END max_depth=75, min_samples_leaf=6, min_samples_split=10, n_estimators=50; total time= 3.8min\n",
      "[CV 3/5] END max_depth=75, min_samples_leaf=6, min_samples_split=10, n_estimators=50; total time= 4.0min\n",
      "[CV 2/5] END max_depth=75, min_samples_leaf=6, min_samples_split=10, n_estimators=50; total time= 4.0min\n",
      "[CV 5/5] END max_depth=75, min_samples_leaf=6, min_samples_split=10, n_estimators=50; total time= 3.8min\n",
      "[CV 1/5] END max_depth=75, min_samples_leaf=8, min_samples_split=2, n_estimators=30; total time= 1.8min\n",
      "[CV 1/5] END max_depth=50, min_samples_leaf=8, min_samples_split=2, n_estimators=10; total time=   5.6s\n",
      "[CV 2/5] END max_depth=75, min_samples_leaf=8, min_samples_split=2, n_estimators=30; total time= 1.7min\n",
      "[CV 2/5] END max_depth=50, min_samples_leaf=8, min_samples_split=2, n_estimators=10; total time=   6.2s\n",
      "[CV 4/5] END max_depth=75, min_samples_leaf=8, min_samples_split=2, n_estimators=30; total time= 1.6min\n",
      "[CV 3/5] END max_depth=75, min_samples_leaf=8, min_samples_split=2, n_estimators=30; total time= 1.7min\n",
      "[CV 3/5] END max_depth=50, min_samples_leaf=8, min_samples_split=2, n_estimators=10; total time=   6.5s\n",
      "[CV 4/5] END max_depth=50, min_samples_leaf=8, min_samples_split=2, n_estimators=10; total time=   6.4s\n",
      "[CV 5/5] END max_depth=50, min_samples_leaf=8, min_samples_split=2, n_estimators=10; total time=   6.2s\n",
      "[CV 5/5] END max_depth=75, min_samples_leaf=8, min_samples_split=2, n_estimators=30; total time= 1.7min\n",
      "[CV 5/5] END max_depth=50, min_samples_leaf=10, min_samples_split=6, n_estimators=90; total time= 6.4min\n",
      "[CV 4/5] END max_depth=50, min_samples_leaf=10, min_samples_split=6, n_estimators=90; total time= 6.5min\n",
      "[CV 3/5] END max_depth=50, min_samples_leaf=10, min_samples_split=6, n_estimators=90; total time= 6.6min\n",
      "[CV 2/5] END max_depth=50, min_samples_leaf=10, min_samples_split=6, n_estimators=90; total time= 6.7min\n",
      "[CV 1/5] END max_depth=50, min_samples_leaf=10, min_samples_split=6, n_estimators=90; total time= 6.8min\n",
      "[CV 3/5] END max_depth=25, min_samples_leaf=4, min_samples_split=10, n_estimators=20; total time=   9.7s\n",
      "[CV 2/5] END max_depth=25, min_samples_leaf=4, min_samples_split=10, n_estimators=20; total time=  14.6s\n",
      "[CV 1/5] END max_depth=25, min_samples_leaf=4, min_samples_split=10, n_estimators=20; total time=  20.1s\n",
      "[CV 1/5] END max_depth=25, min_samples_leaf=6, min_samples_split=12, n_estimators=80; total time= 6.8min\n",
      "[CV 4/5] END max_depth=25, min_samples_leaf=4, min_samples_split=10, n_estimators=20; total time=   9.8s\n",
      "[CV 3/5] END max_depth=25, min_samples_leaf=6, min_samples_split=12, n_estimators=80; total time= 7.0min\n",
      "[CV 2/5] END max_depth=25, min_samples_leaf=6, min_samples_split=12, n_estimators=80; total time= 7.1min\n",
      "[CV 4/5] END max_depth=25, min_samples_leaf=6, min_samples_split=12, n_estimators=80; total time= 7.1min\n",
      "[CV 5/5] END max_depth=25, min_samples_leaf=6, min_samples_split=12, n_estimators=80; total time= 7.1min\n",
      "[CV 3/5] END max_depth=25, min_samples_leaf=6, min_samples_split=12, n_estimators=50; total time= 5.0min\n",
      "[CV 2/5] END max_depth=25, min_samples_leaf=6, min_samples_split=12, n_estimators=50; total time= 5.1min\n",
      "[CV 1/5] END max_depth=25, min_samples_leaf=6, min_samples_split=12, n_estimators=50; total time= 5.1min\n",
      "[CV 4/5] END max_depth=25, min_samples_leaf=6, min_samples_split=12, n_estimators=50; total time= 4.6min\n",
      "[CV 5/5] END max_depth=25, min_samples_leaf=6, min_samples_split=12, n_estimators=50; total time= 4.5min\n",
      "[CV 1/5] END max_depth=75, min_samples_leaf=8, min_samples_split=8, n_estimators=70; total time= 4.5min\n",
      "[CV 2/5] END max_depth=75, min_samples_leaf=8, min_samples_split=8, n_estimators=70; total time= 4.5min\n",
      "[CV 5/5] END max_depth=25, min_samples_leaf=4, min_samples_split=10, n_estimators=20; total time=   9.4s\n",
      "[CV 3/5] END max_depth=75, min_samples_leaf=8, min_samples_split=8, n_estimators=70; total time= 4.5min\n",
      "[CV 4/5] END max_depth=75, min_samples_leaf=8, min_samples_split=8, n_estimators=70; total time= 4.4min\n",
      "[CV 1/5] END max_depth=50, min_samples_leaf=2, min_samples_split=4, n_estimators=80; total time= 7.3min\n",
      "[CV 2/5] END max_depth=50, min_samples_leaf=2, min_samples_split=4, n_estimators=80; total time= 7.3min\n",
      "[CV 3/5] END max_depth=50, min_samples_leaf=2, min_samples_split=4, n_estimators=80; total time= 7.1min\n",
      "[CV 4/5] END max_depth=50, min_samples_leaf=2, min_samples_split=4, n_estimators=80; total time= 7.0min\n",
      "[CV 5/5] END max_depth=50, min_samples_leaf=2, min_samples_split=4, n_estimators=80; total time= 7.0min\n",
      "[CV 5/5] END max_depth=75, min_samples_leaf=8, min_samples_split=8, n_estimators=70; total time= 4.5min\n",
      "[CV 1/5] END max_depth=50, min_samples_leaf=2, min_samples_split=4, n_estimators=20; total time=  10.9s\n",
      "[CV 2/5] END max_depth=50, min_samples_leaf=2, min_samples_split=4, n_estimators=20; total time=   9.1s\n",
      "[CV 3/5] END max_depth=50, min_samples_leaf=2, min_samples_split=4, n_estimators=20; total time=  10.1s\n",
      "[CV 4/5] END max_depth=50, min_samples_leaf=2, min_samples_split=4, n_estimators=20; total time=  10.3s\n"
     ]
    },
    {
     "name": "stderr",
     "output_type": "stream",
     "text": [
      "tornado.application - ERROR - Exception in callback functools.partial(<bound method IOLoop._discard_future_result of <zmq.eventloop.ioloop.ZMQIOLoop object at 0x7f7c98f65a58>>, <Task finished coro=<Worker.heartbeat() done, defined at /usr/local/lib/python3.6/dist-packages/distributed/worker.py:936> exception=RuntimeError('dictionary changed size during iteration',)>)\n",
      "Traceback (most recent call last):\n",
      "  File \"/usr/local/lib/python3.6/dist-packages/tornado/ioloop.py\", line 743, in _run_callback\n",
      "    ret = callback()\n",
      "  File \"/usr/local/lib/python3.6/dist-packages/tornado/ioloop.py\", line 767, in _discard_future_result\n",
      "    future.result()\n",
      "  File \"/usr/local/lib/python3.6/dist-packages/distributed/worker.py\", line 949, in heartbeat\n",
      "    for key in self.active_threads.values()\n",
      "  File \"/usr/local/lib/python3.6/dist-packages/distributed/worker.py\", line 947, in <dictcomp>\n",
      "    executing={\n",
      "RuntimeError: dictionary changed size during iteration\n"
     ]
    },
    {
     "name": "stdout",
     "output_type": "stream",
     "text": [
      "[CV 1/5] END max_depth=100, min_samples_leaf=2, min_samples_split=6, n_estimators=60; total time= 4.9min\n",
      "[CV 2/5] END max_depth=100, min_samples_leaf=2, min_samples_split=6, n_estimators=60; total time= 4.9min\n",
      "[CV 5/5] END max_depth=50, min_samples_leaf=2, min_samples_split=4, n_estimators=20; total time=  10.9s\n",
      "[CV 3/5] END max_depth=100, min_samples_leaf=2, min_samples_split=6, n_estimators=60; total time= 5.0min\n",
      "[CV 4/5] END max_depth=100, min_samples_leaf=2, min_samples_split=6, n_estimators=60; total time= 4.9min\n",
      "[CV 5/5] END max_depth=100, min_samples_leaf=2, min_samples_split=6, n_estimators=60; total time= 5.2min\n",
      "[CV 1/5] END max_depth=75, min_samples_leaf=10, min_samples_split=6, n_estimators=50; total time= 4.8min\n",
      "[CV 1/5] END max_depth=75, min_samples_leaf=6, min_samples_split=8, n_estimators=80; total time= 7.1min\n",
      "[CV 2/5] END max_depth=75, min_samples_leaf=6, min_samples_split=8, n_estimators=80; total time= 7.0min\n",
      "[CV 3/5] END max_depth=75, min_samples_leaf=6, min_samples_split=8, n_estimators=80; total time= 6.9min\n",
      "[CV 4/5] END max_depth=75, min_samples_leaf=6, min_samples_split=8, n_estimators=80; total time= 6.9min\n",
      "[CV 2/5] END max_depth=75, min_samples_leaf=10, min_samples_split=6, n_estimators=50; total time= 4.5min\n",
      "[CV 3/5] END max_depth=75, min_samples_leaf=10, min_samples_split=6, n_estimators=50; total time= 4.5min\n",
      "[CV 4/5] END max_depth=75, min_samples_leaf=10, min_samples_split=6, n_estimators=50; total time= 4.3min\n",
      "[CV 5/5] END max_depth=75, min_samples_leaf=6, min_samples_split=8, n_estimators=80; total time= 6.6min\n",
      "[CV 5/5] END max_depth=75, min_samples_leaf=10, min_samples_split=6, n_estimators=50; total time= 4.1min\n",
      "[CV 2/5] END max_depth=25, min_samples_leaf=2, min_samples_split=4, n_estimators=90; total time= 6.7min\n",
      "[CV 1/5] END max_depth=25, min_samples_leaf=2, min_samples_split=4, n_estimators=90; total time= 6.8min\n",
      "[CV 4/5] END max_depth=25, min_samples_leaf=2, min_samples_split=4, n_estimators=90; total time= 6.7min\n",
      "[CV 5/5] END max_depth=25, min_samples_leaf=2, min_samples_split=4, n_estimators=90; total time= 6.7min\n",
      "[CV 3/5] END max_depth=25, min_samples_leaf=2, min_samples_split=4, n_estimators=90; total time= 6.8min\n",
      "[CV 1/5] END max_depth=100, min_samples_leaf=8, min_samples_split=2, n_estimators=30; total time= 2.6min\n",
      "[CV 2/5] END max_depth=100, min_samples_leaf=8, min_samples_split=2, n_estimators=30; total time= 2.4min\n",
      "[CV 3/5] END max_depth=100, min_samples_leaf=8, min_samples_split=2, n_estimators=30; total time= 2.3min\n",
      "[CV 4/5] END max_depth=100, min_samples_leaf=8, min_samples_split=2, n_estimators=30; total time= 2.3min\n",
      "[CV 5/5] END max_depth=100, min_samples_leaf=8, min_samples_split=2, n_estimators=30; total time= 2.4min\n",
      "[CV 1/5] END max_depth=25, min_samples_leaf=8, min_samples_split=12, n_estimators=40; total time= 2.2min\n",
      "[CV 2/5] END max_depth=25, min_samples_leaf=8, min_samples_split=12, n_estimators=40; total time= 2.2min\n",
      "[CV 3/5] END max_depth=25, min_samples_leaf=8, min_samples_split=12, n_estimators=40; total time= 2.3min\n",
      "[CV 4/5] END max_depth=25, min_samples_leaf=8, min_samples_split=12, n_estimators=40; total time= 2.2min\n",
      "[CV 1/5] END max_depth=50, min_samples_leaf=10, min_samples_split=12, n_estimators=80; total time= 6.1min\n",
      "[CV 2/5] END max_depth=50, min_samples_leaf=10, min_samples_split=12, n_estimators=80; total time= 6.1min\n",
      "[CV 5/5] END max_depth=25, min_samples_leaf=8, min_samples_split=12, n_estimators=40; total time= 2.4min\n",
      "[CV 1/5] END max_depth=25, min_samples_leaf=6, min_samples_split=4, n_estimators=70; total time= 4.5min\n",
      "[CV 2/5] END max_depth=25, min_samples_leaf=6, min_samples_split=4, n_estimators=70; total time= 4.6min\n",
      "[CV 3/5] END max_depth=50, min_samples_leaf=10, min_samples_split=12, n_estimators=80; total time= 6.3min\n",
      "[CV 3/5] END max_depth=25, min_samples_leaf=6, min_samples_split=4, n_estimators=70; total time= 4.5min\n",
      "[CV 5/5] END max_depth=25, min_samples_leaf=6, min_samples_split=4, n_estimators=70; total time= 4.5min\n",
      "[CV 4/5] END max_depth=25, min_samples_leaf=6, min_samples_split=4, n_estimators=70; total time= 4.6min\n",
      "[CV 5/5] END max_depth=50, min_samples_leaf=10, min_samples_split=12, n_estimators=80; total time= 6.7min\n",
      "[CV 4/5] END max_depth=50, min_samples_leaf=10, min_samples_split=12, n_estimators=80; total time= 7.0min\n",
      "[CV 2/5] END max_depth=50, min_samples_leaf=2, min_samples_split=8, n_estimators=40; total time= 2.4min\n",
      "[CV 1/5] END max_depth=50, min_samples_leaf=2, min_samples_split=8, n_estimators=40; total time= 2.5min\n",
      "[CV 1/5] END max_depth=50, min_samples_leaf=10, min_samples_split=2, n_estimators=60; total time= 4.5min\n",
      "[CV 3/5] END max_depth=50, min_samples_leaf=2, min_samples_split=8, n_estimators=40; total time= 2.3min\n",
      "[CV 3/5] END max_depth=50, min_samples_leaf=10, min_samples_split=2, n_estimators=60; total time= 4.4min\n",
      "[CV 2/5] END max_depth=50, min_samples_leaf=10, min_samples_split=2, n_estimators=60; total time= 4.5min\n",
      "[CV 4/5] END max_depth=50, min_samples_leaf=10, min_samples_split=2, n_estimators=60; total time= 4.3min\n",
      "[CV 4/5] END max_depth=50, min_samples_leaf=2, min_samples_split=8, n_estimators=40; total time= 2.1min\n",
      "[CV 5/5] END max_depth=50, min_samples_leaf=2, min_samples_split=8, n_estimators=40; total time= 2.1min\n",
      "[CV 5/5] END max_depth=50, min_samples_leaf=10, min_samples_split=2, n_estimators=60; total time= 4.3min\n",
      "[CV 1/5] END max_depth=75, min_samples_leaf=8, min_samples_split=6, n_estimators=40; total time= 2.0min\n",
      "[CV 2/5] END max_depth=75, min_samples_leaf=8, min_samples_split=6, n_estimators=40; total time= 2.2min\n",
      "[CV 5/5] END max_depth=75, min_samples_leaf=8, min_samples_split=6, n_estimators=40; total time= 2.2min\n",
      "[CV 4/5] END max_depth=75, min_samples_leaf=8, min_samples_split=6, n_estimators=40; total time= 2.3min\n",
      "[CV 3/5] END max_depth=75, min_samples_leaf=8, min_samples_split=6, n_estimators=40; total time= 2.4min\n",
      "[CV 1/5] END max_depth=100, min_samples_leaf=4, min_samples_split=14, n_estimators=60; total time= 3.9min\n",
      "[CV 2/5] END max_depth=100, min_samples_leaf=4, min_samples_split=14, n_estimators=60; total time= 3.9min\n",
      "[CV 3/5] END max_depth=100, min_samples_leaf=4, min_samples_split=14, n_estimators=60; total time= 3.9min\n",
      "[CV 4/5] END max_depth=100, min_samples_leaf=4, min_samples_split=14, n_estimators=60; total time= 3.8min\n",
      "[CV 5/5] END max_depth=100, min_samples_leaf=4, min_samples_split=14, n_estimators=60; total time= 3.8min\n",
      "[CV 1/5] END max_depth=25, min_samples_leaf=4, min_samples_split=2, n_estimators=50; total time= 3.7min\n",
      "[CV 2/5] END max_depth=25, min_samples_leaf=4, min_samples_split=2, n_estimators=50; total time= 3.7min\n",
      "[CV 3/5] END max_depth=25, min_samples_leaf=4, min_samples_split=2, n_estimators=50; total time= 3.7min\n",
      "[CV 4/5] END max_depth=25, min_samples_leaf=4, min_samples_split=2, n_estimators=50; total time= 3.5min\n",
      "[CV 5/5] END max_depth=25, min_samples_leaf=4, min_samples_split=2, n_estimators=50; total time= 3.5min\n",
      "[CV 1/5] END max_depth=75, min_samples_leaf=4, min_samples_split=4, n_estimators=60; total time= 3.6min\n",
      "[CV 2/5] END max_depth=75, min_samples_leaf=4, min_samples_split=4, n_estimators=60; total time= 3.6min\n",
      "[CV 1/5] END max_depth=100, min_samples_leaf=4, min_samples_split=6, n_estimators=20; total time=   7.5s\n",
      "[CV 3/5] END max_depth=75, min_samples_leaf=4, min_samples_split=4, n_estimators=60; total time= 3.6min\n",
      "[CV 2/5] END max_depth=100, min_samples_leaf=4, min_samples_split=6, n_estimators=20; total time=   8.4s\n",
      "[CV 3/5] END max_depth=100, min_samples_leaf=4, min_samples_split=6, n_estimators=20; total time=   8.1s\n",
      "[CV 4/5] END max_depth=75, min_samples_leaf=4, min_samples_split=4, n_estimators=60; total time= 3.7min\n",
      "[CV 4/5] END max_depth=100, min_samples_leaf=4, min_samples_split=6, n_estimators=20; total time=   7.8s\n",
      "[CV 5/5] END max_depth=75, min_samples_leaf=4, min_samples_split=4, n_estimators=60; total time= 3.6min\n",
      "[CV 5/5] END max_depth=100, min_samples_leaf=4, min_samples_split=6, n_estimators=20; total time=   7.8s\n",
      "[CV 1/5] END max_depth=25, min_samples_leaf=6, min_samples_split=14, n_estimators=60; total time= 3.6min\n",
      "[CV 3/5] END max_depth=25, min_samples_leaf=6, min_samples_split=14, n_estimators=60; total time= 3.6min\n",
      "[CV 2/5] END max_depth=25, min_samples_leaf=6, min_samples_split=14, n_estimators=60; total time= 3.6min\n",
      "[CV 5/5] END max_depth=25, min_samples_leaf=6, min_samples_split=14, n_estimators=60; total time= 3.6min\n",
      "[CV 4/5] END max_depth=25, min_samples_leaf=6, min_samples_split=14, n_estimators=60; total time= 3.6min\n",
      "[CV 1/5] END max_depth=25, min_samples_leaf=10, min_samples_split=14, n_estimators=20; total time=   7.0s\n",
      "[CV 1/5] END max_depth=25, min_samples_leaf=6, min_samples_split=10, n_estimators=100; total time= 7.0min\n",
      "[CV 2/5] END max_depth=25, min_samples_leaf=10, min_samples_split=14, n_estimators=20; total time=   7.8s\n",
      "[CV 2/5] END max_depth=25, min_samples_leaf=6, min_samples_split=10, n_estimators=100; total time= 7.0min\n",
      "[CV 5/5] END max_depth=25, min_samples_leaf=6, min_samples_split=10, n_estimators=100; total time= 6.9min\n",
      "[CV 3/5] END max_depth=25, min_samples_leaf=10, min_samples_split=14, n_estimators=20; total time=   8.0s\n",
      "[CV 4/5] END max_depth=25, min_samples_leaf=6, min_samples_split=10, n_estimators=100; total time= 7.0min\n",
      "[CV 3/5] END max_depth=25, min_samples_leaf=6, min_samples_split=10, n_estimators=100; total time= 7.0min\n",
      "[CV 4/5] END max_depth=25, min_samples_leaf=10, min_samples_split=14, n_estimators=20; total time=   8.1s\n",
      "[CV 5/5] END max_depth=25, min_samples_leaf=10, min_samples_split=14, n_estimators=20; total time=   6.3s\n",
      "[CV 1/5] END max_depth=75, min_samples_leaf=8, min_samples_split=10, n_estimators=30; total time= 1.5min\n",
      "[CV 2/5] END max_depth=75, min_samples_leaf=8, min_samples_split=10, n_estimators=30; total time= 1.5min\n",
      "[CV 1/5] END max_depth=75, min_samples_leaf=8, min_samples_split=6, n_estimators=80; total time= 4.9min\n",
      "[CV 3/5] END max_depth=75, min_samples_leaf=8, min_samples_split=10, n_estimators=30; total time= 1.6min\n",
      "[CV 4/5] END max_depth=75, min_samples_leaf=8, min_samples_split=10, n_estimators=30; total time= 1.5min\n",
      "[CV 2/5] END max_depth=75, min_samples_leaf=8, min_samples_split=6, n_estimators=80; total time= 4.9min\n",
      "[CV 5/5] END max_depth=75, min_samples_leaf=8, min_samples_split=10, n_estimators=30; total time= 1.4min\n",
      "[CV 3/5] END max_depth=75, min_samples_leaf=8, min_samples_split=6, n_estimators=80; total time= 4.9min\n",
      "[CV 4/5] END max_depth=75, min_samples_leaf=8, min_samples_split=6, n_estimators=80; total time= 4.9min\n",
      "[CV 5/5] END max_depth=75, min_samples_leaf=8, min_samples_split=6, n_estimators=80; total time= 4.8min\n",
      "[CV 2/5] END max_depth=75, min_samples_leaf=4, min_samples_split=4, n_estimators=40; total time= 2.2min\n",
      "[CV 1/5] END max_depth=75, min_samples_leaf=4, min_samples_split=4, n_estimators=40; total time= 2.3min\n",
      "[CV 3/5] END max_depth=75, min_samples_leaf=4, min_samples_split=4, n_estimators=40; total time= 2.2min\n",
      "[CV 4/5] END max_depth=75, min_samples_leaf=4, min_samples_split=4, n_estimators=40; total time= 2.2min\n",
      "[CV 5/5] END max_depth=75, min_samples_leaf=4, min_samples_split=4, n_estimators=40; total time= 2.2min\n",
      "[CV 1/5] END max_depth=100, min_samples_leaf=8, min_samples_split=10, n_estimators=30; total time= 2.2min\n",
      "[CV 2/5] END max_depth=25, min_samples_leaf=2, min_samples_split=4, n_estimators=50; total time= 4.0min\n",
      "[CV 2/5] END max_depth=100, min_samples_leaf=8, min_samples_split=10, n_estimators=30; total time= 2.1min\n",
      "[CV 1/5] END max_depth=25, min_samples_leaf=2, min_samples_split=4, n_estimators=50; total time= 4.0min\n",
      "[CV 4/5] END max_depth=25, min_samples_leaf=2, min_samples_split=4, n_estimators=50; total time= 3.9min\n",
      "[CV 3/5] END max_depth=100, min_samples_leaf=8, min_samples_split=10, n_estimators=30; total time= 1.8min\n",
      "[CV 3/5] END max_depth=25, min_samples_leaf=2, min_samples_split=4, n_estimators=50; total time= 3.9min\n",
      "[CV 5/5] END max_depth=25, min_samples_leaf=2, min_samples_split=4, n_estimators=50; total time= 3.7min\n",
      "[CV 4/5] END max_depth=100, min_samples_leaf=8, min_samples_split=10, n_estimators=30; total time= 1.6min\n",
      "[CV 1/5] END max_depth=75, min_samples_leaf=6, min_samples_split=10, n_estimators=70; total time= 3.7min\n",
      "[CV 2/5] END max_depth=75, min_samples_leaf=6, min_samples_split=10, n_estimators=70; total time= 3.7min\n",
      "[CV 5/5] END max_depth=75, min_samples_leaf=6, min_samples_split=10, n_estimators=70; total time= 3.7min\n",
      "[CV 4/5] END max_depth=75, min_samples_leaf=6, min_samples_split=10, n_estimators=70; total time= 3.8min\n",
      "[CV 3/5] END max_depth=75, min_samples_leaf=6, min_samples_split=10, n_estimators=70; total time= 3.9min\n",
      "[CV 5/5] END max_depth=100, min_samples_leaf=8, min_samples_split=10, n_estimators=30; total time= 2.0min\n",
      "[CV 2/5] END max_depth=25, min_samples_leaf=2, min_samples_split=4, n_estimators=100; total time= 7.2min\n",
      "[CV 1/5] END max_depth=25, min_samples_leaf=2, min_samples_split=4, n_estimators=100; total time= 7.3min\n",
      "[CV 3/5] END max_depth=25, min_samples_leaf=2, min_samples_split=4, n_estimators=100; total time= 7.1min\n",
      "[CV 4/5] END max_depth=25, min_samples_leaf=2, min_samples_split=4, n_estimators=100; total time= 7.1min\n",
      "[CV 5/5] END max_depth=25, min_samples_leaf=2, min_samples_split=4, n_estimators=100; total time= 7.3min\n",
      "[CV 3/5] END max_depth=75, min_samples_leaf=6, min_samples_split=6, n_estimators=30; total time= 1.8min\n",
      "[CV 2/5] END max_depth=75, min_samples_leaf=6, min_samples_split=6, n_estimators=30; total time= 1.8min\n",
      "[CV 1/5] END max_depth=75, min_samples_leaf=6, min_samples_split=6, n_estimators=30; total time= 1.8min\n",
      "[CV 5/5] END max_depth=75, min_samples_leaf=6, min_samples_split=6, n_estimators=30; total time= 1.6min\n",
      "[CV 4/5] END max_depth=75, min_samples_leaf=6, min_samples_split=6, n_estimators=30; total time= 1.6min\n",
      "[CV 1/5] END max_depth=25, min_samples_leaf=6, min_samples_split=8, n_estimators=50; total time= 3.5min\n",
      "[CV 2/5] END max_depth=25, min_samples_leaf=6, min_samples_split=8, n_estimators=50; total time= 3.4min\n",
      "[CV 3/5] END max_depth=25, min_samples_leaf=6, min_samples_split=8, n_estimators=50; total time= 3.4min\n",
      "[CV 4/5] END max_depth=25, min_samples_leaf=6, min_samples_split=8, n_estimators=50; total time= 3.3min\n",
      "[CV 5/5] END max_depth=25, min_samples_leaf=6, min_samples_split=8, n_estimators=50; total time= 3.2min\n",
      "[CV 1/5] END max_depth=50, min_samples_leaf=4, min_samples_split=6, n_estimators=60; total time= 2.7min\n",
      "[CV 2/5] END max_depth=50, min_samples_leaf=4, min_samples_split=6, n_estimators=60; total time= 2.6min\n",
      "[CV 3/5] END max_depth=50, min_samples_leaf=4, min_samples_split=6, n_estimators=60; total time= 2.7min\n",
      "[CV 4/5] END max_depth=50, min_samples_leaf=4, min_samples_split=6, n_estimators=60; total time= 2.6min\n",
      "[CV 1/5] END max_depth=100, min_samples_leaf=8, min_samples_split=12, n_estimators=90; total time= 4.0min\n",
      "[CV 2/5] END max_depth=100, min_samples_leaf=8, min_samples_split=12, n_estimators=90; total time= 4.0min\n",
      "[CV 3/5] END max_depth=100, min_samples_leaf=8, min_samples_split=12, n_estimators=90; total time= 3.9min\n",
      "[CV 5/5] END max_depth=50, min_samples_leaf=4, min_samples_split=6, n_estimators=60; total time= 2.5min\n",
      "[CV 4/5] END max_depth=100, min_samples_leaf=8, min_samples_split=12, n_estimators=90; total time= 3.8min\n",
      "[CV 5/5] END max_depth=100, min_samples_leaf=8, min_samples_split=12, n_estimators=90; total time= 3.8min\n",
      "[CV 1/5] END max_depth=25, min_samples_leaf=8, min_samples_split=10, n_estimators=100; total time= 3.3min\n",
      "[CV 2/5] END max_depth=25, min_samples_leaf=8, min_samples_split=10, n_estimators=100; total time= 3.3min\n",
      "[CV 3/5] END max_depth=25, min_samples_leaf=8, min_samples_split=10, n_estimators=100; total time= 3.1min\n",
      "[CV 4/5] END max_depth=25, min_samples_leaf=8, min_samples_split=10, n_estimators=100; total time= 2.8min\n",
      "[CV 5/5] END max_depth=25, min_samples_leaf=8, min_samples_split=10, n_estimators=100; total time= 2.6min\n"
     ]
    }
   ],
   "source": [
    "with joblib.parallel_backend('dask'):\n",
    "    random_search.fit(X, y)\n",
    "    \n",
    "# with open('random_search_1', 'wb') as f:\n",
    "#     pickle.dump(random_search, f)"
   ]
  },
  {
   "cell_type": "code",
   "execution_count": 19,
   "metadata": {},
   "outputs": [],
   "source": [
    "with open('random_search_1', 'rb') as f:\n",
    "    random_search = pickle.load(f)"
   ]
  },
  {
   "cell_type": "code",
   "execution_count": 20,
   "metadata": {},
   "outputs": [
    {
     "data": {
      "text/plain": [
       "{'n_estimators': 80,\n",
       " 'min_samples_split': 4,\n",
       " 'min_samples_leaf': 2,\n",
       " 'max_depth': 50}"
      ]
     },
     "execution_count": 20,
     "metadata": {},
     "output_type": "execute_result"
    }
   ],
   "source": [
    "random_search.best_params_"
   ]
  },
  {
   "cell_type": "code",
   "execution_count": 21,
   "metadata": {},
   "outputs": [
    {
     "data": {
      "text/plain": [
       "0.8967213813597409"
      ]
     },
     "execution_count": 21,
     "metadata": {},
     "output_type": "execute_result"
    }
   ],
   "source": [
    "random_search.best_score_"
   ]
  },
  {
   "cell_type": "code",
   "execution_count": 22,
   "metadata": {},
   "outputs": [
    {
     "data": {
      "text/plain": [
       "Text(0, 0.5, 'Test Score')"
      ]
     },
     "execution_count": 22,
     "metadata": {},
     "output_type": "execute_result"
    },
    {
     "data": {
      "image/png": "[encoded data removed]",
      "text/plain": [
       "<Figure size 576x432 with 1 Axes>"
      ]
     },
     "metadata": {
      "needs_background": "light"
     },
     "output_type": "display_data"
    }
   ],
   "source": [
    "rs_cv_results_1 = pd.DataFrame(random_search.cv_results_)\n",
    "plt.figure(figsize=(8, 6))\n",
    "sns.lineplot(x='param_n_estimators', y='split0_test_score', data=rs_cv_results_1)\n",
    "sns.lineplot(x='param_n_estimators', y='split1_test_score', data=rs_cv_results_1)\n",
    "sns.lineplot(x='param_n_estimators', y='split2_test_score', data=rs_cv_results_1)\n",
    "sns.lineplot(x='param_n_estimators', y='split3_test_score', data=rs_cv_results_1)\n",
    "sns.lineplot(x='param_n_estimators', y='split4_test_score', data=rs_cv_results_1)\n",
    "plt.ylabel('Test Score')"
   ]
  },
  {
   "cell_type": "code",
   "execution_count": 17,
   "metadata": {},
   "outputs": [
    {
     "data": {
      "text/plain": [
       "Text(0, 0.5, 'Score')"
      ]
     },
     "execution_count": 17,
     "metadata": {},
     "output_type": "execute_result"
    },
    {
     "data": {
      "image/png": "[encoded data removed]",
      "text/plain": [
       "<Figure size 576x432 with 1 Axes>"
      ]
     },
     "metadata": {
      "needs_background": "light"
     },
     "output_type": "display_data"
    }
   ],
   "source": [
    "plt.figure(figsize=(8, 6))\n",
    "sns.lineplot(x='param_n_estimators', y='mean_train_score', data=rs_cv_results_1)\n",
    "sns.lineplot(x='param_n_estimators', y='mean_test_score', data=rs_cv_results_1)\n",
    "plt.ylabel('Score')"
   ]
  },
  {
   "cell_type": "code",
   "execution_count": 18,
   "metadata": {},
   "outputs": [
    {
     "data": {
      "text/plain": [
       "Text(0, 0.5, 'Score')"
      ]
     },
     "execution_count": 18,
     "metadata": {},
     "output_type": "execute_result"
    },
    {
     "data": {
      "image/png": "[encoded data removed]",
      "text/plain": [
       "<Figure size 576x432 with 1 Axes>"
      ]
     },
     "metadata": {
      "needs_background": "light"
     },
     "output_type": "display_data"
    }
   ],
   "source": [
    "plt.figure(figsize=(8, 6))\n",
    "sns.lineplot(x='param_max_depth', y='mean_train_score', data=rs_cv_results_1)\n",
    "sns.lineplot(x='param_max_depth', y='mean_test_score', data=rs_cv_results_1)\n",
    "plt.ylabel('Score')"
   ]
  },
  {
   "cell_type": "code",
   "execution_count": 19,
   "metadata": {},
   "outputs": [
    {
     "data": {
      "text/plain": [
       "Text(0, 0.5, 'Score')"
      ]
     },
     "execution_count": 19,
     "metadata": {},
     "output_type": "execute_result"
    },
    {
     "data": {
      "image/png": "[encoded data removed]",
      "text/plain": [
       "<Figure size 576x432 with 1 Axes>"
      ]
     },
     "metadata": {
      "needs_background": "light"
     },
     "output_type": "display_data"
    }
   ],
   "source": [
    "plt.figure(figsize=(8, 6))\n",
    "sns.lineplot(x='param_min_samples_split', y='mean_train_score', data=rs_cv_results_1)\n",
    "sns.lineplot(x='param_min_samples_split', y='mean_test_score', data=rs_cv_results_1)\n",
    "plt.ylabel('Score')"
   ]
  },
  {
   "cell_type": "code",
   "execution_count": 20,
   "metadata": {},
   "outputs": [
    {
     "data": {
      "text/plain": [
       "Text(0, 0.5, 'Score')"
      ]
     },
     "execution_count": 20,
     "metadata": {},
     "output_type": "execute_result"
    },
    {
     "data": {
      "image/png": "[encoded data removed]",
      "text/plain": [
       "<Figure size 576x432 with 1 Axes>"
      ]
     },
     "metadata": {
      "needs_background": "light"
     },
     "output_type": "display_data"
    }
   ],
   "source": [
    "plt.figure(figsize=(8, 6))\n",
    "sns.lineplot(x='param_min_samples_leaf', y='mean_train_score', data=rs_cv_results_1)\n",
    "sns.lineplot(x='param_min_samples_leaf', y='mean_test_score', data=rs_cv_results_1)\n",
    "plt.ylabel('Score')"
   ]
  },
  {
   "cell_type": "code",
   "execution_count": 21,
   "metadata": {},
   "outputs": [
    {
     "data": {
      "text/plain": [
       "Index(['mean_fit_time', 'std_fit_time', 'mean_score_time', 'std_score_time',\n",
       "       'param_n_estimators', 'param_min_samples_split',\n",
       "       'param_min_samples_leaf', 'param_max_depth', 'params',\n",
       "       'split0_test_score', 'split1_test_score', 'split2_test_score',\n",
       "       'split3_test_score', 'split4_test_score', 'mean_test_score',\n",
       "       'std_test_score', 'rank_test_score', 'split0_train_score',\n",
       "       'split1_train_score', 'split2_train_score', 'split3_train_score',\n",
       "       'split4_train_score', 'mean_train_score', 'std_train_score'],\n",
       "      dtype='object')"
      ]
     },
     "execution_count": 21,
     "metadata": {},
     "output_type": "execute_result"
    }
   ],
   "source": [
    "rs_cv_results_1.columns"
   ]
  },
  {
   "cell_type": "markdown",
   "metadata": {},
   "source": [
    "### Iter 2"
   ]
  },
  {
   "cell_type": "code",
   "execution_count": null,
   "metadata": {},
   "outputs": [
    {
     "name": "stdout",
     "output_type": "stream",
     "text": [
      "Fitting 5 folds for each of 50 candidates, totalling 250 fits\n"
     ]
    }
   ],
   "source": [
    "param_space_2 = {\n",
    "    \"n_estimators\": np.arange(80, 151, 10),\n",
    "    \"max_depth\": np.arange(80, 151, 10),\n",
    "    \"min_samples_split\": [4],\n",
    "    \"min_samples_leaf\": [2]\n",
    "}\n",
    "\n",
    "random_search_2 = RandomizedSearchCV(\n",
    "    estimator=RandomForestRegressor(), \n",
    "    param_distributions=param_space_2,\n",
    "    cv=5, \n",
    "    return_train_score=True,\n",
    "    n_iter=50,\n",
    "    verbose=5,\n",
    "    n_jobs=-1\n",
    ")\n",
    "\n",
    "# with joblib.parallel_backend('dask'):\n",
    "random_search_2.fit(X, y)\n",
    "\n",
    "# with open('random_search_2', 'wb') as f:\n",
    "#     pickle.dump(random_search_2, f)"
   ]
  },
  {
   "cell_type": "code",
   "execution_count": 11,
   "metadata": {},
   "outputs": [],
   "source": [
    "with open('random_search_2', 'rb') as f:\n",
    "    random_search_2 = pickle.load(f)"
   ]
  },
  {
   "cell_type": "code",
   "execution_count": 12,
   "metadata": {},
   "outputs": [
    {
     "data": {
      "text/plain": [
       "{'n_estimators': 130,\n",
       " 'min_samples_split': 4,\n",
       " 'min_samples_leaf': 2,\n",
       " 'max_depth': 150}"
      ]
     },
     "execution_count": 12,
     "metadata": {},
     "output_type": "execute_result"
    }
   ],
   "source": [
    "random_search_2.best_params_"
   ]
  },
  {
   "cell_type": "code",
   "execution_count": 13,
   "metadata": {},
   "outputs": [
    {
     "data": {
      "text/plain": [
       "0.8973615017891386"
      ]
     },
     "execution_count": 13,
     "metadata": {},
     "output_type": "execute_result"
    }
   ],
   "source": [
    "random_search_2.best_score_"
   ]
  },
  {
   "cell_type": "code",
   "execution_count": 14,
   "metadata": {
    "collapsed": true,
    "jupyter": {
     "outputs_hidden": true
    }
   },
   "outputs": [
    {
     "data": {
      "text/html": [
       "<div>\n",
       "<style scoped>\n",
       "    .dataframe tbody tr th:only-of-type {\n",
       "        vertical-align: middle;\n",
       "    }\n",
       "\n",
       "    .dataframe tbody tr th {\n",
       "        vertical-align: top;\n",
       "    }\n",
       "\n",
       "    .dataframe thead th {\n",
       "        text-align: right;\n",
       "    }\n",
       "</style>\n",
       "<table border=\"1\" class=\"dataframe\">\n",
       "  <thead>\n",
       "    <tr style=\"text-align: right;\">\n",
       "      <th></th>\n",
       "      <th>mean_fit_time</th>\n",
       "      <th>std_fit_time</th>\n",
       "      <th>mean_score_time</th>\n",
       "      <th>std_score_time</th>\n",
       "      <th>param_n_estimators</th>\n",
       "      <th>param_min_samples_split</th>\n",
       "      <th>param_min_samples_leaf</th>\n",
       "      <th>param_max_depth</th>\n",
       "      <th>params</th>\n",
       "      <th>split0_test_score</th>\n",
       "      <th>...</th>\n",
       "      <th>mean_test_score</th>\n",
       "      <th>std_test_score</th>\n",
       "      <th>rank_test_score</th>\n",
       "      <th>split0_train_score</th>\n",
       "      <th>split1_train_score</th>\n",
       "      <th>split2_train_score</th>\n",
       "      <th>split3_train_score</th>\n",
       "      <th>split4_train_score</th>\n",
       "      <th>mean_train_score</th>\n",
       "      <th>std_train_score</th>\n",
       "    </tr>\n",
       "  </thead>\n",
       "  <tbody>\n",
       "    <tr>\n",
       "      <th>0</th>\n",
       "      <td>523.480097</td>\n",
       "      <td>3.402228</td>\n",
       "      <td>4.315821</td>\n",
       "      <td>0.138365</td>\n",
       "      <td>140</td>\n",
       "      <td>4</td>\n",
       "      <td>2</td>\n",
       "      <td>130</td>\n",
       "      <td>{'n_estimators': 140, 'min_samples_split': 4, ...</td>\n",
       "      <td>0.897167</td>\n",
       "      <td>...</td>\n",
       "      <td>0.897145</td>\n",
       "      <td>0.000212</td>\n",
       "      <td>18</td>\n",
       "      <td>0.974457</td>\n",
       "      <td>0.974679</td>\n",
       "      <td>0.974643</td>\n",
       "      <td>0.974846</td>\n",
       "      <td>0.974797</td>\n",
       "      <td>0.974685</td>\n",
       "      <td>0.000136</td>\n",
       "    </tr>\n",
       "    <tr>\n",
       "      <th>1</th>\n",
       "      <td>522.352167</td>\n",
       "      <td>5.025176</td>\n",
       "      <td>4.350256</td>\n",
       "      <td>0.252730</td>\n",
       "      <td>140</td>\n",
       "      <td>4</td>\n",
       "      <td>2</td>\n",
       "      <td>80</td>\n",
       "      <td>{'n_estimators': 140, 'min_samples_split': 4, ...</td>\n",
       "      <td>0.897987</td>\n",
       "      <td>...</td>\n",
       "      <td>0.897216</td>\n",
       "      <td>0.000420</td>\n",
       "      <td>7</td>\n",
       "      <td>0.974444</td>\n",
       "      <td>0.974479</td>\n",
       "      <td>0.974625</td>\n",
       "      <td>0.974978</td>\n",
       "      <td>0.974737</td>\n",
       "      <td>0.974652</td>\n",
       "      <td>0.000194</td>\n",
       "    </tr>\n",
       "    <tr>\n",
       "      <th>2</th>\n",
       "      <td>300.549514</td>\n",
       "      <td>3.559554</td>\n",
       "      <td>2.131804</td>\n",
       "      <td>0.147520</td>\n",
       "      <td>80</td>\n",
       "      <td>4</td>\n",
       "      <td>2</td>\n",
       "      <td>150</td>\n",
       "      <td>{'n_estimators': 80, 'min_samples_split': 4, '...</td>\n",
       "      <td>0.897310</td>\n",
       "      <td>...</td>\n",
       "      <td>0.896707</td>\n",
       "      <td>0.000422</td>\n",
       "      <td>42</td>\n",
       "      <td>0.974191</td>\n",
       "      <td>0.974107</td>\n",
       "      <td>0.974259</td>\n",
       "      <td>0.974568</td>\n",
       "      <td>0.974523</td>\n",
       "      <td>0.974329</td>\n",
       "      <td>0.000183</td>\n",
       "    </tr>\n",
       "    <tr>\n",
       "      <th>3</th>\n",
       "      <td>568.345935</td>\n",
       "      <td>1.282841</td>\n",
       "      <td>4.436023</td>\n",
       "      <td>0.174393</td>\n",
       "      <td>150</td>\n",
       "      <td>4</td>\n",
       "      <td>2</td>\n",
       "      <td>140</td>\n",
       "      <td>{'n_estimators': 150, 'min_samples_split': 4, ...</td>\n",
       "      <td>0.897292</td>\n",
       "      <td>...</td>\n",
       "      <td>0.897164</td>\n",
       "      <td>0.000172</td>\n",
       "      <td>14</td>\n",
       "      <td>0.974425</td>\n",
       "      <td>0.974579</td>\n",
       "      <td>0.974616</td>\n",
       "      <td>0.974911</td>\n",
       "      <td>0.974775</td>\n",
       "      <td>0.974661</td>\n",
       "      <td>0.000167</td>\n",
       "    </tr>\n",
       "    <tr>\n",
       "      <th>4</th>\n",
       "      <td>415.090421</td>\n",
       "      <td>1.318287</td>\n",
       "      <td>2.932201</td>\n",
       "      <td>0.144522</td>\n",
       "      <td>110</td>\n",
       "      <td>4</td>\n",
       "      <td>2</td>\n",
       "      <td>120</td>\n",
       "      <td>{'n_estimators': 110, 'min_samples_split': 4, ...</td>\n",
       "      <td>0.897105</td>\n",
       "      <td>...</td>\n",
       "      <td>0.896772</td>\n",
       "      <td>0.000182</td>\n",
       "      <td>38</td>\n",
       "      <td>0.974302</td>\n",
       "      <td>0.974473</td>\n",
       "      <td>0.974443</td>\n",
       "      <td>0.974760</td>\n",
       "      <td>0.974556</td>\n",
       "      <td>0.974507</td>\n",
       "      <td>0.000151</td>\n",
       "    </tr>\n",
       "    <tr>\n",
       "      <th>5</th>\n",
       "      <td>519.041195</td>\n",
       "      <td>7.151702</td>\n",
       "      <td>3.813590</td>\n",
       "      <td>0.239828</td>\n",
       "      <td>140</td>\n",
       "      <td>4</td>\n",
       "      <td>2</td>\n",
       "      <td>110</td>\n",
       "      <td>{'n_estimators': 140, 'min_samples_split': 4, ...</td>\n",
       "      <td>0.897463</td>\n",
       "      <td>...</td>\n",
       "      <td>0.897275</td>\n",
       "      <td>0.000343</td>\n",
       "      <td>4</td>\n",
       "      <td>0.974481</td>\n",
       "      <td>0.974558</td>\n",
       "      <td>0.974618</td>\n",
       "      <td>0.974927</td>\n",
       "      <td>0.974859</td>\n",
       "      <td>0.974689</td>\n",
       "      <td>0.000174</td>\n",
       "    </tr>\n",
       "    <tr>\n",
       "      <th>6</th>\n",
       "      <td>539.948338</td>\n",
       "      <td>7.587001</td>\n",
       "      <td>4.220986</td>\n",
       "      <td>0.800604</td>\n",
       "      <td>150</td>\n",
       "      <td>4</td>\n",
       "      <td>2</td>\n",
       "      <td>130</td>\n",
       "      <td>{'n_estimators': 150, 'min_samples_split': 4, ...</td>\n",
       "      <td>0.897679</td>\n",
       "      <td>...</td>\n",
       "      <td>0.897202</td>\n",
       "      <td>0.000347</td>\n",
       "      <td>8</td>\n",
       "      <td>0.974538</td>\n",
       "      <td>0.974518</td>\n",
       "      <td>0.974596</td>\n",
       "      <td>0.974935</td>\n",
       "      <td>0.974820</td>\n",
       "      <td>0.974681</td>\n",
       "      <td>0.000166</td>\n",
       "    </tr>\n",
       "    <tr>\n",
       "      <th>7</th>\n",
       "      <td>354.146945</td>\n",
       "      <td>6.272108</td>\n",
       "      <td>2.821672</td>\n",
       "      <td>0.587115</td>\n",
       "      <td>100</td>\n",
       "      <td>4</td>\n",
       "      <td>2</td>\n",
       "      <td>140</td>\n",
       "      <td>{'n_estimators': 100, 'min_samples_split': 4, ...</td>\n",
       "      <td>0.896895</td>\n",
       "      <td>...</td>\n",
       "      <td>0.896743</td>\n",
       "      <td>0.000173</td>\n",
       "      <td>39</td>\n",
       "      <td>0.974295</td>\n",
       "      <td>0.974356</td>\n",
       "      <td>0.974421</td>\n",
       "      <td>0.974718</td>\n",
       "      <td>0.974550</td>\n",
       "      <td>0.974468</td>\n",
       "      <td>0.000151</td>\n",
       "    </tr>\n",
       "    <tr>\n",
       "      <th>8</th>\n",
       "      <td>479.367826</td>\n",
       "      <td>3.731507</td>\n",
       "      <td>3.675241</td>\n",
       "      <td>0.044933</td>\n",
       "      <td>140</td>\n",
       "      <td>4</td>\n",
       "      <td>2</td>\n",
       "      <td>140</td>\n",
       "      <td>{'n_estimators': 140, 'min_samples_split': 4, ...</td>\n",
       "      <td>0.897490</td>\n",
       "      <td>...</td>\n",
       "      <td>0.897347</td>\n",
       "      <td>0.000317</td>\n",
       "      <td>2</td>\n",
       "      <td>0.974360</td>\n",
       "      <td>0.974607</td>\n",
       "      <td>0.974664</td>\n",
       "      <td>0.974838</td>\n",
       "      <td>0.974745</td>\n",
       "      <td>0.974643</td>\n",
       "      <td>0.000161</td>\n",
       "    </tr>\n",
       "    <tr>\n",
       "      <th>9</th>\n",
       "      <td>270.870764</td>\n",
       "      <td>1.742148</td>\n",
       "      <td>1.974366</td>\n",
       "      <td>0.163808</td>\n",
       "      <td>80</td>\n",
       "      <td>4</td>\n",
       "      <td>2</td>\n",
       "      <td>90</td>\n",
       "      <td>{'n_estimators': 80, 'min_samples_split': 4, '...</td>\n",
       "      <td>0.896506</td>\n",
       "      <td>...</td>\n",
       "      <td>0.896640</td>\n",
       "      <td>0.000278</td>\n",
       "      <td>44</td>\n",
       "      <td>0.974042</td>\n",
       "      <td>0.974296</td>\n",
       "      <td>0.974322</td>\n",
       "      <td>0.974427</td>\n",
       "      <td>0.974362</td>\n",
       "      <td>0.974290</td>\n",
       "      <td>0.000131</td>\n",
       "    </tr>\n",
       "    <tr>\n",
       "      <th>10</th>\n",
       "      <td>374.344066</td>\n",
       "      <td>4.700441</td>\n",
       "      <td>2.783168</td>\n",
       "      <td>0.305995</td>\n",
       "      <td>110</td>\n",
       "      <td>4</td>\n",
       "      <td>2</td>\n",
       "      <td>130</td>\n",
       "      <td>{'n_estimators': 110, 'min_samples_split': 4, ...</td>\n",
       "      <td>0.897408</td>\n",
       "      <td>...</td>\n",
       "      <td>0.896939</td>\n",
       "      <td>0.000383</td>\n",
       "      <td>29</td>\n",
       "      <td>0.974365</td>\n",
       "      <td>0.974343</td>\n",
       "      <td>0.974402</td>\n",
       "      <td>0.974882</td>\n",
       "      <td>0.974590</td>\n",
       "      <td>0.974516</td>\n",
       "      <td>0.000203</td>\n",
       "    </tr>\n",
       "    <tr>\n",
       "      <th>11</th>\n",
       "      <td>406.916783</td>\n",
       "      <td>2.630110</td>\n",
       "      <td>3.077923</td>\n",
       "      <td>0.230035</td>\n",
       "      <td>120</td>\n",
       "      <td>4</td>\n",
       "      <td>2</td>\n",
       "      <td>100</td>\n",
       "      <td>{'n_estimators': 120, 'min_samples_split': 4, ...</td>\n",
       "      <td>0.897459</td>\n",
       "      <td>...</td>\n",
       "      <td>0.897100</td>\n",
       "      <td>0.000201</td>\n",
       "      <td>21</td>\n",
       "      <td>0.974438</td>\n",
       "      <td>0.974544</td>\n",
       "      <td>0.974521</td>\n",
       "      <td>0.974900</td>\n",
       "      <td>0.974672</td>\n",
       "      <td>0.974615</td>\n",
       "      <td>0.000161</td>\n",
       "    </tr>\n",
       "    <tr>\n",
       "      <th>12</th>\n",
       "      <td>271.915376</td>\n",
       "      <td>2.192134</td>\n",
       "      <td>2.054985</td>\n",
       "      <td>0.209295</td>\n",
       "      <td>80</td>\n",
       "      <td>4</td>\n",
       "      <td>2</td>\n",
       "      <td>110</td>\n",
       "      <td>{'n_estimators': 80, 'min_samples_split': 4, '...</td>\n",
       "      <td>0.896822</td>\n",
       "      <td>...</td>\n",
       "      <td>0.896432</td>\n",
       "      <td>0.000504</td>\n",
       "      <td>50</td>\n",
       "      <td>0.974044</td>\n",
       "      <td>0.974113</td>\n",
       "      <td>0.974264</td>\n",
       "      <td>0.974461</td>\n",
       "      <td>0.974310</td>\n",
       "      <td>0.974238</td>\n",
       "      <td>0.000148</td>\n",
       "    </tr>\n",
       "    <tr>\n",
       "      <th>13</th>\n",
       "      <td>443.054709</td>\n",
       "      <td>1.762410</td>\n",
       "      <td>3.173035</td>\n",
       "      <td>0.168786</td>\n",
       "      <td>130</td>\n",
       "      <td>4</td>\n",
       "      <td>2</td>\n",
       "      <td>130</td>\n",
       "      <td>{'n_estimators': 130, 'min_samples_split': 4, ...</td>\n",
       "      <td>0.897567</td>\n",
       "      <td>...</td>\n",
       "      <td>0.897195</td>\n",
       "      <td>0.000350</td>\n",
       "      <td>9</td>\n",
       "      <td>0.974406</td>\n",
       "      <td>0.974580</td>\n",
       "      <td>0.974592</td>\n",
       "      <td>0.974831</td>\n",
       "      <td>0.974674</td>\n",
       "      <td>0.974617</td>\n",
       "      <td>0.000138</td>\n",
       "    </tr>\n",
       "    <tr>\n",
       "      <th>14</th>\n",
       "      <td>440.525495</td>\n",
       "      <td>2.095703</td>\n",
       "      <td>3.408164</td>\n",
       "      <td>0.197502</td>\n",
       "      <td>130</td>\n",
       "      <td>4</td>\n",
       "      <td>2</td>\n",
       "      <td>120</td>\n",
       "      <td>{'n_estimators': 130, 'min_samples_split': 4, ...</td>\n",
       "      <td>0.897147</td>\n",
       "      <td>...</td>\n",
       "      <td>0.897018</td>\n",
       "      <td>0.000209</td>\n",
       "      <td>23</td>\n",
       "      <td>0.974374</td>\n",
       "      <td>0.974530</td>\n",
       "      <td>0.974650</td>\n",
       "      <td>0.974931</td>\n",
       "      <td>0.974738</td>\n",
       "      <td>0.974645</td>\n",
       "      <td>0.000188</td>\n",
       "    </tr>\n",
       "    <tr>\n",
       "      <th>15</th>\n",
       "      <td>374.104763</td>\n",
       "      <td>2.120841</td>\n",
       "      <td>2.724669</td>\n",
       "      <td>0.137110</td>\n",
       "      <td>110</td>\n",
       "      <td>4</td>\n",
       "      <td>2</td>\n",
       "      <td>150</td>\n",
       "      <td>{'n_estimators': 110, 'min_samples_split': 4, ...</td>\n",
       "      <td>0.897477</td>\n",
       "      <td>...</td>\n",
       "      <td>0.897068</td>\n",
       "      <td>0.000368</td>\n",
       "      <td>22</td>\n",
       "      <td>0.974386</td>\n",
       "      <td>0.974465</td>\n",
       "      <td>0.974342</td>\n",
       "      <td>0.974779</td>\n",
       "      <td>0.974665</td>\n",
       "      <td>0.974527</td>\n",
       "      <td>0.000168</td>\n",
       "    </tr>\n",
       "    <tr>\n",
       "      <th>16</th>\n",
       "      <td>441.463631</td>\n",
       "      <td>3.344192</td>\n",
       "      <td>3.283919</td>\n",
       "      <td>0.166208</td>\n",
       "      <td>130</td>\n",
       "      <td>4</td>\n",
       "      <td>2</td>\n",
       "      <td>150</td>\n",
       "      <td>{'n_estimators': 130, 'min_samples_split': 4, ...</td>\n",
       "      <td>0.897633</td>\n",
       "      <td>...</td>\n",
       "      <td>0.897362</td>\n",
       "      <td>0.000362</td>\n",
       "      <td>1</td>\n",
       "      <td>0.974390</td>\n",
       "      <td>0.974504</td>\n",
       "      <td>0.974579</td>\n",
       "      <td>0.974911</td>\n",
       "      <td>0.974699</td>\n",
       "      <td>0.974617</td>\n",
       "      <td>0.000178</td>\n",
       "    </tr>\n",
       "    <tr>\n",
       "      <th>17</th>\n",
       "      <td>307.621467</td>\n",
       "      <td>0.616237</td>\n",
       "      <td>2.325429</td>\n",
       "      <td>0.309532</td>\n",
       "      <td>90</td>\n",
       "      <td>4</td>\n",
       "      <td>2</td>\n",
       "      <td>90</td>\n",
       "      <td>{'n_estimators': 90, 'min_samples_split': 4, '...</td>\n",
       "      <td>0.897275</td>\n",
       "      <td>...</td>\n",
       "      <td>0.896611</td>\n",
       "      <td>0.000366</td>\n",
       "      <td>46</td>\n",
       "      <td>0.974290</td>\n",
       "      <td>0.974289</td>\n",
       "      <td>0.974302</td>\n",
       "      <td>0.974650</td>\n",
       "      <td>0.974349</td>\n",
       "      <td>0.974376</td>\n",
       "      <td>0.000139</td>\n",
       "    </tr>\n",
       "    <tr>\n",
       "      <th>18</th>\n",
       "      <td>419.207144</td>\n",
       "      <td>3.820971</td>\n",
       "      <td>3.206168</td>\n",
       "      <td>0.216234</td>\n",
       "      <td>120</td>\n",
       "      <td>4</td>\n",
       "      <td>2</td>\n",
       "      <td>140</td>\n",
       "      <td>{'n_estimators': 120, 'min_samples_split': 4, ...</td>\n",
       "      <td>0.897266</td>\n",
       "      <td>...</td>\n",
       "      <td>0.897173</td>\n",
       "      <td>0.000406</td>\n",
       "      <td>11</td>\n",
       "      <td>0.974372</td>\n",
       "      <td>0.974449</td>\n",
       "      <td>0.974567</td>\n",
       "      <td>0.974806</td>\n",
       "      <td>0.974656</td>\n",
       "      <td>0.974570</td>\n",
       "      <td>0.000153</td>\n",
       "    </tr>\n",
       "    <tr>\n",
       "      <th>19</th>\n",
       "      <td>317.900926</td>\n",
       "      <td>2.990714</td>\n",
       "      <td>2.469247</td>\n",
       "      <td>0.256611</td>\n",
       "      <td>90</td>\n",
       "      <td>4</td>\n",
       "      <td>2</td>\n",
       "      <td>80</td>\n",
       "      <td>{'n_estimators': 90, 'min_samples_split': 4, '...</td>\n",
       "      <td>0.897561</td>\n",
       "      <td>...</td>\n",
       "      <td>0.896806</td>\n",
       "      <td>0.000418</td>\n",
       "      <td>34</td>\n",
       "      <td>0.974185</td>\n",
       "      <td>0.974316</td>\n",
       "      <td>0.974361</td>\n",
       "      <td>0.974709</td>\n",
       "      <td>0.974499</td>\n",
       "      <td>0.974414</td>\n",
       "      <td>0.000179</td>\n",
       "    </tr>\n",
       "    <tr>\n",
       "      <th>20</th>\n",
       "      <td>346.815142</td>\n",
       "      <td>5.007929</td>\n",
       "      <td>2.658541</td>\n",
       "      <td>0.348511</td>\n",
       "      <td>100</td>\n",
       "      <td>4</td>\n",
       "      <td>2</td>\n",
       "      <td>110</td>\n",
       "      <td>{'n_estimators': 100, 'min_samples_split': 4, ...</td>\n",
       "      <td>0.897054</td>\n",
       "      <td>...</td>\n",
       "      <td>0.896777</td>\n",
       "      <td>0.000255</td>\n",
       "      <td>36</td>\n",
       "      <td>0.974235</td>\n",
       "      <td>0.974301</td>\n",
       "      <td>0.974354</td>\n",
       "      <td>0.974664</td>\n",
       "      <td>0.974622</td>\n",
       "      <td>0.974435</td>\n",
       "      <td>0.000175</td>\n",
       "    </tr>\n",
       "    <tr>\n",
       "      <th>21</th>\n",
       "      <td>342.120024</td>\n",
       "      <td>3.092792</td>\n",
       "      <td>2.493788</td>\n",
       "      <td>0.127302</td>\n",
       "      <td>100</td>\n",
       "      <td>4</td>\n",
       "      <td>2</td>\n",
       "      <td>100</td>\n",
       "      <td>{'n_estimators': 100, 'min_samples_split': 4, ...</td>\n",
       "      <td>0.897290</td>\n",
       "      <td>...</td>\n",
       "      <td>0.896933</td>\n",
       "      <td>0.000309</td>\n",
       "      <td>30</td>\n",
       "      <td>0.974237</td>\n",
       "      <td>0.974361</td>\n",
       "      <td>0.974503</td>\n",
       "      <td>0.974835</td>\n",
       "      <td>0.974681</td>\n",
       "      <td>0.974523</td>\n",
       "      <td>0.000215</td>\n",
       "    </tr>\n",
       "    <tr>\n",
       "      <th>22</th>\n",
       "      <td>437.800224</td>\n",
       "      <td>3.179487</td>\n",
       "      <td>3.258052</td>\n",
       "      <td>0.212089</td>\n",
       "      <td>130</td>\n",
       "      <td>4</td>\n",
       "      <td>2</td>\n",
       "      <td>140</td>\n",
       "      <td>{'n_estimators': 130, 'min_samples_split': 4, ...</td>\n",
       "      <td>0.897675</td>\n",
       "      <td>...</td>\n",
       "      <td>0.897013</td>\n",
       "      <td>0.000410</td>\n",
       "      <td>24</td>\n",
       "      <td>0.974518</td>\n",
       "      <td>0.974517</td>\n",
       "      <td>0.974564</td>\n",
       "      <td>0.974995</td>\n",
       "      <td>0.974689</td>\n",
       "      <td>0.974657</td>\n",
       "      <td>0.000180</td>\n",
       "    </tr>\n",
       "    <tr>\n",
       "      <th>23</th>\n",
       "      <td>371.304467</td>\n",
       "      <td>3.139265</td>\n",
       "      <td>2.714249</td>\n",
       "      <td>0.151824</td>\n",
       "      <td>110</td>\n",
       "      <td>4</td>\n",
       "      <td>2</td>\n",
       "      <td>80</td>\n",
       "      <td>{'n_estimators': 110, 'min_samples_split': 4, ...</td>\n",
       "      <td>0.897312</td>\n",
       "      <td>...</td>\n",
       "      <td>0.896721</td>\n",
       "      <td>0.000303</td>\n",
       "      <td>40</td>\n",
       "      <td>0.974413</td>\n",
       "      <td>0.974375</td>\n",
       "      <td>0.974327</td>\n",
       "      <td>0.974688</td>\n",
       "      <td>0.974543</td>\n",
       "      <td>0.974469</td>\n",
       "      <td>0.000131</td>\n",
       "    </tr>\n",
       "    <tr>\n",
       "      <th>24</th>\n",
       "      <td>336.403352</td>\n",
       "      <td>1.473654</td>\n",
       "      <td>2.659595</td>\n",
       "      <td>0.165014</td>\n",
       "      <td>100</td>\n",
       "      <td>4</td>\n",
       "      <td>2</td>\n",
       "      <td>80</td>\n",
       "      <td>{'n_estimators': 100, 'min_samples_split': 4, ...</td>\n",
       "      <td>0.896906</td>\n",
       "      <td>...</td>\n",
       "      <td>0.896850</td>\n",
       "      <td>0.000326</td>\n",
       "      <td>33</td>\n",
       "      <td>0.974432</td>\n",
       "      <td>0.974466</td>\n",
       "      <td>0.974391</td>\n",
       "      <td>0.974746</td>\n",
       "      <td>0.974554</td>\n",
       "      <td>0.974518</td>\n",
       "      <td>0.000126</td>\n",
       "    </tr>\n",
       "    <tr>\n",
       "      <th>25</th>\n",
       "      <td>400.772198</td>\n",
       "      <td>2.694958</td>\n",
       "      <td>3.085825</td>\n",
       "      <td>0.144603</td>\n",
       "      <td>120</td>\n",
       "      <td>4</td>\n",
       "      <td>2</td>\n",
       "      <td>110</td>\n",
       "      <td>{'n_estimators': 120, 'min_samples_split': 4, ...</td>\n",
       "      <td>0.897259</td>\n",
       "      <td>...</td>\n",
       "      <td>0.896863</td>\n",
       "      <td>0.000280</td>\n",
       "      <td>32</td>\n",
       "      <td>0.974382</td>\n",
       "      <td>0.974411</td>\n",
       "      <td>0.974439</td>\n",
       "      <td>0.974878</td>\n",
       "      <td>0.974627</td>\n",
       "      <td>0.974547</td>\n",
       "      <td>0.000186</td>\n",
       "    </tr>\n",
       "    <tr>\n",
       "      <th>26</th>\n",
       "      <td>469.940123</td>\n",
       "      <td>4.297518</td>\n",
       "      <td>3.542275</td>\n",
       "      <td>0.203640</td>\n",
       "      <td>140</td>\n",
       "      <td>4</td>\n",
       "      <td>2</td>\n",
       "      <td>100</td>\n",
       "      <td>{'n_estimators': 140, 'min_samples_split': 4, ...</td>\n",
       "      <td>0.897276</td>\n",
       "      <td>...</td>\n",
       "      <td>0.897163</td>\n",
       "      <td>0.000231</td>\n",
       "      <td>15</td>\n",
       "      <td>0.974385</td>\n",
       "      <td>0.974512</td>\n",
       "      <td>0.974700</td>\n",
       "      <td>0.974944</td>\n",
       "      <td>0.974811</td>\n",
       "      <td>0.974670</td>\n",
       "      <td>0.000201</td>\n",
       "    </tr>\n",
       "    <tr>\n",
       "      <th>27</th>\n",
       "      <td>472.816253</td>\n",
       "      <td>2.211877</td>\n",
       "      <td>3.565590</td>\n",
       "      <td>0.126449</td>\n",
       "      <td>140</td>\n",
       "      <td>4</td>\n",
       "      <td>2</td>\n",
       "      <td>90</td>\n",
       "      <td>{'n_estimators': 140, 'min_samples_split': 4, ...</td>\n",
       "      <td>0.897217</td>\n",
       "      <td>...</td>\n",
       "      <td>0.897163</td>\n",
       "      <td>0.000248</td>\n",
       "      <td>16</td>\n",
       "      <td>0.974537</td>\n",
       "      <td>0.974566</td>\n",
       "      <td>0.974589</td>\n",
       "      <td>0.974841</td>\n",
       "      <td>0.974746</td>\n",
       "      <td>0.974656</td>\n",
       "      <td>0.000117</td>\n",
       "    </tr>\n",
       "    <tr>\n",
       "      <th>28</th>\n",
       "      <td>475.380572</td>\n",
       "      <td>3.147131</td>\n",
       "      <td>3.721508</td>\n",
       "      <td>0.418671</td>\n",
       "      <td>140</td>\n",
       "      <td>4</td>\n",
       "      <td>2</td>\n",
       "      <td>120</td>\n",
       "      <td>{'n_estimators': 140, 'min_samples_split': 4, ...</td>\n",
       "      <td>0.897797</td>\n",
       "      <td>...</td>\n",
       "      <td>0.897169</td>\n",
       "      <td>0.000352</td>\n",
       "      <td>12</td>\n",
       "      <td>0.974445</td>\n",
       "      <td>0.974576</td>\n",
       "      <td>0.974438</td>\n",
       "      <td>0.974997</td>\n",
       "      <td>0.974782</td>\n",
       "      <td>0.974648</td>\n",
       "      <td>0.000215</td>\n",
       "    </tr>\n",
       "    <tr>\n",
       "      <th>29</th>\n",
       "      <td>516.911091</td>\n",
       "      <td>13.092528</td>\n",
       "      <td>4.420529</td>\n",
       "      <td>0.554452</td>\n",
       "      <td>150</td>\n",
       "      <td>4</td>\n",
       "      <td>2</td>\n",
       "      <td>150</td>\n",
       "      <td>{'n_estimators': 150, 'min_samples_split': 4, ...</td>\n",
       "      <td>0.897455</td>\n",
       "      <td>...</td>\n",
       "      <td>0.897177</td>\n",
       "      <td>0.000257</td>\n",
       "      <td>10</td>\n",
       "      <td>0.974473</td>\n",
       "      <td>0.974626</td>\n",
       "      <td>0.974650</td>\n",
       "      <td>0.974968</td>\n",
       "      <td>0.974740</td>\n",
       "      <td>0.974691</td>\n",
       "      <td>0.000163</td>\n",
       "    </tr>\n",
       "    <tr>\n",
       "      <th>30</th>\n",
       "      <td>403.173153</td>\n",
       "      <td>6.252986</td>\n",
       "      <td>3.307046</td>\n",
       "      <td>0.256884</td>\n",
       "      <td>110</td>\n",
       "      <td>4</td>\n",
       "      <td>2</td>\n",
       "      <td>90</td>\n",
       "      <td>{'n_estimators': 110, 'min_samples_split': 4, ...</td>\n",
       "      <td>0.897111</td>\n",
       "      <td>...</td>\n",
       "      <td>0.896675</td>\n",
       "      <td>0.000304</td>\n",
       "      <td>43</td>\n",
       "      <td>0.974292</td>\n",
       "      <td>0.974384</td>\n",
       "      <td>0.974431</td>\n",
       "      <td>0.974770</td>\n",
       "      <td>0.974552</td>\n",
       "      <td>0.974486</td>\n",
       "      <td>0.000165</td>\n",
       "    </tr>\n",
       "    <tr>\n",
       "      <th>31</th>\n",
       "      <td>496.134719</td>\n",
       "      <td>5.166480</td>\n",
       "      <td>3.803219</td>\n",
       "      <td>0.323450</td>\n",
       "      <td>130</td>\n",
       "      <td>4</td>\n",
       "      <td>2</td>\n",
       "      <td>110</td>\n",
       "      <td>{'n_estimators': 130, 'min_samples_split': 4, ...</td>\n",
       "      <td>0.897329</td>\n",
       "      <td>...</td>\n",
       "      <td>0.897122</td>\n",
       "      <td>0.000273</td>\n",
       "      <td>19</td>\n",
       "      <td>0.974347</td>\n",
       "      <td>0.974490</td>\n",
       "      <td>0.974557</td>\n",
       "      <td>0.974776</td>\n",
       "      <td>0.974670</td>\n",
       "      <td>0.974568</td>\n",
       "      <td>0.000147</td>\n",
       "    </tr>\n",
       "    <tr>\n",
       "      <th>32</th>\n",
       "      <td>544.456552</td>\n",
       "      <td>4.521632</td>\n",
       "      <td>4.348315</td>\n",
       "      <td>0.337551</td>\n",
       "      <td>140</td>\n",
       "      <td>4</td>\n",
       "      <td>2</td>\n",
       "      <td>150</td>\n",
       "      <td>{'n_estimators': 140, 'min_samples_split': 4, ...</td>\n",
       "      <td>0.897853</td>\n",
       "      <td>...</td>\n",
       "      <td>0.897243</td>\n",
       "      <td>0.000355</td>\n",
       "      <td>5</td>\n",
       "      <td>0.974562</td>\n",
       "      <td>0.974565</td>\n",
       "      <td>0.974589</td>\n",
       "      <td>0.974867</td>\n",
       "      <td>0.974659</td>\n",
       "      <td>0.974649</td>\n",
       "      <td>0.000115</td>\n",
       "    </tr>\n",
       "    <tr>\n",
       "      <th>33</th>\n",
       "      <td>424.971322</td>\n",
       "      <td>4.487313</td>\n",
       "      <td>3.609040</td>\n",
       "      <td>0.360941</td>\n",
       "      <td>110</td>\n",
       "      <td>4</td>\n",
       "      <td>2</td>\n",
       "      <td>100</td>\n",
       "      <td>{'n_estimators': 110, 'min_samples_split': 4, ...</td>\n",
       "      <td>0.897371</td>\n",
       "      <td>...</td>\n",
       "      <td>0.896708</td>\n",
       "      <td>0.000381</td>\n",
       "      <td>41</td>\n",
       "      <td>0.974215</td>\n",
       "      <td>0.974329</td>\n",
       "      <td>0.974469</td>\n",
       "      <td>0.974796</td>\n",
       "      <td>0.974563</td>\n",
       "      <td>0.974474</td>\n",
       "      <td>0.000200</td>\n",
       "    </tr>\n",
       "    <tr>\n",
       "      <th>34</th>\n",
       "      <td>574.146921</td>\n",
       "      <td>8.986337</td>\n",
       "      <td>4.361111</td>\n",
       "      <td>0.396729</td>\n",
       "      <td>150</td>\n",
       "      <td>4</td>\n",
       "      <td>2</td>\n",
       "      <td>90</td>\n",
       "      <td>{'n_estimators': 150, 'min_samples_split': 4, ...</td>\n",
       "      <td>0.897429</td>\n",
       "      <td>...</td>\n",
       "      <td>0.897165</td>\n",
       "      <td>0.000256</td>\n",
       "      <td>13</td>\n",
       "      <td>0.974463</td>\n",
       "      <td>0.974610</td>\n",
       "      <td>0.974729</td>\n",
       "      <td>0.974906</td>\n",
       "      <td>0.974837</td>\n",
       "      <td>0.974709</td>\n",
       "      <td>0.000159</td>\n",
       "    </tr>\n",
       "    <tr>\n",
       "      <th>35</th>\n",
       "      <td>450.952007</td>\n",
       "      <td>4.852074</td>\n",
       "      <td>3.344114</td>\n",
       "      <td>0.228268</td>\n",
       "      <td>120</td>\n",
       "      <td>4</td>\n",
       "      <td>2</td>\n",
       "      <td>90</td>\n",
       "      <td>{'n_estimators': 120, 'min_samples_split': 4, ...</td>\n",
       "      <td>0.896908</td>\n",
       "      <td>...</td>\n",
       "      <td>0.896940</td>\n",
       "      <td>0.000209</td>\n",
       "      <td>28</td>\n",
       "      <td>0.974281</td>\n",
       "      <td>0.974436</td>\n",
       "      <td>0.974576</td>\n",
       "      <td>0.974831</td>\n",
       "      <td>0.974671</td>\n",
       "      <td>0.974559</td>\n",
       "      <td>0.000189</td>\n",
       "    </tr>\n",
       "    <tr>\n",
       "      <th>36</th>\n",
       "      <td>443.691127</td>\n",
       "      <td>8.391102</td>\n",
       "      <td>3.743473</td>\n",
       "      <td>0.204669</td>\n",
       "      <td>120</td>\n",
       "      <td>4</td>\n",
       "      <td>2</td>\n",
       "      <td>150</td>\n",
       "      <td>{'n_estimators': 120, 'min_samples_split': 4, ...</td>\n",
       "      <td>0.897540</td>\n",
       "      <td>...</td>\n",
       "      <td>0.896988</td>\n",
       "      <td>0.000360</td>\n",
       "      <td>25</td>\n",
       "      <td>0.974417</td>\n",
       "      <td>0.974417</td>\n",
       "      <td>0.974370</td>\n",
       "      <td>0.974761</td>\n",
       "      <td>0.974645</td>\n",
       "      <td>0.974522</td>\n",
       "      <td>0.000154</td>\n",
       "    </tr>\n",
       "    <tr>\n",
       "      <th>37</th>\n",
       "      <td>291.477042</td>\n",
       "      <td>3.081578</td>\n",
       "      <td>2.411424</td>\n",
       "      <td>0.268032</td>\n",
       "      <td>80</td>\n",
       "      <td>4</td>\n",
       "      <td>2</td>\n",
       "      <td>100</td>\n",
       "      <td>{'n_estimators': 80, 'min_samples_split': 4, '...</td>\n",
       "      <td>0.896813</td>\n",
       "      <td>...</td>\n",
       "      <td>0.896793</td>\n",
       "      <td>0.000267</td>\n",
       "      <td>35</td>\n",
       "      <td>0.974118</td>\n",
       "      <td>0.974139</td>\n",
       "      <td>0.974327</td>\n",
       "      <td>0.974542</td>\n",
       "      <td>0.974451</td>\n",
       "      <td>0.974315</td>\n",
       "      <td>0.000167</td>\n",
       "    </tr>\n",
       "    <tr>\n",
       "      <th>38</th>\n",
       "      <td>486.032120</td>\n",
       "      <td>3.815108</td>\n",
       "      <td>3.699788</td>\n",
       "      <td>0.281288</td>\n",
       "      <td>130</td>\n",
       "      <td>4</td>\n",
       "      <td>2</td>\n",
       "      <td>90</td>\n",
       "      <td>{'n_estimators': 130, 'min_samples_split': 4, ...</td>\n",
       "      <td>0.897369</td>\n",
       "      <td>...</td>\n",
       "      <td>0.897163</td>\n",
       "      <td>0.000194</td>\n",
       "      <td>17</td>\n",
       "      <td>0.974415</td>\n",
       "      <td>0.974492</td>\n",
       "      <td>0.974565</td>\n",
       "      <td>0.974925</td>\n",
       "      <td>0.974786</td>\n",
       "      <td>0.974637</td>\n",
       "      <td>0.000190</td>\n",
       "    </tr>\n",
       "    <tr>\n",
       "      <th>39</th>\n",
       "      <td>411.149727</td>\n",
       "      <td>1.713326</td>\n",
       "      <td>3.331821</td>\n",
       "      <td>0.483542</td>\n",
       "      <td>110</td>\n",
       "      <td>4</td>\n",
       "      <td>2</td>\n",
       "      <td>110</td>\n",
       "      <td>{'n_estimators': 110, 'min_samples_split': 4, ...</td>\n",
       "      <td>0.897014</td>\n",
       "      <td>...</td>\n",
       "      <td>0.897105</td>\n",
       "      <td>0.000383</td>\n",
       "      <td>20</td>\n",
       "      <td>0.974397</td>\n",
       "      <td>0.974423</td>\n",
       "      <td>0.974574</td>\n",
       "      <td>0.974809</td>\n",
       "      <td>0.974648</td>\n",
       "      <td>0.974570</td>\n",
       "      <td>0.000152</td>\n",
       "    </tr>\n",
       "    <tr>\n",
       "      <th>40</th>\n",
       "      <td>550.813573</td>\n",
       "      <td>10.733936</td>\n",
       "      <td>4.844149</td>\n",
       "      <td>0.763043</td>\n",
       "      <td>150</td>\n",
       "      <td>4</td>\n",
       "      <td>2</td>\n",
       "      <td>80</td>\n",
       "      <td>{'n_estimators': 150, 'min_samples_split': 4, ...</td>\n",
       "      <td>0.897634</td>\n",
       "      <td>...</td>\n",
       "      <td>0.897304</td>\n",
       "      <td>0.000489</td>\n",
       "      <td>3</td>\n",
       "      <td>0.974445</td>\n",
       "      <td>0.974567</td>\n",
       "      <td>0.974640</td>\n",
       "      <td>0.974985</td>\n",
       "      <td>0.974805</td>\n",
       "      <td>0.974688</td>\n",
       "      <td>0.000188</td>\n",
       "    </tr>\n",
       "    <tr>\n",
       "      <th>41</th>\n",
       "      <td>291.408276</td>\n",
       "      <td>3.575783</td>\n",
       "      <td>2.389874</td>\n",
       "      <td>0.234830</td>\n",
       "      <td>80</td>\n",
       "      <td>4</td>\n",
       "      <td>2</td>\n",
       "      <td>120</td>\n",
       "      <td>{'n_estimators': 80, 'min_samples_split': 4, '...</td>\n",
       "      <td>0.896611</td>\n",
       "      <td>...</td>\n",
       "      <td>0.896470</td>\n",
       "      <td>0.000249</td>\n",
       "      <td>49</td>\n",
       "      <td>0.974073</td>\n",
       "      <td>0.974346</td>\n",
       "      <td>0.974292</td>\n",
       "      <td>0.974632</td>\n",
       "      <td>0.974326</td>\n",
       "      <td>0.974334</td>\n",
       "      <td>0.000179</td>\n",
       "    </tr>\n",
       "    <tr>\n",
       "      <th>42</th>\n",
       "      <td>324.454940</td>\n",
       "      <td>1.885444</td>\n",
       "      <td>2.414488</td>\n",
       "      <td>0.153689</td>\n",
       "      <td>90</td>\n",
       "      <td>4</td>\n",
       "      <td>2</td>\n",
       "      <td>140</td>\n",
       "      <td>{'n_estimators': 90, 'min_samples_split': 4, '...</td>\n",
       "      <td>0.897036</td>\n",
       "      <td>...</td>\n",
       "      <td>0.896775</td>\n",
       "      <td>0.000408</td>\n",
       "      <td>37</td>\n",
       "      <td>0.974178</td>\n",
       "      <td>0.974385</td>\n",
       "      <td>0.974414</td>\n",
       "      <td>0.974602</td>\n",
       "      <td>0.974533</td>\n",
       "      <td>0.974423</td>\n",
       "      <td>0.000146</td>\n",
       "    </tr>\n",
       "    <tr>\n",
       "      <th>43</th>\n",
       "      <td>323.302174</td>\n",
       "      <td>4.307483</td>\n",
       "      <td>2.369253</td>\n",
       "      <td>0.090629</td>\n",
       "      <td>90</td>\n",
       "      <td>4</td>\n",
       "      <td>2</td>\n",
       "      <td>150</td>\n",
       "      <td>{'n_estimators': 90, 'min_samples_split': 4, '...</td>\n",
       "      <td>0.896943</td>\n",
       "      <td>...</td>\n",
       "      <td>0.896604</td>\n",
       "      <td>0.000242</td>\n",
       "      <td>47</td>\n",
       "      <td>0.974234</td>\n",
       "      <td>0.974297</td>\n",
       "      <td>0.974361</td>\n",
       "      <td>0.974698</td>\n",
       "      <td>0.974441</td>\n",
       "      <td>0.974406</td>\n",
       "      <td>0.000161</td>\n",
       "    </tr>\n",
       "    <tr>\n",
       "      <th>44</th>\n",
       "      <td>427.382700</td>\n",
       "      <td>4.218463</td>\n",
       "      <td>3.350628</td>\n",
       "      <td>0.177883</td>\n",
       "      <td>120</td>\n",
       "      <td>4</td>\n",
       "      <td>2</td>\n",
       "      <td>80</td>\n",
       "      <td>{'n_estimators': 120, 'min_samples_split': 4, ...</td>\n",
       "      <td>0.897141</td>\n",
       "      <td>...</td>\n",
       "      <td>0.896913</td>\n",
       "      <td>0.000160</td>\n",
       "      <td>31</td>\n",
       "      <td>0.974354</td>\n",
       "      <td>0.974471</td>\n",
       "      <td>0.974507</td>\n",
       "      <td>0.974889</td>\n",
       "      <td>0.974673</td>\n",
       "      <td>0.974579</td>\n",
       "      <td>0.000186</td>\n",
       "    </tr>\n",
       "    <tr>\n",
       "      <th>45</th>\n",
       "      <td>288.164932</td>\n",
       "      <td>1.466766</td>\n",
       "      <td>2.151257</td>\n",
       "      <td>0.101641</td>\n",
       "      <td>80</td>\n",
       "      <td>4</td>\n",
       "      <td>2</td>\n",
       "      <td>130</td>\n",
       "      <td>{'n_estimators': 80, 'min_samples_split': 4, '...</td>\n",
       "      <td>0.896967</td>\n",
       "      <td>...</td>\n",
       "      <td>0.896538</td>\n",
       "      <td>0.000351</td>\n",
       "      <td>48</td>\n",
       "      <td>0.974093</td>\n",
       "      <td>0.974267</td>\n",
       "      <td>0.974188</td>\n",
       "      <td>0.974568</td>\n",
       "      <td>0.974371</td>\n",
       "      <td>0.974297</td>\n",
       "      <td>0.000164</td>\n",
       "    </tr>\n",
       "    <tr>\n",
       "      <th>46</th>\n",
       "      <td>435.206708</td>\n",
       "      <td>4.419326</td>\n",
       "      <td>3.151194</td>\n",
       "      <td>0.071930</td>\n",
       "      <td>120</td>\n",
       "      <td>4</td>\n",
       "      <td>2</td>\n",
       "      <td>120</td>\n",
       "      <td>{'n_estimators': 120, 'min_samples_split': 4, ...</td>\n",
       "      <td>0.896840</td>\n",
       "      <td>...</td>\n",
       "      <td>0.896953</td>\n",
       "      <td>0.000280</td>\n",
       "      <td>27</td>\n",
       "      <td>0.974293</td>\n",
       "      <td>0.974520</td>\n",
       "      <td>0.974523</td>\n",
       "      <td>0.974864</td>\n",
       "      <td>0.974691</td>\n",
       "      <td>0.974578</td>\n",
       "      <td>0.000191</td>\n",
       "    </tr>\n",
       "    <tr>\n",
       "      <th>47</th>\n",
       "      <td>540.890400</td>\n",
       "      <td>6.973132</td>\n",
       "      <td>3.768606</td>\n",
       "      <td>0.192912</td>\n",
       "      <td>150</td>\n",
       "      <td>4</td>\n",
       "      <td>2</td>\n",
       "      <td>120</td>\n",
       "      <td>{'n_estimators': 150, 'min_samples_split': 4, ...</td>\n",
       "      <td>0.897766</td>\n",
       "      <td>...</td>\n",
       "      <td>0.897226</td>\n",
       "      <td>0.000335</td>\n",
       "      <td>6</td>\n",
       "      <td>0.974519</td>\n",
       "      <td>0.974540</td>\n",
       "      <td>0.974614</td>\n",
       "      <td>0.975001</td>\n",
       "      <td>0.974732</td>\n",
       "      <td>0.974681</td>\n",
       "      <td>0.000177</td>\n",
       "    </tr>\n",
       "    <tr>\n",
       "      <th>48</th>\n",
       "      <td>317.102772</td>\n",
       "      <td>12.247560</td>\n",
       "      <td>2.316584</td>\n",
       "      <td>0.206282</td>\n",
       "      <td>90</td>\n",
       "      <td>4</td>\n",
       "      <td>2</td>\n",
       "      <td>110</td>\n",
       "      <td>{'n_estimators': 90, 'min_samples_split': 4, '...</td>\n",
       "      <td>0.896645</td>\n",
       "      <td>...</td>\n",
       "      <td>0.896635</td>\n",
       "      <td>0.000301</td>\n",
       "      <td>45</td>\n",
       "      <td>0.974201</td>\n",
       "      <td>0.974145</td>\n",
       "      <td>0.974292</td>\n",
       "      <td>0.974722</td>\n",
       "      <td>0.974390</td>\n",
       "      <td>0.974350</td>\n",
       "      <td>0.000204</td>\n",
       "    </tr>\n",
       "    <tr>\n",
       "      <th>49</th>\n",
       "      <td>369.451139</td>\n",
       "      <td>13.925718</td>\n",
       "      <td>2.638363</td>\n",
       "      <td>0.313391</td>\n",
       "      <td>120</td>\n",
       "      <td>4</td>\n",
       "      <td>2</td>\n",
       "      <td>130</td>\n",
       "      <td>{'n_estimators': 120, 'min_samples_split': 4, ...</td>\n",
       "      <td>0.896994</td>\n",
       "      <td>...</td>\n",
       "      <td>0.896965</td>\n",
       "      <td>0.000266</td>\n",
       "      <td>26</td>\n",
       "      <td>0.974405</td>\n",
       "      <td>0.974529</td>\n",
       "      <td>0.974624</td>\n",
       "      <td>0.974764</td>\n",
       "      <td>0.974704</td>\n",
       "      <td>0.974605</td>\n",
       "      <td>0.000128</td>\n",
       "    </tr>\n",
       "  </tbody>\n",
       "</table>\n",
       "<p>50 rows × 24 columns</p>\n",
       "</div>"
      ],
      "text/plain": [
       "    mean_fit_time  std_fit_time  mean_score_time  std_score_time  \\\n",
       "0      523.480097      3.402228         4.315821        0.138365   \n",
       "1      522.352167      5.025176         4.350256        0.252730   \n",
       "2      300.549514      3.559554         2.131804        0.147520   \n",
       "3      568.345935      1.282841         4.436023        0.174393   \n",
       "4      415.090421      1.318287         2.932201        0.144522   \n",
       "5      519.041195      7.151702         3.813590        0.239828   \n",
       "6      539.948338      7.587001         4.220986        0.800604   \n",
       "7      354.146945      6.272108         2.821672        0.587115   \n",
       "8      479.367826      3.731507         3.675241        0.044933   \n",
       "9      270.870764      1.742148         1.974366        0.163808   \n",
       "10     374.344066      4.700441         2.783168        0.305995   \n",
       "11     406.916783      2.630110         3.077923        0.230035   \n",
       "12     271.915376      2.192134         2.054985        0.209295   \n",
       "13     443.054709      1.762410         3.173035        0.168786   \n",
       "14     440.525495      2.095703         3.408164        0.197502   \n",
       "15     374.104763      2.120841         2.724669        0.137110   \n",
       "16     441.463631      3.344192         3.283919        0.166208   \n",
       "17     307.621467      0.616237         2.325429        0.309532   \n",
       "18     419.207144      3.820971         3.206168        0.216234   \n",
       "19     317.900926      2.990714         2.469247        0.256611   \n",
       "20     346.815142      5.007929         2.658541        0.348511   \n",
       "21     342.120024      3.092792         2.493788        0.127302   \n",
       "22     437.800224      3.179487         3.258052        0.212089   \n",
       "23     371.304467      3.139265         2.714249        0.151824   \n",
       "24     336.403352      1.473654         2.659595        0.165014   \n",
       "25     400.772198      2.694958         3.085825        0.144603   \n",
       "26     469.940123      4.297518         3.542275        0.203640   \n",
       "27     472.816253      2.211877         3.565590        0.126449   \n",
       "28     475.380572      3.147131         3.721508        0.418671   \n",
       "29     516.911091     13.092528         4.420529        0.554452   \n",
       "30     403.173153      6.252986         3.307046        0.256884   \n",
       "31     496.134719      5.166480         3.803219        0.323450   \n",
       "32     544.456552      4.521632         4.348315        0.337551   \n",
       "33     424.971322      4.487313         3.609040        0.360941   \n",
       "34     574.146921      8.986337         4.361111        0.396729   \n",
       "35     450.952007      4.852074         3.344114        0.228268   \n",
       "36     443.691127      8.391102         3.743473        0.204669   \n",
       "37     291.477042      3.081578         2.411424        0.268032   \n",
       "38     486.032120      3.815108         3.699788        0.281288   \n",
       "39     411.149727      1.713326         3.331821        0.483542   \n",
       "40     550.813573     10.733936         4.844149        0.763043   \n",
       "41     291.408276      3.575783         2.389874        0.234830   \n",
       "42     324.454940      1.885444         2.414488        0.153689   \n",
       "43     323.302174      4.307483         2.369253        0.090629   \n",
       "44     427.382700      4.218463         3.350628        0.177883   \n",
       "45     288.164932      1.466766         2.151257        0.101641   \n",
       "46     435.206708      4.419326         3.151194        0.071930   \n",
       "47     540.890400      6.973132         3.768606        0.192912   \n",
       "48     317.102772     12.247560         2.316584        0.206282   \n",
       "49     369.451139     13.925718         2.638363        0.313391   \n",
       "\n",
       "   param_n_estimators param_min_samples_split param_min_samples_leaf  \\\n",
       "0                 140                       4                      2   \n",
       "1                 140                       4                      2   \n",
       "2                  80                       4                      2   \n",
       "3                 150                       4                      2   \n",
       "4                 110                       4                      2   \n",
       "5                 140                       4                      2   \n",
       "6                 150                       4                      2   \n",
       "7                 100                       4                      2   \n",
       "8                 140                       4                      2   \n",
       "9                  80                       4                      2   \n",
       "10                110                       4                      2   \n",
       "11                120                       4                      2   \n",
       "12                 80                       4                      2   \n",
       "13                130                       4                      2   \n",
       "14                130                       4                      2   \n",
       "15                110                       4                      2   \n",
       "16                130                       4                      2   \n",
       "17                 90                       4                      2   \n",
       "18                120                       4                      2   \n",
       "19                 90                       4                      2   \n",
       "20                100                       4                      2   \n",
       "21                100                       4                      2   \n",
       "22                130                       4                      2   \n",
       "23                110                       4                      2   \n",
       "24                100                       4                      2   \n",
       "25                120                       4                      2   \n",
       "26                140                       4                      2   \n",
       "27                140                       4                      2   \n",
       "28                140                       4                      2   \n",
       "29                150                       4                      2   \n",
       "30                110                       4                      2   \n",
       "31                130                       4                      2   \n",
       "32                140                       4                      2   \n",
       "33                110                       4                      2   \n",
       "34                150                       4                      2   \n",
       "35                120                       4                      2   \n",
       "36                120                       4                      2   \n",
       "37                 80                       4                      2   \n",
       "38                130                       4                      2   \n",
       "39                110                       4                      2   \n",
       "40                150                       4                      2   \n",
       "41                 80                       4                      2   \n",
       "42                 90                       4                      2   \n",
       "43                 90                       4                      2   \n",
       "44                120                       4                      2   \n",
       "45                 80                       4                      2   \n",
       "46                120                       4                      2   \n",
       "47                150                       4                      2   \n",
       "48                 90                       4                      2   \n",
       "49                120                       4                      2   \n",
       "\n",
       "   param_max_depth                                             params  \\\n",
       "0              130  {'n_estimators': 140, 'min_samples_split': 4, ...   \n",
       "1               80  {'n_estimators': 140, 'min_samples_split': 4, ...   \n",
       "2              150  {'n_estimators': 80, 'min_samples_split': 4, '...   \n",
       "3              140  {'n_estimators': 150, 'min_samples_split': 4, ...   \n",
       "4              120  {'n_estimators': 110, 'min_samples_split': 4, ...   \n",
       "5              110  {'n_estimators': 140, 'min_samples_split': 4, ...   \n",
       "6              130  {'n_estimators': 150, 'min_samples_split': 4, ...   \n",
       "7              140  {'n_estimators': 100, 'min_samples_split': 4, ...   \n",
       "8              140  {'n_estimators': 140, 'min_samples_split': 4, ...   \n",
       "9               90  {'n_estimators': 80, 'min_samples_split': 4, '...   \n",
       "10             130  {'n_estimators': 110, 'min_samples_split': 4, ...   \n",
       "11             100  {'n_estimators': 120, 'min_samples_split': 4, ...   \n",
       "12             110  {'n_estimators': 80, 'min_samples_split': 4, '...   \n",
       "13             130  {'n_estimators': 130, 'min_samples_split': 4, ...   \n",
       "14             120  {'n_estimators': 130, 'min_samples_split': 4, ...   \n",
       "15             150  {'n_estimators': 110, 'min_samples_split': 4, ...   \n",
       "16             150  {'n_estimators': 130, 'min_samples_split': 4, ...   \n",
       "17              90  {'n_estimators': 90, 'min_samples_split': 4, '...   \n",
       "18             140  {'n_estimators': 120, 'min_samples_split': 4, ...   \n",
       "19              80  {'n_estimators': 90, 'min_samples_split': 4, '...   \n",
       "20             110  {'n_estimators': 100, 'min_samples_split': 4, ...   \n",
       "21             100  {'n_estimators': 100, 'min_samples_split': 4, ...   \n",
       "22             140  {'n_estimators': 130, 'min_samples_split': 4, ...   \n",
       "23              80  {'n_estimators': 110, 'min_samples_split': 4, ...   \n",
       "24              80  {'n_estimators': 100, 'min_samples_split': 4, ...   \n",
       "25             110  {'n_estimators': 120, 'min_samples_split': 4, ...   \n",
       "26             100  {'n_estimators': 140, 'min_samples_split': 4, ...   \n",
       "27              90  {'n_estimators': 140, 'min_samples_split': 4, ...   \n",
       "28             120  {'n_estimators': 140, 'min_samples_split': 4, ...   \n",
       "29             150  {'n_estimators': 150, 'min_samples_split': 4, ...   \n",
       "30              90  {'n_estimators': 110, 'min_samples_split': 4, ...   \n",
       "31             110  {'n_estimators': 130, 'min_samples_split': 4, ...   \n",
       "32             150  {'n_estimators': 140, 'min_samples_split': 4, ...   \n",
       "33             100  {'n_estimators': 110, 'min_samples_split': 4, ...   \n",
       "34              90  {'n_estimators': 150, 'min_samples_split': 4, ...   \n",
       "35              90  {'n_estimators': 120, 'min_samples_split': 4, ...   \n",
       "36             150  {'n_estimators': 120, 'min_samples_split': 4, ...   \n",
       "37             100  {'n_estimators': 80, 'min_samples_split': 4, '...   \n",
       "38              90  {'n_estimators': 130, 'min_samples_split': 4, ...   \n",
       "39             110  {'n_estimators': 110, 'min_samples_split': 4, ...   \n",
       "40              80  {'n_estimators': 150, 'min_samples_split': 4, ...   \n",
       "41             120  {'n_estimators': 80, 'min_samples_split': 4, '...   \n",
       "42             140  {'n_estimators': 90, 'min_samples_split': 4, '...   \n",
       "43             150  {'n_estimators': 90, 'min_samples_split': 4, '...   \n",
       "44              80  {'n_estimators': 120, 'min_samples_split': 4, ...   \n",
       "45             130  {'n_estimators': 80, 'min_samples_split': 4, '...   \n",
       "46             120  {'n_estimators': 120, 'min_samples_split': 4, ...   \n",
       "47             120  {'n_estimators': 150, 'min_samples_split': 4, ...   \n",
       "48             110  {'n_estimators': 90, 'min_samples_split': 4, '...   \n",
       "49             130  {'n_estimators': 120, 'min_samples_split': 4, ...   \n",
       "\n",
       "    split0_test_score  ...  mean_test_score  std_test_score  rank_test_score  \\\n",
       "0            0.897167  ...         0.897145        0.000212               18   \n",
       "1            0.897987  ...         0.897216        0.000420                7   \n",
       "2            0.897310  ...         0.896707        0.000422               42   \n",
       "3            0.897292  ...         0.897164        0.000172               14   \n",
       "4            0.897105  ...         0.896772        0.000182               38   \n",
       "5            0.897463  ...         0.897275        0.000343                4   \n",
       "6            0.897679  ...         0.897202        0.000347                8   \n",
       "7            0.896895  ...         0.896743        0.000173               39   \n",
       "8            0.897490  ...         0.897347        0.000317                2   \n",
       "9            0.896506  ...         0.896640        0.000278               44   \n",
       "10           0.897408  ...         0.896939        0.000383               29   \n",
       "11           0.897459  ...         0.897100        0.000201               21   \n",
       "12           0.896822  ...         0.896432        0.000504               50   \n",
       "13           0.897567  ...         0.897195        0.000350                9   \n",
       "14           0.897147  ...         0.897018        0.000209               23   \n",
       "15           0.897477  ...         0.897068        0.000368               22   \n",
       "16           0.897633  ...         0.897362        0.000362                1   \n",
       "17           0.897275  ...         0.896611        0.000366               46   \n",
       "18           0.897266  ...         0.897173        0.000406               11   \n",
       "19           0.897561  ...         0.896806        0.000418               34   \n",
       "20           0.897054  ...         0.896777        0.000255               36   \n",
       "21           0.897290  ...         0.896933        0.000309               30   \n",
       "22           0.897675  ...         0.897013        0.000410               24   \n",
       "23           0.897312  ...         0.896721        0.000303               40   \n",
       "24           0.896906  ...         0.896850        0.000326               33   \n",
       "25           0.897259  ...         0.896863        0.000280               32   \n",
       "26           0.897276  ...         0.897163        0.000231               15   \n",
       "27           0.897217  ...         0.897163        0.000248               16   \n",
       "28           0.897797  ...         0.897169        0.000352               12   \n",
       "29           0.897455  ...         0.897177        0.000257               10   \n",
       "30           0.897111  ...         0.896675        0.000304               43   \n",
       "31           0.897329  ...         0.897122        0.000273               19   \n",
       "32           0.897853  ...         0.897243        0.000355                5   \n",
       "33           0.897371  ...         0.896708        0.000381               41   \n",
       "34           0.897429  ...         0.897165        0.000256               13   \n",
       "35           0.896908  ...         0.896940        0.000209               28   \n",
       "36           0.897540  ...         0.896988        0.000360               25   \n",
       "37           0.896813  ...         0.896793        0.000267               35   \n",
       "38           0.897369  ...         0.897163        0.000194               17   \n",
       "39           0.897014  ...         0.897105        0.000383               20   \n",
       "40           0.897634  ...         0.897304        0.000489                3   \n",
       "41           0.896611  ...         0.896470        0.000249               49   \n",
       "42           0.897036  ...         0.896775        0.000408               37   \n",
       "43           0.896943  ...         0.896604        0.000242               47   \n",
       "44           0.897141  ...         0.896913        0.000160               31   \n",
       "45           0.896967  ...         0.896538        0.000351               48   \n",
       "46           0.896840  ...         0.896953        0.000280               27   \n",
       "47           0.897766  ...         0.897226        0.000335                6   \n",
       "48           0.896645  ...         0.896635        0.000301               45   \n",
       "49           0.896994  ...         0.896965        0.000266               26   \n",
       "\n",
       "    split0_train_score  split1_train_score  split2_train_score  \\\n",
       "0             0.974457            0.974679            0.974643   \n",
       "1             0.974444            0.974479            0.974625   \n",
       "2             0.974191            0.974107            0.974259   \n",
       "3             0.974425            0.974579            0.974616   \n",
       "4             0.974302            0.974473            0.974443   \n",
       "5             0.974481            0.974558            0.974618   \n",
       "6             0.974538            0.974518            0.974596   \n",
       "7             0.974295            0.974356            0.974421   \n",
       "8             0.974360            0.974607            0.974664   \n",
       "9             0.974042            0.974296            0.974322   \n",
       "10            0.974365            0.974343            0.974402   \n",
       "11            0.974438            0.974544            0.974521   \n",
       "12            0.974044            0.974113            0.974264   \n",
       "13            0.974406            0.974580            0.974592   \n",
       "14            0.974374            0.974530            0.974650   \n",
       "15            0.974386            0.974465            0.974342   \n",
       "16            0.974390            0.974504            0.974579   \n",
       "17            0.974290            0.974289            0.974302   \n",
       "18            0.974372            0.974449            0.974567   \n",
       "19            0.974185            0.974316            0.974361   \n",
       "20            0.974235            0.974301            0.974354   \n",
       "21            0.974237            0.974361            0.974503   \n",
       "22            0.974518            0.974517            0.974564   \n",
       "23            0.974413            0.974375            0.974327   \n",
       "24            0.974432            0.974466            0.974391   \n",
       "25            0.974382            0.974411            0.974439   \n",
       "26            0.974385            0.974512            0.974700   \n",
       "27            0.974537            0.974566            0.974589   \n",
       "28            0.974445            0.974576            0.974438   \n",
       "29            0.974473            0.974626            0.974650   \n",
       "30            0.974292            0.974384            0.974431   \n",
       "31            0.974347            0.974490            0.974557   \n",
       "32            0.974562            0.974565            0.974589   \n",
       "33            0.974215            0.974329            0.974469   \n",
       "34            0.974463            0.974610            0.974729   \n",
       "35            0.974281            0.974436            0.974576   \n",
       "36            0.974417            0.974417            0.974370   \n",
       "37            0.974118            0.974139            0.974327   \n",
       "38            0.974415            0.974492            0.974565   \n",
       "39            0.974397            0.974423            0.974574   \n",
       "40            0.974445            0.974567            0.974640   \n",
       "41            0.974073            0.974346            0.974292   \n",
       "42            0.974178            0.974385            0.974414   \n",
       "43            0.974234            0.974297            0.974361   \n",
       "44            0.974354            0.974471            0.974507   \n",
       "45            0.974093            0.974267            0.974188   \n",
       "46            0.974293            0.974520            0.974523   \n",
       "47            0.974519            0.974540            0.974614   \n",
       "48            0.974201            0.974145            0.974292   \n",
       "49            0.974405            0.974529            0.974624   \n",
       "\n",
       "    split3_train_score  split4_train_score  mean_train_score  std_train_score  \n",
       "0             0.974846            0.974797          0.974685         0.000136  \n",
       "1             0.974978            0.974737          0.974652         0.000194  \n",
       "2             0.974568            0.974523          0.974329         0.000183  \n",
       "3             0.974911            0.974775          0.974661         0.000167  \n",
       "4             0.974760            0.974556          0.974507         0.000151  \n",
       "5             0.974927            0.974859          0.974689         0.000174  \n",
       "6             0.974935            0.974820          0.974681         0.000166  \n",
       "7             0.974718            0.974550          0.974468         0.000151  \n",
       "8             0.974838            0.974745          0.974643         0.000161  \n",
       "9             0.974427            0.974362          0.974290         0.000131  \n",
       "10            0.974882            0.974590          0.974516         0.000203  \n",
       "11            0.974900            0.974672          0.974615         0.000161  \n",
       "12            0.974461            0.974310          0.974238         0.000148  \n",
       "13            0.974831            0.974674          0.974617         0.000138  \n",
       "14            0.974931            0.974738          0.974645         0.000188  \n",
       "15            0.974779            0.974665          0.974527         0.000168  \n",
       "16            0.974911            0.974699          0.974617         0.000178  \n",
       "17            0.974650            0.974349          0.974376         0.000139  \n",
       "18            0.974806            0.974656          0.974570         0.000153  \n",
       "19            0.974709            0.974499          0.974414         0.000179  \n",
       "20            0.974664            0.974622          0.974435         0.000175  \n",
       "21            0.974835            0.974681          0.974523         0.000215  \n",
       "22            0.974995            0.974689          0.974657         0.000180  \n",
       "23            0.974688            0.974543          0.974469         0.000131  \n",
       "24            0.974746            0.974554          0.974518         0.000126  \n",
       "25            0.974878            0.974627          0.974547         0.000186  \n",
       "26            0.974944            0.974811          0.974670         0.000201  \n",
       "27            0.974841            0.974746          0.974656         0.000117  \n",
       "28            0.974997            0.974782          0.974648         0.000215  \n",
       "29            0.974968            0.974740          0.974691         0.000163  \n",
       "30            0.974770            0.974552          0.974486         0.000165  \n",
       "31            0.974776            0.974670          0.974568         0.000147  \n",
       "32            0.974867            0.974659          0.974649         0.000115  \n",
       "33            0.974796            0.974563          0.974474         0.000200  \n",
       "34            0.974906            0.974837          0.974709         0.000159  \n",
       "35            0.974831            0.974671          0.974559         0.000189  \n",
       "36            0.974761            0.974645          0.974522         0.000154  \n",
       "37            0.974542            0.974451          0.974315         0.000167  \n",
       "38            0.974925            0.974786          0.974637         0.000190  \n",
       "39            0.974809            0.974648          0.974570         0.000152  \n",
       "40            0.974985            0.974805          0.974688         0.000188  \n",
       "41            0.974632            0.974326          0.974334         0.000179  \n",
       "42            0.974602            0.974533          0.974423         0.000146  \n",
       "43            0.974698            0.974441          0.974406         0.000161  \n",
       "44            0.974889            0.974673          0.974579         0.000186  \n",
       "45            0.974568            0.974371          0.974297         0.000164  \n",
       "46            0.974864            0.974691          0.974578         0.000191  \n",
       "47            0.975001            0.974732          0.974681         0.000177  \n",
       "48            0.974722            0.974390          0.974350         0.000204  \n",
       "49            0.974764            0.974704          0.974605         0.000128  \n",
       "\n",
       "[50 rows x 24 columns]"
      ]
     },
     "execution_count": 14,
     "metadata": {},
     "output_type": "execute_result"
    }
   ],
   "source": [
    "pd.DataFrame(random_search_2.cv_results_)"
   ]
  },
  {
   "cell_type": "code",
   "execution_count": 15,
   "metadata": {},
   "outputs": [
    {
     "data": {
      "text/plain": [
       "Text(0, 0.5, 'Test Score')"
      ]
     },
     "execution_count": 15,
     "metadata": {},
     "output_type": "execute_result"
    },
    {
     "data": {
      "image/png": "[encoded data removed]",
      "text/plain": [
       "<Figure size 576x432 with 1 Axes>"
      ]
     },
     "metadata": {
      "needs_background": "light"
     },
     "output_type": "display_data"
    }
   ],
   "source": [
    "rs_cv_results_2 = pd.DataFrame(random_search_2.cv_results_)\n",
    "plt.figure(figsize=(8, 6))\n",
    "sns.lineplot(x='param_n_estimators', y='split0_test_score', data=rs_cv_results_2)\n",
    "sns.lineplot(x='param_n_estimators', y='split1_test_score', data=rs_cv_results_2)\n",
    "sns.lineplot(x='param_n_estimators', y='split2_test_score', data=rs_cv_results_2)\n",
    "sns.lineplot(x='param_n_estimators', y='split3_test_score', data=rs_cv_results_2)\n",
    "sns.lineplot(x='param_n_estimators', y='split4_test_score', data=rs_cv_results_2)\n",
    "plt.ylabel('Test Score')"
   ]
  },
  {
   "cell_type": "code",
   "execution_count": 16,
   "metadata": {},
   "outputs": [
    {
     "data": {
      "text/plain": [
       "Text(0, 0.5, 'Score')"
      ]
     },
     "execution_count": 16,
     "metadata": {},
     "output_type": "execute_result"
    },
    {
     "data": {
      "image/png": "[encoded data removed]",
      "text/plain": [
       "<Figure size 576x432 with 1 Axes>"
      ]
     },
     "metadata": {
      "needs_background": "light"
     },
     "output_type": "display_data"
    }
   ],
   "source": [
    "plt.figure(figsize=(8, 6))\n",
    "sns.lineplot(x='param_n_estimators', y='mean_train_score', data=rs_cv_results_2)\n",
    "sns.lineplot(x='param_n_estimators', y='mean_test_score', data=rs_cv_results_2)\n",
    "plt.ylabel('Score')"
   ]
  },
  {
   "cell_type": "code",
   "execution_count": 17,
   "metadata": {},
   "outputs": [
    {
     "data": {
      "text/plain": [
       "Text(0, 0.5, 'Score')"
      ]
     },
     "execution_count": 17,
     "metadata": {},
     "output_type": "execute_result"
    },
    {
     "data": {
      "image/png": "[encoded data removed]",
      "text/plain": [
       "<Figure size 576x432 with 1 Axes>"
      ]
     },
     "metadata": {
      "needs_background": "light"
     },
     "output_type": "display_data"
    }
   ],
   "source": [
    "plt.figure(figsize=(8, 6))\n",
    "sns.lineplot(x='param_max_depth', y='mean_train_score', data=rs_cv_results_2)\n",
    "sns.lineplot(x='param_max_depth', y='mean_test_score', data=rs_cv_results_2)\n",
    "plt.ylabel('Score')"
   ]
  },
  {
   "cell_type": "code",
   "execution_count": 23,
   "metadata": {},
   "outputs": [
    {
     "data": {
      "text/plain": [
       "Text(0, 0.5, 'Score')"
      ]
     },
     "execution_count": 23,
     "metadata": {},
     "output_type": "execute_result"
    },
    {
     "data": {
      "image/png": "[encoded data removed]",
      "text/plain": [
       "<Figure size 576x432 with 1 Axes>"
      ]
     },
     "metadata": {
      "needs_background": "light"
     },
     "output_type": "display_data"
    }
   ],
   "source": [
    "plt.figure(figsize=(8, 6))\n",
    "sns.lineplot(x='param_n_estimators', y='mean_train_score', data=pd.concat([rs_cv_results_1, rs_cv_results_2]))\n",
    "sns.lineplot(x='param_n_estimators', y='mean_test_score', data=pd.concat([rs_cv_results_1, rs_cv_results_2]))\n",
    "plt.ylabel('Score')"
   ]
  },
  {
   "cell_type": "code",
   "execution_count": 24,
   "metadata": {},
   "outputs": [
    {
     "data": {
      "text/plain": [
       "Text(0, 0.5, 'Score')"
      ]
     },
     "execution_count": 24,
     "metadata": {},
     "output_type": "execute_result"
    },
    {
     "data": {
      "image/png": "[encoded data removed]",
      "text/plain": [
       "<Figure size 576x432 with 1 Axes>"
      ]
     },
     "metadata": {
      "needs_background": "light"
     },
     "output_type": "display_data"
    }
   ],
   "source": [
    "plt.figure(figsize=(8, 6))\n",
    "sns.lineplot(x='param_max_depth', y='mean_train_score', data=pd.concat([rs_cv_results_1, rs_cv_results_2]))\n",
    "sns.lineplot(x='param_max_depth', y='mean_test_score', data=pd.concat([rs_cv_results_1, rs_cv_results_2]))\n",
    "plt.ylabel('Score')"
   ]
  },
  {
   "cell_type": "markdown",
   "metadata": {},
   "source": [
    "## GridSearchCV"
   ]
  },
  {
   "cell_type": "markdown",
   "metadata": {},
   "source": [
    "### Iter 1"
   ]
  },
  {
   "cell_type": "code",
   "execution_count": 25,
   "metadata": {},
   "outputs": [
    {
     "name": "stdout",
     "output_type": "stream",
     "text": [
      "Fitting 5 folds for each of 30 candidates, totalling 150 fits\n"
     ]
    },
    {
     "name": "stderr",
     "output_type": "stream",
     "text": [
      "/usr/local/lib/python3.6/dist-packages/joblib/externals/loky/process_executor.py:706: UserWarning: A worker stopped while some jobs were given to the executor. This can be caused by a too short worker timeout or by a memory leak.\n",
      "  \"timeout or by a memory leak.\", UserWarning\n"
     ]
    }
   ],
   "source": [
    "grid_param = {\n",
    "    \"n_estimators\": np.arange(100, 151, 10),\n",
    "    \"max_depth\": np.arange(80, 121, 10),\n",
    "    \"min_samples_split\": [4],\n",
    "    \"min_samples_leaf\": [2]\n",
    "}\n",
    "\n",
    "grid_search = GridSearchCV(\n",
    "    estimator=RandomForestRegressor(n_jobs=-1, random_state=101),\n",
    "    param_grid=grid_param,\n",
    "    cv=5,\n",
    "    n_jobs=-1,\n",
    "    return_train_score=True,\n",
    "    verbose=10)\n",
    "\n",
    "# with joblib.parallel_backend('dask'):\n",
    "grid_search.fit(X, y)\n",
    "\n",
    "# with open('grid_search_1', 'wb') as f:\n",
    "#     pickle.dump(grid_search, f)"
   ]
  },
  {
   "cell_type": "code",
   "execution_count": 10,
   "metadata": {},
   "outputs": [],
   "source": [
    "with open('grid_search_1', 'rb') as f:\n",
    "    grid_search = pickle.load(f)"
   ]
  },
  {
   "cell_type": "code",
   "execution_count": 11,
   "metadata": {},
   "outputs": [
    {
     "data": {
      "text/plain": [
       "{'max_depth': 80,\n",
       " 'min_samples_leaf': 2,\n",
       " 'min_samples_split': 4,\n",
       " 'n_estimators': 150}"
      ]
     },
     "execution_count": 11,
     "metadata": {},
     "output_type": "execute_result"
    }
   ],
   "source": [
    "grid_search.best_params_"
   ]
  },
  {
   "cell_type": "code",
   "execution_count": 12,
   "metadata": {},
   "outputs": [
    {
     "data": {
      "text/plain": [
       "0.8971432368321233"
      ]
     },
     "execution_count": 12,
     "metadata": {},
     "output_type": "execute_result"
    }
   ],
   "source": [
    "grid_search.best_score_"
   ]
  },
  {
   "cell_type": "code",
   "execution_count": 13,
   "metadata": {},
   "outputs": [
    {
     "data": {
      "text/plain": [
       "Text(0, 0.5, 'Test Score')"
      ]
     },
     "execution_count": 13,
     "metadata": {},
     "output_type": "execute_result"
    },
    {
     "data": {
      "image/png": "[encoded data removed]",
      "text/plain": [
       "<Figure size 576x432 with 1 Axes>"
      ]
     },
     "metadata": {
      "needs_background": "light"
     },
     "output_type": "display_data"
    }
   ],
   "source": [
    "gs_cv_results_1 = pd.DataFrame(grid_search.cv_results_)\n",
    "plt.figure(figsize=(8, 6))\n",
    "sns.lineplot(x='param_n_estimators', y='split0_test_score', data=gs_cv_results_1)\n",
    "sns.lineplot(x='param_n_estimators', y='split1_test_score', data=gs_cv_results_1)\n",
    "sns.lineplot(x='param_n_estimators', y='split2_test_score', data=gs_cv_results_1)\n",
    "sns.lineplot(x='param_n_estimators', y='split3_test_score', data=gs_cv_results_1)\n",
    "sns.lineplot(x='param_n_estimators', y='split4_test_score', data=gs_cv_results_1)\n",
    "plt.ylabel('Test Score')"
   ]
  },
  {
   "cell_type": "code",
   "execution_count": 30,
   "metadata": {},
   "outputs": [
    {
     "data": {
      "text/plain": [
       "Text(0, 0.5, 'Score')"
      ]
     },
     "execution_count": 30,
     "metadata": {},
     "output_type": "execute_result"
    },
    {
     "data": {
      "image/png": "[encoded data removed]",
      "text/plain": [
       "<Figure size 576x432 with 1 Axes>"
      ]
     },
     "metadata": {
      "needs_background": "light"
     },
     "output_type": "display_data"
    }
   ],
   "source": [
    "plt.figure(figsize=(8, 6))\n",
    "sns.lineplot(x='param_n_estimators', y='mean_train_score', data=gs_cv_results_1)\n",
    "sns.lineplot(x='param_n_estimators', y='mean_test_score', data=gs_cv_results_1)\n",
    "plt.ylabel('Score')"
   ]
  },
  {
   "cell_type": "code",
   "execution_count": 31,
   "metadata": {},
   "outputs": [
    {
     "data": {
      "text/plain": [
       "7.925094781370236e-05"
      ]
     },
     "execution_count": 31,
     "metadata": {},
     "output_type": "execute_result"
    }
   ],
   "source": [
    "gs_cv_results_1.mean_train_score.std()"
   ]
  },
  {
   "cell_type": "code",
   "execution_count": 32,
   "metadata": {},
   "outputs": [
    {
     "data": {
      "text/plain": [
       "0.00016705779354103754"
      ]
     },
     "execution_count": 32,
     "metadata": {},
     "output_type": "execute_result"
    }
   ],
   "source": [
    "gs_cv_results_1.mean_test_score.std()"
   ]
  },
  {
   "cell_type": "code",
   "execution_count": 33,
   "metadata": {},
   "outputs": [
    {
     "data": {
      "text/plain": [
       "Text(0, 0.5, 'Score')"
      ]
     },
     "execution_count": 33,
     "metadata": {},
     "output_type": "execute_result"
    },
    {
     "data": {
      "image/png": "[encoded data removed]",
      "text/plain": [
       "<Figure size 576x432 with 1 Axes>"
      ]
     },
     "metadata": {
      "needs_background": "light"
     },
     "output_type": "display_data"
    }
   ],
   "source": [
    "plt.figure(figsize=(8, 6))\n",
    "sns.lineplot(x='param_max_depth', y='mean_train_score', data=gs_cv_results_1)\n",
    "sns.lineplot(x='param_max_depth', y='mean_test_score', data=gs_cv_results_1)\n",
    "plt.ylabel('Score')"
   ]
  },
  {
   "cell_type": "markdown",
   "metadata": {},
   "source": [
    "### Iter 2"
   ]
  },
  {
   "cell_type": "code",
   "execution_count": null,
   "metadata": {},
   "outputs": [
    {
     "name": "stdout",
     "output_type": "stream",
     "text": [
      "Fitting 5 folds for each of 80 candidates, totalling 400 fits\n"
     ]
    },
    {
     "name": "stderr",
     "output_type": "stream",
     "text": [
      "/usr/local/lib/python3.6/dist-packages/joblib/externals/loky/process_executor.py:706: UserWarning: A worker stopped while some jobs were given to the executor. This can be caused by a too short worker timeout or by a memory leak.\n",
      "  \"timeout or by a memory leak.\", UserWarning\n"
     ]
    }
   ],
   "source": [
    "grid_param_2 = {\n",
    "    \"n_estimators\": np.arange(10, 101, 10),\n",
    "    \"max_depth\": np.arange(10, 81, 10),\n",
    "    \"min_samples_split\": [4],\n",
    "    \"min_samples_leaf\": [2]\n",
    "}\n",
    "\n",
    "grid_search_2 = GridSearchCV(\n",
    "    estimator=RandomForestRegressor(n_jobs=-1, random_state=101),\n",
    "    param_grid=grid_param_2,\n",
    "    cv=5,\n",
    "    n_jobs=-1,\n",
    "    return_train_score=True,\n",
    "    verbose=10)\n",
    "\n",
    "# with joblib.parallel_backend('dask'):\n",
    "grid_search_2.fit(X, y)\n",
    "\n",
    "# with open('grid_search_2', 'wb') as f:\n",
    "#     pickle.dump(grid_search_2, f)"
   ]
  },
  {
   "cell_type": "code",
   "execution_count": 14,
   "metadata": {},
   "outputs": [],
   "source": [
    "with open('grid_search_2', 'rb') as f:\n",
    "    grid_search_2 = pickle.load(f)"
   ]
  },
  {
   "cell_type": "code",
   "execution_count": 15,
   "metadata": {},
   "outputs": [
    {
     "data": {
      "text/plain": [
       "{'max_depth': 40,\n",
       " 'min_samples_leaf': 2,\n",
       " 'min_samples_split': 4,\n",
       " 'n_estimators': 100}"
      ]
     },
     "execution_count": 15,
     "metadata": {},
     "output_type": "execute_result"
    }
   ],
   "source": [
    "grid_search_2.best_params_"
   ]
  },
  {
   "cell_type": "code",
   "execution_count": 16,
   "metadata": {},
   "outputs": [
    {
     "data": {
      "text/plain": [
       "0.8967191492598052"
      ]
     },
     "execution_count": 16,
     "metadata": {},
     "output_type": "execute_result"
    }
   ],
   "source": [
    "grid_search_2.best_score_"
   ]
  },
  {
   "cell_type": "code",
   "execution_count": 17,
   "metadata": {},
   "outputs": [
    {
     "data": {
      "text/plain": [
       "Text(0, 0.5, 'Test Score')"
      ]
     },
     "execution_count": 17,
     "metadata": {},
     "output_type": "execute_result"
    },
    {
     "data": {
      "image/png": "[encoded data removed]",
      "text/plain": [
       "<Figure size 576x432 with 1 Axes>"
      ]
     },
     "metadata": {
      "needs_background": "light"
     },
     "output_type": "display_data"
    }
   ],
   "source": [
    "gs_cv_results_2 = pd.DataFrame(grid_search_2.cv_results_)\n",
    "plt.figure(figsize=(8, 6))\n",
    "sns.lineplot(x='param_n_estimators', y='split0_test_score', data=gs_cv_results_2)\n",
    "sns.lineplot(x='param_n_estimators', y='split1_test_score', data=gs_cv_results_2)\n",
    "sns.lineplot(x='param_n_estimators', y='split2_test_score', data=gs_cv_results_2)\n",
    "sns.lineplot(x='param_n_estimators', y='split3_test_score', data=gs_cv_results_2)\n",
    "sns.lineplot(x='param_n_estimators', y='split4_test_score', data=gs_cv_results_2)\n",
    "plt.ylabel('Test Score')"
   ]
  },
  {
   "cell_type": "code",
   "execution_count": 18,
   "metadata": {},
   "outputs": [
    {
     "data": {
      "text/plain": [
       "Text(0, 0.5, 'Score')"
      ]
     },
     "execution_count": 18,
     "metadata": {},
     "output_type": "execute_result"
    },
    {
     "data": {
      "image/png": "[encoded data removed]",
      "text/plain": [
       "<Figure size 576x432 with 1 Axes>"
      ]
     },
     "metadata": {
      "needs_background": "light"
     },
     "output_type": "display_data"
    }
   ],
   "source": [
    "plt.figure(figsize=(8, 6))\n",
    "sns.lineplot(x='param_n_estimators', y='mean_train_score', data=gs_cv_results_2)\n",
    "sns.lineplot(x='param_n_estimators', y='mean_test_score', data=gs_cv_results_2)\n",
    "plt.ylabel('Score')"
   ]
  },
  {
   "cell_type": "code",
   "execution_count": 19,
   "metadata": {},
   "outputs": [
    {
     "data": {
      "text/plain": [
       "Text(0, 0.5, 'Score')"
      ]
     },
     "execution_count": 19,
     "metadata": {},
     "output_type": "execute_result"
    },
    {
     "data": {
      "image/png": "[encoded data removed]",
      "text/plain": [
       "<Figure size 576x432 with 1 Axes>"
      ]
     },
     "metadata": {
      "needs_background": "light"
     },
     "output_type": "display_data"
    }
   ],
   "source": [
    "plt.figure(figsize=(8, 6))\n",
    "sns.lineplot(x='param_max_depth', y='mean_train_score', data=gs_cv_results_2)\n",
    "sns.lineplot(x='param_max_depth', y='mean_test_score', data=gs_cv_results_2)\n",
    "plt.ylabel('Score')"
   ]
  },
  {
   "cell_type": "code",
   "execution_count": 20,
   "metadata": {},
   "outputs": [
    {
     "data": {
      "text/plain": [
       "Text(0, 0.5, 'Score')"
      ]
     },
     "execution_count": 20,
     "metadata": {},
     "output_type": "execute_result"
    },
    {
     "data": {
      "image/png": "[encoded data removed]",
      "text/plain": [
       "<Figure size 576x432 with 1 Axes>"
      ]
     },
     "metadata": {
      "needs_background": "light"
     },
     "output_type": "display_data"
    }
   ],
   "source": [
    "plt.figure(figsize=(8, 6))\n",
    "sns.lineplot(x='param_n_estimators', y='mean_train_score', data=pd.concat([gs_cv_results_2, gs_cv_results_1]))\n",
    "sns.lineplot(x='param_n_estimators', y='mean_test_score', data=pd.concat([gs_cv_results_2, gs_cv_results_1]))\n",
    "plt.ylabel('Score')"
   ]
  },
  {
   "cell_type": "code",
   "execution_count": 21,
   "metadata": {},
   "outputs": [
    {
     "data": {
      "text/plain": [
       "Text(0, 0.5, 'Score')"
      ]
     },
     "execution_count": 21,
     "metadata": {},
     "output_type": "execute_result"
    },
    {
     "data": {
      "image/png": "[encoded data removed]",
      "text/plain": [
       "<Figure size 576x432 with 1 Axes>"
      ]
     },
     "metadata": {
      "needs_background": "light"
     },
     "output_type": "display_data"
    }
   ],
   "source": [
    "plt.figure(figsize=(8, 6))\n",
    "sns.lineplot(x='param_max_depth', y='mean_train_score', data=pd.concat([gs_cv_results_2, gs_cv_results_1]))\n",
    "sns.lineplot(x='param_max_depth', y='mean_test_score', data=pd.concat([gs_cv_results_2, gs_cv_results_1]))\n",
    "plt.ylabel('Score')"
   ]
  },
  {
   "cell_type": "markdown",
   "metadata": {},
   "source": [
    "# Model based on hyper-parameters search"
   ]
  },
  {
   "cell_type": "markdown",
   "metadata": {},
   "source": [
    "Based on above results we get following as best possible hyperparameters for RandomForestRegressor:\n",
    "\n",
    "{'max_depth': 20,\n",
    " 'min_samples_leaf': 2,\n",
    " 'min_samples_split': 4,\n",
    " 'n_estimators': 110}"
   ]
  },
  {
   "cell_type": "code",
   "execution_count": 26,
   "metadata": {},
   "outputs": [],
   "source": [
    "reg = RandomForestRegressor(n_estimators=110,\n",
    "                            max_depth=20,\n",
    "                            min_samples_leaf=2,\n",
    "                            min_samples_split=4,\n",
    "                            n_jobs=-1,\n",
    "                            random_state=101)"
   ]
  },
  {
   "cell_type": "code",
   "execution_count": 27,
   "metadata": {},
   "outputs": [
    {
     "data": {
      "text/plain": [
       "RandomForestRegressor(max_depth=20, min_samples_leaf=2, min_samples_split=4,\n",
       "                      n_estimators=110, n_jobs=-1, random_state=101)"
      ]
     },
     "execution_count": 27,
     "metadata": {},
     "output_type": "execute_result"
    }
   ],
   "source": [
    "reg.fit(X_train, y_train)"
   ]
  },
  {
   "cell_type": "code",
   "execution_count": 28,
   "metadata": {},
   "outputs": [
    {
     "name": "stdout",
     "output_type": "stream",
     "text": [
      "Training score:  0.9564109059098229\n"
     ]
    }
   ],
   "source": [
    "print(\"Training score: \", reg.score(X_train, y_train))"
   ]
  },
  {
   "cell_type": "code",
   "execution_count": 29,
   "metadata": {},
   "outputs": [
    {
     "name": "stdout",
     "output_type": "stream",
     "text": [
      "Test score:  0.8917117741225009\n"
     ]
    }
   ],
   "source": [
    "print(\"Test score: \", reg.score(X_val, y_val))"
   ]
  },
  {
   "cell_type": "code",
   "execution_count": null,
   "metadata": {},
   "outputs": [],
   "source": []
  }
 ],
 "metadata": {
  "kernelspec": {
   "display_name": "Python 3",
   "language": "python",
   "name": "python3"
  },
  "language_info": {
   "codemirror_mode": {
    "name": "ipython",
    "version": 3
   },
   "file_extension": ".py",
   "mimetype": "text/x-python",
   "name": "python",
   "nbconvert_exporter": "python",
   "pygments_lexer": "ipython3",
   "version": "3.6.8"
  }
 },
 "nbformat": 4,
 "nbformat_minor": 4
}
