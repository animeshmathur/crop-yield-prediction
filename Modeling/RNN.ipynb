{
 "cells": [
  {
   "cell_type": "code",
   "execution_count": 1,
   "metadata": {},
   "outputs": [],
   "source": [
    "import os,sys,inspect\n",
    "current_dir = os.path.dirname(os.path.abspath(inspect.getfile(inspect.currentframe())))\n",
    "parent_dir = os.path.dirname(current_dir)\n",
    "sys.path.insert(0, parent_dir)"
   ]
  },
  {
   "cell_type": "code",
   "execution_count": 24,
   "metadata": {},
   "outputs": [],
   "source": [
    "import pandas as pd\n",
    "import numpy as np\n",
    "\n",
    "import matplotlib.pyplot as plt\n",
    "\n",
    "from common.preprocessing import CropDataProcessor\n",
    "\n",
    "import pickle"
   ]
  },
  {
   "cell_type": "markdown",
   "metadata": {},
   "source": [
    "# Load data"
   ]
  },
  {
   "cell_type": "code",
   "execution_count": 3,
   "metadata": {},
   "outputs": [],
   "source": [
    "train_data = pd.read_csv(\"../data/Crop_Data__train.csv\")"
   ]
  },
  {
   "cell_type": "code",
   "execution_count": 4,
   "metadata": {},
   "outputs": [
    {
     "data": {
      "text/plain": [
       "(164986, 25)"
      ]
     },
     "execution_count": 4,
     "metadata": {},
     "output_type": "execute_result"
    }
   ],
   "source": [
    "train_data.shape"
   ]
  },
  {
   "cell_type": "markdown",
   "metadata": {},
   "source": [
    "# Preprocessing"
   ]
  },
  {
   "cell_type": "code",
   "execution_count": 5,
   "metadata": {},
   "outputs": [],
   "source": [
    "data_preprocessor = CropDataProcessor(train_data, excluded_features=['Dew_Frost_Point', 'Year', 'State', 'District'])"
   ]
  },
  {
   "cell_type": "code",
   "execution_count": 6,
   "metadata": {},
   "outputs": [
    {
     "name": "stdout",
     "output_type": "stream",
     "text": [
      "Warning 1: Features are not processed yet.\n",
      "Warning 2: Distribution of Yield may not be normal.\n"
     ]
    },
    {
     "data": {
      "text/plain": [
       "(164986, 19)"
      ]
     },
     "execution_count": 6,
     "metadata": {},
     "output_type": "execute_result"
    }
   ],
   "source": [
    "data_preprocessor.get_training_data()[0].shape"
   ]
  },
  {
   "cell_type": "code",
   "execution_count": 7,
   "metadata": {},
   "outputs": [
    {
     "name": "stdout",
     "output_type": "stream",
     "text": [
      "Clustered Lat-Long to Geo Region.\n",
      "Encoded Crop using WoE.\n",
      "Transforming numerical features.\n",
      "Transforming categorical features.\n"
     ]
    }
   ],
   "source": [
    "data_preprocessor.process_to_train()"
   ]
  },
  {
   "cell_type": "code",
   "execution_count": 8,
   "metadata": {},
   "outputs": [
    {
     "data": {
      "text/plain": [
       "((164986, 28), (164986,))"
      ]
     },
     "execution_count": 8,
     "metadata": {},
     "output_type": "execute_result"
    }
   ],
   "source": [
    "X, y = data_preprocessor.get_training_data()\n",
    "X.shape, y.shape"
   ]
  },
  {
   "cell_type": "markdown",
   "metadata": {},
   "source": [
    "## Split"
   ]
  },
  {
   "cell_type": "code",
   "execution_count": 13,
   "metadata": {},
   "outputs": [],
   "source": [
    "from sklearn.model_selection import train_test_split"
   ]
  },
  {
   "cell_type": "code",
   "execution_count": 14,
   "metadata": {},
   "outputs": [],
   "source": [
    "X_train, X_test, y_train, y_test = train_test_split(X, y, test_size=0.2, random_state=42)"
   ]
  },
  {
   "cell_type": "markdown",
   "metadata": {},
   "source": [
    "# RNN"
   ]
  },
  {
   "cell_type": "code",
   "execution_count": 12,
   "metadata": {},
   "outputs": [],
   "source": [
    "from tensorflow.keras import Sequential\n",
    "from tensorflow.keras.layers import Input, Dense, Dropout\n",
    "from tensorflow.keras.callbacks import EarlyStopping"
   ]
  },
  {
   "cell_type": "code",
   "execution_count": 89,
   "metadata": {
    "scrolled": true
   },
   "outputs": [
    {
     "name": "stdout",
     "output_type": "stream",
     "text": [
      "Epoch 1/100\n",
      "1444/1444 [==============================] - 2s 2ms/step - loss: 0.1474 - mse: 0.1474 - val_loss: 0.0451 - val_mse: 0.0451\n",
      "Epoch 2/100\n",
      "1444/1444 [==============================] - 2s 2ms/step - loss: 0.0421 - mse: 0.0421 - val_loss: 0.0311 - val_mse: 0.0311\n",
      "Epoch 3/100\n",
      "1444/1444 [==============================] - 2s 2ms/step - loss: 0.0346 - mse: 0.0346 - val_loss: 0.0301 - val_mse: 0.0301\n",
      "Epoch 4/100\n",
      "1444/1444 [==============================] - 2s 2ms/step - loss: 0.0327 - mse: 0.0327 - val_loss: 0.0284 - val_mse: 0.0284\n",
      "Epoch 5/100\n",
      "1444/1444 [==============================] - 3s 2ms/step - loss: 0.0318 - mse: 0.0318 - val_loss: 0.0285 - val_mse: 0.0285\n",
      "Epoch 6/100\n",
      "1444/1444 [==============================] - 3s 2ms/step - loss: 0.0311 - mse: 0.0311 - val_loss: 0.0279 - val_mse: 0.0279\n",
      "Epoch 7/100\n",
      "1444/1444 [==============================] - 3s 2ms/step - loss: 0.0308 - mse: 0.0308 - val_loss: 0.0275 - val_mse: 0.0275\n",
      "Epoch 8/100\n",
      "1444/1444 [==============================] - 3s 2ms/step - loss: 0.0303 - mse: 0.0303 - val_loss: 0.0279 - val_mse: 0.0279\n",
      "Epoch 9/100\n",
      "1444/1444 [==============================] - 3s 2ms/step - loss: 0.0303 - mse: 0.0303 - val_loss: 0.0277 - val_mse: 0.0277\n",
      "Epoch 10/100\n",
      "1444/1444 [==============================] - 3s 2ms/step - loss: 0.0300 - mse: 0.0300 - val_loss: 0.0274 - val_mse: 0.0274\n",
      "Epoch 11/100\n",
      "1444/1444 [==============================] - 3s 2ms/step - loss: 0.0299 - mse: 0.0299 - val_loss: 0.0272 - val_mse: 0.0272\n",
      "Epoch 12/100\n",
      "1444/1444 [==============================] - 3s 2ms/step - loss: 0.0296 - mse: 0.0296 - val_loss: 0.0285 - val_mse: 0.0285\n",
      "Epoch 13/100\n",
      "1444/1444 [==============================] - 3s 2ms/step - loss: 0.0296 - mse: 0.0296 - val_loss: 0.0277 - val_mse: 0.0277\n",
      "Epoch 14/100\n",
      "1444/1444 [==============================] - 3s 2ms/step - loss: 0.0295 - mse: 0.0295 - val_loss: 0.0275 - val_mse: 0.0275\n",
      "Epoch 00014: early stopping\n"
     ]
    },
    {
     "data": {
      "text/plain": [
       "<tensorflow.python.keras.callbacks.History at 0x7fe838f4f1f0>"
      ]
     },
     "execution_count": 89,
     "metadata": {},
     "output_type": "execute_result"
    }
   ],
   "source": [
    "model = Sequential()\n",
    "\n",
    "model.add(Dense(units=14))\n",
    "model.add(Dropout(rate=0.3))\n",
    "model.add(Dense(units=7))\n",
    "\n",
    "\n",
    "model.compile(optimizer='adam', loss='mse', metrics='mse')\n",
    "\n",
    "es = EarlyStopping(monitor='val_loss', mode='min', verbose=1, patience=3)\n",
    "\n",
    "model.fit(X_train, y_train, validation_split=0.3, epochs=100, callbacks=[es], batch_size=64)"
   ]
  },
  {
   "cell_type": "code",
   "execution_count": 90,
   "metadata": {},
   "outputs": [
    {
     "data": {
      "text/plain": [
       "<AxesSubplot:>"
      ]
     },
     "execution_count": 90,
     "metadata": {},
     "output_type": "execute_result"
    },
    {
     "data": {
      "image/png": "[encoded data removed]",
      "text/plain": [
       "<Figure size 720x576 with 1 Axes>"
      ]
     },
     "metadata": {
      "needs_background": "light"
     },
     "output_type": "display_data"
    }
   ],
   "source": [
    "pd.DataFrame(model.history.history).plot(figsize=(10,8))"
   ]
  },
  {
   "cell_type": "code",
   "execution_count": 91,
   "metadata": {},
   "outputs": [],
   "source": [
    "from sklearn.metrics import r2_score"
   ]
  },
  {
   "cell_type": "code",
   "execution_count": 92,
   "metadata": {},
   "outputs": [
    {
     "data": {
      "text/plain": [
       "0.6702910321128328"
      ]
     },
     "execution_count": 92,
     "metadata": {},
     "output_type": "execute_result"
    }
   ],
   "source": [
    "r2_score(y_train, model.predict(X_train).mean(axis=1))"
   ]
  },
  {
   "cell_type": "code",
   "execution_count": 93,
   "metadata": {},
   "outputs": [
    {
     "data": {
      "text/plain": [
       "0.6650491976996057"
      ]
     },
     "execution_count": 93,
     "metadata": {},
     "output_type": "execute_result"
    }
   ],
   "source": [
    "r2_score(y_test, model.predict(X_test).mean(axis=1))"
   ]
  },
  {
   "cell_type": "code",
   "execution_count": null,
   "metadata": {},
   "outputs": [],
   "source": []
  }
 ],
 "metadata": {
  "kernelspec": {
   "display_name": "py3-TF2",
   "language": "python",
   "name": "py3-tf2"
  },
  "language_info": {
   "codemirror_mode": {
    "name": "ipython",
    "version": 3
   },
   "file_extension": ".py",
   "mimetype": "text/x-python",
   "name": "python",
   "nbconvert_exporter": "python",
   "pygments_lexer": "ipython3",
   "version": "3.8.5"
  }
 },
 "nbformat": 4,
 "nbformat_minor": 2
}
