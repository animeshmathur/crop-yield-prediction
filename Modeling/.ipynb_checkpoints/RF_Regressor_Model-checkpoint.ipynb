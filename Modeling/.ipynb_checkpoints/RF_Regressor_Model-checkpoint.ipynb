{
 "cells": [
  {
   "cell_type": "code",
   "execution_count": 1,
   "metadata": {},
   "outputs": [],
   "source": [
    "import os,sys,inspect\n",
    "current_dir = os.path.dirname(os.path.abspath(inspect.getfile(inspect.currentframe())))\n",
    "parent_dir = os.path.dirname(current_dir)\n",
    "sys.path.insert(0, parent_dir)"
   ]
  },
  {
   "cell_type": "code",
   "execution_count": 2,
   "metadata": {},
   "outputs": [],
   "source": [
    "import pandas as pd\n",
    "import numpy as np\n",
    "\n",
    "from sklearn.ensemble import RandomForestRegressor\n",
    "\n",
    "from common.preprocessing import CropDataProcessor\n",
    "\n",
    "import pickle"
   ]
  },
  {
   "cell_type": "markdown",
   "metadata": {},
   "source": [
    "# Load data"
   ]
  },
  {
   "cell_type": "code",
   "execution_count": 3,
   "metadata": {},
   "outputs": [],
   "source": [
    "train_data = pd.read_csv(\"../data/Crop_Data__train.csv\")"
   ]
  },
  {
   "cell_type": "code",
   "execution_count": 4,
   "metadata": {},
   "outputs": [
    {
     "data": {
      "text/plain": [
       "(164986, 25)"
      ]
     },
     "execution_count": 4,
     "metadata": {},
     "output_type": "execute_result"
    }
   ],
   "source": [
    "train_data.shape"
   ]
  },
  {
   "cell_type": "markdown",
   "metadata": {},
   "source": [
    "# Preprocessing"
   ]
  },
  {
   "cell_type": "code",
   "execution_count": 5,
   "metadata": {},
   "outputs": [],
   "source": [
    "data_preprocessor = CropDataProcessor(train_data, excluded_features=['Dew_Frost_Point', 'Year', 'State', 'District'])"
   ]
  },
  {
   "cell_type": "code",
   "execution_count": 6,
   "metadata": {},
   "outputs": [
    {
     "name": "stdout",
     "output_type": "stream",
     "text": [
      "Warning 1: Features are not processed yet.\n",
      "Warning 2: Distribution of Yield may not be normal.\n"
     ]
    },
    {
     "data": {
      "text/plain": [
       "(164986, 19)"
      ]
     },
     "execution_count": 6,
     "metadata": {},
     "output_type": "execute_result"
    }
   ],
   "source": [
    "data_preprocessor.get_training_data()[0].shape"
   ]
  },
  {
   "cell_type": "code",
   "execution_count": 7,
   "metadata": {},
   "outputs": [
    {
     "name": "stdout",
     "output_type": "stream",
     "text": [
      "Clustered Lat-Long to Geo Region.\n",
      "Encoded Crop using WoE.\n",
      "Transforming numerical features.\n",
      "Transforming categorical features.\n"
     ]
    }
   ],
   "source": [
    "data_preprocessor.process_to_train()"
   ]
  },
  {
   "cell_type": "code",
   "execution_count": 8,
   "metadata": {},
   "outputs": [
    {
     "data": {
      "text/plain": [
       "((164986, 28), (164986,))"
      ]
     },
     "execution_count": 8,
     "metadata": {},
     "output_type": "execute_result"
    }
   ],
   "source": [
    "X, y = data_preprocessor.get_training_data()\n",
    "X.shape, y.shape"
   ]
  },
  {
   "cell_type": "markdown",
   "metadata": {},
   "source": [
    "# Model Training"
   ]
  },
  {
   "cell_type": "markdown",
   "metadata": {},
   "source": [
    "From hyper-parameters search we found following setting gives the best and stable train-test scores.\n",
    "\n",
    "{'max_depth': 20,\n",
    " 'min_samples_leaf': 2,\n",
    " 'min_samples_split': 4,\n",
    " 'n_estimators': 110}"
   ]
  },
  {
   "cell_type": "code",
   "execution_count": null,
   "metadata": {},
   "outputs": [],
   "source": [
    "reg = RandomForestRegressor(n_estimators=110,\n",
    "                            max_depth=20,\n",
    "                            min_samples_leaf=2,\n",
    "                            min_samples_split=4,\n",
    "                            n_jobs=-1,\n",
    "                            random_state=101)"
   ]
  },
  {
   "cell_type": "code",
   "execution_count": null,
   "metadata": {},
   "outputs": [],
   "source": [
    "reg.fit(X, y)"
   ]
  },
  {
   "cell_type": "markdown",
   "metadata": {},
   "source": [
    "## Save model"
   ]
  },
  {
   "cell_type": "code",
   "execution_count": null,
   "metadata": {},
   "outputs": [],
   "source": [
    "with open('../model/model.pkl', 'wb') as f:\n",
    "    pickle.dump(reg, f)"
   ]
  },
  {
   "cell_type": "markdown",
   "metadata": {},
   "source": [
    "## Load model"
   ]
  },
  {
   "cell_type": "code",
   "execution_count": 16,
   "metadata": {},
   "outputs": [],
   "source": [
    "model = None\n",
    "with open('../model/model.pkl', 'rb') as f:\n",
    "    model = pickle.load(f)"
   ]
  },
  {
   "cell_type": "markdown",
   "metadata": {},
   "source": [
    "## Training score"
   ]
  },
  {
   "cell_type": "code",
   "execution_count": 17,
   "metadata": {},
   "outputs": [
    {
     "name": "stdout",
     "output_type": "stream",
     "text": [
      "Training score:  0.9564548183323494\n"
     ]
    }
   ],
   "source": [
    "print(\"Training score: \", model.score(X, y))"
   ]
  },
  {
   "cell_type": "markdown",
   "metadata": {},
   "source": [
    "# Model Testing"
   ]
  },
  {
   "cell_type": "markdown",
   "metadata": {},
   "source": [
    "## Load test data"
   ]
  },
  {
   "cell_type": "code",
   "execution_count": 18,
   "metadata": {},
   "outputs": [],
   "source": [
    "test_data = pd.read_csv(\"../data/Crop_Data__test.csv\")"
   ]
  },
  {
   "cell_type": "code",
   "execution_count": 19,
   "metadata": {},
   "outputs": [
    {
     "data": {
      "text/html": [
       "<div>\n",
       "<style scoped>\n",
       "    .dataframe tbody tr th:only-of-type {\n",
       "        vertical-align: middle;\n",
       "    }\n",
       "\n",
       "    .dataframe tbody tr th {\n",
       "        vertical-align: top;\n",
       "    }\n",
       "\n",
       "    .dataframe thead th {\n",
       "        text-align: right;\n",
       "    }\n",
       "</style>\n",
       "<table border=\"1\" class=\"dataframe\">\n",
       "  <thead>\n",
       "    <tr style=\"text-align: right;\">\n",
       "      <th></th>\n",
       "      <th>State</th>\n",
       "      <th>District</th>\n",
       "      <th>Lat</th>\n",
       "      <th>Long</th>\n",
       "      <th>GW_depth_Min</th>\n",
       "      <th>GW_depth_Max</th>\n",
       "      <th>Wells_depth_0_to_2</th>\n",
       "      <th>Wells_depth_2_to_5</th>\n",
       "      <th>Wells_depth_5_to_10</th>\n",
       "      <th>Wells_depth_10_to_20</th>\n",
       "      <th>...</th>\n",
       "      <th>Humidity</th>\n",
       "      <th>Temp_Max</th>\n",
       "      <th>Temp_Min</th>\n",
       "      <th>Dew_Frost_Point</th>\n",
       "      <th>Wind_Speed</th>\n",
       "      <th>Year</th>\n",
       "      <th>Season</th>\n",
       "      <th>Crop</th>\n",
       "      <th>Area</th>\n",
       "      <th>Production</th>\n",
       "    </tr>\n",
       "  </thead>\n",
       "  <tbody>\n",
       "    <tr>\n",
       "      <th>0</th>\n",
       "      <td>ODISHA</td>\n",
       "      <td>SAMBALPUR</td>\n",
       "      <td>21.54727</td>\n",
       "      <td>84.15188</td>\n",
       "      <td>-0.60</td>\n",
       "      <td>11.60</td>\n",
       "      <td>11</td>\n",
       "      <td>18</td>\n",
       "      <td>37</td>\n",
       "      <td>1.0</td>\n",
       "      <td>...</td>\n",
       "      <td>42.247</td>\n",
       "      <td>38.022</td>\n",
       "      <td>24.042</td>\n",
       "      <td>14.928</td>\n",
       "      <td>2.150</td>\n",
       "      <td>2013</td>\n",
       "      <td>Summer</td>\n",
       "      <td>Moong(Green Gram)</td>\n",
       "      <td>203.0</td>\n",
       "      <td>98.0</td>\n",
       "    </tr>\n",
       "    <tr>\n",
       "      <th>1</th>\n",
       "      <td>KARNATAKA</td>\n",
       "      <td>HAVERI</td>\n",
       "      <td>14.54387</td>\n",
       "      <td>76.23089</td>\n",
       "      <td>2.00</td>\n",
       "      <td>13.80</td>\n",
       "      <td>1</td>\n",
       "      <td>1</td>\n",
       "      <td>8</td>\n",
       "      <td>5.0</td>\n",
       "      <td>...</td>\n",
       "      <td>56.124</td>\n",
       "      <td>32.937</td>\n",
       "      <td>20.160</td>\n",
       "      <td>15.486</td>\n",
       "      <td>3.511</td>\n",
       "      <td>2002</td>\n",
       "      <td>Whole Year</td>\n",
       "      <td>Arcanut (Processed)</td>\n",
       "      <td>721.0</td>\n",
       "      <td>1007.0</td>\n",
       "    </tr>\n",
       "    <tr>\n",
       "      <th>2</th>\n",
       "      <td>PUDUCHERRY</td>\n",
       "      <td>KARAIKAL</td>\n",
       "      <td>11.93380</td>\n",
       "      <td>79.82980</td>\n",
       "      <td>2.51</td>\n",
       "      <td>3.70</td>\n",
       "      <td>0</td>\n",
       "      <td>2</td>\n",
       "      <td>0</td>\n",
       "      <td>0.0</td>\n",
       "      <td>...</td>\n",
       "      <td>69.654</td>\n",
       "      <td>32.920</td>\n",
       "      <td>26.440</td>\n",
       "      <td>23.052</td>\n",
       "      <td>3.284</td>\n",
       "      <td>2014</td>\n",
       "      <td>Kharif</td>\n",
       "      <td>Mango</td>\n",
       "      <td>32.0</td>\n",
       "      <td>374.0</td>\n",
       "    </tr>\n",
       "    <tr>\n",
       "      <th>3</th>\n",
       "      <td>ODISHA</td>\n",
       "      <td>BHADRAK</td>\n",
       "      <td>21.06502</td>\n",
       "      <td>86.49907</td>\n",
       "      <td>1.90</td>\n",
       "      <td>6.33</td>\n",
       "      <td>1</td>\n",
       "      <td>12</td>\n",
       "      <td>2</td>\n",
       "      <td>0.0</td>\n",
       "      <td>...</td>\n",
       "      <td>86.144</td>\n",
       "      <td>30.662</td>\n",
       "      <td>24.762</td>\n",
       "      <td>24.586</td>\n",
       "      <td>2.138</td>\n",
       "      <td>2003</td>\n",
       "      <td>Kharif</td>\n",
       "      <td>Horse-gram</td>\n",
       "      <td>3.0</td>\n",
       "      <td>0.7</td>\n",
       "    </tr>\n",
       "    <tr>\n",
       "      <th>4</th>\n",
       "      <td>BIHAR</td>\n",
       "      <td>BHAGALPUR</td>\n",
       "      <td>25.28529</td>\n",
       "      <td>87.12733</td>\n",
       "      <td>2.86</td>\n",
       "      <td>14.56</td>\n",
       "      <td>0</td>\n",
       "      <td>3</td>\n",
       "      <td>8</td>\n",
       "      <td>3.0</td>\n",
       "      <td>...</td>\n",
       "      <td>60.124</td>\n",
       "      <td>31.789</td>\n",
       "      <td>20.151</td>\n",
       "      <td>16.273</td>\n",
       "      <td>1.880</td>\n",
       "      <td>2002</td>\n",
       "      <td>Whole Year</td>\n",
       "      <td>Onion</td>\n",
       "      <td>163.0</td>\n",
       "      <td>1400.0</td>\n",
       "    </tr>\n",
       "  </tbody>\n",
       "</table>\n",
       "<p>5 rows × 25 columns</p>\n",
       "</div>"
      ],
      "text/plain": [
       "        State   District       Lat      Long  GW_depth_Min  GW_depth_Max  \\\n",
       "0      ODISHA  SAMBALPUR  21.54727  84.15188         -0.60         11.60   \n",
       "1   KARNATAKA     HAVERI  14.54387  76.23089          2.00         13.80   \n",
       "2  PUDUCHERRY   KARAIKAL  11.93380  79.82980          2.51          3.70   \n",
       "3      ODISHA    BHADRAK  21.06502  86.49907          1.90          6.33   \n",
       "4       BIHAR  BHAGALPUR  25.28529  87.12733          2.86         14.56   \n",
       "\n",
       "   Wells_depth_0_to_2  Wells_depth_2_to_5  Wells_depth_5_to_10  \\\n",
       "0                  11                  18                   37   \n",
       "1                   1                   1                    8   \n",
       "2                   0                   2                    0   \n",
       "3                   1                  12                    2   \n",
       "4                   0                   3                    8   \n",
       "\n",
       "   Wells_depth_10_to_20  ...  Humidity  Temp_Max  Temp_Min  Dew_Frost_Point  \\\n",
       "0                   1.0  ...    42.247    38.022    24.042           14.928   \n",
       "1                   5.0  ...    56.124    32.937    20.160           15.486   \n",
       "2                   0.0  ...    69.654    32.920    26.440           23.052   \n",
       "3                   0.0  ...    86.144    30.662    24.762           24.586   \n",
       "4                   3.0  ...    60.124    31.789    20.151           16.273   \n",
       "\n",
       "   Wind_Speed  Year      Season                 Crop   Area  Production  \n",
       "0       2.150  2013      Summer    Moong(Green Gram)  203.0        98.0  \n",
       "1       3.511  2002  Whole Year  Arcanut (Processed)  721.0      1007.0  \n",
       "2       3.284  2014      Kharif                Mango   32.0       374.0  \n",
       "3       2.138  2003      Kharif           Horse-gram    3.0         0.7  \n",
       "4       1.880  2002  Whole Year                Onion  163.0      1400.0  \n",
       "\n",
       "[5 rows x 25 columns]"
      ]
     },
     "execution_count": 19,
     "metadata": {},
     "output_type": "execute_result"
    }
   ],
   "source": [
    "test_data.head()"
   ]
  },
  {
   "cell_type": "code",
   "execution_count": 20,
   "metadata": {},
   "outputs": [
    {
     "data": {
      "text/plain": [
       "(41247, 25)"
      ]
     },
     "execution_count": 20,
     "metadata": {},
     "output_type": "execute_result"
    }
   ],
   "source": [
    "test_data.shape"
   ]
  },
  {
   "cell_type": "code",
   "execution_count": 21,
   "metadata": {},
   "outputs": [
    {
     "name": "stdout",
     "output_type": "stream",
     "text": [
      "Clustered Lat-Long to Geo Region.\n",
      "Encoded Crop using WoE.\n",
      "Transforming numerical features.\n",
      "Transforming categorical features.\n"
     ]
    }
   ],
   "source": [
    "X_test, y_test = data_preprocessor.process_to_test(test_data)"
   ]
  },
  {
   "cell_type": "code",
   "execution_count": 22,
   "metadata": {},
   "outputs": [
    {
     "data": {
      "text/plain": [
       "((41247, 28), (41247, 1))"
      ]
     },
     "execution_count": 22,
     "metadata": {},
     "output_type": "execute_result"
    }
   ],
   "source": [
    "X_test.shape, y_test.shape"
   ]
  },
  {
   "cell_type": "markdown",
   "metadata": {},
   "source": [
    "## Test score"
   ]
  },
  {
   "cell_type": "code",
   "execution_count": 23,
   "metadata": {},
   "outputs": [
    {
     "name": "stdout",
     "output_type": "stream",
     "text": [
      "Test score: 0.8943220915688301\n"
     ]
    }
   ],
   "source": [
    "print(f\"Test score: {model.score(X_test, y_test)}\")"
   ]
  },
  {
   "cell_type": "code",
   "execution_count": 24,
   "metadata": {},
   "outputs": [
    {
     "data": {
      "text/plain": [
       "{'State': 'KARNATAKA',\n",
       " 'District': 'HAVERI',\n",
       " 'Lat': 14.543870000000002,\n",
       " 'Long': 76.23089,\n",
       " 'GW_depth_Min': 2.0,\n",
       " 'GW_depth_Max': 13.8,\n",
       " 'Wells_depth_0_to_2': 1,\n",
       " 'Wells_depth_2_to_5': 1,\n",
       " 'Wells_depth_5_to_10': 8,\n",
       " 'Wells_depth_10_to_20': 5.0,\n",
       " 'Wells_depth_20_to_40': 0.0,\n",
       " 'Wells_depth_40_and_above': 0.0,\n",
       " 'Precipitation': 37.56416666666667,\n",
       " 'Solar_Radiation': 19.804166666666667,\n",
       " 'Surface_Pressure': 94.11333333333334,\n",
       " 'Humidity': 56.123999999999995,\n",
       " 'Temp_Max': 32.937,\n",
       " 'Temp_Min': 20.16,\n",
       " 'Dew_Frost_Point': 15.485999999999999,\n",
       " 'Wind_Speed': 3.511,\n",
       " 'Year': 2002,\n",
       " 'Season': 'Whole Year',\n",
       " 'Crop': 'Arcanut (Processed)',\n",
       " 'Area': 721.0,\n",
       " 'Production': 1007.0}"
      ]
     },
     "execution_count": 24,
     "metadata": {},
     "output_type": "execute_result"
    }
   ],
   "source": [
    "dict(test_data.iloc[1])"
   ]
  },
  {
   "cell_type": "code",
   "execution_count": 36,
   "metadata": {},
   "outputs": [],
   "source": [
    "test_feature = {\n",
    " 'Lat': 14.543870000000002,\n",
    " 'Long': 76.23089,\n",
    " 'GW_depth_Min': 2.0,\n",
    " 'GW_depth_Max': 13.8,\n",
    " 'Wells_depth_0_to_2': 1,\n",
    " 'Wells_depth_2_to_5': 1,\n",
    " 'Wells_depth_5_to_10': 8,\n",
    " 'Wells_depth_10_to_20': 5.0,\n",
    " 'Wells_depth_20_to_40': 0.0,\n",
    " 'Wells_depth_40_and_above': 0.0,\n",
    " 'Precipitation': 37.56416666666667,\n",
    " 'Solar_Radiation': 19.804166666666667,\n",
    " 'Surface_Pressure': 94.11333333333334,\n",
    " 'Humidity': 56.123999999999995,\n",
    " 'Temp_Max': 32.937,\n",
    " 'Temp_Min': 20.16,\n",
    " 'Wind_Speed': 3.511,\n",
    " 'Season': 'Whole Year',\n",
    " 'Crop': 'Arcanut (Processed)'}"
   ]
  },
  {
   "cell_type": "code",
   "execution_count": 37,
   "metadata": {},
   "outputs": [
    {
     "name": "stdout",
     "output_type": "stream",
     "text": [
      "Clustered Lat-Long to Geo Region.\n",
      "Encoded Crop using WoE.\n",
      "Transforming numerical features.\n",
      "Transforming categorical features.\n"
     ]
    },
    {
     "data": {
      "text/plain": [
       "array([0.5952885])"
      ]
     },
     "execution_count": 37,
     "metadata": {},
     "output_type": "execute_result"
    }
   ],
   "source": [
    "prediction = model.predict(data_preprocessor.process_to_predict(pd.DataFrame(test_feature, index=[1])))"
   ]
  },
  {
   "cell_type": "code",
   "execution_count": 35,
   "metadata": {},
   "outputs": [
    {
     "data": {
      "text/plain": [
       "array([[2.17932246]])"
      ]
     },
     "execution_count": 35,
     "metadata": {},
     "output_type": "execute_result"
    }
   ],
   "source": [
    "data_preprocessor.target_transformer.inverse_transform([prediction]) - 1"
   ]
  },
  {
   "cell_type": "code",
   "execution_count": 31,
   "metadata": {},
   "outputs": [
    {
     "data": {
      "text/plain": [
       "925.42031372"
      ]
     },
     "execution_count": 31,
     "metadata": {},
     "output_type": "execute_result"
    }
   ],
   "source": [
    "1.28352332 * 721"
   ]
  },
  {
   "cell_type": "code",
   "execution_count": null,
   "metadata": {},
   "outputs": [],
   "source": []
  }
 ],
 "metadata": {
  "kernelspec": {
   "display_name": "Python 3",
   "language": "python",
   "name": "python3"
  },
  "language_info": {
   "codemirror_mode": {
    "name": "ipython",
    "version": 3
   },
   "file_extension": ".py",
   "mimetype": "text/x-python",
   "name": "python",
   "nbconvert_exporter": "python",
   "pygments_lexer": "ipython3",
   "version": "3.8.5"
  }
 },
 "nbformat": 4,
 "nbformat_minor": 2
}
