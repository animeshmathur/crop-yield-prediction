{
 "cells": [
  {
   "cell_type": "code",
   "execution_count": 1,
   "metadata": {},
   "outputs": [],
   "source": [
    "import os,sys,inspect\n",
    "current_dir = os.path.dirname(os.path.abspath(inspect.getfile(inspect.currentframe())))\n",
    "parent_dir = os.path.dirname(current_dir)\n",
    "sys.path.insert(0, parent_dir)"
   ]
  },
  {
   "cell_type": "code",
   "execution_count": 2,
   "metadata": {},
   "outputs": [],
   "source": [
    "import pandas as pd\n",
    "import numpy as np\n",
    "\n",
    "from sklearn.ensemble import RandomForestRegressor\n",
    "\n",
    "from common.preprocessing import CropDataProcessor\n",
    "\n",
    "import pickle"
   ]
  },
  {
   "cell_type": "markdown",
   "metadata": {},
   "source": [
    "# Load data"
   ]
  },
  {
   "cell_type": "code",
   "execution_count": 3,
   "metadata": {},
   "outputs": [],
   "source": [
    "train_data = pd.read_csv(\"../data/Crop_Data__train.csv\")"
   ]
  },
  {
   "cell_type": "code",
   "execution_count": 4,
   "metadata": {},
   "outputs": [
    {
     "data": {
      "text/plain": [
       "(164552, 25)"
      ]
     },
     "execution_count": 4,
     "metadata": {},
     "output_type": "execute_result"
    }
   ],
   "source": [
    "train_data.shape"
   ]
  },
  {
   "cell_type": "markdown",
   "metadata": {},
   "source": [
    "# Preprocessing"
   ]
  },
  {
   "cell_type": "code",
   "execution_count": 5,
   "metadata": {},
   "outputs": [],
   "source": [
    "data_preprocessor = CropDataProcessor(train_data, excluded_features=['Dew_Frost_Point', 'Year', 'State', 'District'])"
   ]
  },
  {
   "cell_type": "code",
   "execution_count": 6,
   "metadata": {},
   "outputs": [
    {
     "name": "stdout",
     "output_type": "stream",
     "text": [
      "Warning 1: Features are not processed yet.\n",
      "Warning 2: Distribution of Yield may not be normal.\n"
     ]
    },
    {
     "data": {
      "text/plain": [
       "(164552, 19)"
      ]
     },
     "execution_count": 6,
     "metadata": {},
     "output_type": "execute_result"
    }
   ],
   "source": [
    "data_preprocessor.get_training_data()[0].shape"
   ]
  },
  {
   "cell_type": "code",
   "execution_count": 7,
   "metadata": {},
   "outputs": [
    {
     "name": "stdout",
     "output_type": "stream",
     "text": [
      "Clustered Lat-Long to Geo Region.\n",
      "Encoded Crop using WoE.\n",
      "Transforming numerical features.\n",
      "Transforming categorical features.\n"
     ]
    }
   ],
   "source": [
    "data_preprocessor.process_to_train()"
   ]
  },
  {
   "cell_type": "code",
   "execution_count": 8,
   "metadata": {},
   "outputs": [
    {
     "data": {
      "text/plain": [
       "((164552, 28), (164552,))"
      ]
     },
     "execution_count": 8,
     "metadata": {},
     "output_type": "execute_result"
    }
   ],
   "source": [
    "X, y = data_preprocessor.get_training_data()\n",
    "X.shape, y.shape"
   ]
  },
  {
   "cell_type": "markdown",
   "metadata": {},
   "source": [
    "# Model Training"
   ]
  },
  {
   "cell_type": "markdown",
   "metadata": {},
   "source": [
    "From hyper-parameters search we found following setting gives the best and stable train-test scores.\n",
    "\n",
    "{'max_depth': 20,\n",
    " 'min_samples_leaf': 2,\n",
    " 'min_samples_split': 4,\n",
    " 'n_estimators': 110}"
   ]
  },
  {
   "cell_type": "code",
   "execution_count": 9,
   "metadata": {},
   "outputs": [],
   "source": [
    "reg = RandomForestRegressor(n_estimators=110,\n",
    "                            max_depth=20,\n",
    "                            min_samples_leaf=2,\n",
    "                            min_samples_split=4,\n",
    "                            n_jobs=-1,\n",
    "                            random_state=101)"
   ]
  },
  {
   "cell_type": "code",
   "execution_count": 10,
   "metadata": {},
   "outputs": [
    {
     "data": {
      "text/plain": [
       "RandomForestRegressor(max_depth=20, min_samples_leaf=2, min_samples_split=4,\n",
       "                      n_estimators=110, n_jobs=-1, random_state=101)"
      ]
     },
     "execution_count": 10,
     "metadata": {},
     "output_type": "execute_result"
    }
   ],
   "source": [
    "reg.fit(X, y)"
   ]
  },
  {
   "cell_type": "markdown",
   "metadata": {},
   "source": [
    "## Save model"
   ]
  },
  {
   "cell_type": "code",
   "execution_count": 11,
   "metadata": {},
   "outputs": [],
   "source": [
    "with open('../model/model.pkl', 'wb') as f:\n",
    "    pickle.dump(reg, f)"
   ]
  },
  {
   "cell_type": "markdown",
   "metadata": {},
   "source": [
    "## Load model"
   ]
  },
  {
   "cell_type": "code",
   "execution_count": 12,
   "metadata": {},
   "outputs": [],
   "source": [
    "model = None\n",
    "with open('../model/model.pkl', 'rb') as f:\n",
    "    model = pickle.load(f)"
   ]
  },
  {
   "cell_type": "markdown",
   "metadata": {},
   "source": [
    "## Training score"
   ]
  },
  {
   "cell_type": "code",
   "execution_count": 13,
   "metadata": {},
   "outputs": [
    {
     "name": "stdout",
     "output_type": "stream",
     "text": [
      "Training score:  0.9562725656456335\n"
     ]
    }
   ],
   "source": [
    "print(\"Training score: \", model.score(X, y))"
   ]
  },
  {
   "cell_type": "markdown",
   "metadata": {},
   "source": [
    "# Model Testing"
   ]
  },
  {
   "cell_type": "markdown",
   "metadata": {},
   "source": [
    "## Load test data"
   ]
  },
  {
   "cell_type": "code",
   "execution_count": 14,
   "metadata": {},
   "outputs": [],
   "source": [
    "test_data = pd.read_csv(\"../data/Crop_Data__test.csv\")"
   ]
  },
  {
   "cell_type": "code",
   "execution_count": 15,
   "metadata": {},
   "outputs": [
    {
     "data": {
      "text/html": [
       "<div>\n",
       "<style scoped>\n",
       "    .dataframe tbody tr th:only-of-type {\n",
       "        vertical-align: middle;\n",
       "    }\n",
       "\n",
       "    .dataframe tbody tr th {\n",
       "        vertical-align: top;\n",
       "    }\n",
       "\n",
       "    .dataframe thead th {\n",
       "        text-align: right;\n",
       "    }\n",
       "</style>\n",
       "<table border=\"1\" class=\"dataframe\">\n",
       "  <thead>\n",
       "    <tr style=\"text-align: right;\">\n",
       "      <th></th>\n",
       "      <th>State</th>\n",
       "      <th>District</th>\n",
       "      <th>Lat</th>\n",
       "      <th>Long</th>\n",
       "      <th>GW_depth_Min</th>\n",
       "      <th>GW_depth_Max</th>\n",
       "      <th>Wells_depth_0_to_2</th>\n",
       "      <th>Wells_depth_2_to_5</th>\n",
       "      <th>Wells_depth_5_to_10</th>\n",
       "      <th>Wells_depth_10_to_20</th>\n",
       "      <th>...</th>\n",
       "      <th>Humidity</th>\n",
       "      <th>Temp_Max</th>\n",
       "      <th>Temp_Min</th>\n",
       "      <th>Dew_Frost_Point</th>\n",
       "      <th>Wind_Speed</th>\n",
       "      <th>Year</th>\n",
       "      <th>Season</th>\n",
       "      <th>Crop</th>\n",
       "      <th>Area</th>\n",
       "      <th>Production</th>\n",
       "    </tr>\n",
       "  </thead>\n",
       "  <tbody>\n",
       "    <tr>\n",
       "      <th>0</th>\n",
       "      <td>GUJARAT</td>\n",
       "      <td>NAVSARI</td>\n",
       "      <td>20.85000</td>\n",
       "      <td>72.91670</td>\n",
       "      <td>3.40</td>\n",
       "      <td>13.40</td>\n",
       "      <td>0</td>\n",
       "      <td>6</td>\n",
       "      <td>5</td>\n",
       "      <td>4.0</td>\n",
       "      <td>...</td>\n",
       "      <td>83.652</td>\n",
       "      <td>29.720</td>\n",
       "      <td>26.858</td>\n",
       "      <td>25.084</td>\n",
       "      <td>3.964</td>\n",
       "      <td>2010</td>\n",
       "      <td>Kharif</td>\n",
       "      <td>Rice</td>\n",
       "      <td>62600.0</td>\n",
       "      <td>161300.0</td>\n",
       "    </tr>\n",
       "    <tr>\n",
       "      <th>1</th>\n",
       "      <td>HIMACHAL PRADESH</td>\n",
       "      <td>MANDI</td>\n",
       "      <td>31.64519</td>\n",
       "      <td>76.99529</td>\n",
       "      <td>0.74</td>\n",
       "      <td>8.94</td>\n",
       "      <td>3</td>\n",
       "      <td>3</td>\n",
       "      <td>2</td>\n",
       "      <td>0.0</td>\n",
       "      <td>...</td>\n",
       "      <td>69.244</td>\n",
       "      <td>25.618</td>\n",
       "      <td>17.336</td>\n",
       "      <td>14.262</td>\n",
       "      <td>1.442</td>\n",
       "      <td>2010</td>\n",
       "      <td>Kharif</td>\n",
       "      <td>Moong(Green Gram)</td>\n",
       "      <td>16.0</td>\n",
       "      <td>6.0</td>\n",
       "    </tr>\n",
       "    <tr>\n",
       "      <th>2</th>\n",
       "      <td>UTTAR PRADESH</td>\n",
       "      <td>BULANDSHAHR</td>\n",
       "      <td>28.39912</td>\n",
       "      <td>78.02749</td>\n",
       "      <td>8.12</td>\n",
       "      <td>12.40</td>\n",
       "      <td>0</td>\n",
       "      <td>0</td>\n",
       "      <td>2</td>\n",
       "      <td>4.0</td>\n",
       "      <td>...</td>\n",
       "      <td>73.872</td>\n",
       "      <td>32.682</td>\n",
       "      <td>24.360</td>\n",
       "      <td>22.780</td>\n",
       "      <td>1.576</td>\n",
       "      <td>2013</td>\n",
       "      <td>Kharif</td>\n",
       "      <td>Arhar/Tur</td>\n",
       "      <td>8911.0</td>\n",
       "      <td>6728.0</td>\n",
       "    </tr>\n",
       "    <tr>\n",
       "      <th>3</th>\n",
       "      <td>KARNATAKA</td>\n",
       "      <td>BELGAUM</td>\n",
       "      <td>15.85483</td>\n",
       "      <td>74.50420</td>\n",
       "      <td>1.60</td>\n",
       "      <td>18.00</td>\n",
       "      <td>2</td>\n",
       "      <td>12</td>\n",
       "      <td>31</td>\n",
       "      <td>20.0</td>\n",
       "      <td>...</td>\n",
       "      <td>83.258</td>\n",
       "      <td>27.862</td>\n",
       "      <td>20.812</td>\n",
       "      <td>20.664</td>\n",
       "      <td>3.034</td>\n",
       "      <td>2000</td>\n",
       "      <td>Kharif</td>\n",
       "      <td>Groundnut</td>\n",
       "      <td>80929.0</td>\n",
       "      <td>77319.0</td>\n",
       "    </tr>\n",
       "    <tr>\n",
       "      <th>4</th>\n",
       "      <td>KARNATAKA</td>\n",
       "      <td>HAVERI</td>\n",
       "      <td>14.54387</td>\n",
       "      <td>76.23089</td>\n",
       "      <td>2.00</td>\n",
       "      <td>13.80</td>\n",
       "      <td>1</td>\n",
       "      <td>1</td>\n",
       "      <td>8</td>\n",
       "      <td>5.0</td>\n",
       "      <td>...</td>\n",
       "      <td>42.308</td>\n",
       "      <td>33.314</td>\n",
       "      <td>17.434</td>\n",
       "      <td>10.032</td>\n",
       "      <td>2.698</td>\n",
       "      <td>2012</td>\n",
       "      <td>Rabi</td>\n",
       "      <td>Jowar</td>\n",
       "      <td>31611.0</td>\n",
       "      <td>18889.0</td>\n",
       "    </tr>\n",
       "  </tbody>\n",
       "</table>\n",
       "<p>5 rows × 25 columns</p>\n",
       "</div>"
      ],
      "text/plain": [
       "              State     District       Lat      Long  GW_depth_Min  \\\n",
       "0           GUJARAT      NAVSARI  20.85000  72.91670          3.40   \n",
       "1  HIMACHAL PRADESH        MANDI  31.64519  76.99529          0.74   \n",
       "2     UTTAR PRADESH  BULANDSHAHR  28.39912  78.02749          8.12   \n",
       "3         KARNATAKA      BELGAUM  15.85483  74.50420          1.60   \n",
       "4         KARNATAKA       HAVERI  14.54387  76.23089          2.00   \n",
       "\n",
       "   GW_depth_Max  Wells_depth_0_to_2  Wells_depth_2_to_5  Wells_depth_5_to_10  \\\n",
       "0         13.40                   0                   6                    5   \n",
       "1          8.94                   3                   3                    2   \n",
       "2         12.40                   0                   0                    2   \n",
       "3         18.00                   2                  12                   31   \n",
       "4         13.80                   1                   1                    8   \n",
       "\n",
       "   Wells_depth_10_to_20  ...  Humidity  Temp_Max  Temp_Min  Dew_Frost_Point  \\\n",
       "0                   4.0  ...    83.652    29.720    26.858           25.084   \n",
       "1                   0.0  ...    69.244    25.618    17.336           14.262   \n",
       "2                   4.0  ...    73.872    32.682    24.360           22.780   \n",
       "3                  20.0  ...    83.258    27.862    20.812           20.664   \n",
       "4                   5.0  ...    42.308    33.314    17.434           10.032   \n",
       "\n",
       "   Wind_Speed  Year  Season               Crop     Area  Production  \n",
       "0       3.964  2010  Kharif               Rice  62600.0    161300.0  \n",
       "1       1.442  2010  Kharif  Moong(Green Gram)     16.0         6.0  \n",
       "2       1.576  2013  Kharif          Arhar/Tur   8911.0      6728.0  \n",
       "3       3.034  2000  Kharif          Groundnut  80929.0     77319.0  \n",
       "4       2.698  2012    Rabi              Jowar  31611.0     18889.0  \n",
       "\n",
       "[5 rows x 25 columns]"
      ]
     },
     "execution_count": 15,
     "metadata": {},
     "output_type": "execute_result"
    }
   ],
   "source": [
    "test_data.head()"
   ]
  },
  {
   "cell_type": "code",
   "execution_count": 16,
   "metadata": {},
   "outputs": [
    {
     "data": {
      "text/plain": [
       "(41139, 25)"
      ]
     },
     "execution_count": 16,
     "metadata": {},
     "output_type": "execute_result"
    }
   ],
   "source": [
    "test_data.shape"
   ]
  },
  {
   "cell_type": "code",
   "execution_count": 17,
   "metadata": {},
   "outputs": [
    {
     "name": "stdout",
     "output_type": "stream",
     "text": [
      "Clustered Lat-Long to Geo Region.\n",
      "Encoded Crop using WoE.\n",
      "Transforming numerical features.\n",
      "Transforming categorical features.\n"
     ]
    }
   ],
   "source": [
    "X_test, y_test = data_preprocessor.process_to_test(test_data)"
   ]
  },
  {
   "cell_type": "code",
   "execution_count": 18,
   "metadata": {},
   "outputs": [
    {
     "data": {
      "text/plain": [
       "((41139, 28), (41139, 1))"
      ]
     },
     "execution_count": 18,
     "metadata": {},
     "output_type": "execute_result"
    }
   ],
   "source": [
    "X_test.shape, y_test.shape"
   ]
  },
  {
   "cell_type": "markdown",
   "metadata": {},
   "source": [
    "## Test score"
   ]
  },
  {
   "cell_type": "code",
   "execution_count": 19,
   "metadata": {},
   "outputs": [
    {
     "name": "stdout",
     "output_type": "stream",
     "text": [
      "Test score: 0.8968860397220535\n"
     ]
    }
   ],
   "source": [
    "print(f\"Test score: {model.score(X_test, y_test)}\")"
   ]
  },
  {
   "cell_type": "code",
   "execution_count": 20,
   "metadata": {
    "scrolled": true
   },
   "outputs": [
    {
     "data": {
      "text/plain": [
       "{'State': 'HIMACHAL PRADESH',\n",
       " 'District': 'MANDI',\n",
       " 'Lat': 31.645190000000003,\n",
       " 'Long': 76.99529,\n",
       " 'GW_depth_Min': 0.74,\n",
       " 'GW_depth_Max': 8.94,\n",
       " 'Wells_depth_0_to_2': 3,\n",
       " 'Wells_depth_2_to_5': 3,\n",
       " 'Wells_depth_5_to_10': 2,\n",
       " 'Wells_depth_10_to_20': 0.0,\n",
       " 'Wells_depth_20_to_40': 0.0,\n",
       " 'Wells_depth_40_and_above': 0.0,\n",
       " 'Precipitation': 235.352,\n",
       " 'Solar_Radiation': 18.558,\n",
       " 'Surface_Pressure': 84.21799999999998,\n",
       " 'Humidity': 69.244,\n",
       " 'Temp_Max': 25.618000000000002,\n",
       " 'Temp_Min': 17.336,\n",
       " 'Dew_Frost_Point': 14.262,\n",
       " 'Wind_Speed': 1.442,\n",
       " 'Year': 2010,\n",
       " 'Season': 'Kharif',\n",
       " 'Crop': 'Moong(Green Gram)',\n",
       " 'Area': 16.0,\n",
       " 'Production': 6.0}"
      ]
     },
     "execution_count": 20,
     "metadata": {},
     "output_type": "execute_result"
    }
   ],
   "source": [
    "dict(test_data.iloc[1])"
   ]
  },
  {
   "cell_type": "code",
   "execution_count": 21,
   "metadata": {},
   "outputs": [],
   "source": [
    "test_feature = {\n",
    " 'Lat': 14.543870000000002,\n",
    " 'Long': 76.23089,\n",
    " 'GW_depth_Min': 2.0,\n",
    " 'GW_depth_Max': 13.8,\n",
    " 'Wells_depth_0_to_2': 1,\n",
    " 'Wells_depth_2_to_5': 1,\n",
    " 'Wells_depth_5_to_10': 8,\n",
    " 'Wells_depth_10_to_20': 5.0,\n",
    " 'Wells_depth_20_to_40': 0.0,\n",
    " 'Wells_depth_40_and_above': 0.0,\n",
    " 'Precipitation': 37.56416666666667,\n",
    " 'Solar_Radiation': 19.804166666666667,\n",
    " 'Surface_Pressure': 94.11333333333334,\n",
    " 'Humidity': 56.123999999999995,\n",
    " 'Temp_Max': 32.937,\n",
    " 'Temp_Min': 20.16,\n",
    " 'Wind_Speed': 3.511,\n",
    " 'Season': 'Whole Year',\n",
    " 'Crop': 'Arcanut (Processed)'}"
   ]
  },
  {
   "cell_type": "code",
   "execution_count": 22,
   "metadata": {},
   "outputs": [
    {
     "name": "stdout",
     "output_type": "stream",
     "text": [
      "Clustered Lat-Long to Geo Region.\n",
      "Encoded Crop using WoE.\n",
      "Transforming numerical features.\n",
      "Transforming categorical features.\n"
     ]
    }
   ],
   "source": [
    "prediction = model.predict(data_preprocessor.process_to_predict(pd.DataFrame(test_feature, index=[1])))"
   ]
  },
  {
   "cell_type": "code",
   "execution_count": 23,
   "metadata": {},
   "outputs": [
    {
     "data": {
      "text/plain": [
       "array([[1.36202686]])"
      ]
     },
     "execution_count": 23,
     "metadata": {},
     "output_type": "execute_result"
    }
   ],
   "source": [
    "data_preprocessor.target_transformer.inverse_transform([prediction]) - 1"
   ]
  },
  {
   "cell_type": "code",
   "execution_count": null,
   "metadata": {},
   "outputs": [],
   "source": []
  }
 ],
 "metadata": {
  "kernelspec": {
   "display_name": "Python 3",
   "language": "python",
   "name": "python3"
  },
  "language_info": {
   "codemirror_mode": {
    "name": "ipython",
    "version": 3
   },
   "file_extension": ".py",
   "mimetype": "text/x-python",
   "name": "python",
   "nbconvert_exporter": "python",
   "pygments_lexer": "ipython3",
   "version": "3.8.5"
  }
 },
 "nbformat": 4,
 "nbformat_minor": 2
}
