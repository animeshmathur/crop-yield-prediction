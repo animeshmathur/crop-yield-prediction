{
 "cells": [
  {
   "cell_type": "code",
   "execution_count": 1,
   "metadata": {},
   "outputs": [],
   "source": [
    "import os,sys,inspect\n",
    "current_dir = os.path.dirname(os.path.abspath(inspect.getfile(inspect.currentframe())))\n",
    "parent_dir = os.path.dirname(current_dir)\n",
    "sys.path.insert(0, parent_dir)"
   ]
  },
  {
   "cell_type": "code",
   "execution_count": 2,
   "metadata": {},
   "outputs": [],
   "source": [
    "import pandas as pd\n",
    "import numpy as np\n",
    "\n",
    "from sklearn.ensemble import RandomForestRegressor\n",
    "from sklearn.model_selection import RandomizedSearchCV, GridSearchCV\n",
    "\n",
    "from common.preprocessing import CropDataProcessor"
   ]
  },
  {
   "cell_type": "code",
   "execution_count": 3,
   "metadata": {},
   "outputs": [],
   "source": [
    "train_data = pd.read_csv(\"../data/Crop_Data__train.csv\")"
   ]
  },
  {
   "cell_type": "code",
   "execution_count": 4,
   "metadata": {},
   "outputs": [
    {
     "data": {
      "text/plain": [
       "(164986, 25)"
      ]
     },
     "execution_count": 4,
     "metadata": {},
     "output_type": "execute_result"
    }
   ],
   "source": [
    "train_data.shape"
   ]
  },
  {
   "cell_type": "code",
   "execution_count": 5,
   "metadata": {},
   "outputs": [],
   "source": [
    "data_preprocessor = CropDataProcessor(train_data, excluded_features=['Dew_Frost_Point', 'Year'])"
   ]
  },
  {
   "cell_type": "code",
   "execution_count": 6,
   "metadata": {},
   "outputs": [
    {
     "name": "stdout",
     "output_type": "stream",
     "text": [
      "Warning: Features are not processed yet.\n"
     ]
    },
    {
     "data": {
      "text/html": [
       "<div>\n",
       "<style scoped>\n",
       "    .dataframe tbody tr th:only-of-type {\n",
       "        vertical-align: middle;\n",
       "    }\n",
       "\n",
       "    .dataframe tbody tr th {\n",
       "        vertical-align: top;\n",
       "    }\n",
       "\n",
       "    .dataframe thead th {\n",
       "        text-align: right;\n",
       "    }\n",
       "</style>\n",
       "<table border=\"1\" class=\"dataframe\">\n",
       "  <thead>\n",
       "    <tr style=\"text-align: right;\">\n",
       "      <th></th>\n",
       "      <th>State</th>\n",
       "      <th>District</th>\n",
       "      <th>Lat</th>\n",
       "      <th>Long</th>\n",
       "      <th>GW_depth_Min</th>\n",
       "      <th>GW_depth_Max</th>\n",
       "      <th>Wells_depth_0_to_2</th>\n",
       "      <th>Wells_depth_2_to_5</th>\n",
       "      <th>Wells_depth_5_to_10</th>\n",
       "      <th>Wells_depth_10_to_20</th>\n",
       "      <th>...</th>\n",
       "      <th>Wells_depth_40_and_above</th>\n",
       "      <th>Precipitation</th>\n",
       "      <th>Solar_Radiation</th>\n",
       "      <th>Surface_Pressure</th>\n",
       "      <th>Humidity</th>\n",
       "      <th>Temp_Max</th>\n",
       "      <th>Temp_Min</th>\n",
       "      <th>Wind_Speed</th>\n",
       "      <th>Season</th>\n",
       "      <th>Crop</th>\n",
       "    </tr>\n",
       "  </thead>\n",
       "  <tbody>\n",
       "    <tr>\n",
       "      <th>0</th>\n",
       "      <td>KARNATAKA</td>\n",
       "      <td>BIDAR</td>\n",
       "      <td>14.54387</td>\n",
       "      <td>76.23089</td>\n",
       "      <td>3.65</td>\n",
       "      <td>20.30</td>\n",
       "      <td>0</td>\n",
       "      <td>4</td>\n",
       "      <td>7</td>\n",
       "      <td>6.0</td>\n",
       "      <td>...</td>\n",
       "      <td>0.0</td>\n",
       "      <td>66.890833</td>\n",
       "      <td>19.725833</td>\n",
       "      <td>94.141667</td>\n",
       "      <td>62.022</td>\n",
       "      <td>31.448</td>\n",
       "      <td>19.958</td>\n",
       "      <td>3.268</td>\n",
       "      <td>Whole Year</td>\n",
       "      <td>Coriander</td>\n",
       "    </tr>\n",
       "    <tr>\n",
       "      <th>1</th>\n",
       "      <td>ASSAM</td>\n",
       "      <td>SIVASAGAR</td>\n",
       "      <td>26.82490</td>\n",
       "      <td>94.17820</td>\n",
       "      <td>1.94</td>\n",
       "      <td>7.19</td>\n",
       "      <td>2</td>\n",
       "      <td>1</td>\n",
       "      <td>1</td>\n",
       "      <td>0.0</td>\n",
       "      <td>...</td>\n",
       "      <td>0.0</td>\n",
       "      <td>19.656000</td>\n",
       "      <td>17.538000</td>\n",
       "      <td>97.352000</td>\n",
       "      <td>59.524</td>\n",
       "      <td>24.642</td>\n",
       "      <td>12.838</td>\n",
       "      <td>0.518</td>\n",
       "      <td>Rabi</td>\n",
       "      <td>Urad</td>\n",
       "    </tr>\n",
       "    <tr>\n",
       "      <th>2</th>\n",
       "      <td>GUJARAT</td>\n",
       "      <td>VADODARA</td>\n",
       "      <td>22.27342</td>\n",
       "      <td>73.18848</td>\n",
       "      <td>3.05</td>\n",
       "      <td>37.90</td>\n",
       "      <td>0</td>\n",
       "      <td>4</td>\n",
       "      <td>17</td>\n",
       "      <td>10.0</td>\n",
       "      <td>...</td>\n",
       "      <td>0.0</td>\n",
       "      <td>236.414000</td>\n",
       "      <td>17.544000</td>\n",
       "      <td>99.666000</td>\n",
       "      <td>79.024</td>\n",
       "      <td>31.816</td>\n",
       "      <td>24.144</td>\n",
       "      <td>2.984</td>\n",
       "      <td>Kharif</td>\n",
       "      <td>Urad</td>\n",
       "    </tr>\n",
       "    <tr>\n",
       "      <th>3</th>\n",
       "      <td>RAJASTHAN</td>\n",
       "      <td>DUNGARPUR</td>\n",
       "      <td>23.68344</td>\n",
       "      <td>73.82284</td>\n",
       "      <td>2.44</td>\n",
       "      <td>20.60</td>\n",
       "      <td>0</td>\n",
       "      <td>4</td>\n",
       "      <td>6</td>\n",
       "      <td>7.0</td>\n",
       "      <td>...</td>\n",
       "      <td>0.0</td>\n",
       "      <td>79.125833</td>\n",
       "      <td>18.270833</td>\n",
       "      <td>97.630833</td>\n",
       "      <td>48.312</td>\n",
       "      <td>33.668</td>\n",
       "      <td>20.010</td>\n",
       "      <td>2.317</td>\n",
       "      <td>Whole Year</td>\n",
       "      <td>Guar seed</td>\n",
       "    </tr>\n",
       "    <tr>\n",
       "      <th>4</th>\n",
       "      <td>ASSAM</td>\n",
       "      <td>TINSUKIA</td>\n",
       "      <td>27.47920</td>\n",
       "      <td>95.37184</td>\n",
       "      <td>0.14</td>\n",
       "      <td>4.90</td>\n",
       "      <td>1</td>\n",
       "      <td>5</td>\n",
       "      <td>2</td>\n",
       "      <td>0.0</td>\n",
       "      <td>...</td>\n",
       "      <td>0.0</td>\n",
       "      <td>96.498333</td>\n",
       "      <td>15.804167</td>\n",
       "      <td>96.608333</td>\n",
       "      <td>62.027</td>\n",
       "      <td>30.314</td>\n",
       "      <td>19.018</td>\n",
       "      <td>0.290</td>\n",
       "      <td>Whole Year</td>\n",
       "      <td>Potato</td>\n",
       "    </tr>\n",
       "  </tbody>\n",
       "</table>\n",
       "<p>5 rows × 21 columns</p>\n",
       "</div>"
      ],
      "text/plain": [
       "       State   District       Lat      Long  GW_depth_Min  GW_depth_Max  \\\n",
       "0  KARNATAKA      BIDAR  14.54387  76.23089          3.65         20.30   \n",
       "1      ASSAM  SIVASAGAR  26.82490  94.17820          1.94          7.19   \n",
       "2    GUJARAT   VADODARA  22.27342  73.18848          3.05         37.90   \n",
       "3  RAJASTHAN  DUNGARPUR  23.68344  73.82284          2.44         20.60   \n",
       "4      ASSAM   TINSUKIA  27.47920  95.37184          0.14          4.90   \n",
       "\n",
       "   Wells_depth_0_to_2  Wells_depth_2_to_5  Wells_depth_5_to_10  \\\n",
       "0                   0                   4                    7   \n",
       "1                   2                   1                    1   \n",
       "2                   0                   4                   17   \n",
       "3                   0                   4                    6   \n",
       "4                   1                   5                    2   \n",
       "\n",
       "   Wells_depth_10_to_20  ...  Wells_depth_40_and_above  Precipitation  \\\n",
       "0                   6.0  ...                       0.0      66.890833   \n",
       "1                   0.0  ...                       0.0      19.656000   \n",
       "2                  10.0  ...                       0.0     236.414000   \n",
       "3                   7.0  ...                       0.0      79.125833   \n",
       "4                   0.0  ...                       0.0      96.498333   \n",
       "\n",
       "   Solar_Radiation  Surface_Pressure  Humidity  Temp_Max  Temp_Min  \\\n",
       "0        19.725833         94.141667    62.022    31.448    19.958   \n",
       "1        17.538000         97.352000    59.524    24.642    12.838   \n",
       "2        17.544000         99.666000    79.024    31.816    24.144   \n",
       "3        18.270833         97.630833    48.312    33.668    20.010   \n",
       "4        15.804167         96.608333    62.027    30.314    19.018   \n",
       "\n",
       "   Wind_Speed      Season       Crop  \n",
       "0       3.268  Whole Year  Coriander  \n",
       "1       0.518        Rabi       Urad  \n",
       "2       2.984      Kharif       Urad  \n",
       "3       2.317  Whole Year  Guar seed  \n",
       "4       0.290  Whole Year     Potato  \n",
       "\n",
       "[5 rows x 21 columns]"
      ]
     },
     "execution_count": 6,
     "metadata": {},
     "output_type": "execute_result"
    }
   ],
   "source": [
    "data_preprocessor.get_training_features().head()"
   ]
  },
  {
   "cell_type": "code",
   "execution_count": 7,
   "metadata": {
    "scrolled": true
   },
   "outputs": [
    {
     "name": "stdout",
     "output_type": "stream",
     "text": [
      "Clustered Lat-Long to Geo Region.\n",
      "Encoded Crop using WoE.\n",
      "Transforming numerical features.\n",
      "Transforming categorical features.\n"
     ]
    }
   ],
   "source": [
    "data_preprocessor.process_to_train()"
   ]
  },
  {
   "cell_type": "code",
   "execution_count": 8,
   "metadata": {},
   "outputs": [
    {
     "data": {
      "text/plain": [
       "(164986, 28)"
      ]
     },
     "execution_count": 8,
     "metadata": {},
     "output_type": "execute_result"
    }
   ],
   "source": [
    "X_train = data_preprocessor.get_training_features()\n",
    "X_train.shape"
   ]
  },
  {
   "cell_type": "code",
   "execution_count": 9,
   "metadata": {},
   "outputs": [],
   "source": [
    "# print(data_preprocessor.process_to_predict(train_data.loc[100:105].drop(['Area', 'Production'], axis=1)).shape)\n",
    "# data_preprocessor.process_to_predict(train_data.loc[100:105].drop(['Area', 'Production'], axis=1))[:10]"
   ]
  },
  {
   "cell_type": "code",
   "execution_count": 10,
   "metadata": {},
   "outputs": [
    {
     "data": {
      "text/plain": [
       "(164986, 1)"
      ]
     },
     "execution_count": 10,
     "metadata": {},
     "output_type": "execute_result"
    }
   ],
   "source": [
    "y_train = data_preprocessor.get_training_target()\n",
    "y_train.shape"
   ]
  },
  {
   "cell_type": "code",
   "execution_count": null,
   "metadata": {},
   "outputs": [],
   "source": []
  }
 ],
 "metadata": {
  "kernelspec": {
   "display_name": "Python 3",
   "language": "python",
   "name": "python3"
  },
  "language_info": {
   "codemirror_mode": {
    "name": "ipython",
    "version": 3
   },
   "file_extension": ".py",
   "mimetype": "text/x-python",
   "name": "python",
   "nbconvert_exporter": "python",
   "pygments_lexer": "ipython3",
   "version": "3.8.5"
  }
 },
 "nbformat": 4,
 "nbformat_minor": 2
}
