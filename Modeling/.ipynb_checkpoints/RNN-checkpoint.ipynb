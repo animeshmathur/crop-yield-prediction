{
 "cells": [
  {
   "cell_type": "code",
   "execution_count": 1,
   "metadata": {},
   "outputs": [],
   "source": [
    "import os,sys,inspect\n",
    "current_dir = os.path.dirname(os.path.abspath(inspect.getfile(inspect.currentframe())))\n",
    "parent_dir = os.path.dirname(current_dir)\n",
    "sys.path.insert(0, parent_dir)"
   ]
  },
  {
   "cell_type": "code",
   "execution_count": 24,
   "metadata": {},
   "outputs": [],
   "source": [
    "import pandas as pd\n",
    "import numpy as np\n",
    "\n",
    "import matplotlib.pyplot as plt\n",
    "\n",
    "from common.preprocessing import CropDataProcessor\n",
    "\n",
    "import pickle"
   ]
  },
  {
   "cell_type": "markdown",
   "metadata": {},
   "source": [
    "# Load data"
   ]
  },
  {
   "cell_type": "code",
   "execution_count": 3,
   "metadata": {},
   "outputs": [],
   "source": [
    "train_data = pd.read_csv(\"../data/Crop_Data__train.csv\")"
   ]
  },
  {
   "cell_type": "code",
   "execution_count": 4,
   "metadata": {},
   "outputs": [
    {
     "data": {
      "text/plain": [
       "(164986, 25)"
      ]
     },
     "execution_count": 4,
     "metadata": {},
     "output_type": "execute_result"
    }
   ],
   "source": [
    "train_data.shape"
   ]
  },
  {
   "cell_type": "markdown",
   "metadata": {},
   "source": [
    "# Preprocessing"
   ]
  },
  {
   "cell_type": "code",
   "execution_count": 5,
   "metadata": {},
   "outputs": [],
   "source": [
    "data_preprocessor = CropDataProcessor(train_data, excluded_features=['Dew_Frost_Point', 'Year', 'State', 'District'])"
   ]
  },
  {
   "cell_type": "code",
   "execution_count": 6,
   "metadata": {},
   "outputs": [
    {
     "name": "stdout",
     "output_type": "stream",
     "text": [
      "Warning 1: Features are not processed yet.\n",
      "Warning 2: Distribution of Yield may not be normal.\n"
     ]
    },
    {
     "data": {
      "text/plain": [
       "(164986, 19)"
      ]
     },
     "execution_count": 6,
     "metadata": {},
     "output_type": "execute_result"
    }
   ],
   "source": [
    "data_preprocessor.get_training_data()[0].shape"
   ]
  },
  {
   "cell_type": "code",
   "execution_count": 7,
   "metadata": {},
   "outputs": [
    {
     "name": "stdout",
     "output_type": "stream",
     "text": [
      "Clustered Lat-Long to Geo Region.\n",
      "Encoded Crop using WoE.\n",
      "Transforming numerical features.\n",
      "Transforming categorical features.\n"
     ]
    }
   ],
   "source": [
    "data_preprocessor.process_to_train()"
   ]
  },
  {
   "cell_type": "code",
   "execution_count": 8,
   "metadata": {},
   "outputs": [
    {
     "data": {
      "text/plain": [
       "((164986, 28), (164986,))"
      ]
     },
     "execution_count": 8,
     "metadata": {},
     "output_type": "execute_result"
    }
   ],
   "source": [
    "X, y = data_preprocessor.get_training_data()\n",
    "X.shape, y.shape"
   ]
  },
  {
   "cell_type": "markdown",
   "metadata": {},
   "source": [
    "## Split"
   ]
  },
  {
   "cell_type": "code",
   "execution_count": 13,
   "metadata": {},
   "outputs": [],
   "source": [
    "from sklearn.model_selection import train_test_split"
   ]
  },
  {
   "cell_type": "code",
   "execution_count": 14,
   "metadata": {},
   "outputs": [],
   "source": [
    "X_train, X_test, y_train, y_test = train_test_split(X, y, test_size=0.2, random_state=42)"
   ]
  },
  {
   "cell_type": "markdown",
   "metadata": {},
   "source": [
    "# RNN"
   ]
  },
  {
   "cell_type": "code",
   "execution_count": 12,
   "metadata": {},
   "outputs": [],
   "source": [
    "from tensorflow.keras import Sequential\n",
    "from tensorflow.keras.layers import Input, Dense, Dropout\n",
    "from tensorflow.keras.callbacks import EarlyStopping"
   ]
  },
  {
   "cell_type": "code",
   "execution_count": 56,
   "metadata": {
    "scrolled": true
   },
   "outputs": [
    {
     "name": "stdout",
     "output_type": "stream",
     "text": [
      "Epoch 1/100\n",
      "1650/1650 [==============================] - 6s 4ms/step - loss: 0.1774 - mse: 0.1774 - val_loss: 0.0393 - val_mse: 0.0393\n",
      "Epoch 2/100\n",
      "1650/1650 [==============================] - 6s 3ms/step - loss: 0.0453 - mse: 0.0453 - val_loss: 0.0322 - val_mse: 0.0322\n",
      "Epoch 3/100\n",
      "1650/1650 [==============================] - 6s 3ms/step - loss: 0.0384 - mse: 0.0384 - val_loss: 0.0297 - val_mse: 0.0297\n",
      "Epoch 4/100\n",
      "1650/1650 [==============================] - 7s 4ms/step - loss: 0.0358 - mse: 0.0358 - val_loss: 0.0288 - val_mse: 0.0288\n",
      "Epoch 5/100\n",
      "1650/1650 [==============================] - 3s 2ms/step - loss: 0.0341 - mse: 0.0341 - val_loss: 0.0291 - val_mse: 0.0291\n",
      "Epoch 6/100\n",
      "1650/1650 [==============================] - 3s 2ms/step - loss: 0.0333 - mse: 0.0333 - val_loss: 0.0298 - val_mse: 0.0298\n",
      "Epoch 7/100\n",
      "1650/1650 [==============================] - 3s 2ms/step - loss: 0.0326 - mse: 0.0326 - val_loss: 0.0290 - val_mse: 0.0290\n",
      "Epoch 8/100\n",
      "1650/1650 [==============================] - 3s 2ms/step - loss: 0.0323 - mse: 0.0323 - val_loss: 0.0284 - val_mse: 0.0284\n",
      "Epoch 9/100\n",
      "1650/1650 [==============================] - 3s 2ms/step - loss: 0.0320 - mse: 0.0320 - val_loss: 0.0275 - val_mse: 0.0275\n",
      "Epoch 10/100\n",
      "1650/1650 [==============================] - 3s 2ms/step - loss: 0.0317 - mse: 0.0317 - val_loss: 0.0281 - val_mse: 0.0281\n",
      "Epoch 11/100\n",
      "1650/1650 [==============================] - 3s 2ms/step - loss: 0.0316 - mse: 0.0316 - val_loss: 0.0279 - val_mse: 0.0279\n",
      "Epoch 12/100\n",
      "1650/1650 [==============================] - 3s 2ms/step - loss: 0.0314 - mse: 0.0314 - val_loss: 0.0278 - val_mse: 0.0278\n",
      "Epoch 13/100\n",
      "1650/1650 [==============================] - 3s 2ms/step - loss: 0.0314 - mse: 0.0314 - val_loss: 0.0281 - val_mse: 0.0281\n",
      "Epoch 14/100\n",
      "1650/1650 [==============================] - 3s 2ms/step - loss: 0.0311 - mse: 0.0311 - val_loss: 0.0274 - val_mse: 0.0274\n",
      "Epoch 15/100\n",
      "1650/1650 [==============================] - 3s 2ms/step - loss: 0.0310 - mse: 0.0310 - val_loss: 0.0277 - val_mse: 0.0277\n",
      "Epoch 16/100\n",
      "1650/1650 [==============================] - 3s 2ms/step - loss: 0.0309 - mse: 0.0309 - val_loss: 0.0272 - val_mse: 0.0272\n",
      "Epoch 17/100\n",
      "1650/1650 [==============================] - 3s 2ms/step - loss: 0.0310 - mse: 0.0310 - val_loss: 0.0276 - val_mse: 0.0276\n",
      "Epoch 18/100\n",
      "1650/1650 [==============================] - 3s 2ms/step - loss: 0.0311 - mse: 0.0311 - val_loss: 0.0279 - val_mse: 0.0279\n",
      "Epoch 19/100\n",
      "1650/1650 [==============================] - 3s 2ms/step - loss: 0.0307 - mse: 0.0307 - val_loss: 0.0275 - val_mse: 0.0275\n",
      "Epoch 20/100\n",
      "1650/1650 [==============================] - 3s 2ms/step - loss: 0.0308 - mse: 0.0308 - val_loss: 0.0269 - val_mse: 0.0269\n",
      "Epoch 21/100\n",
      "1650/1650 [==============================] - 3s 2ms/step - loss: 0.0308 - mse: 0.0308 - val_loss: 0.0272 - val_mse: 0.0272\n",
      "Epoch 22/100\n",
      "1650/1650 [==============================] - 3s 2ms/step - loss: 0.0307 - mse: 0.0307 - val_loss: 0.0280 - val_mse: 0.0280\n",
      "Epoch 23/100\n",
      "1650/1650 [==============================] - 3s 2ms/step - loss: 0.0307 - mse: 0.0307 - val_loss: 0.0271 - val_mse: 0.0271\n",
      "Epoch 24/100\n",
      "1650/1650 [==============================] - 3s 2ms/step - loss: 0.0306 - mse: 0.0306 - val_loss: 0.0268 - val_mse: 0.0268\n",
      "Epoch 25/100\n",
      "1650/1650 [==============================] - 3s 2ms/step - loss: 0.0305 - mse: 0.0305 - val_loss: 0.0270 - val_mse: 0.0270\n",
      "Epoch 26/100\n",
      "1650/1650 [==============================] - 3s 2ms/step - loss: 0.0306 - mse: 0.0306 - val_loss: 0.0269 - val_mse: 0.0269\n",
      "Epoch 27/100\n",
      "1650/1650 [==============================] - 3s 2ms/step - loss: 0.0305 - mse: 0.0305 - val_loss: 0.0270 - val_mse: 0.0270\n",
      "Epoch 28/100\n",
      "1650/1650 [==============================] - 3s 2ms/step - loss: 0.0305 - mse: 0.0305 - val_loss: 0.0280 - val_mse: 0.0280\n",
      "Epoch 29/100\n",
      "1650/1650 [==============================] - 4s 2ms/step - loss: 0.0305 - mse: 0.0305 - val_loss: 0.0301 - val_mse: 0.0301\n",
      "Epoch 00029: early stopping\n"
     ]
    },
    {
     "data": {
      "text/plain": [
       "<tensorflow.python.keras.callbacks.History at 0x7fe84f63f4c0>"
      ]
     },
     "execution_count": 56,
     "metadata": {},
     "output_type": "execute_result"
    }
   ],
   "source": [
    "model = Sequential()\n",
    "\n",
    "model.add(Dense(units=28))\n",
    "model.add(Dropout(rate=0.5))\n",
    "model.add(Dense(units=14))\n",
    "model.add(Dropout(rate=0.25))\n",
    "model.add(Dense(units=7))\n",
    "\n",
    "\n",
    "model.compile(optimizer='adam', loss='mse', metrics='mse')\n",
    "\n",
    "es = EarlyStopping(monitor='val_loss', mode='min', verbose=1, patience=5)\n",
    "\n",
    "model.fit(X_train, y_train, validation_split=0.2, epochs=100, callbacks=[es], batch_size=64)"
   ]
  },
  {
   "cell_type": "code",
   "execution_count": 57,
   "metadata": {},
   "outputs": [
    {
     "data": {
      "text/plain": [
       "<AxesSubplot:>"
      ]
     },
     "execution_count": 57,
     "metadata": {},
     "output_type": "execute_result"
    },
    {
     "data": {
      "image/png": "[encoded data removed]",
      "text/plain": [
       "<Figure size 720x576 with 1 Axes>"
      ]
     },
     "metadata": {
      "needs_background": "light"
     },
     "output_type": "display_data"
    }
   ],
   "source": [
    "pd.DataFrame(model.history.history).plot(figsize=(10,8))"
   ]
  },
  {
   "cell_type": "code",
   "execution_count": 58,
   "metadata": {},
   "outputs": [],
   "source": [
    "from sklearn.metrics import r2_score"
   ]
  },
  {
   "cell_type": "code",
   "execution_count": 59,
   "metadata": {},
   "outputs": [
    {
     "data": {
      "text/plain": [
       "0.6416033908678573"
      ]
     },
     "execution_count": 59,
     "metadata": {},
     "output_type": "execute_result"
    }
   ],
   "source": [
    "r2_score(y_train, model.predict(X_train).mean(axis=1))"
   ]
  },
  {
   "cell_type": "code",
   "execution_count": 60,
   "metadata": {},
   "outputs": [
    {
     "data": {
      "text/plain": [
       "0.6351729417672851"
      ]
     },
     "execution_count": 60,
     "metadata": {},
     "output_type": "execute_result"
    }
   ],
   "source": [
    "r2_score(y_test, model.predict(X_test).mean(axis=1))"
   ]
  },
  {
   "cell_type": "code",
   "execution_count": null,
   "metadata": {},
   "outputs": [],
   "source": []
  }
 ],
 "metadata": {
  "kernelspec": {
   "display_name": "py3-TF2",
   "language": "python",
   "name": "py3-tf2"
  },
  "language_info": {
   "codemirror_mode": {
    "name": "ipython",
    "version": 3
   },
   "file_extension": ".py",
   "mimetype": "text/x-python",
   "name": "python",
   "nbconvert_exporter": "python",
   "pygments_lexer": "ipython3",
   "version": "3.8.5"
  }
 },
 "nbformat": 4,
 "nbformat_minor": 2
}
