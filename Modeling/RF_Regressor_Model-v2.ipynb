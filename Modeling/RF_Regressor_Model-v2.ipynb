{
 "cells": [
  {
   "cell_type": "code",
   "execution_count": 1,
   "metadata": {},
   "outputs": [],
   "source": [
    "import os,sys,inspect\n",
    "current_dir = os.path.dirname(os.path.abspath(inspect.getfile(inspect.currentframe())))\n",
    "parent_dir = os.path.dirname(current_dir)\n",
    "sys.path.insert(0, parent_dir)"
   ]
  },
  {
   "cell_type": "code",
   "execution_count": 2,
   "metadata": {},
   "outputs": [],
   "source": [
    "import pandas as pd\n",
    "\n",
    "from model import CropYielEstimator"
   ]
  },
  {
   "cell_type": "code",
   "execution_count": 3,
   "metadata": {},
   "outputs": [],
   "source": [
    "estimator = CropYielEstimator()"
   ]
  },
  {
   "cell_type": "markdown",
   "metadata": {},
   "source": [
    "# Load data"
   ]
  },
  {
   "cell_type": "code",
   "execution_count": 4,
   "metadata": {},
   "outputs": [],
   "source": [
    "train_data = pd.read_csv(\"../data/Crop_Data__train.csv\")"
   ]
  },
  {
   "cell_type": "code",
   "execution_count": 5,
   "metadata": {},
   "outputs": [
    {
     "data": {
      "text/plain": [
       "(164550, 25)"
      ]
     },
     "execution_count": 5,
     "metadata": {},
     "output_type": "execute_result"
    }
   ],
   "source": [
    "train_data.shape"
   ]
  },
  {
   "cell_type": "markdown",
   "metadata": {},
   "source": [
    "# Model Training"
   ]
  },
  {
   "cell_type": "markdown",
   "metadata": {},
   "source": [
    "From hyper-parameters search we found following setting gives the best and stable train-test scores.\n",
    "\n",
    "{'max_depth': 20,\n",
    " 'min_samples_leaf': 2,\n",
    " 'min_samples_split': 4,\n",
    " 'n_estimators': 110}"
   ]
  },
  {
   "cell_type": "code",
   "execution_count": 6,
   "metadata": {},
   "outputs": [
    {
     "name": "stdout",
     "output_type": "stream",
     "text": [
      "Clustered Lat-Long to Geo Region.\n",
      "Encoded Crop using WoE.\n",
      "Transforming numerical features.\n",
      "Transforming categorical features.\n",
      "Model trained!\n",
      "Training score:  0.9564366821732151\n"
     ]
    }
   ],
   "source": [
    "estimator.train(train_data)"
   ]
  },
  {
   "cell_type": "markdown",
   "metadata": {},
   "source": [
    "# Model Testing"
   ]
  },
  {
   "cell_type": "markdown",
   "metadata": {},
   "source": [
    "## Load test data"
   ]
  },
  {
   "cell_type": "code",
   "execution_count": 7,
   "metadata": {},
   "outputs": [],
   "source": [
    "test_data = pd.read_csv(\"../data/Crop_Data__test.csv\")"
   ]
  },
  {
   "cell_type": "code",
   "execution_count": 8,
   "metadata": {},
   "outputs": [
    {
     "data": {
      "text/html": [
       "<div>\n",
       "<style scoped>\n",
       "    .dataframe tbody tr th:only-of-type {\n",
       "        vertical-align: middle;\n",
       "    }\n",
       "\n",
       "    .dataframe tbody tr th {\n",
       "        vertical-align: top;\n",
       "    }\n",
       "\n",
       "    .dataframe thead th {\n",
       "        text-align: right;\n",
       "    }\n",
       "</style>\n",
       "<table border=\"1\" class=\"dataframe\">\n",
       "  <thead>\n",
       "    <tr style=\"text-align: right;\">\n",
       "      <th></th>\n",
       "      <th>State</th>\n",
       "      <th>District</th>\n",
       "      <th>Lat</th>\n",
       "      <th>Long</th>\n",
       "      <th>GW_depth_Min</th>\n",
       "      <th>GW_depth_Max</th>\n",
       "      <th>Wells_depth_0_to_2</th>\n",
       "      <th>Wells_depth_2_to_5</th>\n",
       "      <th>Wells_depth_5_to_10</th>\n",
       "      <th>Wells_depth_10_to_20</th>\n",
       "      <th>...</th>\n",
       "      <th>Humidity</th>\n",
       "      <th>Temp_Max</th>\n",
       "      <th>Temp_Min</th>\n",
       "      <th>Dew_Frost_Point</th>\n",
       "      <th>Wind_Speed</th>\n",
       "      <th>Year</th>\n",
       "      <th>Season</th>\n",
       "      <th>Crop</th>\n",
       "      <th>Area</th>\n",
       "      <th>Production</th>\n",
       "    </tr>\n",
       "  </thead>\n",
       "  <tbody>\n",
       "    <tr>\n",
       "      <th>0</th>\n",
       "      <td>TAMIL NADU</td>\n",
       "      <td>VIRUDHUNAGAR</td>\n",
       "      <td>8.38100</td>\n",
       "      <td>77.61320</td>\n",
       "      <td>3.25</td>\n",
       "      <td>17.25</td>\n",
       "      <td>0</td>\n",
       "      <td>2</td>\n",
       "      <td>7</td>\n",
       "      <td>4.0</td>\n",
       "      <td>...</td>\n",
       "      <td>87.086</td>\n",
       "      <td>27.972</td>\n",
       "      <td>25.180</td>\n",
       "      <td>24.018</td>\n",
       "      <td>4.942</td>\n",
       "      <td>1998</td>\n",
       "      <td>Kharif</td>\n",
       "      <td>Horse-gram</td>\n",
       "      <td>62.0</td>\n",
       "      <td>31.0</td>\n",
       "    </tr>\n",
       "    <tr>\n",
       "      <th>1</th>\n",
       "      <td>KARNATAKA</td>\n",
       "      <td>KOPPAL</td>\n",
       "      <td>14.54387</td>\n",
       "      <td>76.23089</td>\n",
       "      <td>2.80</td>\n",
       "      <td>20.15</td>\n",
       "      <td>0</td>\n",
       "      <td>6</td>\n",
       "      <td>7</td>\n",
       "      <td>6.0</td>\n",
       "      <td>...</td>\n",
       "      <td>62.672</td>\n",
       "      <td>31.426</td>\n",
       "      <td>20.175</td>\n",
       "      <td>16.552</td>\n",
       "      <td>3.351</td>\n",
       "      <td>2009</td>\n",
       "      <td>Whole Year</td>\n",
       "      <td>Banana</td>\n",
       "      <td>1183.0</td>\n",
       "      <td>50410.0</td>\n",
       "    </tr>\n",
       "    <tr>\n",
       "      <th>2</th>\n",
       "      <td>KARNATAKA</td>\n",
       "      <td>BANGALORE RURAL</td>\n",
       "      <td>13.17776</td>\n",
       "      <td>77.34056</td>\n",
       "      <td>2.95</td>\n",
       "      <td>17.80</td>\n",
       "      <td>0</td>\n",
       "      <td>10</td>\n",
       "      <td>17</td>\n",
       "      <td>8.0</td>\n",
       "      <td>...</td>\n",
       "      <td>75.542</td>\n",
       "      <td>28.968</td>\n",
       "      <td>19.710</td>\n",
       "      <td>19.064</td>\n",
       "      <td>3.588</td>\n",
       "      <td>2014</td>\n",
       "      <td>Kharif</td>\n",
       "      <td>Small millets</td>\n",
       "      <td>17.0</td>\n",
       "      <td>11.0</td>\n",
       "    </tr>\n",
       "    <tr>\n",
       "      <th>3</th>\n",
       "      <td>TAMIL NADU</td>\n",
       "      <td>NAGAPATTINAM</td>\n",
       "      <td>10.76390</td>\n",
       "      <td>79.84450</td>\n",
       "      <td>2.26</td>\n",
       "      <td>4.66</td>\n",
       "      <td>0</td>\n",
       "      <td>7</td>\n",
       "      <td>0</td>\n",
       "      <td>0.0</td>\n",
       "      <td>...</td>\n",
       "      <td>74.752</td>\n",
       "      <td>30.696</td>\n",
       "      <td>25.539</td>\n",
       "      <td>22.816</td>\n",
       "      <td>3.758</td>\n",
       "      <td>2008</td>\n",
       "      <td>Whole Year</td>\n",
       "      <td>Moong(Green Gram)</td>\n",
       "      <td>34588.0</td>\n",
       "      <td>2933.0</td>\n",
       "    </tr>\n",
       "    <tr>\n",
       "      <th>4</th>\n",
       "      <td>CHHATTISGARH</td>\n",
       "      <td>SURGUJA</td>\n",
       "      <td>23.36900</td>\n",
       "      <td>83.32876</td>\n",
       "      <td>3.16</td>\n",
       "      <td>16.46</td>\n",
       "      <td>0</td>\n",
       "      <td>5</td>\n",
       "      <td>55</td>\n",
       "      <td>10.0</td>\n",
       "      <td>...</td>\n",
       "      <td>42.092</td>\n",
       "      <td>28.338</td>\n",
       "      <td>13.756</td>\n",
       "      <td>5.292</td>\n",
       "      <td>1.502</td>\n",
       "      <td>2010</td>\n",
       "      <td>Rabi</td>\n",
       "      <td>Khesari</td>\n",
       "      <td>382.0</td>\n",
       "      <td>237.0</td>\n",
       "    </tr>\n",
       "  </tbody>\n",
       "</table>\n",
       "<p>5 rows × 25 columns</p>\n",
       "</div>"
      ],
      "text/plain": [
       "          State         District       Lat      Long  GW_depth_Min  \\\n",
       "0    TAMIL NADU     VIRUDHUNAGAR   8.38100  77.61320          3.25   \n",
       "1     KARNATAKA           KOPPAL  14.54387  76.23089          2.80   \n",
       "2     KARNATAKA  BANGALORE RURAL  13.17776  77.34056          2.95   \n",
       "3    TAMIL NADU     NAGAPATTINAM  10.76390  79.84450          2.26   \n",
       "4  CHHATTISGARH          SURGUJA  23.36900  83.32876          3.16   \n",
       "\n",
       "   GW_depth_Max  Wells_depth_0_to_2  Wells_depth_2_to_5  Wells_depth_5_to_10  \\\n",
       "0         17.25                   0                   2                    7   \n",
       "1         20.15                   0                   6                    7   \n",
       "2         17.80                   0                  10                   17   \n",
       "3          4.66                   0                   7                    0   \n",
       "4         16.46                   0                   5                   55   \n",
       "\n",
       "   Wells_depth_10_to_20  ...  Humidity  Temp_Max  Temp_Min  Dew_Frost_Point  \\\n",
       "0                   4.0  ...    87.086    27.972    25.180           24.018   \n",
       "1                   6.0  ...    62.672    31.426    20.175           16.552   \n",
       "2                   8.0  ...    75.542    28.968    19.710           19.064   \n",
       "3                   0.0  ...    74.752    30.696    25.539           22.816   \n",
       "4                  10.0  ...    42.092    28.338    13.756            5.292   \n",
       "\n",
       "   Wind_Speed  Year      Season               Crop     Area  Production  \n",
       "0       4.942  1998      Kharif         Horse-gram     62.0        31.0  \n",
       "1       3.351  2009  Whole Year             Banana   1183.0     50410.0  \n",
       "2       3.588  2014      Kharif      Small millets     17.0        11.0  \n",
       "3       3.758  2008  Whole Year  Moong(Green Gram)  34588.0      2933.0  \n",
       "4       1.502  2010        Rabi            Khesari    382.0       237.0  \n",
       "\n",
       "[5 rows x 25 columns]"
      ]
     },
     "execution_count": 8,
     "metadata": {},
     "output_type": "execute_result"
    }
   ],
   "source": [
    "test_data.head()"
   ]
  },
  {
   "cell_type": "code",
   "execution_count": 9,
   "metadata": {},
   "outputs": [
    {
     "data": {
      "text/plain": [
       "(41138, 25)"
      ]
     },
     "execution_count": 9,
     "metadata": {},
     "output_type": "execute_result"
    }
   ],
   "source": [
    "test_data.shape"
   ]
  },
  {
   "cell_type": "markdown",
   "metadata": {},
   "source": [
    "## Test score"
   ]
  },
  {
   "cell_type": "code",
   "execution_count": 10,
   "metadata": {},
   "outputs": [
    {
     "name": "stdout",
     "output_type": "stream",
     "text": [
      "Clustered Lat-Long to Geo Region.\n",
      "Encoded Crop using WoE.\n",
      "Transforming numerical features.\n",
      "Transforming categorical features.\n",
      "Test score: 0.898934720649277\n"
     ]
    }
   ],
   "source": [
    "estimator.test(test_data)"
   ]
  },
  {
   "cell_type": "markdown",
   "metadata": {},
   "source": [
    "## Predict"
   ]
  },
  {
   "cell_type": "code",
   "execution_count": 11,
   "metadata": {},
   "outputs": [],
   "source": [
    "test_feature = {\n",
    " 'Lat': 14.543870000000002,\n",
    " 'Long': 76.23089,\n",
    " 'GW_depth_Min': 2.8,\n",
    " 'GW_depth_Max': 20.15,\n",
    " 'Wells_depth_0_to_2': 0,\n",
    " 'Wells_depth_2_to_5': 6,\n",
    " 'Wells_depth_5_to_10': 7,\n",
    " 'Wells_depth_10_to_20': 6.0,\n",
    " 'Wells_depth_20_to_40': 1.0,\n",
    " 'Wells_depth_40_and_above': 0.0,\n",
    " 'Precipitation': 70.70416666666667,\n",
    " 'Solar_Radiation': 20.460833333333333,\n",
    " 'Surface_Pressure': 94.08083333333332,\n",
    " 'Humidity': 62.672,\n",
    " 'Temp_Max': 31.426,\n",
    " 'Temp_Min': 20.175,\n",
    " 'Dew_Frost_Point': 16.552,\n",
    " 'Wind_Speed': 3.3510000000000004,\n",
    " 'Year': 2009,\n",
    " 'Season': 'Whole Year',\n",
    " 'Crop': 'Banana',}"
   ]
  },
  {
   "cell_type": "code",
   "execution_count": 12,
   "metadata": {},
   "outputs": [
    {
     "name": "stdout",
     "output_type": "stream",
     "text": [
      "Clustered Lat-Long to Geo Region.\n",
      "Encoded Crop using WoE.\n",
      "Transforming numerical features.\n",
      "Transforming categorical features.\n"
     ]
    },
    {
     "data": {
      "text/plain": [
       "array([[0.69980791]])"
      ]
     },
     "execution_count": 12,
     "metadata": {},
     "output_type": "execute_result"
    }
   ],
   "source": [
    "estimator.predict([test_feature])"
   ]
  },
  {
   "cell_type": "code",
   "execution_count": 13,
   "metadata": {},
   "outputs": [
    {
     "data": {
      "text/plain": [
       "42.61200338123415"
      ]
     },
     "execution_count": 13,
     "metadata": {},
     "output_type": "execute_result"
    }
   ],
   "source": [
    "test_data.iloc[1]['Production'] / test_data.iloc[1]['Area']"
   ]
  },
  {
   "cell_type": "code",
   "execution_count": 17,
   "metadata": {},
   "outputs": [
    {
     "data": {
      "text/plain": [
       "{'State': 'KARNATAKA',\n",
       " 'District': 'KOPPAL',\n",
       " 'Lat': 14.543870000000002,\n",
       " 'Long': 76.23089,\n",
       " 'GW_depth_Min': 2.8,\n",
       " 'GW_depth_Max': 20.15,\n",
       " 'Wells_depth_0_to_2': 0,\n",
       " 'Wells_depth_2_to_5': 6,\n",
       " 'Wells_depth_5_to_10': 7,\n",
       " 'Wells_depth_10_to_20': 6.0,\n",
       " 'Wells_depth_20_to_40': 1.0,\n",
       " 'Wells_depth_40_and_above': 0.0,\n",
       " 'Precipitation': 70.70416666666667,\n",
       " 'Solar_Radiation': 20.460833333333333,\n",
       " 'Surface_Pressure': 94.08083333333332,\n",
       " 'Humidity': 62.672,\n",
       " 'Temp_Max': 31.426,\n",
       " 'Temp_Min': 20.175,\n",
       " 'Dew_Frost_Point': 16.552,\n",
       " 'Wind_Speed': 3.3510000000000004,\n",
       " 'Year': 2009,\n",
       " 'Season': 'Whole Year',\n",
       " 'Crop': 'Banana',\n",
       " 'Area': 1183.0,\n",
       " 'Production': 50410.0}"
      ]
     },
     "execution_count": 17,
     "metadata": {},
     "output_type": "execute_result"
    }
   ],
   "source": [
    "dict(test_data.iloc[1])"
   ]
  },
  {
   "cell_type": "code",
   "execution_count": null,
   "metadata": {},
   "outputs": [],
   "source": []
  }
 ],
 "metadata": {
  "kernelspec": {
   "display_name": "Python 3",
   "language": "python",
   "name": "python3"
  },
  "language_info": {
   "codemirror_mode": {
    "name": "ipython",
    "version": 3
   },
   "file_extension": ".py",
   "mimetype": "text/x-python",
   "name": "python",
   "nbconvert_exporter": "python",
   "pygments_lexer": "ipython3",
   "version": "3.8.5"
  }
 },
 "nbformat": 4,
 "nbformat_minor": 2
}
