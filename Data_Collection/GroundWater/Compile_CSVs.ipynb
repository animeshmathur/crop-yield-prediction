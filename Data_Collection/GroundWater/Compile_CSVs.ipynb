{
 "cells": [
  {
   "cell_type": "code",
   "execution_count": 1,
   "metadata": {},
   "outputs": [],
   "source": [
    "import pandas as pd"
   ]
  },
  {
   "cell_type": "code",
   "execution_count": 2,
   "metadata": {},
   "outputs": [],
   "source": [
    "csv_files = [\n",
    "    'Andaman_and_Nicobar_GroundWater_19.csv',\n",
    "    'Andhra_Pradesh_GroundWater_19.csv',\n",
    "    'Arunachal_Pradesh_GroundWater_19.csv',\n",
    "    'Assam_GroundWater_19.csv',\n",
    "    'Bihar_GroundWater_19.csv',\n",
    "    'Chandigarh_GroundWater_19.csv',\n",
    "    'Chhattisgarh_GroundWater_19.csv',\n",
    "    'Dadra_And_Nagar_Haveli_GroundWater_19.csv',\n",
    "    'Daman_&_diu_GroundWater_19.csv',\n",
    "    'Delhi_GroundWater_19.csv',\n",
    "    'Goa_GroundWater_19.csv',\n",
    "    'Gujarat_GroundWater_19.csv',\n",
    "    'Haryana_GroundWater_19.csv',\n",
    "    'Himachal_Pradesh_GroundWater_19.csv',\n",
    "    'Jammu_and_Kashmir_GroundWater_19.csv',\n",
    "    'Jharkhand_GroundWater_19.csv',\n",
    "    'Karnataka_GroundWater_19.csv',\n",
    "    'Kerala_GroundWater_19.csv',\n",
    "    'Madhya_Pradesh_GroundWater_19.csv',\n",
    "    'Maharashtra_GroundWater_19.csv',\n",
    "    'Meghalaya_GroundWater_19.csv',\n",
    "    'Nagaland_GroundWater_19.csv',\n",
    "    'Odisha_GroundWater_19.csv',\n",
    "    'Pondicherry_GroundWater_19.csv',\n",
    "    'Punjab_GroundWater_19.csv',\n",
    "    'Rajasthan_GroundWater_19.csv',\n",
    "    'Tamil_Nadu_GroundWater_19.csv',\n",
    "    'Telangana_GroundWater_19.csv',\n",
    "    'Tripura_GroundWater_19.csv',\n",
    "    'Uttar_Pradesh_GroundWater_19.csv',\n",
    "    'Uttaranchal_GroundWater_19.csv',\n",
    "    'West_Bengal_GroundWater_19.csv'\n",
    "]"
   ]
  },
  {
   "cell_type": "code",
   "execution_count": 3,
   "metadata": {},
   "outputs": [],
   "source": [
    "ground_water_data = pd.DataFrame()\n",
    "for csv_file in csv_files:\n",
    "    temp_data = pd.read_csv(csv_file)\n",
    "    ground_water_data = pd.concat([ground_water_data, temp_data])"
   ]
  },
  {
   "cell_type": "code",
   "execution_count": 6,
   "metadata": {},
   "outputs": [],
   "source": [
    "ground_water_data.drop('Unnamed: 0', axis=1, inplace=True)"
   ]
  },
  {
   "cell_type": "code",
   "execution_count": 8,
   "metadata": {},
   "outputs": [],
   "source": [
    "ground_water_data.to_csv('ALL_Ground_Water_Levels.csv', index=False)"
   ]
  },
  {
   "cell_type": "code",
   "execution_count": null,
   "metadata": {},
   "outputs": [],
   "source": []
  }
 ],
 "metadata": {
  "kernelspec": {
   "display_name": "Python 3",
   "language": "python",
   "name": "python3"
  },
  "language_info": {
   "codemirror_mode": {
    "name": "ipython",
    "version": 3
   },
   "file_extension": ".py",
   "mimetype": "text/x-python",
   "name": "python",
   "nbconvert_exporter": "python",
   "pygments_lexer": "ipython3",
   "version": "3.7.9"
  }
 },
 "nbformat": 4,
 "nbformat_minor": 4
}
