{
 "cells": [
  {
   "cell_type": "code",
   "execution_count": 1,
   "metadata": {
    "scrolled": true
   },
   "outputs": [],
   "source": [
    "import os,sys,inspect\n",
    "current_dir = os.path.dirname(os.path.abspath(inspect.getfile(inspect.currentframe())))\n",
    "parent_dir = os.path.dirname(current_dir)\n",
    "sys.path.insert(0, parent_dir) "
   ]
  },
  {
   "cell_type": "code",
   "execution_count": 2,
   "metadata": {},
   "outputs": [],
   "source": [
    "import numpy as np\n",
    "import pandas as pd\n",
    "import matplotlib.pyplot as plt\n",
    "import seaborn as sns\n",
    "\n",
    "from scipy.stats import skew, kurtosis, boxcox\n",
    "from scipy.special import inv_boxcox\n",
    "\n",
    "import pickle\n",
    "\n",
    "from common.utils import *\n",
    "\n",
    "pd.options.display.max_columns = None\n",
    "pd.options.display.max_rows = None"
   ]
  },
  {
   "cell_type": "code",
   "execution_count": 3,
   "metadata": {},
   "outputs": [],
   "source": [
    "import warnings\n",
    "warnings.filterwarnings(\"ignore\")"
   ]
  },
  {
   "cell_type": "code",
   "execution_count": 4,
   "metadata": {},
   "outputs": [],
   "source": [
    "raw_data = pd.read_csv('../data/Crop_Data__train.csv')"
   ]
  },
  {
   "cell_type": "code",
   "execution_count": 5,
   "metadata": {
    "scrolled": true
   },
   "outputs": [
    {
     "name": "stdout",
     "output_type": "stream",
     "text": [
      "<class 'pandas.core.frame.DataFrame'>\n",
      "RangeIndex: 164986 entries, 0 to 164985\n",
      "Data columns (total 25 columns):\n",
      " #   Column                    Non-Null Count   Dtype  \n",
      "---  ------                    --------------   -----  \n",
      " 0   State                     164986 non-null  object \n",
      " 1   District                  164986 non-null  object \n",
      " 2   Lat                       164986 non-null  float64\n",
      " 3   Long                      164986 non-null  float64\n",
      " 4   GW_depth_Min              164986 non-null  float64\n",
      " 5   GW_depth_Max              164986 non-null  float64\n",
      " 6   Wells_depth_0_to_2        164986 non-null  int64  \n",
      " 7   Wells_depth_2_to_5        164986 non-null  int64  \n",
      " 8   Wells_depth_5_to_10       164986 non-null  int64  \n",
      " 9   Wells_depth_10_to_20      164986 non-null  float64\n",
      " 10  Wells_depth_20_to_40      164986 non-null  float64\n",
      " 11  Wells_depth_40_and_above  164986 non-null  float64\n",
      " 12  Precipitation             164986 non-null  float64\n",
      " 13  Solar_Radiation           164986 non-null  float64\n",
      " 14  Surface_Pressure          164986 non-null  float64\n",
      " 15  Humidity                  164986 non-null  float64\n",
      " 16  Temp_Max                  164986 non-null  float64\n",
      " 17  Temp_Min                  164986 non-null  float64\n",
      " 18  Dew_Frost_Point           164986 non-null  float64\n",
      " 19  Wind_Speed                164986 non-null  float64\n",
      " 20  Year                      164986 non-null  int64  \n",
      " 21  Season                    164986 non-null  object \n",
      " 22  Crop                      164986 non-null  object \n",
      " 23  Area                      164986 non-null  float64\n",
      " 24  Production                164986 non-null  float64\n",
      "dtypes: float64(17), int64(4), object(4)\n",
      "memory usage: 31.5+ MB\n"
     ]
    }
   ],
   "source": [
    "raw_data.info()"
   ]
  },
  {
   "cell_type": "code",
   "execution_count": 6,
   "metadata": {},
   "outputs": [
    {
     "data": {
      "text/html": [
       "<div>\n",
       "<style scoped>\n",
       "    .dataframe tbody tr th:only-of-type {\n",
       "        vertical-align: middle;\n",
       "    }\n",
       "\n",
       "    .dataframe tbody tr th {\n",
       "        vertical-align: top;\n",
       "    }\n",
       "\n",
       "    .dataframe thead th {\n",
       "        text-align: right;\n",
       "    }\n",
       "</style>\n",
       "<table border=\"1\" class=\"dataframe\">\n",
       "  <thead>\n",
       "    <tr style=\"text-align: right;\">\n",
       "      <th></th>\n",
       "      <th>State</th>\n",
       "      <th>District</th>\n",
       "      <th>Lat</th>\n",
       "      <th>Long</th>\n",
       "      <th>GW_depth_Min</th>\n",
       "      <th>GW_depth_Max</th>\n",
       "      <th>Wells_depth_0_to_2</th>\n",
       "      <th>Wells_depth_2_to_5</th>\n",
       "      <th>Wells_depth_5_to_10</th>\n",
       "      <th>Wells_depth_10_to_20</th>\n",
       "      <th>Wells_depth_20_to_40</th>\n",
       "      <th>Wells_depth_40_and_above</th>\n",
       "      <th>Precipitation</th>\n",
       "      <th>Solar_Radiation</th>\n",
       "      <th>Surface_Pressure</th>\n",
       "      <th>Humidity</th>\n",
       "      <th>Temp_Max</th>\n",
       "      <th>Temp_Min</th>\n",
       "      <th>Dew_Frost_Point</th>\n",
       "      <th>Wind_Speed</th>\n",
       "      <th>Year</th>\n",
       "      <th>Season</th>\n",
       "      <th>Crop</th>\n",
       "      <th>Area</th>\n",
       "      <th>Production</th>\n",
       "    </tr>\n",
       "  </thead>\n",
       "  <tbody>\n",
       "    <tr>\n",
       "      <th>0</th>\n",
       "      <td>KARNATAKA</td>\n",
       "      <td>BIDAR</td>\n",
       "      <td>14.54387</td>\n",
       "      <td>76.23089</td>\n",
       "      <td>3.65</td>\n",
       "      <td>20.30</td>\n",
       "      <td>0</td>\n",
       "      <td>4</td>\n",
       "      <td>7</td>\n",
       "      <td>6.0</td>\n",
       "      <td>1.0</td>\n",
       "      <td>0.0</td>\n",
       "      <td>66.890833</td>\n",
       "      <td>19.725833</td>\n",
       "      <td>94.141667</td>\n",
       "      <td>62.022</td>\n",
       "      <td>31.448</td>\n",
       "      <td>19.958</td>\n",
       "      <td>16.594</td>\n",
       "      <td>3.268</td>\n",
       "      <td>2014</td>\n",
       "      <td>Whole Year</td>\n",
       "      <td>Coriander</td>\n",
       "      <td>76.0</td>\n",
       "      <td>26.0</td>\n",
       "    </tr>\n",
       "    <tr>\n",
       "      <th>1</th>\n",
       "      <td>ASSAM</td>\n",
       "      <td>SIVASAGAR</td>\n",
       "      <td>26.82490</td>\n",
       "      <td>94.17820</td>\n",
       "      <td>1.94</td>\n",
       "      <td>7.19</td>\n",
       "      <td>2</td>\n",
       "      <td>1</td>\n",
       "      <td>1</td>\n",
       "      <td>0.0</td>\n",
       "      <td>0.0</td>\n",
       "      <td>0.0</td>\n",
       "      <td>19.656000</td>\n",
       "      <td>17.538000</td>\n",
       "      <td>97.352000</td>\n",
       "      <td>59.524</td>\n",
       "      <td>24.642</td>\n",
       "      <td>12.838</td>\n",
       "      <td>9.638</td>\n",
       "      <td>0.518</td>\n",
       "      <td>2001</td>\n",
       "      <td>Rabi</td>\n",
       "      <td>Urad</td>\n",
       "      <td>399.0</td>\n",
       "      <td>222.0</td>\n",
       "    </tr>\n",
       "    <tr>\n",
       "      <th>2</th>\n",
       "      <td>GUJARAT</td>\n",
       "      <td>VADODARA</td>\n",
       "      <td>22.27342</td>\n",
       "      <td>73.18848</td>\n",
       "      <td>3.05</td>\n",
       "      <td>37.90</td>\n",
       "      <td>0</td>\n",
       "      <td>4</td>\n",
       "      <td>17</td>\n",
       "      <td>10.0</td>\n",
       "      <td>5.0</td>\n",
       "      <td>0.0</td>\n",
       "      <td>236.414000</td>\n",
       "      <td>17.544000</td>\n",
       "      <td>99.666000</td>\n",
       "      <td>79.024</td>\n",
       "      <td>31.816</td>\n",
       "      <td>24.144</td>\n",
       "      <td>23.304</td>\n",
       "      <td>2.984</td>\n",
       "      <td>2003</td>\n",
       "      <td>Kharif</td>\n",
       "      <td>Urad</td>\n",
       "      <td>13100.0</td>\n",
       "      <td>10700.0</td>\n",
       "    </tr>\n",
       "    <tr>\n",
       "      <th>3</th>\n",
       "      <td>RAJASTHAN</td>\n",
       "      <td>DUNGARPUR</td>\n",
       "      <td>23.68344</td>\n",
       "      <td>73.82284</td>\n",
       "      <td>2.44</td>\n",
       "      <td>20.60</td>\n",
       "      <td>0</td>\n",
       "      <td>4</td>\n",
       "      <td>6</td>\n",
       "      <td>7.0</td>\n",
       "      <td>1.0</td>\n",
       "      <td>0.0</td>\n",
       "      <td>79.125833</td>\n",
       "      <td>18.270833</td>\n",
       "      <td>97.630833</td>\n",
       "      <td>48.312</td>\n",
       "      <td>33.668</td>\n",
       "      <td>20.010</td>\n",
       "      <td>12.087</td>\n",
       "      <td>2.317</td>\n",
       "      <td>2006</td>\n",
       "      <td>Whole Year</td>\n",
       "      <td>Guar seed</td>\n",
       "      <td>1799.0</td>\n",
       "      <td>45.0</td>\n",
       "    </tr>\n",
       "    <tr>\n",
       "      <th>4</th>\n",
       "      <td>ASSAM</td>\n",
       "      <td>TINSUKIA</td>\n",
       "      <td>27.47920</td>\n",
       "      <td>95.37184</td>\n",
       "      <td>0.14</td>\n",
       "      <td>4.90</td>\n",
       "      <td>1</td>\n",
       "      <td>5</td>\n",
       "      <td>2</td>\n",
       "      <td>0.0</td>\n",
       "      <td>0.0</td>\n",
       "      <td>0.0</td>\n",
       "      <td>96.498333</td>\n",
       "      <td>15.804167</td>\n",
       "      <td>96.608333</td>\n",
       "      <td>62.027</td>\n",
       "      <td>30.314</td>\n",
       "      <td>19.018</td>\n",
       "      <td>15.793</td>\n",
       "      <td>0.290</td>\n",
       "      <td>2001</td>\n",
       "      <td>Whole Year</td>\n",
       "      <td>Potato</td>\n",
       "      <td>2605.0</td>\n",
       "      <td>16774.0</td>\n",
       "    </tr>\n",
       "  </tbody>\n",
       "</table>\n",
       "</div>"
      ],
      "text/plain": [
       "       State   District       Lat      Long  GW_depth_Min  GW_depth_Max  \\\n",
       "0  KARNATAKA      BIDAR  14.54387  76.23089          3.65         20.30   \n",
       "1      ASSAM  SIVASAGAR  26.82490  94.17820          1.94          7.19   \n",
       "2    GUJARAT   VADODARA  22.27342  73.18848          3.05         37.90   \n",
       "3  RAJASTHAN  DUNGARPUR  23.68344  73.82284          2.44         20.60   \n",
       "4      ASSAM   TINSUKIA  27.47920  95.37184          0.14          4.90   \n",
       "\n",
       "   Wells_depth_0_to_2  Wells_depth_2_to_5  Wells_depth_5_to_10  \\\n",
       "0                   0                   4                    7   \n",
       "1                   2                   1                    1   \n",
       "2                   0                   4                   17   \n",
       "3                   0                   4                    6   \n",
       "4                   1                   5                    2   \n",
       "\n",
       "   Wells_depth_10_to_20  Wells_depth_20_to_40  Wells_depth_40_and_above  \\\n",
       "0                   6.0                   1.0                       0.0   \n",
       "1                   0.0                   0.0                       0.0   \n",
       "2                  10.0                   5.0                       0.0   \n",
       "3                   7.0                   1.0                       0.0   \n",
       "4                   0.0                   0.0                       0.0   \n",
       "\n",
       "   Precipitation  Solar_Radiation  Surface_Pressure  Humidity  Temp_Max  \\\n",
       "0      66.890833        19.725833         94.141667    62.022    31.448   \n",
       "1      19.656000        17.538000         97.352000    59.524    24.642   \n",
       "2     236.414000        17.544000         99.666000    79.024    31.816   \n",
       "3      79.125833        18.270833         97.630833    48.312    33.668   \n",
       "4      96.498333        15.804167         96.608333    62.027    30.314   \n",
       "\n",
       "   Temp_Min  Dew_Frost_Point  Wind_Speed  Year      Season       Crop  \\\n",
       "0    19.958           16.594       3.268  2014  Whole Year  Coriander   \n",
       "1    12.838            9.638       0.518  2001        Rabi       Urad   \n",
       "2    24.144           23.304       2.984  2003      Kharif       Urad   \n",
       "3    20.010           12.087       2.317  2006  Whole Year  Guar seed   \n",
       "4    19.018           15.793       0.290  2001  Whole Year     Potato   \n",
       "\n",
       "      Area  Production  \n",
       "0     76.0        26.0  \n",
       "1    399.0       222.0  \n",
       "2  13100.0     10700.0  \n",
       "3   1799.0        45.0  \n",
       "4   2605.0     16774.0  "
      ]
     },
     "execution_count": 6,
     "metadata": {},
     "output_type": "execute_result"
    }
   ],
   "source": [
    "raw_data.head()"
   ]
  },
  {
   "cell_type": "code",
   "execution_count": 7,
   "metadata": {},
   "outputs": [
    {
     "data": {
      "text/plain": [
       "(164986, 25)"
      ]
     },
     "execution_count": 7,
     "metadata": {},
     "output_type": "execute_result"
    }
   ],
   "source": [
    "raw_data.shape"
   ]
  },
  {
   "cell_type": "code",
   "execution_count": 8,
   "metadata": {
    "scrolled": true
   },
   "outputs": [
    {
     "data": {
      "text/html": [
       "<div>\n",
       "<style scoped>\n",
       "    .dataframe tbody tr th:only-of-type {\n",
       "        vertical-align: middle;\n",
       "    }\n",
       "\n",
       "    .dataframe tbody tr th {\n",
       "        vertical-align: top;\n",
       "    }\n",
       "\n",
       "    .dataframe thead th {\n",
       "        text-align: right;\n",
       "    }\n",
       "</style>\n",
       "<table border=\"1\" class=\"dataframe\">\n",
       "  <thead>\n",
       "    <tr style=\"text-align: right;\">\n",
       "      <th></th>\n",
       "      <th>count</th>\n",
       "      <th>unique</th>\n",
       "      <th>top</th>\n",
       "      <th>freq</th>\n",
       "      <th>mean</th>\n",
       "      <th>std</th>\n",
       "      <th>min</th>\n",
       "      <th>25%</th>\n",
       "      <th>50%</th>\n",
       "      <th>75%</th>\n",
       "      <th>max</th>\n",
       "    </tr>\n",
       "  </thead>\n",
       "  <tbody>\n",
       "    <tr>\n",
       "      <th>State</th>\n",
       "      <td>164986</td>\n",
       "      <td>30</td>\n",
       "      <td>UTTAR PRADESH</td>\n",
       "      <td>25759</td>\n",
       "      <td>NaN</td>\n",
       "      <td>NaN</td>\n",
       "      <td>NaN</td>\n",
       "      <td>NaN</td>\n",
       "      <td>NaN</td>\n",
       "      <td>NaN</td>\n",
       "      <td>NaN</td>\n",
       "    </tr>\n",
       "    <tr>\n",
       "      <th>District</th>\n",
       "      <td>164986</td>\n",
       "      <td>516</td>\n",
       "      <td>TUMKUR</td>\n",
       "      <td>738</td>\n",
       "      <td>NaN</td>\n",
       "      <td>NaN</td>\n",
       "      <td>NaN</td>\n",
       "      <td>NaN</td>\n",
       "      <td>NaN</td>\n",
       "      <td>NaN</td>\n",
       "      <td>NaN</td>\n",
       "    </tr>\n",
       "    <tr>\n",
       "      <th>Lat</th>\n",
       "      <td>164986</td>\n",
       "      <td>NaN</td>\n",
       "      <td>NaN</td>\n",
       "      <td>NaN</td>\n",
       "      <td>22.1978</td>\n",
       "      <td>5.59709</td>\n",
       "      <td>8.08783</td>\n",
       "      <td>18.5383</td>\n",
       "      <td>23.7214</td>\n",
       "      <td>26.3544</td>\n",
       "      <td>33.2203</td>\n",
       "    </tr>\n",
       "    <tr>\n",
       "      <th>Long</th>\n",
       "      <td>164986</td>\n",
       "      <td>NaN</td>\n",
       "      <td>NaN</td>\n",
       "      <td>NaN</td>\n",
       "      <td>80.5854</td>\n",
       "      <td>5.4176</td>\n",
       "      <td>69.611</td>\n",
       "      <td>76.5532</td>\n",
       "      <td>79.3863</td>\n",
       "      <td>83.8242</td>\n",
       "      <td>96.6535</td>\n",
       "    </tr>\n",
       "    <tr>\n",
       "      <th>GW_depth_Min</th>\n",
       "      <td>164986</td>\n",
       "      <td>NaN</td>\n",
       "      <td>NaN</td>\n",
       "      <td>NaN</td>\n",
       "      <td>2.9253</td>\n",
       "      <td>3.05719</td>\n",
       "      <td>-0.95</td>\n",
       "      <td>1.4</td>\n",
       "      <td>2.42</td>\n",
       "      <td>3.65</td>\n",
       "      <td>43.95</td>\n",
       "    </tr>\n",
       "    <tr>\n",
       "      <th>GW_depth_Max</th>\n",
       "      <td>164986</td>\n",
       "      <td>NaN</td>\n",
       "      <td>NaN</td>\n",
       "      <td>NaN</td>\n",
       "      <td>21.4036</td>\n",
       "      <td>17.2144</td>\n",
       "      <td>-0.21</td>\n",
       "      <td>10.82</td>\n",
       "      <td>17.25</td>\n",
       "      <td>25.68</td>\n",
       "      <td>128.15</td>\n",
       "    </tr>\n",
       "    <tr>\n",
       "      <th>Wells_depth_0_to_2</th>\n",
       "      <td>164986</td>\n",
       "      <td>NaN</td>\n",
       "      <td>NaN</td>\n",
       "      <td>NaN</td>\n",
       "      <td>1.27863</td>\n",
       "      <td>2.95843</td>\n",
       "      <td>0</td>\n",
       "      <td>0</td>\n",
       "      <td>0</td>\n",
       "      <td>1</td>\n",
       "      <td>51</td>\n",
       "    </tr>\n",
       "    <tr>\n",
       "      <th>Wells_depth_2_to_5</th>\n",
       "      <td>164986</td>\n",
       "      <td>NaN</td>\n",
       "      <td>NaN</td>\n",
       "      <td>NaN</td>\n",
       "      <td>6.93998</td>\n",
       "      <td>8.02365</td>\n",
       "      <td>0</td>\n",
       "      <td>2</td>\n",
       "      <td>4</td>\n",
       "      <td>10</td>\n",
       "      <td>48</td>\n",
       "    </tr>\n",
       "    <tr>\n",
       "      <th>Wells_depth_5_to_10</th>\n",
       "      <td>164986</td>\n",
       "      <td>NaN</td>\n",
       "      <td>NaN</td>\n",
       "      <td>NaN</td>\n",
       "      <td>12.1134</td>\n",
       "      <td>11.7355</td>\n",
       "      <td>0</td>\n",
       "      <td>3</td>\n",
       "      <td>9</td>\n",
       "      <td>17</td>\n",
       "      <td>67</td>\n",
       "    </tr>\n",
       "    <tr>\n",
       "      <th>Wells_depth_10_to_20</th>\n",
       "      <td>164986</td>\n",
       "      <td>NaN</td>\n",
       "      <td>NaN</td>\n",
       "      <td>NaN</td>\n",
       "      <td>6.7391</td>\n",
       "      <td>8.30502</td>\n",
       "      <td>0</td>\n",
       "      <td>1</td>\n",
       "      <td>4</td>\n",
       "      <td>10</td>\n",
       "      <td>77</td>\n",
       "    </tr>\n",
       "    <tr>\n",
       "      <th>Wells_depth_20_to_40</th>\n",
       "      <td>164986</td>\n",
       "      <td>NaN</td>\n",
       "      <td>NaN</td>\n",
       "      <td>NaN</td>\n",
       "      <td>1.40094</td>\n",
       "      <td>2.99043</td>\n",
       "      <td>0</td>\n",
       "      <td>0</td>\n",
       "      <td>0</td>\n",
       "      <td>1</td>\n",
       "      <td>24</td>\n",
       "    </tr>\n",
       "    <tr>\n",
       "      <th>Wells_depth_40_and_above</th>\n",
       "      <td>164986</td>\n",
       "      <td>NaN</td>\n",
       "      <td>NaN</td>\n",
       "      <td>NaN</td>\n",
       "      <td>0.414296</td>\n",
       "      <td>2.43688</td>\n",
       "      <td>0</td>\n",
       "      <td>0</td>\n",
       "      <td>0</td>\n",
       "      <td>0</td>\n",
       "      <td>38</td>\n",
       "    </tr>\n",
       "    <tr>\n",
       "      <th>Precipitation</th>\n",
       "      <td>164986</td>\n",
       "      <td>NaN</td>\n",
       "      <td>NaN</td>\n",
       "      <td>NaN</td>\n",
       "      <td>101.14</td>\n",
       "      <td>89.6123</td>\n",
       "      <td>0</td>\n",
       "      <td>20.51</td>\n",
       "      <td>84.38</td>\n",
       "      <td>152.94</td>\n",
       "      <td>735.31</td>\n",
       "    </tr>\n",
       "    <tr>\n",
       "      <th>Solar_Radiation</th>\n",
       "      <td>164986</td>\n",
       "      <td>NaN</td>\n",
       "      <td>NaN</td>\n",
       "      <td>NaN</td>\n",
       "      <td>18.021</td>\n",
       "      <td>2.14169</td>\n",
       "      <td>7.84</td>\n",
       "      <td>16.5267</td>\n",
       "      <td>17.94</td>\n",
       "      <td>19.346</td>\n",
       "      <td>26.3125</td>\n",
       "    </tr>\n",
       "    <tr>\n",
       "      <th>Surface_Pressure</th>\n",
       "      <td>164986</td>\n",
       "      <td>NaN</td>\n",
       "      <td>NaN</td>\n",
       "      <td>NaN</td>\n",
       "      <td>97.2251</td>\n",
       "      <td>3.12474</td>\n",
       "      <td>63.6</td>\n",
       "      <td>95.626</td>\n",
       "      <td>97.8258</td>\n",
       "      <td>99.38</td>\n",
       "      <td>101.57</td>\n",
       "    </tr>\n",
       "    <tr>\n",
       "      <th>Humidity</th>\n",
       "      <td>164986</td>\n",
       "      <td>NaN</td>\n",
       "      <td>NaN</td>\n",
       "      <td>NaN</td>\n",
       "      <td>60.1334</td>\n",
       "      <td>16.5694</td>\n",
       "      <td>16.972</td>\n",
       "      <td>47.7153</td>\n",
       "      <td>62.912</td>\n",
       "      <td>74.044</td>\n",
       "      <td>91.464</td>\n",
       "    </tr>\n",
       "    <tr>\n",
       "      <th>Temp_Max</th>\n",
       "      <td>164986</td>\n",
       "      <td>NaN</td>\n",
       "      <td>NaN</td>\n",
       "      <td>NaN</td>\n",
       "      <td>31.1621</td>\n",
       "      <td>3.77823</td>\n",
       "      <td>-5.605</td>\n",
       "      <td>28.952</td>\n",
       "      <td>31.264</td>\n",
       "      <td>33.382</td>\n",
       "      <td>42.6</td>\n",
       "    </tr>\n",
       "    <tr>\n",
       "      <th>Temp_Min</th>\n",
       "      <td>164986</td>\n",
       "      <td>NaN</td>\n",
       "      <td>NaN</td>\n",
       "      <td>NaN</td>\n",
       "      <td>20.0058</td>\n",
       "      <td>4.89264</td>\n",
       "      <td>-15.615</td>\n",
       "      <td>16.838</td>\n",
       "      <td>20.962</td>\n",
       "      <td>24.022</td>\n",
       "      <td>28.874</td>\n",
       "    </tr>\n",
       "    <tr>\n",
       "      <th>Dew_Frost_Point</th>\n",
       "      <td>164986</td>\n",
       "      <td>NaN</td>\n",
       "      <td>NaN</td>\n",
       "      <td>NaN</td>\n",
       "      <td>15.3434</td>\n",
       "      <td>7.04762</td>\n",
       "      <td>-18.14</td>\n",
       "      <td>10.316</td>\n",
       "      <td>17.138</td>\n",
       "      <td>21.174</td>\n",
       "      <td>26.014</td>\n",
       "    </tr>\n",
       "    <tr>\n",
       "      <th>Wind_Speed</th>\n",
       "      <td>164986</td>\n",
       "      <td>NaN</td>\n",
       "      <td>NaN</td>\n",
       "      <td>NaN</td>\n",
       "      <td>2.15273</td>\n",
       "      <td>0.862279</td>\n",
       "      <td>0.038</td>\n",
       "      <td>1.584</td>\n",
       "      <td>2.038</td>\n",
       "      <td>2.583</td>\n",
       "      <td>5.766</td>\n",
       "    </tr>\n",
       "    <tr>\n",
       "      <th>Year</th>\n",
       "      <td>164986</td>\n",
       "      <td>NaN</td>\n",
       "      <td>NaN</td>\n",
       "      <td>NaN</td>\n",
       "      <td>2005.56</td>\n",
       "      <td>4.95753</td>\n",
       "      <td>1997</td>\n",
       "      <td>2001</td>\n",
       "      <td>2006</td>\n",
       "      <td>2010</td>\n",
       "      <td>2015</td>\n",
       "    </tr>\n",
       "    <tr>\n",
       "      <th>Season</th>\n",
       "      <td>164986</td>\n",
       "      <td>6</td>\n",
       "      <td>Kharif</td>\n",
       "      <td>63382</td>\n",
       "      <td>NaN</td>\n",
       "      <td>NaN</td>\n",
       "      <td>NaN</td>\n",
       "      <td>NaN</td>\n",
       "      <td>NaN</td>\n",
       "      <td>NaN</td>\n",
       "      <td>NaN</td>\n",
       "    </tr>\n",
       "    <tr>\n",
       "      <th>Crop</th>\n",
       "      <td>164986</td>\n",
       "      <td>86</td>\n",
       "      <td>Rice</td>\n",
       "      <td>10385</td>\n",
       "      <td>NaN</td>\n",
       "      <td>NaN</td>\n",
       "      <td>NaN</td>\n",
       "      <td>NaN</td>\n",
       "      <td>NaN</td>\n",
       "      <td>NaN</td>\n",
       "      <td>NaN</td>\n",
       "    </tr>\n",
       "    <tr>\n",
       "      <th>Area</th>\n",
       "      <td>164986</td>\n",
       "      <td>NaN</td>\n",
       "      <td>NaN</td>\n",
       "      <td>NaN</td>\n",
       "      <td>13196.9</td>\n",
       "      <td>48534.8</td>\n",
       "      <td>0.24</td>\n",
       "      <td>95</td>\n",
       "      <td>700</td>\n",
       "      <td>5330</td>\n",
       "      <td>5.544e+06</td>\n",
       "    </tr>\n",
       "    <tr>\n",
       "      <th>Production</th>\n",
       "      <td>164986</td>\n",
       "      <td>NaN</td>\n",
       "      <td>NaN</td>\n",
       "      <td>NaN</td>\n",
       "      <td>663955</td>\n",
       "      <td>1.83034e+07</td>\n",
       "      <td>0</td>\n",
       "      <td>100</td>\n",
       "      <td>900</td>\n",
       "      <td>8589</td>\n",
       "      <td>1.2508e+09</td>\n",
       "    </tr>\n",
       "  </tbody>\n",
       "</table>\n",
       "</div>"
      ],
      "text/plain": [
       "                           count unique            top   freq      mean  \\\n",
       "State                     164986     30  UTTAR PRADESH  25759       NaN   \n",
       "District                  164986    516         TUMKUR    738       NaN   \n",
       "Lat                       164986    NaN            NaN    NaN   22.1978   \n",
       "Long                      164986    NaN            NaN    NaN   80.5854   \n",
       "GW_depth_Min              164986    NaN            NaN    NaN    2.9253   \n",
       "GW_depth_Max              164986    NaN            NaN    NaN   21.4036   \n",
       "Wells_depth_0_to_2        164986    NaN            NaN    NaN   1.27863   \n",
       "Wells_depth_2_to_5        164986    NaN            NaN    NaN   6.93998   \n",
       "Wells_depth_5_to_10       164986    NaN            NaN    NaN   12.1134   \n",
       "Wells_depth_10_to_20      164986    NaN            NaN    NaN    6.7391   \n",
       "Wells_depth_20_to_40      164986    NaN            NaN    NaN   1.40094   \n",
       "Wells_depth_40_and_above  164986    NaN            NaN    NaN  0.414296   \n",
       "Precipitation             164986    NaN            NaN    NaN    101.14   \n",
       "Solar_Radiation           164986    NaN            NaN    NaN    18.021   \n",
       "Surface_Pressure          164986    NaN            NaN    NaN   97.2251   \n",
       "Humidity                  164986    NaN            NaN    NaN   60.1334   \n",
       "Temp_Max                  164986    NaN            NaN    NaN   31.1621   \n",
       "Temp_Min                  164986    NaN            NaN    NaN   20.0058   \n",
       "Dew_Frost_Point           164986    NaN            NaN    NaN   15.3434   \n",
       "Wind_Speed                164986    NaN            NaN    NaN   2.15273   \n",
       "Year                      164986    NaN            NaN    NaN   2005.56   \n",
       "Season                    164986      6         Kharif  63382       NaN   \n",
       "Crop                      164986     86           Rice  10385       NaN   \n",
       "Area                      164986    NaN            NaN    NaN   13196.9   \n",
       "Production                164986    NaN            NaN    NaN    663955   \n",
       "\n",
       "                                  std      min      25%      50%      75%  \\\n",
       "State                             NaN      NaN      NaN      NaN      NaN   \n",
       "District                          NaN      NaN      NaN      NaN      NaN   \n",
       "Lat                           5.59709  8.08783  18.5383  23.7214  26.3544   \n",
       "Long                           5.4176   69.611  76.5532  79.3863  83.8242   \n",
       "GW_depth_Min                  3.05719    -0.95      1.4     2.42     3.65   \n",
       "GW_depth_Max                  17.2144    -0.21    10.82    17.25    25.68   \n",
       "Wells_depth_0_to_2            2.95843        0        0        0        1   \n",
       "Wells_depth_2_to_5            8.02365        0        2        4       10   \n",
       "Wells_depth_5_to_10           11.7355        0        3        9       17   \n",
       "Wells_depth_10_to_20          8.30502        0        1        4       10   \n",
       "Wells_depth_20_to_40          2.99043        0        0        0        1   \n",
       "Wells_depth_40_and_above      2.43688        0        0        0        0   \n",
       "Precipitation                 89.6123        0    20.51    84.38   152.94   \n",
       "Solar_Radiation               2.14169     7.84  16.5267    17.94   19.346   \n",
       "Surface_Pressure              3.12474     63.6   95.626  97.8258    99.38   \n",
       "Humidity                      16.5694   16.972  47.7153   62.912   74.044   \n",
       "Temp_Max                      3.77823   -5.605   28.952   31.264   33.382   \n",
       "Temp_Min                      4.89264  -15.615   16.838   20.962   24.022   \n",
       "Dew_Frost_Point               7.04762   -18.14   10.316   17.138   21.174   \n",
       "Wind_Speed                   0.862279    0.038    1.584    2.038    2.583   \n",
       "Year                          4.95753     1997     2001     2006     2010   \n",
       "Season                            NaN      NaN      NaN      NaN      NaN   \n",
       "Crop                              NaN      NaN      NaN      NaN      NaN   \n",
       "Area                          48534.8     0.24       95      700     5330   \n",
       "Production                1.83034e+07        0      100      900     8589   \n",
       "\n",
       "                                 max  \n",
       "State                            NaN  \n",
       "District                         NaN  \n",
       "Lat                          33.2203  \n",
       "Long                         96.6535  \n",
       "GW_depth_Min                   43.95  \n",
       "GW_depth_Max                  128.15  \n",
       "Wells_depth_0_to_2                51  \n",
       "Wells_depth_2_to_5                48  \n",
       "Wells_depth_5_to_10               67  \n",
       "Wells_depth_10_to_20              77  \n",
       "Wells_depth_20_to_40              24  \n",
       "Wells_depth_40_and_above          38  \n",
       "Precipitation                 735.31  \n",
       "Solar_Radiation              26.3125  \n",
       "Surface_Pressure              101.57  \n",
       "Humidity                      91.464  \n",
       "Temp_Max                        42.6  \n",
       "Temp_Min                      28.874  \n",
       "Dew_Frost_Point               26.014  \n",
       "Wind_Speed                     5.766  \n",
       "Year                            2015  \n",
       "Season                           NaN  \n",
       "Crop                             NaN  \n",
       "Area                       5.544e+06  \n",
       "Production                1.2508e+09  "
      ]
     },
     "execution_count": 8,
     "metadata": {},
     "output_type": "execute_result"
    }
   ],
   "source": [
    "raw_data.describe(include='all').T"
   ]
  },
  {
   "cell_type": "code",
   "execution_count": 9,
   "metadata": {},
   "outputs": [],
   "source": [
    "df_v1 = raw_data.copy()"
   ]
  },
  {
   "cell_type": "code",
   "execution_count": 10,
   "metadata": {},
   "outputs": [],
   "source": [
    "# df_v1 = remove_other_crops(df_v1)\n",
    "# df_v1 = remove_zero_production_crops(df_v1)\n",
    "# df_v1.shape"
   ]
  },
  {
   "cell_type": "markdown",
   "metadata": {},
   "source": [
    "## Add Yield = Production / Area"
   ]
  },
  {
   "cell_type": "code",
   "execution_count": 12,
   "metadata": {},
   "outputs": [],
   "source": [
    "df_v1['Yield'] = df_v1['Production'] / df_v1['Area']"
   ]
  },
  {
   "cell_type": "markdown",
   "metadata": {},
   "source": [
    "## Target = BoxCox(Yield)"
   ]
  },
  {
   "cell_type": "code",
   "execution_count": 13,
   "metadata": {},
   "outputs": [
    {
     "data": {
      "text/plain": [
       "(array([0.26065918, 0.36940216, 0.46939726, ..., 0.92422184, 0.58043064,\n",
       "        0.81699507]),\n",
       " -0.8410188383945721)"
      ]
     },
     "execution_count": 13,
     "metadata": {},
     "output_type": "execute_result"
    }
   ],
   "source": [
    "boxcox(df_v1['Yield']+1)"
   ]
  },
  {
   "cell_type": "code",
   "execution_count": 14,
   "metadata": {},
   "outputs": [
    {
     "data": {
      "text/plain": [
       "<AxesSubplot:ylabel='Density'>"
      ]
     },
     "execution_count": 14,
     "metadata": {},
     "output_type": "execute_result"
    },
    {
     "data": {
      "image/png": "[encoded data removed]",
      "text/plain": [
       "<Figure size 432x288 with 1 Axes>"
      ]
     },
     "metadata": {
      "needs_background": "light"
     },
     "output_type": "display_data"
    }
   ],
   "source": [
    "sns.distplot(boxcox(df_v1['Yield']+1)[0])"
   ]
  },
  {
   "cell_type": "code",
   "execution_count": 15,
   "metadata": {},
   "outputs": [
    {
     "data": {
      "text/plain": [
       "-0.7061232367492418"
      ]
     },
     "execution_count": 15,
     "metadata": {},
     "output_type": "execute_result"
    }
   ],
   "source": [
    "# Kurtosis\n",
    "kurtosis(boxcox(df_v1['Yield']+1)[0])"
   ]
  },
  {
   "cell_type": "code",
   "execution_count": 16,
   "metadata": {},
   "outputs": [
    {
     "data": {
      "text/plain": [
       "0.36470210786158397"
      ]
     },
     "execution_count": 16,
     "metadata": {},
     "output_type": "execute_result"
    }
   ],
   "source": [
    "# Skew\n",
    "skew(boxcox(df_v1['Yield']+1)[0])"
   ]
  },
  {
   "cell_type": "markdown",
   "metadata": {},
   "source": [
    "**Observations**\n",
    "\n",
    "1. Assuming acceptable values of skew (-0.8 to 0.8) and kurtosis (-3 to 3) to qualify as normal distribution, log_Production and BoxCox(Yield) are best candidates to be the target.\n",
    "\n",
    "\n",
    "2. log_Production vs. log_Yield vs. BoxCox(Yield):\n",
    "\n",
    "    Kurtosis for log_Production = -0.21677626894132418\n",
    "    Skew for log_Production = 0.1608045192614573\n",
    "    \n",
    "    Kurtosis for log_Yield = 13.879369992184742 (High)\n",
    "    Skew for log_Yield = 2.9235750271475873 (High)\n",
    "    \n",
    "    Kurtosis for BoxCox(Yield) = -0.7024102739370717\n",
    "    Skew for BoxCox(Yield) = 0.3644683519276719\n",
    "    \n",
    "\n",
    "3. Since distributions of log_Yield and BoxCox(Yield) are very different from normal distribution of log_Production.\n",
    "\n",
    "Doubt - Using Yield (i.e. Production / Area) instead of Production could lead to loss of information given by Area (as a feature)."
   ]
  },
  {
   "cell_type": "code",
   "execution_count": 17,
   "metadata": {},
   "outputs": [],
   "source": [
    "df_v1['Target'], boxcox_lambda = boxcox(df_v1['Yield']+1)"
   ]
  },
  {
   "cell_type": "code",
   "execution_count": 18,
   "metadata": {},
   "outputs": [
    {
     "data": {
      "text/plain": [
       "count    164986.000000\n",
       "mean          0.579298\n",
       "std           0.287337\n",
       "min           0.000000\n",
       "25%           0.358099\n",
       "50%           0.525257\n",
       "75%           0.774440\n",
       "max           1.188946\n",
       "Name: Target, dtype: float64"
      ]
     },
     "execution_count": 18,
     "metadata": {},
     "output_type": "execute_result"
    }
   ],
   "source": [
    "df_v1['Target'].describe()"
   ]
  },
  {
   "cell_type": "code",
   "execution_count": 19,
   "metadata": {},
   "outputs": [
    {
     "data": {
      "text/plain": [
       "<AxesSubplot:xlabel='Target', ylabel='Density'>"
      ]
     },
     "execution_count": 19,
     "metadata": {},
     "output_type": "execute_result"
    },
    {
     "data": {
      "image/png": "[encoded data removed]",
      "text/plain": [
       "<Figure size 432x288 with 1 Axes>"
      ]
     },
     "metadata": {
      "needs_background": "light"
     },
     "output_type": "display_data"
    }
   ],
   "source": [
    "sns.distplot(df_v1['Target'])"
   ]
  },
  {
   "cell_type": "code",
   "execution_count": 20,
   "metadata": {},
   "outputs": [
    {
     "data": {
      "text/plain": [
       "<AxesSubplot:xlabel='Target'>"
      ]
     },
     "execution_count": 20,
     "metadata": {},
     "output_type": "execute_result"
    },
    {
     "data": {
      "image/png": "[encoded data removed]",
      "text/plain": [
       "<Figure size 432x288 with 1 Axes>"
      ]
     },
     "metadata": {
      "needs_background": "light"
     },
     "output_type": "display_data"
    }
   ],
   "source": [
    "sns.boxplot(x='Target', data=df_v1)"
   ]
  },
  {
   "cell_type": "code",
   "execution_count": 21,
   "metadata": {},
   "outputs": [
    {
     "data": {
      "text/plain": [
       "Index(['State', 'District', 'Lat', 'Long', 'GW_depth_Min', 'GW_depth_Max',\n",
       "       'Wells_depth_0_to_2', 'Wells_depth_2_to_5', 'Wells_depth_5_to_10',\n",
       "       'Wells_depth_10_to_20', 'Wells_depth_20_to_40',\n",
       "       'Wells_depth_40_and_above', 'Precipitation', 'Solar_Radiation',\n",
       "       'Surface_Pressure', 'Humidity', 'Temp_Max', 'Temp_Min',\n",
       "       'Dew_Frost_Point', 'Wind_Speed', 'Year', 'Season', 'Crop', 'Area',\n",
       "       'Production', 'Yield', 'Target'],\n",
       "      dtype='object')"
      ]
     },
     "execution_count": 21,
     "metadata": {},
     "output_type": "execute_result"
    }
   ],
   "source": [
    "df_v1.columns"
   ]
  },
  {
   "cell_type": "markdown",
   "metadata": {},
   "source": [
    "## Drop Area and Production"
   ]
  },
  {
   "cell_type": "code",
   "execution_count": 22,
   "metadata": {},
   "outputs": [],
   "source": [
    "df_v1 = df_v1.drop(['Area', 'Production'], axis=1)"
   ]
  },
  {
   "cell_type": "code",
   "execution_count": 23,
   "metadata": {},
   "outputs": [],
   "source": [
    "df_v2 = df_v1.copy()"
   ]
  },
  {
   "cell_type": "markdown",
   "metadata": {},
   "source": [
    "## State"
   ]
  },
  {
   "cell_type": "code",
   "execution_count": 24,
   "metadata": {},
   "outputs": [
    {
     "data": {
      "text/plain": [
       "<AxesSubplot:xlabel='Target', ylabel='State'>"
      ]
     },
     "execution_count": 24,
     "metadata": {},
     "output_type": "execute_result"
    },
    {
     "data": {
      "image/png": "[encoded data removed]",
      "text/plain": [
       "<Figure size 720x720 with 1 Axes>"
      ]
     },
     "metadata": {
      "needs_background": "light"
     },
     "output_type": "display_data"
    }
   ],
   "source": [
    "plt.figure(figsize=(10, 10))\n",
    "sns.barplot(x='Target', y='State', data=df_v2, orient='h')"
   ]
  },
  {
   "cell_type": "markdown",
   "metadata": {},
   "source": [
    "## Lat-Long (Geo_Region)"
   ]
  },
  {
   "cell_type": "code",
   "execution_count": 25,
   "metadata": {},
   "outputs": [],
   "source": [
    "with open('./latlong_custerer_6.pkl', 'rb') as f:\n",
    "    latlong_clusterer = pickle.load(f)\n",
    "\n",
    "df_v2 = identify_geo_region(df_v2, latlong_clusterer)"
   ]
  },
  {
   "cell_type": "code",
   "execution_count": 26,
   "metadata": {},
   "outputs": [
    {
     "data": {
      "text/plain": [
       "array(['R0', 'R1', 'R2', 'R3', 'R4', 'R5'], dtype=object)"
      ]
     },
     "execution_count": 26,
     "metadata": {},
     "output_type": "execute_result"
    }
   ],
   "source": [
    "np.sort(df_v2['Geo_Region'].unique())"
   ]
  },
  {
   "cell_type": "code",
   "execution_count": 27,
   "metadata": {},
   "outputs": [
    {
     "data": {
      "text/plain": [
       "<AxesSubplot:xlabel='Geo_Region', ylabel='Target'>"
      ]
     },
     "execution_count": 27,
     "metadata": {},
     "output_type": "execute_result"
    },
    {
     "data": {
      "image/png": "[encoded data removed]",
      "text/plain": [
       "<Figure size 360x360 with 1 Axes>"
      ]
     },
     "metadata": {
      "needs_background": "light"
     },
     "output_type": "display_data"
    }
   ],
   "source": [
    "plt.figure(figsize=(5, 5))\n",
    "sns.barplot(x='Geo_Region', y='Target', data=df_v2, orient='v', order=np.sort(df_v2['Geo_Region'].unique()))"
   ]
  },
  {
   "cell_type": "markdown",
   "metadata": {},
   "source": [
    "## Drop columns Lat, Long, State, District, Year"
   ]
  },
  {
   "cell_type": "code",
   "execution_count": 28,
   "metadata": {},
   "outputs": [],
   "source": [
    "df_v2 = df_v2.drop(['Lat', 'Long', 'State', 'District', 'Year'], axis=1)"
   ]
  },
  {
   "cell_type": "markdown",
   "metadata": {},
   "source": [
    "## Crop"
   ]
  },
  {
   "cell_type": "code",
   "execution_count": 34,
   "metadata": {},
   "outputs": [
    {
     "data": {
      "text/plain": [
       "86"
      ]
     },
     "execution_count": 34,
     "metadata": {},
     "output_type": "execute_result"
    }
   ],
   "source": [
    "df_v2['Crop'].nunique()"
   ]
  },
  {
   "cell_type": "code",
   "execution_count": 29,
   "metadata": {
    "scrolled": true
   },
   "outputs": [
    {
     "data": {
      "text/plain": [
       "<AxesSubplot:xlabel='Target', ylabel='Crop'>"
      ]
     },
     "execution_count": 29,
     "metadata": {},
     "output_type": "execute_result"
    },
    {
     "data": {
      "image/png": "[encoded data removed]",
      "text/plain": [
       "<Figure size 720x1800 with 1 Axes>"
      ]
     },
     "metadata": {
      "needs_background": "light"
     },
     "output_type": "display_data"
    }
   ],
   "source": [
    "plt.figure(figsize=(10, 25))\n",
    "sns.barplot(x='Target', y='Crop', data=df_v2, orient='h')"
   ]
  },
  {
   "cell_type": "code",
   "execution_count": 30,
   "metadata": {},
   "outputs": [],
   "source": [
    "numerical_columns = df_v2.select_dtypes(exclude='object').columns\n",
    "categorical_columns = df_v2.select_dtypes('object').columns"
   ]
  },
  {
   "cell_type": "code",
   "execution_count": 31,
   "metadata": {},
   "outputs": [
    {
     "data": {
      "text/plain": [
       "Index(['GW_depth_Min', 'GW_depth_Max', 'Wells_depth_0_to_2',\n",
       "       'Wells_depth_2_to_5', 'Wells_depth_5_to_10', 'Wells_depth_10_to_20',\n",
       "       'Wells_depth_20_to_40', 'Wells_depth_40_and_above', 'Precipitation',\n",
       "       'Solar_Radiation', 'Surface_Pressure', 'Humidity', 'Temp_Max',\n",
       "       'Temp_Min', 'Dew_Frost_Point', 'Wind_Speed', 'Yield', 'Target'],\n",
       "      dtype='object')"
      ]
     },
     "execution_count": 31,
     "metadata": {},
     "output_type": "execute_result"
    }
   ],
   "source": [
    "numerical_columns"
   ]
  },
  {
   "cell_type": "code",
   "execution_count": 32,
   "metadata": {},
   "outputs": [
    {
     "data": {
      "text/plain": [
       "Index(['Season', 'Crop', 'Geo_Region'], dtype='object')"
      ]
     },
     "execution_count": 32,
     "metadata": {},
     "output_type": "execute_result"
    }
   ],
   "source": [
    "categorical_columns"
   ]
  },
  {
   "cell_type": "markdown",
   "metadata": {},
   "source": [
    "## Season"
   ]
  },
  {
   "cell_type": "code",
   "execution_count": 33,
   "metadata": {
    "scrolled": false
   },
   "outputs": [
    {
     "data": {
      "text/plain": [
       "<AxesSubplot:xlabel='Season', ylabel='Target'>"
      ]
     },
     "execution_count": 33,
     "metadata": {},
     "output_type": "execute_result"
    },
    {
     "data": {
      "image/png": "[encoded data removed]",
      "text/plain": [
       "<Figure size 504x360 with 1 Axes>"
      ]
     },
     "metadata": {
      "needs_background": "light"
     },
     "output_type": "display_data"
    }
   ],
   "source": [
    "plt.figure(figsize=(7, 5))\n",
    "sns.barplot(x='Season', y='Target', data=df_v2, orient='v')"
   ]
  },
  {
   "cell_type": "code",
   "execution_count": null,
   "metadata": {},
   "outputs": [],
   "source": []
  }
 ],
 "metadata": {
  "kernelspec": {
   "display_name": "Python 3",
   "language": "python",
   "name": "python3"
  },
  "language_info": {
   "codemirror_mode": {
    "name": "ipython",
    "version": 3
   },
   "file_extension": ".py",
   "mimetype": "text/x-python",
   "name": "python",
   "nbconvert_exporter": "python",
   "pygments_lexer": "ipython3",
   "version": "3.8.5"
  }
 },
 "nbformat": 4,
 "nbformat_minor": 2
}
