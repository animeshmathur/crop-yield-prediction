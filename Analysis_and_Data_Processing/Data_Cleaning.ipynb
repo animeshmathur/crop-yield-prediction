{
 "cells": [
  {
   "cell_type": "code",
   "execution_count": 2,
   "metadata": {},
   "outputs": [],
   "source": [
    "import numpy as np\n",
    "import pandas as pd"
   ]
  },
  {
   "cell_type": "code",
   "execution_count": null,
   "metadata": {},
   "outputs": [],
   "source": [
    "raw_data = pd.read_csv('../data/Crop_Data.csv')"
   ]
  },
  {
   "cell_type": "code",
   "execution_count": 3,
   "metadata": {},
   "outputs": [
    {
     "data": {
      "text/plain": [
       "(214471, 25)"
      ]
     },
     "execution_count": 3,
     "metadata": {},
     "output_type": "execute_result"
    }
   ],
   "source": [
    "raw_data.shape"
   ]
  },
  {
   "cell_type": "code",
   "execution_count": 4,
   "metadata": {},
   "outputs": [],
   "source": [
    "df = raw_data.copy()"
   ]
  },
  {
   "cell_type": "markdown",
   "metadata": {},
   "source": [
    "# Data Cleaning"
   ]
  },
  {
   "cell_type": "markdown",
   "metadata": {},
   "source": [
    "During EDA, we saw that there exists crops in dataset for which production is always zero. We need to remove them as they whould not convey any information to the model."
   ]
  },
  {
   "cell_type": "code",
   "execution_count": 5,
   "metadata": {},
   "outputs": [],
   "source": [
    "# Method to remove crops with zero production\n",
    "def remove_zero_production_crops(data):\n",
    "    '''\n",
    "    Method to remove crops with zero production\n",
    "    \n",
    "    Parameters:\n",
    "    data - Dataframe which should have 'Crop' and 'Production' columns.\n",
    "    '''\n",
    "    crop_net_production = data.groupby('Crop')['Production'].sum().sort_values()\n",
    "    crops_with_zero_production = crop_net_production.loc[crop_net_production == 0].index\n",
    "    data = data.loc[~data['Crop'].isin(crops_with_zero_production)].reset_index(drop=True)\n",
    "    print('Following crops had net production as zero in dataset:')\n",
    "    print(crops_with_zero_production)\n",
    "    return data"
   ]
  },
  {
   "cell_type": "code",
   "execution_count": 6,
   "metadata": {},
   "outputs": [
    {
     "name": "stdout",
     "output_type": "stream",
     "text": [
      "Following crops had net production as zero in dataset:\n",
      "Index(['Apple', 'Litchi', 'Cauliflower', 'Snak Guard', 'Ribed Guard',\n",
      "       'Cucumber', 'Carrot', 'Lab-Lab', 'Plums', 'Peas  (vegetable)',\n",
      "       'Bottle Gourd', 'Peach', 'Bitter Gourd', 'Pear', 'Ber', 'Beet Root',\n",
      "       'Pump Kin', 'Turnip', 'Water Melon', 'Other Dry Fruit', 'Ash Gourd',\n",
      "       'Yam', 'other fibres', 'Redish', 'Other Citrus Fruit'],\n",
      "      dtype='object', name='Crop')\n"
     ]
    }
   ],
   "source": [
    "df = remove_zero_production_crops(df)"
   ]
  },
  {
   "cell_type": "code",
   "execution_count": 7,
   "metadata": {},
   "outputs": [
    {
     "data": {
      "text/plain": [
       "(213554, 25)"
      ]
     },
     "execution_count": 7,
     "metadata": {},
     "output_type": "execute_result"
    }
   ],
   "source": [
    "df.shape"
   ]
  },
  {
   "cell_type": "markdown",
   "metadata": {},
   "source": [
    "There exist crops with name like 'Other Kharif pulses', 'other oilseeds', 'other misc. pulses', etc.\n",
    "\n",
    "These are not specific crop names but a category, hence they may not have similar features to predict their production.\n",
    "\n",
    "Removing these kind of crop names would help model to learn from Crop feature without any ambiguity."
   ]
  },
  {
   "cell_type": "code",
   "execution_count": 8,
   "metadata": {},
   "outputs": [],
   "source": [
    "# Method to remove records for 'other...' crops\n",
    "def remove_other_crops(data):\n",
    "    '''\n",
    "    Method to remove records for 'other...' crops\n",
    "    \n",
    "    Parameters:\n",
    "    data - Dataframe which should have 'Crop' column.\n",
    "    '''\n",
    "    other_crops = [crop for crop in data['Crop'].unique() if 'other' in crop.lower()]\n",
    "    data = data.loc[~data['Crop'].isin(other_crops)].reset_index(drop=True)\n",
    "    print(\"Removed records with following crop names:\")\n",
    "    print(other_crops)\n",
    "    return data"
   ]
  },
  {
   "cell_type": "code",
   "execution_count": 9,
   "metadata": {},
   "outputs": [
    {
     "name": "stdout",
     "output_type": "stream",
     "text": [
      "Removed records with following crop names:\n",
      "['Other Kharif pulses', 'other oilseeds', 'other misc. pulses', 'Other  Rabi pulses', 'Other Fresh Fruits', 'Other Vegetables', 'Other Cereals & Millets', 'Cond-spcs other']\n"
     ]
    }
   ],
   "source": [
    "df = remove_other_crops(df)"
   ]
  },
  {
   "cell_type": "code",
   "execution_count": 10,
   "metadata": {},
   "outputs": [
    {
     "data": {
      "text/plain": [
       "(206233, 25)"
      ]
     },
     "execution_count": 10,
     "metadata": {},
     "output_type": "execute_result"
    }
   ],
   "source": [
    "df.shape"
   ]
  },
  {
   "cell_type": "code",
   "execution_count": 11,
   "metadata": {},
   "outputs": [],
   "source": [
    "# df.to_csv('../data/Crop_Data__cleaned.csv', index=False)"
   ]
  }
 ],
 "metadata": {
  "kernelspec": {
   "display_name": "Python 3",
   "language": "python",
   "name": "python3"
  },
  "language_info": {
   "codemirror_mode": {
    "name": "ipython",
    "version": 3
   },
   "file_extension": ".py",
   "mimetype": "text/x-python",
   "name": "python",
   "nbconvert_exporter": "python",
   "pygments_lexer": "ipython3",
   "version": "3.8.5"
  }
 },
 "nbformat": 4,
 "nbformat_minor": 2
}
