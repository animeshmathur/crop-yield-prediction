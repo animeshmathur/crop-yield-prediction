{
 "cells": [
  {
   "cell_type": "code",
   "execution_count": 1,
   "metadata": {},
   "outputs": [],
   "source": [
    "import pandas as pd\n",
    "import numpy as np\n",
    "\n",
    "import matplotlib.pyplot as plt\n",
    "import seaborn as sns\n",
    "\n",
    "import pickle\n",
    "\n",
    "import statsmodels.formula.api as smf\n",
    "from statsmodels.stats.outliers_influence import variance_inflation_factor\n",
    "\n",
    "from scipy.stats import chi2_contingency"
   ]
  },
  {
   "cell_type": "code",
   "execution_count": 2,
   "metadata": {},
   "outputs": [],
   "source": [
    "# Import cleaned dataset\n",
    "raw_data = pd.read_csv('../data/Crop_Data__train.csv')"
   ]
  },
  {
   "cell_type": "code",
   "execution_count": 3,
   "metadata": {},
   "outputs": [
    {
     "data": {
      "text/plain": [
       "(164986, 25)"
      ]
     },
     "execution_count": 3,
     "metadata": {},
     "output_type": "execute_result"
    }
   ],
   "source": [
    "raw_data.shape"
   ]
  },
  {
   "cell_type": "code",
   "execution_count": 4,
   "metadata": {},
   "outputs": [
    {
     "data": {
      "text/html": [
       "<div>\n",
       "<style scoped>\n",
       "    .dataframe tbody tr th:only-of-type {\n",
       "        vertical-align: middle;\n",
       "    }\n",
       "\n",
       "    .dataframe tbody tr th {\n",
       "        vertical-align: top;\n",
       "    }\n",
       "\n",
       "    .dataframe thead th {\n",
       "        text-align: right;\n",
       "    }\n",
       "</style>\n",
       "<table border=\"1\" class=\"dataframe\">\n",
       "  <thead>\n",
       "    <tr style=\"text-align: right;\">\n",
       "      <th></th>\n",
       "      <th>count</th>\n",
       "      <th>unique</th>\n",
       "      <th>top</th>\n",
       "      <th>freq</th>\n",
       "      <th>mean</th>\n",
       "      <th>std</th>\n",
       "      <th>min</th>\n",
       "      <th>25%</th>\n",
       "      <th>50%</th>\n",
       "      <th>75%</th>\n",
       "      <th>max</th>\n",
       "    </tr>\n",
       "  </thead>\n",
       "  <tbody>\n",
       "    <tr>\n",
       "      <th>State</th>\n",
       "      <td>164986</td>\n",
       "      <td>30</td>\n",
       "      <td>UTTAR PRADESH</td>\n",
       "      <td>25759</td>\n",
       "      <td>NaN</td>\n",
       "      <td>NaN</td>\n",
       "      <td>NaN</td>\n",
       "      <td>NaN</td>\n",
       "      <td>NaN</td>\n",
       "      <td>NaN</td>\n",
       "      <td>NaN</td>\n",
       "    </tr>\n",
       "    <tr>\n",
       "      <th>District</th>\n",
       "      <td>164986</td>\n",
       "      <td>516</td>\n",
       "      <td>TUMKUR</td>\n",
       "      <td>738</td>\n",
       "      <td>NaN</td>\n",
       "      <td>NaN</td>\n",
       "      <td>NaN</td>\n",
       "      <td>NaN</td>\n",
       "      <td>NaN</td>\n",
       "      <td>NaN</td>\n",
       "      <td>NaN</td>\n",
       "    </tr>\n",
       "    <tr>\n",
       "      <th>Lat</th>\n",
       "      <td>164986</td>\n",
       "      <td>NaN</td>\n",
       "      <td>NaN</td>\n",
       "      <td>NaN</td>\n",
       "      <td>22.1978</td>\n",
       "      <td>5.59709</td>\n",
       "      <td>8.08783</td>\n",
       "      <td>18.5383</td>\n",
       "      <td>23.7214</td>\n",
       "      <td>26.3544</td>\n",
       "      <td>33.2203</td>\n",
       "    </tr>\n",
       "    <tr>\n",
       "      <th>Long</th>\n",
       "      <td>164986</td>\n",
       "      <td>NaN</td>\n",
       "      <td>NaN</td>\n",
       "      <td>NaN</td>\n",
       "      <td>80.5854</td>\n",
       "      <td>5.4176</td>\n",
       "      <td>69.611</td>\n",
       "      <td>76.5532</td>\n",
       "      <td>79.3863</td>\n",
       "      <td>83.8242</td>\n",
       "      <td>96.6535</td>\n",
       "    </tr>\n",
       "    <tr>\n",
       "      <th>GW_depth_Min</th>\n",
       "      <td>164986</td>\n",
       "      <td>NaN</td>\n",
       "      <td>NaN</td>\n",
       "      <td>NaN</td>\n",
       "      <td>2.9253</td>\n",
       "      <td>3.05719</td>\n",
       "      <td>-0.95</td>\n",
       "      <td>1.4</td>\n",
       "      <td>2.42</td>\n",
       "      <td>3.65</td>\n",
       "      <td>43.95</td>\n",
       "    </tr>\n",
       "    <tr>\n",
       "      <th>GW_depth_Max</th>\n",
       "      <td>164986</td>\n",
       "      <td>NaN</td>\n",
       "      <td>NaN</td>\n",
       "      <td>NaN</td>\n",
       "      <td>21.4036</td>\n",
       "      <td>17.2144</td>\n",
       "      <td>-0.21</td>\n",
       "      <td>10.82</td>\n",
       "      <td>17.25</td>\n",
       "      <td>25.68</td>\n",
       "      <td>128.15</td>\n",
       "    </tr>\n",
       "    <tr>\n",
       "      <th>Wells_depth_0_to_2</th>\n",
       "      <td>164986</td>\n",
       "      <td>NaN</td>\n",
       "      <td>NaN</td>\n",
       "      <td>NaN</td>\n",
       "      <td>1.27863</td>\n",
       "      <td>2.95843</td>\n",
       "      <td>0</td>\n",
       "      <td>0</td>\n",
       "      <td>0</td>\n",
       "      <td>1</td>\n",
       "      <td>51</td>\n",
       "    </tr>\n",
       "    <tr>\n",
       "      <th>Wells_depth_2_to_5</th>\n",
       "      <td>164986</td>\n",
       "      <td>NaN</td>\n",
       "      <td>NaN</td>\n",
       "      <td>NaN</td>\n",
       "      <td>6.93998</td>\n",
       "      <td>8.02365</td>\n",
       "      <td>0</td>\n",
       "      <td>2</td>\n",
       "      <td>4</td>\n",
       "      <td>10</td>\n",
       "      <td>48</td>\n",
       "    </tr>\n",
       "    <tr>\n",
       "      <th>Wells_depth_5_to_10</th>\n",
       "      <td>164986</td>\n",
       "      <td>NaN</td>\n",
       "      <td>NaN</td>\n",
       "      <td>NaN</td>\n",
       "      <td>12.1134</td>\n",
       "      <td>11.7355</td>\n",
       "      <td>0</td>\n",
       "      <td>3</td>\n",
       "      <td>9</td>\n",
       "      <td>17</td>\n",
       "      <td>67</td>\n",
       "    </tr>\n",
       "    <tr>\n",
       "      <th>Wells_depth_10_to_20</th>\n",
       "      <td>164986</td>\n",
       "      <td>NaN</td>\n",
       "      <td>NaN</td>\n",
       "      <td>NaN</td>\n",
       "      <td>6.7391</td>\n",
       "      <td>8.30502</td>\n",
       "      <td>0</td>\n",
       "      <td>1</td>\n",
       "      <td>4</td>\n",
       "      <td>10</td>\n",
       "      <td>77</td>\n",
       "    </tr>\n",
       "    <tr>\n",
       "      <th>Wells_depth_20_to_40</th>\n",
       "      <td>164986</td>\n",
       "      <td>NaN</td>\n",
       "      <td>NaN</td>\n",
       "      <td>NaN</td>\n",
       "      <td>1.40094</td>\n",
       "      <td>2.99043</td>\n",
       "      <td>0</td>\n",
       "      <td>0</td>\n",
       "      <td>0</td>\n",
       "      <td>1</td>\n",
       "      <td>24</td>\n",
       "    </tr>\n",
       "    <tr>\n",
       "      <th>Wells_depth_40_and_above</th>\n",
       "      <td>164986</td>\n",
       "      <td>NaN</td>\n",
       "      <td>NaN</td>\n",
       "      <td>NaN</td>\n",
       "      <td>0.414296</td>\n",
       "      <td>2.43688</td>\n",
       "      <td>0</td>\n",
       "      <td>0</td>\n",
       "      <td>0</td>\n",
       "      <td>0</td>\n",
       "      <td>38</td>\n",
       "    </tr>\n",
       "    <tr>\n",
       "      <th>Precipitation</th>\n",
       "      <td>164986</td>\n",
       "      <td>NaN</td>\n",
       "      <td>NaN</td>\n",
       "      <td>NaN</td>\n",
       "      <td>101.14</td>\n",
       "      <td>89.6123</td>\n",
       "      <td>0</td>\n",
       "      <td>20.51</td>\n",
       "      <td>84.38</td>\n",
       "      <td>152.94</td>\n",
       "      <td>735.31</td>\n",
       "    </tr>\n",
       "    <tr>\n",
       "      <th>Solar_Radiation</th>\n",
       "      <td>164986</td>\n",
       "      <td>NaN</td>\n",
       "      <td>NaN</td>\n",
       "      <td>NaN</td>\n",
       "      <td>18.021</td>\n",
       "      <td>2.14169</td>\n",
       "      <td>7.84</td>\n",
       "      <td>16.5267</td>\n",
       "      <td>17.94</td>\n",
       "      <td>19.346</td>\n",
       "      <td>26.3125</td>\n",
       "    </tr>\n",
       "    <tr>\n",
       "      <th>Surface_Pressure</th>\n",
       "      <td>164986</td>\n",
       "      <td>NaN</td>\n",
       "      <td>NaN</td>\n",
       "      <td>NaN</td>\n",
       "      <td>97.2251</td>\n",
       "      <td>3.12474</td>\n",
       "      <td>63.6</td>\n",
       "      <td>95.626</td>\n",
       "      <td>97.8258</td>\n",
       "      <td>99.38</td>\n",
       "      <td>101.57</td>\n",
       "    </tr>\n",
       "    <tr>\n",
       "      <th>Humidity</th>\n",
       "      <td>164986</td>\n",
       "      <td>NaN</td>\n",
       "      <td>NaN</td>\n",
       "      <td>NaN</td>\n",
       "      <td>60.1334</td>\n",
       "      <td>16.5694</td>\n",
       "      <td>16.972</td>\n",
       "      <td>47.7153</td>\n",
       "      <td>62.912</td>\n",
       "      <td>74.044</td>\n",
       "      <td>91.464</td>\n",
       "    </tr>\n",
       "    <tr>\n",
       "      <th>Temp_Max</th>\n",
       "      <td>164986</td>\n",
       "      <td>NaN</td>\n",
       "      <td>NaN</td>\n",
       "      <td>NaN</td>\n",
       "      <td>31.1621</td>\n",
       "      <td>3.77823</td>\n",
       "      <td>-5.605</td>\n",
       "      <td>28.952</td>\n",
       "      <td>31.264</td>\n",
       "      <td>33.382</td>\n",
       "      <td>42.6</td>\n",
       "    </tr>\n",
       "    <tr>\n",
       "      <th>Temp_Min</th>\n",
       "      <td>164986</td>\n",
       "      <td>NaN</td>\n",
       "      <td>NaN</td>\n",
       "      <td>NaN</td>\n",
       "      <td>20.0058</td>\n",
       "      <td>4.89264</td>\n",
       "      <td>-15.615</td>\n",
       "      <td>16.838</td>\n",
       "      <td>20.962</td>\n",
       "      <td>24.022</td>\n",
       "      <td>28.874</td>\n",
       "    </tr>\n",
       "    <tr>\n",
       "      <th>Dew_Frost_Point</th>\n",
       "      <td>164986</td>\n",
       "      <td>NaN</td>\n",
       "      <td>NaN</td>\n",
       "      <td>NaN</td>\n",
       "      <td>15.3434</td>\n",
       "      <td>7.04762</td>\n",
       "      <td>-18.14</td>\n",
       "      <td>10.316</td>\n",
       "      <td>17.138</td>\n",
       "      <td>21.174</td>\n",
       "      <td>26.014</td>\n",
       "    </tr>\n",
       "    <tr>\n",
       "      <th>Wind_Speed</th>\n",
       "      <td>164986</td>\n",
       "      <td>NaN</td>\n",
       "      <td>NaN</td>\n",
       "      <td>NaN</td>\n",
       "      <td>2.15273</td>\n",
       "      <td>0.862279</td>\n",
       "      <td>0.038</td>\n",
       "      <td>1.584</td>\n",
       "      <td>2.038</td>\n",
       "      <td>2.583</td>\n",
       "      <td>5.766</td>\n",
       "    </tr>\n",
       "    <tr>\n",
       "      <th>Year</th>\n",
       "      <td>164986</td>\n",
       "      <td>NaN</td>\n",
       "      <td>NaN</td>\n",
       "      <td>NaN</td>\n",
       "      <td>2005.56</td>\n",
       "      <td>4.95753</td>\n",
       "      <td>1997</td>\n",
       "      <td>2001</td>\n",
       "      <td>2006</td>\n",
       "      <td>2010</td>\n",
       "      <td>2015</td>\n",
       "    </tr>\n",
       "    <tr>\n",
       "      <th>Season</th>\n",
       "      <td>164986</td>\n",
       "      <td>6</td>\n",
       "      <td>Kharif</td>\n",
       "      <td>63382</td>\n",
       "      <td>NaN</td>\n",
       "      <td>NaN</td>\n",
       "      <td>NaN</td>\n",
       "      <td>NaN</td>\n",
       "      <td>NaN</td>\n",
       "      <td>NaN</td>\n",
       "      <td>NaN</td>\n",
       "    </tr>\n",
       "    <tr>\n",
       "      <th>Crop</th>\n",
       "      <td>164986</td>\n",
       "      <td>86</td>\n",
       "      <td>Rice</td>\n",
       "      <td>10385</td>\n",
       "      <td>NaN</td>\n",
       "      <td>NaN</td>\n",
       "      <td>NaN</td>\n",
       "      <td>NaN</td>\n",
       "      <td>NaN</td>\n",
       "      <td>NaN</td>\n",
       "      <td>NaN</td>\n",
       "    </tr>\n",
       "    <tr>\n",
       "      <th>Area</th>\n",
       "      <td>164986</td>\n",
       "      <td>NaN</td>\n",
       "      <td>NaN</td>\n",
       "      <td>NaN</td>\n",
       "      <td>13196.9</td>\n",
       "      <td>48534.8</td>\n",
       "      <td>0.24</td>\n",
       "      <td>95</td>\n",
       "      <td>700</td>\n",
       "      <td>5330</td>\n",
       "      <td>5.544e+06</td>\n",
       "    </tr>\n",
       "    <tr>\n",
       "      <th>Production</th>\n",
       "      <td>164986</td>\n",
       "      <td>NaN</td>\n",
       "      <td>NaN</td>\n",
       "      <td>NaN</td>\n",
       "      <td>663955</td>\n",
       "      <td>1.83034e+07</td>\n",
       "      <td>0</td>\n",
       "      <td>100</td>\n",
       "      <td>900</td>\n",
       "      <td>8589</td>\n",
       "      <td>1.2508e+09</td>\n",
       "    </tr>\n",
       "  </tbody>\n",
       "</table>\n",
       "</div>"
      ],
      "text/plain": [
       "                           count unique            top   freq      mean  \\\n",
       "State                     164986     30  UTTAR PRADESH  25759       NaN   \n",
       "District                  164986    516         TUMKUR    738       NaN   \n",
       "Lat                       164986    NaN            NaN    NaN   22.1978   \n",
       "Long                      164986    NaN            NaN    NaN   80.5854   \n",
       "GW_depth_Min              164986    NaN            NaN    NaN    2.9253   \n",
       "GW_depth_Max              164986    NaN            NaN    NaN   21.4036   \n",
       "Wells_depth_0_to_2        164986    NaN            NaN    NaN   1.27863   \n",
       "Wells_depth_2_to_5        164986    NaN            NaN    NaN   6.93998   \n",
       "Wells_depth_5_to_10       164986    NaN            NaN    NaN   12.1134   \n",
       "Wells_depth_10_to_20      164986    NaN            NaN    NaN    6.7391   \n",
       "Wells_depth_20_to_40      164986    NaN            NaN    NaN   1.40094   \n",
       "Wells_depth_40_and_above  164986    NaN            NaN    NaN  0.414296   \n",
       "Precipitation             164986    NaN            NaN    NaN    101.14   \n",
       "Solar_Radiation           164986    NaN            NaN    NaN    18.021   \n",
       "Surface_Pressure          164986    NaN            NaN    NaN   97.2251   \n",
       "Humidity                  164986    NaN            NaN    NaN   60.1334   \n",
       "Temp_Max                  164986    NaN            NaN    NaN   31.1621   \n",
       "Temp_Min                  164986    NaN            NaN    NaN   20.0058   \n",
       "Dew_Frost_Point           164986    NaN            NaN    NaN   15.3434   \n",
       "Wind_Speed                164986    NaN            NaN    NaN   2.15273   \n",
       "Year                      164986    NaN            NaN    NaN   2005.56   \n",
       "Season                    164986      6         Kharif  63382       NaN   \n",
       "Crop                      164986     86           Rice  10385       NaN   \n",
       "Area                      164986    NaN            NaN    NaN   13196.9   \n",
       "Production                164986    NaN            NaN    NaN    663955   \n",
       "\n",
       "                                  std      min      25%      50%      75%  \\\n",
       "State                             NaN      NaN      NaN      NaN      NaN   \n",
       "District                          NaN      NaN      NaN      NaN      NaN   \n",
       "Lat                           5.59709  8.08783  18.5383  23.7214  26.3544   \n",
       "Long                           5.4176   69.611  76.5532  79.3863  83.8242   \n",
       "GW_depth_Min                  3.05719    -0.95      1.4     2.42     3.65   \n",
       "GW_depth_Max                  17.2144    -0.21    10.82    17.25    25.68   \n",
       "Wells_depth_0_to_2            2.95843        0        0        0        1   \n",
       "Wells_depth_2_to_5            8.02365        0        2        4       10   \n",
       "Wells_depth_5_to_10           11.7355        0        3        9       17   \n",
       "Wells_depth_10_to_20          8.30502        0        1        4       10   \n",
       "Wells_depth_20_to_40          2.99043        0        0        0        1   \n",
       "Wells_depth_40_and_above      2.43688        0        0        0        0   \n",
       "Precipitation                 89.6123        0    20.51    84.38   152.94   \n",
       "Solar_Radiation               2.14169     7.84  16.5267    17.94   19.346   \n",
       "Surface_Pressure              3.12474     63.6   95.626  97.8258    99.38   \n",
       "Humidity                      16.5694   16.972  47.7153   62.912   74.044   \n",
       "Temp_Max                      3.77823   -5.605   28.952   31.264   33.382   \n",
       "Temp_Min                      4.89264  -15.615   16.838   20.962   24.022   \n",
       "Dew_Frost_Point               7.04762   -18.14   10.316   17.138   21.174   \n",
       "Wind_Speed                   0.862279    0.038    1.584    2.038    2.583   \n",
       "Year                          4.95753     1997     2001     2006     2010   \n",
       "Season                            NaN      NaN      NaN      NaN      NaN   \n",
       "Crop                              NaN      NaN      NaN      NaN      NaN   \n",
       "Area                          48534.8     0.24       95      700     5330   \n",
       "Production                1.83034e+07        0      100      900     8589   \n",
       "\n",
       "                                 max  \n",
       "State                            NaN  \n",
       "District                         NaN  \n",
       "Lat                          33.2203  \n",
       "Long                         96.6535  \n",
       "GW_depth_Min                   43.95  \n",
       "GW_depth_Max                  128.15  \n",
       "Wells_depth_0_to_2                51  \n",
       "Wells_depth_2_to_5                48  \n",
       "Wells_depth_5_to_10               67  \n",
       "Wells_depth_10_to_20              77  \n",
       "Wells_depth_20_to_40              24  \n",
       "Wells_depth_40_and_above          38  \n",
       "Precipitation                 735.31  \n",
       "Solar_Radiation              26.3125  \n",
       "Surface_Pressure              101.57  \n",
       "Humidity                      91.464  \n",
       "Temp_Max                        42.6  \n",
       "Temp_Min                      28.874  \n",
       "Dew_Frost_Point               26.014  \n",
       "Wind_Speed                     5.766  \n",
       "Year                            2015  \n",
       "Season                           NaN  \n",
       "Crop                             NaN  \n",
       "Area                       5.544e+06  \n",
       "Production                1.2508e+09  "
      ]
     },
     "execution_count": 4,
     "metadata": {},
     "output_type": "execute_result"
    }
   ],
   "source": [
    "raw_data.describe(include='all').T"
   ]
  },
  {
   "cell_type": "code",
   "execution_count": 5,
   "metadata": {},
   "outputs": [],
   "source": [
    "numerical_features = raw_data.select_dtypes(exclude='object').columns\n",
    "categorical_features = raw_data.select_dtypes(include='object').columns"
   ]
  },
  {
   "cell_type": "code",
   "execution_count": 6,
   "metadata": {},
   "outputs": [
    {
     "data": {
      "text/plain": [
       "Index(['Lat', 'Long', 'GW_depth_Min', 'GW_depth_Max', 'Wells_depth_0_to_2',\n",
       "       'Wells_depth_2_to_5', 'Wells_depth_5_to_10', 'Wells_depth_10_to_20',\n",
       "       'Wells_depth_20_to_40', 'Wells_depth_40_and_above', 'Precipitation',\n",
       "       'Solar_Radiation', 'Surface_Pressure', 'Humidity', 'Temp_Max',\n",
       "       'Temp_Min', 'Dew_Frost_Point', 'Wind_Speed', 'Year', 'Area',\n",
       "       'Production'],\n",
       "      dtype='object')"
      ]
     },
     "execution_count": 6,
     "metadata": {},
     "output_type": "execute_result"
    }
   ],
   "source": [
    "numerical_features"
   ]
  },
  {
   "cell_type": "code",
   "execution_count": 7,
   "metadata": {},
   "outputs": [
    {
     "data": {
      "text/plain": [
       "Index(['State', 'District', 'Season', 'Crop'], dtype='object')"
      ]
     },
     "execution_count": 7,
     "metadata": {},
     "output_type": "execute_result"
    }
   ],
   "source": [
    "categorical_features"
   ]
  },
  {
   "cell_type": "code",
   "execution_count": 8,
   "metadata": {},
   "outputs": [],
   "source": [
    "df = raw_data.copy()"
   ]
  },
  {
   "cell_type": "markdown",
   "metadata": {},
   "source": [
    "\n",
    "## Convert Production values to Log-Normal Form"
   ]
  },
  {
   "cell_type": "markdown",
   "metadata": {},
   "source": [
    "During EDA we saw that log of 99.5% quantile of Production values had formed a perfect normal distribution."
   ]
  },
  {
   "cell_type": "code",
   "execution_count": 9,
   "metadata": {},
   "outputs": [],
   "source": [
    "def convert_to_log(data):\n",
    "    return np.log(data + 1)\n",
    "\n",
    "def convert_from_log(data):\n",
    "    return np.exp(data) - 1"
   ]
  },
  {
   "cell_type": "code",
   "execution_count": 10,
   "metadata": {},
   "outputs": [],
   "source": [
    "df['log_Production'] = convert_to_log(df['Production'])"
   ]
  },
  {
   "cell_type": "code",
   "execution_count": 11,
   "metadata": {},
   "outputs": [
    {
     "name": "stderr",
     "output_type": "stream",
     "text": [
      "/home/animathur/anaconda3/envs/py3-TF2/lib/python3.8/site-packages/seaborn/distributions.py:2551: FutureWarning: `distplot` is a deprecated function and will be removed in a future version. Please adapt your code to use either `displot` (a figure-level function with similar flexibility) or `histplot` (an axes-level function for histograms).\n",
      "  warnings.warn(msg, FutureWarning)\n"
     ]
    },
    {
     "data": {
      "text/plain": [
       "<AxesSubplot:xlabel='log_Production', ylabel='Density'>"
      ]
     },
     "execution_count": 11,
     "metadata": {},
     "output_type": "execute_result"
    },
    {
     "data": {
      "image/png": "[encoded data removed]",
      "text/plain": [
       "<Figure size 432x288 with 1 Axes>"
      ]
     },
     "metadata": {
      "needs_background": "light"
     },
     "output_type": "display_data"
    }
   ],
   "source": [
    "sns.distplot(df['log_Production'])"
   ]
  },
  {
   "cell_type": "code",
   "execution_count": 12,
   "metadata": {},
   "outputs": [],
   "source": [
    "## Taking data with only 99.5% quantile of log_Production\n",
    "df = df.loc[df['log_Production'] <= df['log_Production'].quantile(0.995)]"
   ]
  },
  {
   "cell_type": "code",
   "execution_count": 13,
   "metadata": {
    "scrolled": true
   },
   "outputs": [
    {
     "name": "stderr",
     "output_type": "stream",
     "text": [
      "/home/animathur/anaconda3/envs/py3-TF2/lib/python3.8/site-packages/seaborn/distributions.py:2551: FutureWarning: `distplot` is a deprecated function and will be removed in a future version. Please adapt your code to use either `displot` (a figure-level function with similar flexibility) or `histplot` (an axes-level function for histograms).\n",
      "  warnings.warn(msg, FutureWarning)\n"
     ]
    },
    {
     "data": {
      "text/plain": [
       "<AxesSubplot:xlabel='log_Production', ylabel='Density'>"
      ]
     },
     "execution_count": 13,
     "metadata": {},
     "output_type": "execute_result"
    },
    {
     "data": {
      "image/png": "[encoded data removed]",
      "text/plain": [
       "<Figure size 432x288 with 1 Axes>"
      ]
     },
     "metadata": {
      "needs_background": "light"
     },
     "output_type": "display_data"
    }
   ],
   "source": [
    "sns.distplot(df['log_Production'])"
   ]
  },
  {
   "cell_type": "code",
   "execution_count": 14,
   "metadata": {},
   "outputs": [
    {
     "data": {
      "text/plain": [
       "(164161, 26)"
      ]
     },
     "execution_count": 14,
     "metadata": {},
     "output_type": "execute_result"
    }
   ],
   "source": [
    "df.shape"
   ]
  },
  {
   "cell_type": "markdown",
   "metadata": {},
   "source": [
    "## Lat and Long"
   ]
  },
  {
   "cell_type": "markdown",
   "metadata": {},
   "source": [
    "We must consider Lat and Long as categorical features to avoid any bias in prediction value. This is because numerical values of latitide and longitude do not quantify the production of crop but only provide information of geographical location."
   ]
  },
  {
   "cell_type": "code",
   "execution_count": 15,
   "metadata": {},
   "outputs": [
    {
     "data": {
      "text/plain": [
       "Lat     459\n",
       "Long    459\n",
       "dtype: int64"
      ]
     },
     "execution_count": 15,
     "metadata": {},
     "output_type": "execute_result"
    }
   ],
   "source": [
    "df[['Lat', 'Long']].nunique()"
   ]
  },
  {
   "cell_type": "markdown",
   "metadata": {},
   "source": [
    "**Pipeline Action**\n",
    "\n",
    "Based on cluster analysis and EDA we can seggregate Lat and Long values into six regions."
   ]
  },
  {
   "cell_type": "code",
   "execution_count": 16,
   "metadata": {},
   "outputs": [],
   "source": [
    "with open('./latlong_custerer_6.pkl', 'rb') as f:\n",
    "    lat_long_clusterer = pickle.load(f)"
   ]
  },
  {
   "cell_type": "code",
   "execution_count": 17,
   "metadata": {},
   "outputs": [],
   "source": [
    "def identify_geo_region(data, clusterer):\n",
    "    '''\n",
    "    Returns dataframe with column 'Geo_Region' identified from values of 'Lat' and 'Long' for each row.\n",
    "    \n",
    "    Parameters:\n",
    "    data - Data frame which should have 'Lat' and 'Long' columns.\n",
    "    clusterer - Clustering model for Lat and Long.\n",
    "    '''\n",
    "    data['Geo_Region'] = clusterer.predict(data[['Lat', 'Long']])\n",
    "    \n",
    "    region_map = {}\n",
    "    \n",
    "    for i, region in enumerate(df['Geo_Region'].unique()):\n",
    "        region_map[i] = f'R{i}'\n",
    "        \n",
    "    data['Geo_Region'] = data['Geo_Region'].map(region_map).copy()\n",
    "    \n",
    "    return data"
   ]
  },
  {
   "cell_type": "code",
   "execution_count": 18,
   "metadata": {},
   "outputs": [],
   "source": [
    "df = identify_geo_region(df, lat_long_clusterer)"
   ]
  },
  {
   "cell_type": "code",
   "execution_count": 19,
   "metadata": {},
   "outputs": [
    {
     "data": {
      "text/plain": [
       "R0    33869\n",
       "R1    37583\n",
       "R2    25621\n",
       "R3    30352\n",
       "R4    14945\n",
       "R5    21791\n",
       "Name: Geo_Region, dtype: int64"
      ]
     },
     "execution_count": 19,
     "metadata": {},
     "output_type": "execute_result"
    }
   ],
   "source": [
    "df['Geo_Region'].value_counts().sort_index()"
   ]
  },
  {
   "cell_type": "code",
   "execution_count": 20,
   "metadata": {},
   "outputs": [],
   "source": [
    "df = df.drop(['Lat', 'Long'], axis=1)"
   ]
  },
  {
   "cell_type": "code",
   "execution_count": 21,
   "metadata": {},
   "outputs": [],
   "source": [
    "# Get updated d_types\n",
    "numerical_features = df.select_dtypes(exclude='object').columns\n",
    "categorical_features = df.select_dtypes(include='object').columns"
   ]
  },
  {
   "cell_type": "markdown",
   "metadata": {},
   "source": [
    "# Categorical Variables"
   ]
  },
  {
   "cell_type": "code",
   "execution_count": 22,
   "metadata": {},
   "outputs": [
    {
     "data": {
      "text/plain": [
       "Index(['State', 'District', 'Season', 'Crop', 'Geo_Region'], dtype='object')"
      ]
     },
     "execution_count": 22,
     "metadata": {},
     "output_type": "execute_result"
    }
   ],
   "source": [
    "categorical_features"
   ]
  },
  {
   "cell_type": "markdown",
   "metadata": {},
   "source": [
    "## State and District"
   ]
  },
  {
   "cell_type": "code",
   "execution_count": 23,
   "metadata": {},
   "outputs": [
    {
     "data": {
      "text/plain": [
       "30"
      ]
     },
     "execution_count": 23,
     "metadata": {},
     "output_type": "execute_result"
    }
   ],
   "source": [
    "df['State'].nunique()"
   ]
  },
  {
   "cell_type": "code",
   "execution_count": 24,
   "metadata": {},
   "outputs": [
    {
     "data": {
      "text/plain": [
       "516"
      ]
     },
     "execution_count": 24,
     "metadata": {},
     "output_type": "execute_result"
    }
   ],
   "source": [
    "df['District'].nunique()"
   ]
  },
  {
   "cell_type": "markdown",
   "metadata": {},
   "source": [
    "**Pipeline Action**\n",
    "\n",
    "We can drop State and District columns as they are well represented by Geo_Region clusters.\n",
    "\n",
    "Also being categorical input with many unique values, State and District would increase the feature set a lot."
   ]
  },
  {
   "cell_type": "code",
   "execution_count": 25,
   "metadata": {},
   "outputs": [],
   "source": [
    "df = df.drop(['State', 'District'], axis=1)"
   ]
  },
  {
   "cell_type": "markdown",
   "metadata": {},
   "source": [
    "## Geo_Region"
   ]
  },
  {
   "cell_type": "code",
   "execution_count": 26,
   "metadata": {},
   "outputs": [
    {
     "data": {
      "text/plain": [
       "R1    37583\n",
       "R0    33869\n",
       "R3    30352\n",
       "R2    25621\n",
       "R5    21791\n",
       "R4    14945\n",
       "Name: Geo_Region, dtype: int64"
      ]
     },
     "execution_count": 26,
     "metadata": {},
     "output_type": "execute_result"
    }
   ],
   "source": [
    "df['Geo_Region'].value_counts()"
   ]
  },
  {
   "cell_type": "code",
   "execution_count": 27,
   "metadata": {},
   "outputs": [
    {
     "data": {
      "text/plain": [
       "<AxesSubplot:xlabel='Geo_Region', ylabel='log_Production'>"
      ]
     },
     "execution_count": 27,
     "metadata": {},
     "output_type": "execute_result"
    },
    {
     "data": {
      "image/png": "[encoded data removed]",
      "text/plain": [
       "<Figure size 720x432 with 1 Axes>"
      ]
     },
     "metadata": {
      "needs_background": "light"
     },
     "output_type": "display_data"
    }
   ],
   "source": [
    "plt.figure(figsize=(10,6))\n",
    "sns.boxplot(y='log_Production', x='Geo_Region', data=df)"
   ]
  },
  {
   "cell_type": "code",
   "execution_count": 28,
   "metadata": {},
   "outputs": [
    {
     "data": {
      "text/html": [
       "<table class=\"simpletable\">\n",
       "<caption>OLS Regression Results</caption>\n",
       "<tr>\n",
       "  <th>Dep. Variable:</th>     <td>log_Production</td>  <th>  R-squared:         </th>  <td>   0.008</td>  \n",
       "</tr>\n",
       "<tr>\n",
       "  <th>Model:</th>                   <td>OLS</td>       <th>  Adj. R-squared:    </th>  <td>   0.008</td>  \n",
       "</tr>\n",
       "<tr>\n",
       "  <th>Method:</th>             <td>Least Squares</td>  <th>  F-statistic:       </th>  <td>   251.3</td>  \n",
       "</tr>\n",
       "<tr>\n",
       "  <th>Date:</th>             <td>Fri, 05 Feb 2021</td> <th>  Prob (F-statistic):</th>  <td>1.90e-268</td> \n",
       "</tr>\n",
       "<tr>\n",
       "  <th>Time:</th>                 <td>19:02:33</td>     <th>  Log-Likelihood:    </th> <td>-4.2062e+05</td>\n",
       "</tr>\n",
       "<tr>\n",
       "  <th>No. Observations:</th>      <td>164161</td>      <th>  AIC:               </th>  <td>8.412e+05</td> \n",
       "</tr>\n",
       "<tr>\n",
       "  <th>Df Residuals:</th>          <td>164155</td>      <th>  BIC:               </th>  <td>8.413e+05</td> \n",
       "</tr>\n",
       "<tr>\n",
       "  <th>Df Model:</th>              <td>     5</td>      <th>                     </th>      <td> </td>     \n",
       "</tr>\n",
       "<tr>\n",
       "  <th>Covariance Type:</th>      <td>nonrobust</td>    <th>                     </th>      <td> </td>     \n",
       "</tr>\n",
       "</table>\n",
       "<table class=\"simpletable\">\n",
       "<tr>\n",
       "           <td></td>              <th>coef</th>     <th>std err</th>      <th>t</th>      <th>P>|t|</th>  <th>[0.025</th>    <th>0.975]</th>  \n",
       "</tr>\n",
       "<tr>\n",
       "  <th>Intercept</th>           <td>    6.7393</td> <td>    0.017</td> <td>  395.350</td> <td> 0.000</td> <td>    6.706</td> <td>    6.773</td>\n",
       "</tr>\n",
       "<tr>\n",
       "  <th>C(Geo_Region)[T.R1]</th> <td>   -0.2667</td> <td>    0.024</td> <td>  -11.349</td> <td> 0.000</td> <td>   -0.313</td> <td>   -0.221</td>\n",
       "</tr>\n",
       "<tr>\n",
       "  <th>C(Geo_Region)[T.R2]</th> <td>    0.1639</td> <td>    0.026</td> <td>    6.312</td> <td> 0.000</td> <td>    0.113</td> <td>    0.215</td>\n",
       "</tr>\n",
       "<tr>\n",
       "  <th>C(Geo_Region)[T.R3]</th> <td>    0.2259</td> <td>    0.025</td> <td>    9.109</td> <td> 0.000</td> <td>    0.177</td> <td>    0.274</td>\n",
       "</tr>\n",
       "<tr>\n",
       "  <th>C(Geo_Region)[T.R4]</th> <td>   -0.2875</td> <td>    0.031</td> <td>   -9.332</td> <td> 0.000</td> <td>   -0.348</td> <td>   -0.227</td>\n",
       "</tr>\n",
       "<tr>\n",
       "  <th>C(Geo_Region)[T.R5]</th> <td>    0.5541</td> <td>    0.027</td> <td>   20.340</td> <td> 0.000</td> <td>    0.501</td> <td>    0.608</td>\n",
       "</tr>\n",
       "</table>\n",
       "<table class=\"simpletable\">\n",
       "<tr>\n",
       "  <th>Omnibus:</th>       <td>4213.695</td> <th>  Durbin-Watson:     </th> <td>   2.002</td>\n",
       "</tr>\n",
       "<tr>\n",
       "  <th>Prob(Omnibus):</th>  <td> 0.000</td>  <th>  Jarque-Bera (JB):  </th> <td>2122.652</td>\n",
       "</tr>\n",
       "<tr>\n",
       "  <th>Skew:</th>           <td> 0.033</td>  <th>  Prob(JB):          </th> <td>    0.00</td>\n",
       "</tr>\n",
       "<tr>\n",
       "  <th>Kurtosis:</th>       <td> 2.447</td>  <th>  Cond. No.          </th> <td>    6.35</td>\n",
       "</tr>\n",
       "</table><br/><br/>Notes:<br/>[1] Standard Errors assume that the covariance matrix of the errors is correctly specified."
      ],
      "text/plain": [
       "<class 'statsmodels.iolib.summary.Summary'>\n",
       "\"\"\"\n",
       "                            OLS Regression Results                            \n",
       "==============================================================================\n",
       "Dep. Variable:         log_Production   R-squared:                       0.008\n",
       "Model:                            OLS   Adj. R-squared:                  0.008\n",
       "Method:                 Least Squares   F-statistic:                     251.3\n",
       "Date:                Fri, 05 Feb 2021   Prob (F-statistic):          1.90e-268\n",
       "Time:                        19:02:33   Log-Likelihood:            -4.2062e+05\n",
       "No. Observations:              164161   AIC:                         8.412e+05\n",
       "Df Residuals:                  164155   BIC:                         8.413e+05\n",
       "Df Model:                           5                                         \n",
       "Covariance Type:            nonrobust                                         \n",
       "=======================================================================================\n",
       "                          coef    std err          t      P>|t|      [0.025      0.975]\n",
       "---------------------------------------------------------------------------------------\n",
       "Intercept               6.7393      0.017    395.350      0.000       6.706       6.773\n",
       "C(Geo_Region)[T.R1]    -0.2667      0.024    -11.349      0.000      -0.313      -0.221\n",
       "C(Geo_Region)[T.R2]     0.1639      0.026      6.312      0.000       0.113       0.215\n",
       "C(Geo_Region)[T.R3]     0.2259      0.025      9.109      0.000       0.177       0.274\n",
       "C(Geo_Region)[T.R4]    -0.2875      0.031     -9.332      0.000      -0.348      -0.227\n",
       "C(Geo_Region)[T.R5]     0.5541      0.027     20.340      0.000       0.501       0.608\n",
       "==============================================================================\n",
       "Omnibus:                     4213.695   Durbin-Watson:                   2.002\n",
       "Prob(Omnibus):                  0.000   Jarque-Bera (JB):             2122.652\n",
       "Skew:                           0.033   Prob(JB):                         0.00\n",
       "Kurtosis:                       2.447   Cond. No.                         6.35\n",
       "==============================================================================\n",
       "\n",
       "Notes:\n",
       "[1] Standard Errors assume that the covariance matrix of the errors is correctly specified.\n",
       "\"\"\""
      ]
     },
     "execution_count": 28,
     "metadata": {},
     "output_type": "execute_result"
    }
   ],
   "source": [
    "# ANOVA test with log_Production\n",
    "anova_result = smf.ols(formula='log_Production ~ C(Geo_Region)', data=df).fit()\n",
    "anova_result.summary()"
   ]
  },
  {
   "cell_type": "markdown",
   "metadata": {},
   "source": [
    "## Season"
   ]
  },
  {
   "cell_type": "code",
   "execution_count": 29,
   "metadata": {},
   "outputs": [
    {
     "data": {
      "text/plain": [
       "Kharif        63256\n",
       "Rabi          44259\n",
       "Whole Year    38389\n",
       "Summer        10731\n",
       "Winter         4180\n",
       "Autumn         3346\n",
       "Name: Season, dtype: int64"
      ]
     },
     "execution_count": 29,
     "metadata": {},
     "output_type": "execute_result"
    }
   ],
   "source": [
    "df['Season'].value_counts()"
   ]
  },
  {
   "cell_type": "code",
   "execution_count": 30,
   "metadata": {},
   "outputs": [
    {
     "data": {
      "text/plain": [
       "<AxesSubplot:xlabel='Season', ylabel='log_Production'>"
      ]
     },
     "execution_count": 30,
     "metadata": {},
     "output_type": "execute_result"
    },
    {
     "data": {
      "image/png": "[encoded data removed]",
      "text/plain": [
       "<Figure size 720x432 with 1 Axes>"
      ]
     },
     "metadata": {
      "needs_background": "light"
     },
     "output_type": "display_data"
    }
   ],
   "source": [
    "plt.figure(figsize=(10,6))\n",
    "sns.boxplot(y='log_Production', x='Season', data=df)"
   ]
  },
  {
   "cell_type": "code",
   "execution_count": 31,
   "metadata": {},
   "outputs": [
    {
     "data": {
      "text/html": [
       "<table class=\"simpletable\">\n",
       "<caption>OLS Regression Results</caption>\n",
       "<tr>\n",
       "  <th>Dep. Variable:</th>     <td>log_Production</td>  <th>  R-squared:         </th>  <td>   0.007</td>  \n",
       "</tr>\n",
       "<tr>\n",
       "  <th>Model:</th>                   <td>OLS</td>       <th>  Adj. R-squared:    </th>  <td>   0.007</td>  \n",
       "</tr>\n",
       "<tr>\n",
       "  <th>Method:</th>             <td>Least Squares</td>  <th>  F-statistic:       </th>  <td>   224.7</td>  \n",
       "</tr>\n",
       "<tr>\n",
       "  <th>Date:</th>             <td>Fri, 05 Feb 2021</td> <th>  Prob (F-statistic):</th>  <td>7.76e-240</td> \n",
       "</tr>\n",
       "<tr>\n",
       "  <th>Time:</th>                 <td>19:02:33</td>     <th>  Log-Likelihood:    </th> <td>-4.2068e+05</td>\n",
       "</tr>\n",
       "<tr>\n",
       "  <th>No. Observations:</th>      <td>164161</td>      <th>  AIC:               </th>  <td>8.414e+05</td> \n",
       "</tr>\n",
       "<tr>\n",
       "  <th>Df Residuals:</th>          <td>164155</td>      <th>  BIC:               </th>  <td>8.414e+05</td> \n",
       "</tr>\n",
       "<tr>\n",
       "  <th>Df Model:</th>              <td>     5</td>      <th>                     </th>      <td> </td>     \n",
       "</tr>\n",
       "<tr>\n",
       "  <th>Covariance Type:</th>      <td>nonrobust</td>    <th>                     </th>      <td> </td>     \n",
       "</tr>\n",
       "</table>\n",
       "<table class=\"simpletable\">\n",
       "<tr>\n",
       "             <td></td>                <th>coef</th>     <th>std err</th>      <th>t</th>      <th>P>|t|</th>  <th>[0.025</th>    <th>0.975]</th>  \n",
       "</tr>\n",
       "<tr>\n",
       "  <th>Intercept</th>               <td>    7.2056</td> <td>    0.054</td> <td>  132.808</td> <td> 0.000</td> <td>    7.099</td> <td>    7.312</td>\n",
       "</tr>\n",
       "<tr>\n",
       "  <th>C(Season)[T.Kharif]</th>     <td>   -0.4804</td> <td>    0.056</td> <td>   -8.630</td> <td> 0.000</td> <td>   -0.590</td> <td>   -0.371</td>\n",
       "</tr>\n",
       "<tr>\n",
       "  <th>C(Season)[T.Rabi]</th>       <td>   -0.2439</td> <td>    0.056</td> <td>   -4.335</td> <td> 0.000</td> <td>   -0.354</td> <td>   -0.134</td>\n",
       "</tr>\n",
       "<tr>\n",
       "  <th>C(Season)[T.Summer]</th>     <td>   -1.0093</td> <td>    0.062</td> <td>  -16.242</td> <td> 0.000</td> <td>   -1.131</td> <td>   -0.887</td>\n",
       "</tr>\n",
       "<tr>\n",
       "  <th>C(Season)[T.Whole Year]</th> <td>   -0.4830</td> <td>    0.057</td> <td>   -8.538</td> <td> 0.000</td> <td>   -0.594</td> <td>   -0.372</td>\n",
       "</tr>\n",
       "<tr>\n",
       "  <th>C(Season)[T.Winter]</th>     <td>    0.6739</td> <td>    0.073</td> <td>    9.256</td> <td> 0.000</td> <td>    0.531</td> <td>    0.817</td>\n",
       "</tr>\n",
       "</table>\n",
       "<table class=\"simpletable\">\n",
       "<tr>\n",
       "  <th>Omnibus:</th>       <td>4694.481</td> <th>  Durbin-Watson:     </th> <td>   2.001</td>\n",
       "</tr>\n",
       "<tr>\n",
       "  <th>Prob(Omnibus):</th>  <td> 0.000</td>  <th>  Jarque-Bera (JB):  </th> <td>2271.511</td>\n",
       "</tr>\n",
       "<tr>\n",
       "  <th>Skew:</th>           <td> 0.020</td>  <th>  Prob(JB):          </th> <td>    0.00</td>\n",
       "</tr>\n",
       "<tr>\n",
       "  <th>Kurtosis:</th>       <td> 2.425</td>  <th>  Cond. No.          </th> <td>    19.9</td>\n",
       "</tr>\n",
       "</table><br/><br/>Notes:<br/>[1] Standard Errors assume that the covariance matrix of the errors is correctly specified."
      ],
      "text/plain": [
       "<class 'statsmodels.iolib.summary.Summary'>\n",
       "\"\"\"\n",
       "                            OLS Regression Results                            \n",
       "==============================================================================\n",
       "Dep. Variable:         log_Production   R-squared:                       0.007\n",
       "Model:                            OLS   Adj. R-squared:                  0.007\n",
       "Method:                 Least Squares   F-statistic:                     224.7\n",
       "Date:                Fri, 05 Feb 2021   Prob (F-statistic):          7.76e-240\n",
       "Time:                        19:02:33   Log-Likelihood:            -4.2068e+05\n",
       "No. Observations:              164161   AIC:                         8.414e+05\n",
       "Df Residuals:                  164155   BIC:                         8.414e+05\n",
       "Df Model:                           5                                         \n",
       "Covariance Type:            nonrobust                                         \n",
       "===========================================================================================\n",
       "                              coef    std err          t      P>|t|      [0.025      0.975]\n",
       "-------------------------------------------------------------------------------------------\n",
       "Intercept                   7.2056      0.054    132.808      0.000       7.099       7.312\n",
       "C(Season)[T.Kharif]        -0.4804      0.056     -8.630      0.000      -0.590      -0.371\n",
       "C(Season)[T.Rabi]          -0.2439      0.056     -4.335      0.000      -0.354      -0.134\n",
       "C(Season)[T.Summer]        -1.0093      0.062    -16.242      0.000      -1.131      -0.887\n",
       "C(Season)[T.Whole Year]    -0.4830      0.057     -8.538      0.000      -0.594      -0.372\n",
       "C(Season)[T.Winter]         0.6739      0.073      9.256      0.000       0.531       0.817\n",
       "==============================================================================\n",
       "Omnibus:                     4694.481   Durbin-Watson:                   2.001\n",
       "Prob(Omnibus):                  0.000   Jarque-Bera (JB):             2271.511\n",
       "Skew:                           0.020   Prob(JB):                         0.00\n",
       "Kurtosis:                       2.425   Cond. No.                         19.9\n",
       "==============================================================================\n",
       "\n",
       "Notes:\n",
       "[1] Standard Errors assume that the covariance matrix of the errors is correctly specified.\n",
       "\"\"\""
      ]
     },
     "execution_count": 31,
     "metadata": {},
     "output_type": "execute_result"
    }
   ],
   "source": [
    "# ANOVA test with log_Production\n",
    "anova_result = smf.ols(formula='log_Production ~ C(Season)', data=df).fit()\n",
    "anova_result.summary()"
   ]
  },
  {
   "cell_type": "markdown",
   "metadata": {},
   "source": [
    "## Crop"
   ]
  },
  {
   "cell_type": "code",
   "execution_count": 32,
   "metadata": {},
   "outputs": [
    {
     "data": {
      "text/plain": [
       "86"
      ]
     },
     "execution_count": 32,
     "metadata": {},
     "output_type": "execute_result"
    }
   ],
   "source": [
    "df['Crop'].nunique()"
   ]
  },
  {
   "cell_type": "code",
   "execution_count": 33,
   "metadata": {},
   "outputs": [
    {
     "data": {
      "text/html": [
       "<table class=\"simpletable\">\n",
       "<caption>OLS Regression Results</caption>\n",
       "<tr>\n",
       "  <th>Dep. Variable:</th>     <td>log_Production</td>  <th>  R-squared:         </th>  <td>   0.313</td>  \n",
       "</tr>\n",
       "<tr>\n",
       "  <th>Model:</th>                   <td>OLS</td>       <th>  Adj. R-squared:    </th>  <td>   0.313</td>  \n",
       "</tr>\n",
       "<tr>\n",
       "  <th>Method:</th>             <td>Least Squares</td>  <th>  F-statistic:       </th>  <td>   881.0</td>  \n",
       "</tr>\n",
       "<tr>\n",
       "  <th>Date:</th>             <td>Fri, 05 Feb 2021</td> <th>  Prob (F-statistic):</th>   <td>  0.00</td>   \n",
       "</tr>\n",
       "<tr>\n",
       "  <th>Time:</th>                 <td>19:02:39</td>     <th>  Log-Likelihood:    </th> <td>-3.9038e+05</td>\n",
       "</tr>\n",
       "<tr>\n",
       "  <th>No. Observations:</th>      <td>164161</td>      <th>  AIC:               </th>  <td>7.809e+05</td> \n",
       "</tr>\n",
       "<tr>\n",
       "  <th>Df Residuals:</th>          <td>164075</td>      <th>  BIC:               </th>  <td>7.818e+05</td> \n",
       "</tr>\n",
       "<tr>\n",
       "  <th>Df Model:</th>              <td>    85</td>      <th>                     </th>      <td> </td>     \n",
       "</tr>\n",
       "<tr>\n",
       "  <th>Covariance Type:</th>      <td>nonrobust</td>    <th>                     </th>      <td> </td>     \n",
       "</tr>\n",
       "</table>\n",
       "<table class=\"simpletable\">\n",
       "<tr>\n",
       "                    <td></td>                      <th>coef</th>     <th>std err</th>      <th>t</th>      <th>P>|t|</th>  <th>[0.025</th>    <th>0.975]</th>  \n",
       "</tr>\n",
       "<tr>\n",
       "  <th>Intercept</th>                            <td>    7.4944</td> <td>    0.674</td> <td>   11.121</td> <td> 0.000</td> <td>    6.174</td> <td>    8.815</td>\n",
       "</tr>\n",
       "<tr>\n",
       "  <th>C(Crop)[T.Arecanut]</th>                  <td>   -0.3931</td> <td>    0.678</td> <td>   -0.580</td> <td> 0.562</td> <td>   -1.723</td> <td>    0.936</td>\n",
       "</tr>\n",
       "<tr>\n",
       "  <th>C(Crop)[T.Arhar/Tur]</th>                 <td>   -0.7483</td> <td>    0.675</td> <td>   -1.109</td> <td> 0.267</td> <td>   -2.071</td> <td>    0.574</td>\n",
       "</tr>\n",
       "<tr>\n",
       "  <th>C(Crop)[T.Atcanut (Raw)]</th>             <td>    1.3429</td> <td>    0.925</td> <td>    1.452</td> <td> 0.146</td> <td>   -0.469</td> <td>    3.155</td>\n",
       "</tr>\n",
       "<tr>\n",
       "  <th>C(Crop)[T.Bajra]</th>                     <td>   -0.2497</td> <td>    0.675</td> <td>   -0.370</td> <td> 0.712</td> <td>   -1.573</td> <td>    1.074</td>\n",
       "</tr>\n",
       "<tr>\n",
       "  <th>C(Crop)[T.Banana]</th>                    <td>    1.5601</td> <td>    0.676</td> <td>    2.307</td> <td> 0.021</td> <td>    0.235</td> <td>    2.885</td>\n",
       "</tr>\n",
       "<tr>\n",
       "  <th>C(Crop)[T.Barley]</th>                    <td>   -0.5509</td> <td>    0.676</td> <td>   -0.815</td> <td> 0.415</td> <td>   -1.875</td> <td>    0.773</td>\n",
       "</tr>\n",
       "<tr>\n",
       "  <th>C(Crop)[T.Beans & Mutter(Vegetable)]</th> <td>   -3.8055</td> <td>    0.717</td> <td>   -5.308</td> <td> 0.000</td> <td>   -5.211</td> <td>   -2.400</td>\n",
       "</tr>\n",
       "<tr>\n",
       "  <th>C(Crop)[T.Bhindi]</th>                    <td>   -4.2028</td> <td>    0.701</td> <td>   -5.993</td> <td> 0.000</td> <td>   -5.577</td> <td>   -2.828</td>\n",
       "</tr>\n",
       "<tr>\n",
       "  <th>C(Crop)[T.Black pepper]</th>              <td>   -2.0104</td> <td>    0.681</td> <td>   -2.951</td> <td> 0.003</td> <td>   -3.345</td> <td>   -0.675</td>\n",
       "</tr>\n",
       "<tr>\n",
       "  <th>C(Crop)[T.Blackgram]</th>                 <td>   -1.7874</td> <td>    0.770</td> <td>   -2.321</td> <td> 0.020</td> <td>   -3.297</td> <td>   -0.278</td>\n",
       "</tr>\n",
       "<tr>\n",
       "  <th>C(Crop)[T.Brinjal]</th>                   <td>   -2.2204</td> <td>    0.692</td> <td>   -3.207</td> <td> 0.001</td> <td>   -3.578</td> <td>   -0.863</td>\n",
       "</tr>\n",
       "<tr>\n",
       "  <th>C(Crop)[T.Cabbage]</th>                   <td>   -4.6142</td> <td>    0.708</td> <td>   -6.516</td> <td> 0.000</td> <td>   -6.002</td> <td>   -3.226</td>\n",
       "</tr>\n",
       "<tr>\n",
       "  <th>C(Crop)[T.Cardamom]</th>                  <td>   -3.5614</td> <td>    0.692</td> <td>   -5.145</td> <td> 0.000</td> <td>   -4.918</td> <td>   -2.205</td>\n",
       "</tr>\n",
       "<tr>\n",
       "  <th>C(Crop)[T.Cashewnut]</th>                 <td>   -1.8109</td> <td>    0.680</td> <td>   -2.663</td> <td> 0.008</td> <td>   -3.144</td> <td>   -0.478</td>\n",
       "</tr>\n",
       "<tr>\n",
       "  <th>C(Crop)[T.Cashewnut Processed]</th>       <td>   -4.8331</td> <td>    0.902</td> <td>   -5.361</td> <td> 0.000</td> <td>   -6.600</td> <td>   -3.066</td>\n",
       "</tr>\n",
       "<tr>\n",
       "  <th>C(Crop)[T.Cashewnut Raw]</th>             <td>   -1.7246</td> <td>    0.825</td> <td>   -2.089</td> <td> 0.037</td> <td>   -3.342</td> <td>   -0.107</td>\n",
       "</tr>\n",
       "<tr>\n",
       "  <th>C(Crop)[T.Castor seed]</th>               <td>   -2.9953</td> <td>    0.676</td> <td>   -4.431</td> <td> 0.000</td> <td>   -4.320</td> <td>   -1.670</td>\n",
       "</tr>\n",
       "<tr>\n",
       "  <th>C(Crop)[T.Citrus Fruit]</th>              <td>   -3.9450</td> <td>    0.696</td> <td>   -5.672</td> <td> 0.000</td> <td>   -5.308</td> <td>   -2.582</td>\n",
       "</tr>\n",
       "<tr>\n",
       "  <th>C(Crop)[T.Coconut ]</th>                  <td>    2.7328</td> <td>    0.679</td> <td>    4.022</td> <td> 0.000</td> <td>    1.401</td> <td>    4.064</td>\n",
       "</tr>\n",
       "<tr>\n",
       "  <th>C(Crop)[T.Coffee]</th>                    <td>    1.6898</td> <td>    1.469</td> <td>    1.150</td> <td> 0.250</td> <td>   -1.189</td> <td>    4.569</td>\n",
       "</tr>\n",
       "<tr>\n",
       "  <th>C(Crop)[T.Colocosia]</th>                 <td>    0.2379</td> <td>    2.696</td> <td>    0.088</td> <td> 0.930</td> <td>   -5.046</td> <td>    5.521</td>\n",
       "</tr>\n",
       "<tr>\n",
       "  <th>C(Crop)[T.Coriander]</th>                 <td>   -3.5623</td> <td>    0.676</td> <td>   -5.270</td> <td> 0.000</td> <td>   -4.887</td> <td>   -2.237</td>\n",
       "</tr>\n",
       "<tr>\n",
       "  <th>C(Crop)[T.Cotton(lint)]</th>              <td>    0.1660</td> <td>    0.675</td> <td>    0.246</td> <td> 0.806</td> <td>   -1.158</td> <td>    1.490</td>\n",
       "</tr>\n",
       "<tr>\n",
       "  <th>C(Crop)[T.Cowpea(Lobia)]</th>             <td>   -3.1934</td> <td>    0.687</td> <td>   -4.647</td> <td> 0.000</td> <td>   -4.540</td> <td>   -1.847</td>\n",
       "</tr>\n",
       "<tr>\n",
       "  <th>C(Crop)[T.Drum Stick]</th>                <td>   -4.0833</td> <td>    0.725</td> <td>   -5.631</td> <td> 0.000</td> <td>   -5.505</td> <td>   -2.662</td>\n",
       "</tr>\n",
       "<tr>\n",
       "  <th>C(Crop)[T.Dry chillies]</th>              <td>   -1.7689</td> <td>    0.675</td> <td>   -2.620</td> <td> 0.009</td> <td>   -3.092</td> <td>   -0.446</td>\n",
       "</tr>\n",
       "<tr>\n",
       "  <th>C(Crop)[T.Dry ginger]</th>                <td>   -1.9874</td> <td>    0.677</td> <td>   -2.938</td> <td> 0.003</td> <td>   -3.313</td> <td>   -0.661</td>\n",
       "</tr>\n",
       "<tr>\n",
       "  <th>C(Crop)[T.Garlic]</th>                    <td>   -2.2540</td> <td>    0.676</td> <td>   -3.334</td> <td> 0.001</td> <td>   -3.579</td> <td>   -0.929</td>\n",
       "</tr>\n",
       "<tr>\n",
       "  <th>C(Crop)[T.Ginger]</th>                    <td>   -0.2826</td> <td>    0.710</td> <td>   -0.398</td> <td> 0.691</td> <td>   -1.675</td> <td>    1.110</td>\n",
       "</tr>\n",
       "<tr>\n",
       "  <th>C(Crop)[T.Gram]</th>                      <td>   -0.4371</td> <td>    0.675</td> <td>   -0.648</td> <td> 0.517</td> <td>   -1.760</td> <td>    0.886</td>\n",
       "</tr>\n",
       "<tr>\n",
       "  <th>C(Crop)[T.Grapes]</th>                    <td>   -1.2981</td> <td>    0.729</td> <td>   -1.782</td> <td> 0.075</td> <td>   -2.726</td> <td>    0.130</td>\n",
       "</tr>\n",
       "<tr>\n",
       "  <th>C(Crop)[T.Groundnut]</th>                 <td>   -0.6006</td> <td>    0.675</td> <td>   -0.890</td> <td> 0.373</td> <td>   -1.923</td> <td>    0.722</td>\n",
       "</tr>\n",
       "<tr>\n",
       "  <th>C(Crop)[T.Guar seed]</th>                 <td>   -2.1682</td> <td>    0.679</td> <td>   -3.193</td> <td> 0.001</td> <td>   -3.499</td> <td>   -0.837</td>\n",
       "</tr>\n",
       "<tr>\n",
       "  <th>C(Crop)[T.Horse-gram]</th>                <td>   -2.0310</td> <td>    0.676</td> <td>   -3.005</td> <td> 0.003</td> <td>   -3.356</td> <td>   -0.706</td>\n",
       "</tr>\n",
       "<tr>\n",
       "  <th>C(Crop)[T.Jack Fruit]</th>                <td>   -2.3672</td> <td>    0.748</td> <td>   -3.166</td> <td> 0.002</td> <td>   -3.833</td> <td>   -0.902</td>\n",
       "</tr>\n",
       "<tr>\n",
       "  <th>C(Crop)[T.Jowar]</th>                     <td>   -0.1130</td> <td>    0.675</td> <td>   -0.167</td> <td> 0.867</td> <td>   -1.436</td> <td>    1.210</td>\n",
       "</tr>\n",
       "<tr>\n",
       "  <th>C(Crop)[T.Jute]</th>                      <td>    0.8280</td> <td>    0.679</td> <td>    1.219</td> <td> 0.223</td> <td>   -0.504</td> <td>    2.160</td>\n",
       "</tr>\n",
       "<tr>\n",
       "  <th>C(Crop)[T.Jute & mesta]</th>              <td>    1.0640</td> <td>    0.925</td> <td>    1.151</td> <td> 0.250</td> <td>   -0.748</td> <td>    2.876</td>\n",
       "</tr>\n",
       "<tr>\n",
       "  <th>C(Crop)[T.Kapas]</th>                     <td>    0.7287</td> <td>    1.965</td> <td>    0.371</td> <td> 0.711</td> <td>   -3.122</td> <td>    4.580</td>\n",
       "</tr>\n",
       "<tr>\n",
       "  <th>C(Crop)[T.Khesari]</th>                   <td>   -1.0729</td> <td>    0.679</td> <td>   -1.580</td> <td> 0.114</td> <td>   -2.404</td> <td>    0.258</td>\n",
       "</tr>\n",
       "<tr>\n",
       "  <th>C(Crop)[T.Korra]</th>                     <td>   -3.0596</td> <td>    0.723</td> <td>   -4.234</td> <td> 0.000</td> <td>   -4.476</td> <td>   -1.643</td>\n",
       "</tr>\n",
       "<tr>\n",
       "  <th>C(Crop)[T.Lemon]</th>                     <td>    0.2405</td> <td>    0.830</td> <td>    0.290</td> <td> 0.772</td> <td>   -1.386</td> <td>    1.868</td>\n",
       "</tr>\n",
       "<tr>\n",
       "  <th>C(Crop)[T.Lentil]</th>                    <td>   -1.5392</td> <td>    1.348</td> <td>   -1.142</td> <td> 0.253</td> <td>   -4.181</td> <td>    1.103</td>\n",
       "</tr>\n",
       "<tr>\n",
       "  <th>C(Crop)[T.Linseed]</th>                   <td>   -2.7335</td> <td>    0.676</td> <td>   -4.047</td> <td> 0.000</td> <td>   -4.058</td> <td>   -1.410</td>\n",
       "</tr>\n",
       "<tr>\n",
       "  <th>C(Crop)[T.Maize]</th>                     <td>   -0.0054</td> <td>    0.674</td> <td>   -0.008</td> <td> 0.994</td> <td>   -1.327</td> <td>    1.317</td>\n",
       "</tr>\n",
       "<tr>\n",
       "  <th>C(Crop)[T.Mango]</th>                     <td>   -0.6010</td> <td>    0.690</td> <td>   -0.871</td> <td> 0.384</td> <td>   -1.953</td> <td>    0.751</td>\n",
       "</tr>\n",
       "<tr>\n",
       "  <th>C(Crop)[T.Masoor]</th>                    <td>   -1.1689</td> <td>    0.676</td> <td>   -1.730</td> <td> 0.084</td> <td>   -2.493</td> <td>    0.155</td>\n",
       "</tr>\n",
       "<tr>\n",
       "  <th>C(Crop)[T.Mesta]</th>                     <td>   -1.4560</td> <td>    0.678</td> <td>   -2.147</td> <td> 0.032</td> <td>   -2.785</td> <td>   -0.127</td>\n",
       "</tr>\n",
       "<tr>\n",
       "  <th>C(Crop)[T.Moong(Green Gram)]</th>         <td>   -2.3433</td> <td>    0.675</td> <td>   -3.473</td> <td> 0.001</td> <td>   -3.665</td> <td>   -1.021</td>\n",
       "</tr>\n",
       "<tr>\n",
       "  <th>C(Crop)[T.Moth]</th>                      <td>   -3.2652</td> <td>    0.682</td> <td>   -4.785</td> <td> 0.000</td> <td>   -4.603</td> <td>   -1.928</td>\n",
       "</tr>\n",
       "<tr>\n",
       "  <th>C(Crop)[T.Niger seed]</th>                <td>   -2.5512</td> <td>    0.677</td> <td>   -3.766</td> <td> 0.000</td> <td>   -3.879</td> <td>   -1.223</td>\n",
       "</tr>\n",
       "<tr>\n",
       "  <th>C(Crop)[T.Oilseeds total]</th>            <td>    0.2022</td> <td>    0.709</td> <td>    0.285</td> <td> 0.775</td> <td>   -1.187</td> <td>    1.591</td>\n",
       "</tr>\n",
       "<tr>\n",
       "  <th>C(Crop)[T.Onion]</th>                     <td>    0.0290</td> <td>    0.675</td> <td>    0.043</td> <td> 0.966</td> <td>   -1.294</td> <td>    1.352</td>\n",
       "</tr>\n",
       "<tr>\n",
       "  <th>C(Crop)[T.Orange]</th>                    <td>   -1.6762</td> <td>    0.699</td> <td>   -2.399</td> <td> 0.016</td> <td>   -3.046</td> <td>   -0.306</td>\n",
       "</tr>\n",
       "<tr>\n",
       "  <th>C(Crop)[T.Paddy]</th>                     <td>    2.5552</td> <td>    0.688</td> <td>    3.716</td> <td> 0.000</td> <td>    1.207</td> <td>    3.903</td>\n",
       "</tr>\n",
       "<tr>\n",
       "  <th>C(Crop)[T.Papaya]</th>                    <td>   -1.3342</td> <td>    0.688</td> <td>   -1.938</td> <td> 0.053</td> <td>   -2.684</td> <td>    0.015</td>\n",
       "</tr>\n",
       "<tr>\n",
       "  <th>C(Crop)[T.Peas & beans (Pulses)]</th>     <td>   -1.4816</td> <td>    0.676</td> <td>   -2.193</td> <td> 0.028</td> <td>   -2.806</td> <td>   -0.157</td>\n",
       "</tr>\n",
       "<tr>\n",
       "  <th>C(Crop)[T.Pineapple]</th>                 <td>    0.6501</td> <td>    0.704</td> <td>    0.924</td> <td> 0.356</td> <td>   -0.729</td> <td>    2.029</td>\n",
       "</tr>\n",
       "<tr>\n",
       "  <th>C(Crop)[T.Pome Fruit]</th>                <td>   -3.6280</td> <td>    0.697</td> <td>   -5.203</td> <td> 0.000</td> <td>   -4.995</td> <td>   -2.261</td>\n",
       "</tr>\n",
       "<tr>\n",
       "  <th>C(Crop)[T.Pome Granet]</th>               <td>   -5.4344</td> <td>    0.767</td> <td>   -7.089</td> <td> 0.000</td> <td>   -6.937</td> <td>   -3.932</td>\n",
       "</tr>\n",
       "<tr>\n",
       "  <th>C(Crop)[T.Potato]</th>                    <td>    1.2898</td> <td>    0.675</td> <td>    1.911</td> <td> 0.056</td> <td>   -0.033</td> <td>    2.613</td>\n",
       "</tr>\n",
       "<tr>\n",
       "  <th>C(Crop)[T.Pulses total]</th>              <td>   -0.0098</td> <td>    0.708</td> <td>   -0.014</td> <td> 0.989</td> <td>   -1.397</td> <td>    1.378</td>\n",
       "</tr>\n",
       "<tr>\n",
       "  <th>C(Crop)[T.Ragi]</th>                      <td>   -1.6540</td> <td>    0.676</td> <td>   -2.448</td> <td> 0.014</td> <td>   -2.978</td> <td>   -0.330</td>\n",
       "</tr>\n",
       "<tr>\n",
       "  <th>C(Crop)[T.Rapeseed &Mustard]</th>         <td>   -0.4786</td> <td>    0.675</td> <td>   -0.709</td> <td> 0.478</td> <td>   -1.801</td> <td>    0.844</td>\n",
       "</tr>\n",
       "<tr>\n",
       "  <th>C(Crop)[T.Rice]</th>                      <td>    2.4206</td> <td>    0.674</td> <td>    3.589</td> <td> 0.000</td> <td>    1.099</td> <td>    3.742</td>\n",
       "</tr>\n",
       "<tr>\n",
       "  <th>C(Crop)[T.Rubber]</th>                    <td>    2.6922</td> <td>    0.859</td> <td>    3.134</td> <td> 0.002</td> <td>    1.008</td> <td>    4.376</td>\n",
       "</tr>\n",
       "<tr>\n",
       "  <th>C(Crop)[T.Safflower]</th>                 <td>   -2.5776</td> <td>    0.679</td> <td>   -3.795</td> <td> 0.000</td> <td>   -3.909</td> <td>   -1.246</td>\n",
       "</tr>\n",
       "<tr>\n",
       "  <th>C(Crop)[T.Samai]</th>                     <td>   -2.5870</td> <td>    0.739</td> <td>   -3.500</td> <td> 0.000</td> <td>   -4.036</td> <td>   -1.138</td>\n",
       "</tr>\n",
       "<tr>\n",
       "  <th>C(Crop)[T.Sannhamp]</th>                  <td>   -4.1164</td> <td>    0.677</td> <td>   -6.081</td> <td> 0.000</td> <td>   -5.443</td> <td>   -2.790</td>\n",
       "</tr>\n",
       "<tr>\n",
       "  <th>C(Crop)[T.Sapota]</th>                    <td>    0.7598</td> <td>    0.841</td> <td>    0.904</td> <td> 0.366</td> <td>   -0.888</td> <td>    2.407</td>\n",
       "</tr>\n",
       "<tr>\n",
       "  <th>C(Crop)[T.Sesamum]</th>                   <td>   -2.4302</td> <td>    0.675</td> <td>   -3.602</td> <td> 0.000</td> <td>   -3.753</td> <td>   -1.108</td>\n",
       "</tr>\n",
       "<tr>\n",
       "  <th>C(Crop)[T.Small millets]</th>             <td>   -2.4984</td> <td>    0.676</td> <td>   -3.698</td> <td> 0.000</td> <td>   -3.822</td> <td>   -1.174</td>\n",
       "</tr>\n",
       "<tr>\n",
       "  <th>C(Crop)[T.Soyabean]</th>                  <td>   -0.0942</td> <td>    0.676</td> <td>   -0.139</td> <td> 0.889</td> <td>   -1.420</td> <td>    1.231</td>\n",
       "</tr>\n",
       "<tr>\n",
       "  <th>C(Crop)[T.Sugarcane]</th>                 <td>    2.8368</td> <td>    0.675</td> <td>    4.203</td> <td> 0.000</td> <td>    1.514</td> <td>    4.160</td>\n",
       "</tr>\n",
       "<tr>\n",
       "  <th>C(Crop)[T.Sunflower]</th>                 <td>   -2.1423</td> <td>    0.675</td> <td>   -3.173</td> <td> 0.002</td> <td>   -3.466</td> <td>   -0.819</td>\n",
       "</tr>\n",
       "<tr>\n",
       "  <th>C(Crop)[T.Sweet potato]</th>              <td>   -1.4558</td> <td>    0.676</td> <td>   -2.155</td> <td> 0.031</td> <td>   -2.780</td> <td>   -0.132</td>\n",
       "</tr>\n",
       "<tr>\n",
       "  <th>C(Crop)[T.Tapioca]</th>                   <td>    0.5133</td> <td>    0.678</td> <td>    0.757</td> <td> 0.449</td> <td>   -0.816</td> <td>    1.843</td>\n",
       "</tr>\n",
       "<tr>\n",
       "  <th>C(Crop)[T.Tea]</th>                       <td>   -1.3064</td> <td>    0.902</td> <td>   -1.449</td> <td> 0.147</td> <td>   -3.073</td> <td>    0.461</td>\n",
       "</tr>\n",
       "<tr>\n",
       "  <th>C(Crop)[T.Tobacco]</th>                   <td>   -2.7532</td> <td>    0.677</td> <td>   -4.069</td> <td> 0.000</td> <td>   -4.079</td> <td>   -1.427</td>\n",
       "</tr>\n",
       "<tr>\n",
       "  <th>C(Crop)[T.Tomato]</th>                    <td>   -1.4174</td> <td>    0.692</td> <td>   -2.048</td> <td> 0.041</td> <td>   -2.774</td> <td>   -0.061</td>\n",
       "</tr>\n",
       "<tr>\n",
       "  <th>C(Crop)[T.Total foodgrain]</th>           <td>    3.1925</td> <td>    0.712</td> <td>    4.484</td> <td> 0.000</td> <td>    1.797</td> <td>    4.588</td>\n",
       "</tr>\n",
       "<tr>\n",
       "  <th>C(Crop)[T.Turmeric]</th>                  <td>   -2.6560</td> <td>    0.676</td> <td>   -3.931</td> <td> 0.000</td> <td>   -3.980</td> <td>   -1.332</td>\n",
       "</tr>\n",
       "<tr>\n",
       "  <th>C(Crop)[T.Urad]</th>                      <td>   -1.7267</td> <td>    0.675</td> <td>   -2.559</td> <td> 0.010</td> <td>   -3.049</td> <td>   -0.404</td>\n",
       "</tr>\n",
       "<tr>\n",
       "  <th>C(Crop)[T.Varagu]</th>                    <td>   -2.8033</td> <td>    0.763</td> <td>   -3.672</td> <td> 0.000</td> <td>   -4.299</td> <td>   -1.307</td>\n",
       "</tr>\n",
       "<tr>\n",
       "  <th>C(Crop)[T.Wheat]</th>                     <td>    2.8267</td> <td>    0.675</td> <td>    4.189</td> <td> 0.000</td> <td>    1.504</td> <td>    4.149</td>\n",
       "</tr>\n",
       "</table>\n",
       "<table class=\"simpletable\">\n",
       "<tr>\n",
       "  <th>Omnibus:</th>       <td>2988.932</td> <th>  Durbin-Watson:     </th> <td>   2.003</td>\n",
       "</tr>\n",
       "<tr>\n",
       "  <th>Prob(Omnibus):</th>  <td> 0.000</td>  <th>  Jarque-Bera (JB):  </th> <td>3136.589</td>\n",
       "</tr>\n",
       "<tr>\n",
       "  <th>Skew:</th>           <td>-0.334</td>  <th>  Prob(JB):          </th> <td>    0.00</td>\n",
       "</tr>\n",
       "<tr>\n",
       "  <th>Kurtosis:</th>       <td> 2.893</td>  <th>  Cond. No.          </th> <td>    987.</td>\n",
       "</tr>\n",
       "</table><br/><br/>Notes:<br/>[1] Standard Errors assume that the covariance matrix of the errors is correctly specified."
      ],
      "text/plain": [
       "<class 'statsmodels.iolib.summary.Summary'>\n",
       "\"\"\"\n",
       "                            OLS Regression Results                            \n",
       "==============================================================================\n",
       "Dep. Variable:         log_Production   R-squared:                       0.313\n",
       "Model:                            OLS   Adj. R-squared:                  0.313\n",
       "Method:                 Least Squares   F-statistic:                     881.0\n",
       "Date:                Fri, 05 Feb 2021   Prob (F-statistic):               0.00\n",
       "Time:                        19:02:39   Log-Likelihood:            -3.9038e+05\n",
       "No. Observations:              164161   AIC:                         7.809e+05\n",
       "Df Residuals:                  164075   BIC:                         7.818e+05\n",
       "Df Model:                          85                                         \n",
       "Covariance Type:            nonrobust                                         \n",
       "========================================================================================================\n",
       "                                           coef    std err          t      P>|t|      [0.025      0.975]\n",
       "--------------------------------------------------------------------------------------------------------\n",
       "Intercept                                7.4944      0.674     11.121      0.000       6.174       8.815\n",
       "C(Crop)[T.Arecanut]                     -0.3931      0.678     -0.580      0.562      -1.723       0.936\n",
       "C(Crop)[T.Arhar/Tur]                    -0.7483      0.675     -1.109      0.267      -2.071       0.574\n",
       "C(Crop)[T.Atcanut (Raw)]                 1.3429      0.925      1.452      0.146      -0.469       3.155\n",
       "C(Crop)[T.Bajra]                        -0.2497      0.675     -0.370      0.712      -1.573       1.074\n",
       "C(Crop)[T.Banana]                        1.5601      0.676      2.307      0.021       0.235       2.885\n",
       "C(Crop)[T.Barley]                       -0.5509      0.676     -0.815      0.415      -1.875       0.773\n",
       "C(Crop)[T.Beans & Mutter(Vegetable)]    -3.8055      0.717     -5.308      0.000      -5.211      -2.400\n",
       "C(Crop)[T.Bhindi]                       -4.2028      0.701     -5.993      0.000      -5.577      -2.828\n",
       "C(Crop)[T.Black pepper]                 -2.0104      0.681     -2.951      0.003      -3.345      -0.675\n",
       "C(Crop)[T.Blackgram]                    -1.7874      0.770     -2.321      0.020      -3.297      -0.278\n",
       "C(Crop)[T.Brinjal]                      -2.2204      0.692     -3.207      0.001      -3.578      -0.863\n",
       "C(Crop)[T.Cabbage]                      -4.6142      0.708     -6.516      0.000      -6.002      -3.226\n",
       "C(Crop)[T.Cardamom]                     -3.5614      0.692     -5.145      0.000      -4.918      -2.205\n",
       "C(Crop)[T.Cashewnut]                    -1.8109      0.680     -2.663      0.008      -3.144      -0.478\n",
       "C(Crop)[T.Cashewnut Processed]          -4.8331      0.902     -5.361      0.000      -6.600      -3.066\n",
       "C(Crop)[T.Cashewnut Raw]                -1.7246      0.825     -2.089      0.037      -3.342      -0.107\n",
       "C(Crop)[T.Castor seed]                  -2.9953      0.676     -4.431      0.000      -4.320      -1.670\n",
       "C(Crop)[T.Citrus Fruit]                 -3.9450      0.696     -5.672      0.000      -5.308      -2.582\n",
       "C(Crop)[T.Coconut ]                      2.7328      0.679      4.022      0.000       1.401       4.064\n",
       "C(Crop)[T.Coffee]                        1.6898      1.469      1.150      0.250      -1.189       4.569\n",
       "C(Crop)[T.Colocosia]                     0.2379      2.696      0.088      0.930      -5.046       5.521\n",
       "C(Crop)[T.Coriander]                    -3.5623      0.676     -5.270      0.000      -4.887      -2.237\n",
       "C(Crop)[T.Cotton(lint)]                  0.1660      0.675      0.246      0.806      -1.158       1.490\n",
       "C(Crop)[T.Cowpea(Lobia)]                -3.1934      0.687     -4.647      0.000      -4.540      -1.847\n",
       "C(Crop)[T.Drum Stick]                   -4.0833      0.725     -5.631      0.000      -5.505      -2.662\n",
       "C(Crop)[T.Dry chillies]                 -1.7689      0.675     -2.620      0.009      -3.092      -0.446\n",
       "C(Crop)[T.Dry ginger]                   -1.9874      0.677     -2.938      0.003      -3.313      -0.661\n",
       "C(Crop)[T.Garlic]                       -2.2540      0.676     -3.334      0.001      -3.579      -0.929\n",
       "C(Crop)[T.Ginger]                       -0.2826      0.710     -0.398      0.691      -1.675       1.110\n",
       "C(Crop)[T.Gram]                         -0.4371      0.675     -0.648      0.517      -1.760       0.886\n",
       "C(Crop)[T.Grapes]                       -1.2981      0.729     -1.782      0.075      -2.726       0.130\n",
       "C(Crop)[T.Groundnut]                    -0.6006      0.675     -0.890      0.373      -1.923       0.722\n",
       "C(Crop)[T.Guar seed]                    -2.1682      0.679     -3.193      0.001      -3.499      -0.837\n",
       "C(Crop)[T.Horse-gram]                   -2.0310      0.676     -3.005      0.003      -3.356      -0.706\n",
       "C(Crop)[T.Jack Fruit]                   -2.3672      0.748     -3.166      0.002      -3.833      -0.902\n",
       "C(Crop)[T.Jowar]                        -0.1130      0.675     -0.167      0.867      -1.436       1.210\n",
       "C(Crop)[T.Jute]                          0.8280      0.679      1.219      0.223      -0.504       2.160\n",
       "C(Crop)[T.Jute & mesta]                  1.0640      0.925      1.151      0.250      -0.748       2.876\n",
       "C(Crop)[T.Kapas]                         0.7287      1.965      0.371      0.711      -3.122       4.580\n",
       "C(Crop)[T.Khesari]                      -1.0729      0.679     -1.580      0.114      -2.404       0.258\n",
       "C(Crop)[T.Korra]                        -3.0596      0.723     -4.234      0.000      -4.476      -1.643\n",
       "C(Crop)[T.Lemon]                         0.2405      0.830      0.290      0.772      -1.386       1.868\n",
       "C(Crop)[T.Lentil]                       -1.5392      1.348     -1.142      0.253      -4.181       1.103\n",
       "C(Crop)[T.Linseed]                      -2.7335      0.676     -4.047      0.000      -4.058      -1.410\n",
       "C(Crop)[T.Maize]                        -0.0054      0.674     -0.008      0.994      -1.327       1.317\n",
       "C(Crop)[T.Mango]                        -0.6010      0.690     -0.871      0.384      -1.953       0.751\n",
       "C(Crop)[T.Masoor]                       -1.1689      0.676     -1.730      0.084      -2.493       0.155\n",
       "C(Crop)[T.Mesta]                        -1.4560      0.678     -2.147      0.032      -2.785      -0.127\n",
       "C(Crop)[T.Moong(Green Gram)]            -2.3433      0.675     -3.473      0.001      -3.665      -1.021\n",
       "C(Crop)[T.Moth]                         -3.2652      0.682     -4.785      0.000      -4.603      -1.928\n",
       "C(Crop)[T.Niger seed]                   -2.5512      0.677     -3.766      0.000      -3.879      -1.223\n",
       "C(Crop)[T.Oilseeds total]                0.2022      0.709      0.285      0.775      -1.187       1.591\n",
       "C(Crop)[T.Onion]                         0.0290      0.675      0.043      0.966      -1.294       1.352\n",
       "C(Crop)[T.Orange]                       -1.6762      0.699     -2.399      0.016      -3.046      -0.306\n",
       "C(Crop)[T.Paddy]                         2.5552      0.688      3.716      0.000       1.207       3.903\n",
       "C(Crop)[T.Papaya]                       -1.3342      0.688     -1.938      0.053      -2.684       0.015\n",
       "C(Crop)[T.Peas & beans (Pulses)]        -1.4816      0.676     -2.193      0.028      -2.806      -0.157\n",
       "C(Crop)[T.Pineapple]                     0.6501      0.704      0.924      0.356      -0.729       2.029\n",
       "C(Crop)[T.Pome Fruit]                   -3.6280      0.697     -5.203      0.000      -4.995      -2.261\n",
       "C(Crop)[T.Pome Granet]                  -5.4344      0.767     -7.089      0.000      -6.937      -3.932\n",
       "C(Crop)[T.Potato]                        1.2898      0.675      1.911      0.056      -0.033       2.613\n",
       "C(Crop)[T.Pulses total]                 -0.0098      0.708     -0.014      0.989      -1.397       1.378\n",
       "C(Crop)[T.Ragi]                         -1.6540      0.676     -2.448      0.014      -2.978      -0.330\n",
       "C(Crop)[T.Rapeseed &Mustard]            -0.4786      0.675     -0.709      0.478      -1.801       0.844\n",
       "C(Crop)[T.Rice]                          2.4206      0.674      3.589      0.000       1.099       3.742\n",
       "C(Crop)[T.Rubber]                        2.6922      0.859      3.134      0.002       1.008       4.376\n",
       "C(Crop)[T.Safflower]                    -2.5776      0.679     -3.795      0.000      -3.909      -1.246\n",
       "C(Crop)[T.Samai]                        -2.5870      0.739     -3.500      0.000      -4.036      -1.138\n",
       "C(Crop)[T.Sannhamp]                     -4.1164      0.677     -6.081      0.000      -5.443      -2.790\n",
       "C(Crop)[T.Sapota]                        0.7598      0.841      0.904      0.366      -0.888       2.407\n",
       "C(Crop)[T.Sesamum]                      -2.4302      0.675     -3.602      0.000      -3.753      -1.108\n",
       "C(Crop)[T.Small millets]                -2.4984      0.676     -3.698      0.000      -3.822      -1.174\n",
       "C(Crop)[T.Soyabean]                     -0.0942      0.676     -0.139      0.889      -1.420       1.231\n",
       "C(Crop)[T.Sugarcane]                     2.8368      0.675      4.203      0.000       1.514       4.160\n",
       "C(Crop)[T.Sunflower]                    -2.1423      0.675     -3.173      0.002      -3.466      -0.819\n",
       "C(Crop)[T.Sweet potato]                 -1.4558      0.676     -2.155      0.031      -2.780      -0.132\n",
       "C(Crop)[T.Tapioca]                       0.5133      0.678      0.757      0.449      -0.816       1.843\n",
       "C(Crop)[T.Tea]                          -1.3064      0.902     -1.449      0.147      -3.073       0.461\n",
       "C(Crop)[T.Tobacco]                      -2.7532      0.677     -4.069      0.000      -4.079      -1.427\n",
       "C(Crop)[T.Tomato]                       -1.4174      0.692     -2.048      0.041      -2.774      -0.061\n",
       "C(Crop)[T.Total foodgrain]               3.1925      0.712      4.484      0.000       1.797       4.588\n",
       "C(Crop)[T.Turmeric]                     -2.6560      0.676     -3.931      0.000      -3.980      -1.332\n",
       "C(Crop)[T.Urad]                         -1.7267      0.675     -2.559      0.010      -3.049      -0.404\n",
       "C(Crop)[T.Varagu]                       -2.8033      0.763     -3.672      0.000      -4.299      -1.307\n",
       "C(Crop)[T.Wheat]                         2.8267      0.675      4.189      0.000       1.504       4.149\n",
       "==============================================================================\n",
       "Omnibus:                     2988.932   Durbin-Watson:                   2.003\n",
       "Prob(Omnibus):                  0.000   Jarque-Bera (JB):             3136.589\n",
       "Skew:                          -0.334   Prob(JB):                         0.00\n",
       "Kurtosis:                       2.893   Cond. No.                         987.\n",
       "==============================================================================\n",
       "\n",
       "Notes:\n",
       "[1] Standard Errors assume that the covariance matrix of the errors is correctly specified.\n",
       "\"\"\""
      ]
     },
     "execution_count": 33,
     "metadata": {},
     "output_type": "execute_result"
    }
   ],
   "source": [
    "# ANOVA test with log_Production\n",
    "anova_result = smf.ols(formula='log_Production ~ C(Crop)', data=df).fit()\n",
    "anova_result.summary()"
   ]
  },
  {
   "cell_type": "code",
   "execution_count": 34,
   "metadata": {},
   "outputs": [
    {
     "data": {
      "text/plain": [
       "(227650.14111136392,\n",
       " 0.0,\n",
       " 425,\n",
       " array([[3.05736442e-01, 5.77993555e+00, 4.04410914e+00, 9.80531308e-01,\n",
       "         3.50774545e+00, 3.81942118e-01],\n",
       "        [2.29913804e+01, 4.34651153e+02, 3.04117007e+02, 7.37359543e+01,\n",
       "         2.63782457e+02, 2.87220473e+01],\n",
       "        [1.10167031e+02, 2.08270344e+03, 1.45722733e+03, 3.53318115e+02,\n",
       "         1.26395761e+03, 1.37626476e+02],\n",
       "        [3.46501301e-01, 6.55059362e+00, 4.58332369e+00, 1.11126882e+00,\n",
       "         3.97544484e+00, 4.32867734e-01],\n",
       "        [8.25896041e+01, 1.56135326e+03, 1.09244868e+03, 2.64874191e+02,\n",
       "         9.47558970e+02, 1.03175297e+02],\n",
       "        [4.61865851e+01, 8.73155597e+02, 6.10930087e+02, 1.48125596e+02,\n",
       "         5.29903412e+02, 5.76987226e+01],\n",
       "        [5.90275157e+01, 1.11591289e+03, 7.80782671e+02, 1.89307911e+02,\n",
       "         6.77228721e+02, 7.37402915e+01],\n",
       "        [2.32359696e+00, 4.39275102e+01, 3.07352294e+01, 7.45203794e+00,\n",
       "         2.66588654e+01, 2.90276010e+00],\n",
       "        [3.68921973e+00, 6.97445556e+01, 4.87989169e+01, 1.18317444e+01,\n",
       "         4.23267950e+01, 4.60876822e+00],\n",
       "        [1.41657885e+01, 2.67803681e+02, 1.87377057e+02, 4.54312839e+01,\n",
       "         1.62525539e+02, 1.76966515e+01],\n",
       "        [9.98739043e-01, 1.88811228e+01, 1.32107565e+01, 3.20306894e+00,\n",
       "         1.14586351e+01, 1.24767758e+00],\n",
       "        [5.48287352e+00, 1.03653511e+02, 7.25243572e+01, 1.75841948e+01,\n",
       "         6.29055683e+01, 6.84949531e+00],\n",
       "        [2.93506984e+00, 5.54873813e+01, 3.88234477e+01, 9.41310055e+00,\n",
       "         3.36743563e+01, 3.66664433e+00],\n",
       "        [5.54402081e+00, 1.04809498e+02, 7.33331790e+01, 1.77803010e+01,\n",
       "         6.36071174e+01, 6.92588374e+00],\n",
       "        [1.65301503e+01, 3.12501849e+02, 2.18651501e+02, 5.30140594e+01,\n",
       "         1.89652104e+02, 2.06503372e+01],\n",
       "        [3.87266159e-01, 7.32125170e+00, 5.12253824e+00, 1.24200632e+00,\n",
       "         4.44314423e+00, 4.83793349e-01],\n",
       "        [6.11472883e-01, 1.15598711e+01, 8.08821827e+00, 1.96106262e+00,\n",
       "         7.01549089e+00, 7.63884236e-01],\n",
       "        [4.92643320e+01, 9.31340282e+02, 6.51640786e+02, 1.57996278e+02,\n",
       "         5.65214716e+02, 6.15436066e+01],\n",
       "        [4.68795877e+00, 8.86256784e+01, 6.20096734e+01, 1.50348134e+01,\n",
       "         5.37854302e+01, 5.85644581e+00],\n",
       "        [1.87314527e+01, 3.54117385e+02, 2.47769086e+02, 6.00738848e+01,\n",
       "         2.14907871e+02, 2.34003204e+01],\n",
       "        [8.15297178e-02, 1.54131615e+00, 1.07842910e+00, 2.61475015e-01,\n",
       "         9.35398785e-01, 1.01851231e-01],\n",
       "        [2.03824294e-02, 3.85329037e-01, 2.69607276e-01, 6.53687538e-02,\n",
       "         2.33849696e-01, 2.54628079e-02],\n",
       "        [5.00184819e+01, 9.45597456e+02, 6.61616255e+02, 1.60414922e+02,\n",
       "         5.73867155e+02, 6.24857305e+01],\n",
       "        [6.64467200e+01, 1.25617266e+03, 8.78919719e+02, 2.13102138e+02,\n",
       "         7.62350010e+02, 8.30087536e+01],\n",
       "        [7.72494076e+00, 1.46039705e+02, 1.02181158e+02, 2.47747577e+01,\n",
       "         8.86290349e+01, 9.65040418e+00],\n",
       "        [1.93633080e+00, 3.66062585e+01, 2.56126912e+01, 6.21003162e+00,\n",
       "         2.22157212e+01, 2.41896675e+00],\n",
       "        [9.19859041e+01, 1.73898994e+03, 1.21673764e+03, 2.95009186e+02,\n",
       "         1.05536368e+03, 1.14913652e+02],\n",
       "        [3.92565591e+01, 7.42143725e+02, 5.19263613e+02, 1.25900220e+02,\n",
       "         4.50394515e+02, 4.90413679e+01],\n",
       "        [4.78987092e+01, 9.05523236e+02, 6.33577098e+02, 1.53616572e+02,\n",
       "         5.49546786e+02, 5.98375985e+01],\n",
       "        [2.75162797e+00, 5.20194200e+01, 3.63969822e+01, 8.82478177e+00,\n",
       "         3.15697090e+01, 3.43747906e+00],\n",
       "        [1.07619227e+02, 2.03453731e+03, 1.42352642e+03, 3.45147020e+02,\n",
       "         1.23472640e+03, 1.34443625e+02],\n",
       "        [1.81403622e+00, 3.42942843e+01, 2.39950475e+01, 5.81781909e+00,\n",
       "         2.08126230e+01, 2.26618990e+00],\n",
       "        [1.28878101e+02, 2.43643550e+03, 1.70472680e+03, 4.13326631e+02,\n",
       "         1.47863163e+03, 1.61001334e+02],\n",
       "        [2.03416646e+01, 3.84558379e+02, 2.69068061e+02, 6.52380163e+01,\n",
       "         2.33381997e+02, 2.54118822e+01],\n",
       "        [5.41153502e+01, 1.02304859e+03, 7.15807317e+02, 1.73554041e+02,\n",
       "         6.20870944e+02, 6.76037549e+01],\n",
       "        [1.32485791e+00, 2.50463874e+01, 1.75244729e+01, 4.24896900e+00,\n",
       "         1.52002303e+01, 1.65508251e+00],\n",
       "        [1.07721140e+02, 2.03646396e+03, 1.42487445e+03, 3.45473864e+02,\n",
       "         1.23589565e+03, 1.34570940e+02],\n",
       "        [1.86091581e+01, 3.51805411e+02, 2.46151443e+02, 5.96816723e+01,\n",
       "         2.13504773e+02, 2.32475436e+01],\n",
       "        [3.46501301e-01, 6.55059362e+00, 4.58332369e+00, 1.11126882e+00,\n",
       "         3.97544484e+00, 4.32867734e-01],\n",
       "        [4.07648589e-02, 7.70658073e-01, 5.39214552e-01, 1.30737508e-01,\n",
       "         4.67699393e-01, 5.09256157e-02],\n",
       "        [1.94244553e+01, 3.67218572e+02, 2.56935734e+02, 6.22964224e+01,\n",
       "         2.22858761e+02, 2.42660559e+01],\n",
       "        [2.03824294e+00, 3.85329037e+01, 2.69607276e+01, 6.53687538e+00,\n",
       "         2.33849696e+01, 2.54628079e+00],\n",
       "        [5.91090454e-01, 1.11745421e+01, 7.81861100e+00, 1.89569386e+00,\n",
       "         6.78164119e+00, 7.38421428e-01],\n",
       "        [1.01912147e-01, 1.92664518e+00, 1.34803638e+00, 3.26843769e-01,\n",
       "         1.16924848e+00, 1.27314039e-01],\n",
       "        [6.42454176e+01, 1.21455712e+03, 8.49802133e+02, 2.06042312e+02,\n",
       "         7.37094243e+02, 8.02587704e+01],\n",
       "        [1.95773235e+02, 3.70108540e+03, 2.58957788e+03, 6.27866881e+02,\n",
       "         2.24612633e+03, 2.44570269e+02],\n",
       "        [6.48161256e+00, 1.22534634e+02, 8.57351137e+01, 2.07872637e+01,\n",
       "         7.43642034e+01, 8.09717290e+00],\n",
       "        [5.88848387e+01, 1.11321559e+03, 7.78895420e+02, 1.88850330e+02,\n",
       "         6.75591773e+02, 7.35620519e+01],\n",
       "        [2.47850342e+01, 4.68560109e+02, 3.27842447e+02, 7.94884047e+01,\n",
       "         2.84361231e+02, 3.09627743e+01],\n",
       "        [1.48547146e+02, 2.80827802e+03, 1.96489783e+03, 4.76407478e+02,\n",
       "         1.70429659e+03, 1.85572944e+02],\n",
       "        [1.21071631e+01, 2.28885448e+02, 1.60146722e+02, 3.88290398e+01,\n",
       "         1.38906720e+02, 1.51249079e+01],\n",
       "        [2.94118457e+01, 5.56029800e+02, 3.89043299e+02, 9.43271118e+01,\n",
       "         3.37445112e+02, 3.67428317e+01],\n",
       "        [2.89430498e+00, 5.47167232e+01, 3.82842332e+01, 9.28236305e+00,\n",
       "         3.32066569e+01, 3.61571872e+00],\n",
       "        [1.04806452e+02, 1.98136191e+03, 1.38632061e+03, 3.36126132e+02,\n",
       "         1.20245514e+03, 1.30929758e+02],\n",
       "        [4.05610346e+00, 7.66804783e+01, 5.36518479e+01, 1.30083820e+01,\n",
       "         4.65360896e+01, 5.06709876e+00],\n",
       "        [7.39882189e+00, 1.39874440e+02, 9.78674411e+01, 2.37288576e+01,\n",
       "         8.48874398e+01, 9.24299925e+00],\n",
       "        [6.99117330e+00, 1.32167860e+02, 9.24752956e+01, 2.24214826e+01,\n",
       "         8.02104458e+01, 8.73374309e+00],\n",
       "        [5.92924873e+01, 1.12092217e+03, 7.84287565e+02, 1.90157705e+02,\n",
       "         6.80268767e+02, 7.40713080e+01],\n",
       "        [3.38348329e+00, 6.39646201e+01, 4.47548078e+01, 1.08512131e+01,\n",
       "         3.88190496e+01, 4.22682610e+00],\n",
       "        [4.34145747e+00, 8.20750848e+01, 5.74263497e+01, 1.39235446e+01,\n",
       "         4.98099853e+01, 5.42357807e+00],\n",
       "        [1.03950390e+00, 1.96517809e+01, 1.37499711e+01, 3.33380645e+00,\n",
       "         1.19263345e+01, 1.29860320e+00],\n",
       "        [9.30050256e+01, 1.75825639e+03, 1.23021800e+03, 2.98277624e+02,\n",
       "         1.06705616e+03, 1.16186792e+02],\n",
       "        [2.95545227e+00, 5.58727103e+01, 3.90930550e+01, 9.47846931e+00,\n",
       "         3.39082060e+01, 3.69210714e+00],\n",
       "        [5.89459860e+01, 1.11437157e+03, 7.79704242e+02, 1.89046436e+02,\n",
       "         6.76293322e+02, 7.36384403e+01],\n",
       "        [1.06212840e+02, 2.00794961e+03, 1.40492351e+03, 3.40636576e+02,\n",
       "         1.21859077e+03, 1.32686692e+02],\n",
       "        [2.11671530e+02, 4.00164205e+03, 2.79987156e+03, 6.78854509e+02,\n",
       "         2.42852910e+03, 2.64431260e+02],\n",
       "        [4.89178307e-01, 9.24789688e+00, 6.47057462e+00, 1.56885009e+00,\n",
       "         5.61239271e+00, 6.11107388e-01],\n",
       "        [1.93836904e+01, 3.66447914e+02, 2.56396519e+02, 6.21656849e+01,\n",
       "         2.22391061e+02, 2.42151303e+01],\n",
       "        [1.50829978e+00, 2.85143487e+01, 1.99509384e+01, 4.83728778e+00,\n",
       "         1.73048775e+01, 1.88424778e+00],\n",
       "        [3.36717734e+01, 6.36563569e+02, 4.45391220e+02, 1.07989181e+02,\n",
       "         3.86319698e+02, 4.20645586e+01],\n",
       "        [5.50325595e-01, 1.04038840e+01, 7.27939645e+00, 1.76495635e+00,\n",
       "         6.31394180e+00, 6.87495812e-01],\n",
       "        [1.27288272e+02, 2.40637983e+03, 1.68369744e+03, 4.08227868e+02,\n",
       "         1.46039135e+03, 1.59015235e+02],\n",
       "        [6.16772315e+01, 1.16600567e+03, 8.15831617e+02, 1.97805849e+02,\n",
       "         7.07629181e+02, 7.70504566e+01],\n",
       "        [4.29865437e+01, 8.12658938e+02, 5.68601745e+02, 1.37862702e+02,\n",
       "         4.93189010e+02, 5.37010618e+01],\n",
       "        [1.07924964e+02, 2.04031725e+03, 1.42757053e+03, 3.46127552e+02,\n",
       "         1.23823414e+03, 1.34825568e+02],\n",
       "        [8.11220692e+01, 1.53360957e+03, 1.07303696e+03, 2.60167640e+02,\n",
       "         9.30721791e+02, 1.01341975e+02],\n",
       "        [6.17791436e+01, 1.16793231e+03, 8.17179653e+02, 1.98132693e+02,\n",
       "         7.08798430e+02, 7.71777706e+01],\n",
       "        [2.26041143e+01, 4.27329902e+02, 2.98994469e+02, 7.24939480e+01,\n",
       "         2.59339313e+02, 2.82382539e+01],\n",
       "        [3.87266159e-01, 7.32125170e+00, 5.12253824e+00, 1.24200632e+00,\n",
       "         4.44314423e+00, 4.83793349e-01],\n",
       "        [3.88081457e+01, 7.33666486e+02, 5.13332253e+02, 1.24462107e+02,\n",
       "         4.45249822e+02, 4.84811862e+01],\n",
       "        [5.56440324e+00, 1.05194827e+02, 7.36027863e+01, 1.78456698e+01,\n",
       "         6.38409671e+01, 6.95134654e+00],\n",
       "        [2.62933340e+00, 4.97074457e+01, 3.47793386e+01, 8.43256925e+00,\n",
       "         3.01666108e+01, 3.28470221e+00],\n",
       "        [6.00670196e+01, 1.13556467e+03, 7.94532642e+02, 1.92641718e+02,\n",
       "         6.89155055e+02, 7.50388947e+01],\n",
       "        [1.41107559e+02, 2.66763292e+03, 1.86649117e+03, 4.52547883e+02,\n",
       "         1.61894145e+03, 1.76279019e+02],\n",
       "        [1.08026876e+00, 2.04224389e+01, 1.42891856e+01, 3.46454395e+00,\n",
       "         1.23940339e+01, 1.34952882e+00],\n",
       "        [1.10085501e+02, 2.08116213e+03, 1.45614890e+03, 3.53056640e+02,\n",
       "         1.26302221e+03, 1.37524625e+02]]))"
      ]
     },
     "execution_count": 34,
     "metadata": {},
     "output_type": "execute_result"
    }
   ],
   "source": [
    "# Chi2 test\n",
    "chi2_contingency(pd.crosstab(df['Crop'], df['Season']))"
   ]
  },
  {
   "cell_type": "markdown",
   "metadata": {},
   "source": [
    "Ideally crops are very much dependent on season. p-value of chi2 test validates this."
   ]
  },
  {
   "cell_type": "markdown",
   "metadata": {},
   "source": [
    "**Pipeline Action**\n",
    "\n",
    "As per custer analysis and EDA, we can reduce the feature set by clustering both Season and Crop columns as Crop_Type."
   ]
  },
  {
   "cell_type": "code",
   "execution_count": 35,
   "metadata": {},
   "outputs": [],
   "source": [
    "with open('./crop_season_clusterer_6.pkl', 'rb') as f:\n",
    "    crop_season_clusterer = pickle.load(f)"
   ]
  },
  {
   "cell_type": "code",
   "execution_count": 36,
   "metadata": {},
   "outputs": [],
   "source": [
    "def identify_crop_types(data, clusterer):\n",
    "    '''\n",
    "    Returns dataframe with column 'Crop_Type' identified from values of 'Crop' and 'Season' for each row.\n",
    "    \n",
    "    Parameters:\n",
    "    data - Dataframe which should have 'Crop' and 'Season' columns.\n",
    "    clusterer - Clustering model for Crop and Season.\n",
    "    '''\n",
    "    data['Crop_Type'] = clusterer.predict(pd.get_dummies(data[['Crop', 'Season']].copy()))\n",
    "    \n",
    "    crop_type_map = {}\n",
    "    \n",
    "    for i, crop_type in enumerate(data['Crop_Type'].unique()):\n",
    "        crop_type_map[i] = f'C{i}'\n",
    "        \n",
    "    data['Crop_Type'] = data['Crop_Type'].map(crop_type_map).copy()\n",
    "    return data"
   ]
  },
  {
   "cell_type": "code",
   "execution_count": 37,
   "metadata": {},
   "outputs": [],
   "source": [
    "df = identify_crop_types(df, crop_season_clusterer)"
   ]
  },
  {
   "cell_type": "code",
   "execution_count": 38,
   "metadata": {},
   "outputs": [
    {
     "data": {
      "text/plain": [
       "C0     7525\n",
       "C1    36329\n",
       "C2    44259\n",
       "C3    63256\n",
       "C4     2061\n",
       "C5    10731\n",
       "Name: Crop_Type, dtype: int64"
      ]
     },
     "execution_count": 38,
     "metadata": {},
     "output_type": "execute_result"
    }
   ],
   "source": [
    "df['Crop_Type'].value_counts().sort_index()"
   ]
  },
  {
   "cell_type": "code",
   "execution_count": 39,
   "metadata": {},
   "outputs": [
    {
     "data": {
      "text/html": [
       "<table class=\"simpletable\">\n",
       "<caption>OLS Regression Results</caption>\n",
       "<tr>\n",
       "  <th>Dep. Variable:</th>     <td>log_Production</td>  <th>  R-squared:         </th>  <td>   0.016</td>  \n",
       "</tr>\n",
       "<tr>\n",
       "  <th>Model:</th>                   <td>OLS</td>       <th>  Adj. R-squared:    </th>  <td>   0.016</td>  \n",
       "</tr>\n",
       "<tr>\n",
       "  <th>Method:</th>             <td>Least Squares</td>  <th>  F-statistic:       </th>  <td>   523.2</td>  \n",
       "</tr>\n",
       "<tr>\n",
       "  <th>Date:</th>             <td>Fri, 05 Feb 2021</td> <th>  Prob (F-statistic):</th>   <td>  0.00</td>   \n",
       "</tr>\n",
       "<tr>\n",
       "  <th>Time:</th>                 <td>19:02:40</td>     <th>  Log-Likelihood:    </th> <td>-4.1995e+05</td>\n",
       "</tr>\n",
       "<tr>\n",
       "  <th>No. Observations:</th>      <td>164161</td>      <th>  AIC:               </th>  <td>8.399e+05</td> \n",
       "</tr>\n",
       "<tr>\n",
       "  <th>Df Residuals:</th>          <td>164155</td>      <th>  BIC:               </th>  <td>8.400e+05</td> \n",
       "</tr>\n",
       "<tr>\n",
       "  <th>Df Model:</th>              <td>     5</td>      <th>                     </th>      <td> </td>     \n",
       "</tr>\n",
       "<tr>\n",
       "  <th>Covariance Type:</th>      <td>nonrobust</td>    <th>                     </th>      <td> </td>     \n",
       "</tr>\n",
       "</table>\n",
       "<table class=\"simpletable\">\n",
       "<tr>\n",
       "           <td></td>             <th>coef</th>     <th>std err</th>      <th>t</th>      <th>P>|t|</th>  <th>[0.025</th>    <th>0.975]</th>  \n",
       "</tr>\n",
       "<tr>\n",
       "  <th>Intercept</th>          <td>    7.5807</td> <td>    0.036</td> <td>  210.477</td> <td> 0.000</td> <td>    7.510</td> <td>    7.651</td>\n",
       "</tr>\n",
       "<tr>\n",
       "  <th>C(Crop_Type)[T.C1]</th> <td>   -0.7078</td> <td>    0.040</td> <td>  -17.886</td> <td> 0.000</td> <td>   -0.785</td> <td>   -0.630</td>\n",
       "</tr>\n",
       "<tr>\n",
       "  <th>C(Crop_Type)[T.C2]</th> <td>   -0.6190</td> <td>    0.039</td> <td>  -15.889</td> <td> 0.000</td> <td>   -0.695</td> <td>   -0.543</td>\n",
       "</tr>\n",
       "<tr>\n",
       "  <th>C(Crop_Type)[T.C3]</th> <td>   -0.8555</td> <td>    0.038</td> <td>  -22.455</td> <td> 0.000</td> <td>   -0.930</td> <td>   -0.781</td>\n",
       "</tr>\n",
       "<tr>\n",
       "  <th>C(Crop_Type)[T.C4]</th> <td>   -3.5092</td> <td>    0.078</td> <td>  -45.177</td> <td> 0.000</td> <td>   -3.661</td> <td>   -3.357</td>\n",
       "</tr>\n",
       "<tr>\n",
       "  <th>C(Crop_Type)[T.C5]</th> <td>   -1.3844</td> <td>    0.047</td> <td>  -29.469</td> <td> 0.000</td> <td>   -1.476</td> <td>   -1.292</td>\n",
       "</tr>\n",
       "</table>\n",
       "<table class=\"simpletable\">\n",
       "<tr>\n",
       "  <th>Omnibus:</th>       <td>4144.411</td> <th>  Durbin-Watson:     </th> <td>   2.001</td>\n",
       "</tr>\n",
       "<tr>\n",
       "  <th>Prob(Omnibus):</th>  <td> 0.000</td>  <th>  Jarque-Bera (JB):  </th> <td>2080.424</td>\n",
       "</tr>\n",
       "<tr>\n",
       "  <th>Skew:</th>           <td> 0.010</td>  <th>  Prob(JB):          </th> <td>    0.00</td>\n",
       "</tr>\n",
       "<tr>\n",
       "  <th>Kurtosis:</th>       <td> 2.449</td>  <th>  Cond. No.          </th> <td>    14.2</td>\n",
       "</tr>\n",
       "</table><br/><br/>Notes:<br/>[1] Standard Errors assume that the covariance matrix of the errors is correctly specified."
      ],
      "text/plain": [
       "<class 'statsmodels.iolib.summary.Summary'>\n",
       "\"\"\"\n",
       "                            OLS Regression Results                            \n",
       "==============================================================================\n",
       "Dep. Variable:         log_Production   R-squared:                       0.016\n",
       "Model:                            OLS   Adj. R-squared:                  0.016\n",
       "Method:                 Least Squares   F-statistic:                     523.2\n",
       "Date:                Fri, 05 Feb 2021   Prob (F-statistic):               0.00\n",
       "Time:                        19:02:40   Log-Likelihood:            -4.1995e+05\n",
       "No. Observations:              164161   AIC:                         8.399e+05\n",
       "Df Residuals:                  164155   BIC:                         8.400e+05\n",
       "Df Model:                           5                                         \n",
       "Covariance Type:            nonrobust                                         \n",
       "======================================================================================\n",
       "                         coef    std err          t      P>|t|      [0.025      0.975]\n",
       "--------------------------------------------------------------------------------------\n",
       "Intercept              7.5807      0.036    210.477      0.000       7.510       7.651\n",
       "C(Crop_Type)[T.C1]    -0.7078      0.040    -17.886      0.000      -0.785      -0.630\n",
       "C(Crop_Type)[T.C2]    -0.6190      0.039    -15.889      0.000      -0.695      -0.543\n",
       "C(Crop_Type)[T.C3]    -0.8555      0.038    -22.455      0.000      -0.930      -0.781\n",
       "C(Crop_Type)[T.C4]    -3.5092      0.078    -45.177      0.000      -3.661      -3.357\n",
       "C(Crop_Type)[T.C5]    -1.3844      0.047    -29.469      0.000      -1.476      -1.292\n",
       "==============================================================================\n",
       "Omnibus:                     4144.411   Durbin-Watson:                   2.001\n",
       "Prob(Omnibus):                  0.000   Jarque-Bera (JB):             2080.424\n",
       "Skew:                           0.010   Prob(JB):                         0.00\n",
       "Kurtosis:                       2.449   Cond. No.                         14.2\n",
       "==============================================================================\n",
       "\n",
       "Notes:\n",
       "[1] Standard Errors assume that the covariance matrix of the errors is correctly specified.\n",
       "\"\"\""
      ]
     },
     "execution_count": 39,
     "metadata": {},
     "output_type": "execute_result"
    }
   ],
   "source": [
    "# ANOVA test with log_Production\n",
    "anova_result = smf.ols(formula='log_Production ~ C(Crop_Type)', data=df).fit()\n",
    "anova_result.summary()"
   ]
  },
  {
   "cell_type": "markdown",
   "metadata": {},
   "source": [
    "**Note**\n",
    "\n",
    "Looks like there is significant change in Adj. R-squared when we use cluster of crops and seasons.\n",
    "\n",
    "For now we will continue using Crop_Type assuming that it can represent Crop and Season.\n",
    "\n",
    "**To Do** \n",
    "\n",
    "Try forward selection for Crop, Season and Crop_Type seperately to validate the assumption in the end."
   ]
  },
  {
   "cell_type": "markdown",
   "metadata": {},
   "source": [
    "# Numerical Features"
   ]
  },
  {
   "cell_type": "code",
   "execution_count": 40,
   "metadata": {},
   "outputs": [
    {
     "data": {
      "text/plain": [
       "Index(['GW_depth_Min', 'GW_depth_Max', 'Wells_depth_0_to_2',\n",
       "       'Wells_depth_2_to_5', 'Wells_depth_5_to_10', 'Wells_depth_10_to_20',\n",
       "       'Wells_depth_20_to_40', 'Wells_depth_40_and_above', 'Precipitation',\n",
       "       'Solar_Radiation', 'Surface_Pressure', 'Humidity', 'Temp_Max',\n",
       "       'Temp_Min', 'Dew_Frost_Point', 'Wind_Speed', 'Year', 'Area',\n",
       "       'Production', 'log_Production'],\n",
       "      dtype='object')"
      ]
     },
     "execution_count": 40,
     "metadata": {},
     "output_type": "execute_result"
    }
   ],
   "source": [
    "numerical_features"
   ]
  },
  {
   "cell_type": "markdown",
   "metadata": {},
   "source": [
    "**Pipeline Action**\n",
    "\n",
    "Drop 'Year'column to avoid time-series factor."
   ]
  },
  {
   "cell_type": "code",
   "execution_count": 41,
   "metadata": {},
   "outputs": [],
   "source": [
    "# Drop Year column\n",
    "df = df.drop('Year', axis=1)"
   ]
  },
  {
   "cell_type": "code",
   "execution_count": 42,
   "metadata": {},
   "outputs": [],
   "source": [
    "# Get updated d_types\n",
    "numerical_features = df.select_dtypes(exclude='object').columns\n",
    "categorical_features = df.select_dtypes(include='object').columns"
   ]
  },
  {
   "cell_type": "markdown",
   "metadata": {},
   "source": [
    "## Area"
   ]
  },
  {
   "cell_type": "markdown",
   "metadata": {},
   "source": [
    "As per EDA, we saw that log Area had linear relationship with log_Production.\n",
    "\n",
    "**Pipeline Action**\n",
    "\n",
    "1. Create column log_Area as log of column Area.\n",
    "2. Drop column Area."
   ]
  },
  {
   "cell_type": "code",
   "execution_count": 84,
   "metadata": {},
   "outputs": [],
   "source": [
    "df['log_Area'] = np.log(df['Area'] + 1)\n",
    "df = df.drop('Area', axis=1)"
   ]
  },
  {
   "cell_type": "code",
   "execution_count": 85,
   "metadata": {},
   "outputs": [
    {
     "data": {
      "text/plain": [
       "<AxesSubplot:xlabel='log_Area', ylabel='log_Production'>"
      ]
     },
     "execution_count": 85,
     "metadata": {},
     "output_type": "execute_result"
    },
    {
     "data": {
      "image/png": "[encoded data removed]",
      "text/plain": [
       "<Figure size 432x288 with 1 Axes>"
      ]
     },
     "metadata": {
      "needs_background": "light"
     },
     "output_type": "display_data"
    }
   ],
   "source": [
    "sns.scatterplot(x='log_Area', y='log_Production', data=df)"
   ]
  },
  {
   "cell_type": "markdown",
   "metadata": {},
   "source": [
    "Hence, log_Area turns out to be an important feature. We will use it as first feature ro do forward selection."
   ]
  },
  {
   "cell_type": "code",
   "execution_count": 92,
   "metadata": {},
   "outputs": [
    {
     "data": {
      "text/html": [
       "<table class=\"simpletable\">\n",
       "<caption>OLS Regression Results</caption>\n",
       "<tr>\n",
       "  <th>Dep. Variable:</th>     <td>log_Production</td>  <th>  R-squared:         </th>  <td>   0.793</td>  \n",
       "</tr>\n",
       "<tr>\n",
       "  <th>Model:</th>                   <td>OLS</td>       <th>  Adj. R-squared:    </th>  <td>   0.793</td>  \n",
       "</tr>\n",
       "<tr>\n",
       "  <th>Method:</th>             <td>Least Squares</td>  <th>  F-statistic:       </th>  <td>6.289e+05</td> \n",
       "</tr>\n",
       "<tr>\n",
       "  <th>Date:</th>             <td>Mon, 08 Feb 2021</td> <th>  Prob (F-statistic):</th>   <td>  0.00</td>   \n",
       "</tr>\n",
       "<tr>\n",
       "  <th>Time:</th>                 <td>12:25:03</td>     <th>  Log-Likelihood:    </th> <td>-2.9196e+05</td>\n",
       "</tr>\n",
       "<tr>\n",
       "  <th>No. Observations:</th>      <td>164161</td>      <th>  AIC:               </th>  <td>5.839e+05</td> \n",
       "</tr>\n",
       "<tr>\n",
       "  <th>Df Residuals:</th>          <td>164159</td>      <th>  BIC:               </th>  <td>5.839e+05</td> \n",
       "</tr>\n",
       "<tr>\n",
       "  <th>Df Model:</th>              <td>     1</td>      <th>                     </th>      <td> </td>     \n",
       "</tr>\n",
       "<tr>\n",
       "  <th>Covariance Type:</th>      <td>nonrobust</td>    <th>                     </th>      <td> </td>     \n",
       "</tr>\n",
       "</table>\n",
       "<table class=\"simpletable\">\n",
       "<tr>\n",
       "      <td></td>         <th>coef</th>     <th>std err</th>      <th>t</th>      <th>P>|t|</th>  <th>[0.025</th>    <th>0.975]</th>  \n",
       "</tr>\n",
       "<tr>\n",
       "  <th>Intercept</th> <td>    0.2537</td> <td>    0.009</td> <td>   28.274</td> <td> 0.000</td> <td>    0.236</td> <td>    0.271</td>\n",
       "</tr>\n",
       "<tr>\n",
       "  <th>log_Area</th>  <td>    1.0019</td> <td>    0.001</td> <td>  793.043</td> <td> 0.000</td> <td>    0.999</td> <td>    1.004</td>\n",
       "</tr>\n",
       "</table>\n",
       "<table class=\"simpletable\">\n",
       "<tr>\n",
       "  <th>Omnibus:</th>       <td>22433.495</td> <th>  Durbin-Watson:     </th> <td>   2.002</td> \n",
       "</tr>\n",
       "<tr>\n",
       "  <th>Prob(Omnibus):</th>  <td> 0.000</td>   <th>  Jarque-Bera (JB):  </th> <td>74212.520</td>\n",
       "</tr>\n",
       "<tr>\n",
       "  <th>Skew:</th>           <td> 0.697</td>   <th>  Prob(JB):          </th> <td>    0.00</td> \n",
       "</tr>\n",
       "<tr>\n",
       "  <th>Kurtosis:</th>       <td> 5.984</td>   <th>  Cond. No.          </th> <td>    18.3</td> \n",
       "</tr>\n",
       "</table><br/><br/>Notes:<br/>[1] Standard Errors assume that the covariance matrix of the errors is correctly specified."
      ],
      "text/plain": [
       "<class 'statsmodels.iolib.summary.Summary'>\n",
       "\"\"\"\n",
       "                            OLS Regression Results                            \n",
       "==============================================================================\n",
       "Dep. Variable:         log_Production   R-squared:                       0.793\n",
       "Model:                            OLS   Adj. R-squared:                  0.793\n",
       "Method:                 Least Squares   F-statistic:                 6.289e+05\n",
       "Date:                Mon, 08 Feb 2021   Prob (F-statistic):               0.00\n",
       "Time:                        12:25:03   Log-Likelihood:            -2.9196e+05\n",
       "No. Observations:              164161   AIC:                         5.839e+05\n",
       "Df Residuals:                  164159   BIC:                         5.839e+05\n",
       "Df Model:                           1                                         \n",
       "Covariance Type:            nonrobust                                         \n",
       "==============================================================================\n",
       "                 coef    std err          t      P>|t|      [0.025      0.975]\n",
       "------------------------------------------------------------------------------\n",
       "Intercept      0.2537      0.009     28.274      0.000       0.236       0.271\n",
       "log_Area       1.0019      0.001    793.043      0.000       0.999       1.004\n",
       "==============================================================================\n",
       "Omnibus:                    22433.495   Durbin-Watson:                   2.002\n",
       "Prob(Omnibus):                  0.000   Jarque-Bera (JB):            74212.520\n",
       "Skew:                           0.697   Prob(JB):                         0.00\n",
       "Kurtosis:                       5.984   Cond. No.                         18.3\n",
       "==============================================================================\n",
       "\n",
       "Notes:\n",
       "[1] Standard Errors assume that the covariance matrix of the errors is correctly specified.\n",
       "\"\"\""
      ]
     },
     "execution_count": 92,
     "metadata": {},
     "output_type": "execute_result"
    }
   ],
   "source": [
    "smf.ols(formula='log_Production ~ log_Area', data=df).fit().summary()"
   ]
  },
  {
   "cell_type": "code",
   "execution_count": 93,
   "metadata": {},
   "outputs": [],
   "source": [
    "# Get updated d_types\n",
    "numerical_features = df.select_dtypes(exclude='object').columns\n",
    "categorical_features = df.select_dtypes(include='object').columns"
   ]
  },
  {
   "cell_type": "markdown",
   "metadata": {},
   "source": [
    "## Check for multicollinearity"
   ]
  },
  {
   "cell_type": "code",
   "execution_count": 94,
   "metadata": {},
   "outputs": [
    {
     "data": {
      "text/plain": [
       "Index(['GW_depth_Min', 'GW_depth_Max', 'Wells_depth_0_to_2',\n",
       "       'Wells_depth_2_to_5', 'Wells_depth_5_to_10', 'Wells_depth_10_to_20',\n",
       "       'Wells_depth_20_to_40', 'Wells_depth_40_and_above', 'Precipitation',\n",
       "       'Solar_Radiation', 'Surface_Pressure', 'Humidity', 'Temp_Max',\n",
       "       'Temp_Min', 'Dew_Frost_Point', 'Wind_Speed', 'log_Area'],\n",
       "      dtype='object')"
      ]
     },
     "execution_count": 94,
     "metadata": {},
     "output_type": "execute_result"
    }
   ],
   "source": [
    "# VIF with all numerical columns\n",
    "X_numerical = df[numerical_features].drop(['Production', 'log_Production'], axis=1)\n",
    "X_numerical.columns"
   ]
  },
  {
   "cell_type": "code",
   "execution_count": 95,
   "metadata": {},
   "outputs": [],
   "source": [
    "def test_vif(data):\n",
    "    vif_data = pd.DataFrame()\n",
    "    vif_data['feature'] = data.columns\n",
    "    vif_data['VIF'] = [variance_inflation_factor(data.values, i) for i in range(data.shape[1])]\n",
    "    return vif_data"
   ]
  },
  {
   "cell_type": "code",
   "execution_count": 96,
   "metadata": {},
   "outputs": [
    {
     "data": {
      "text/html": [
       "<div>\n",
       "<style scoped>\n",
       "    .dataframe tbody tr th:only-of-type {\n",
       "        vertical-align: middle;\n",
       "    }\n",
       "\n",
       "    .dataframe tbody tr th {\n",
       "        vertical-align: top;\n",
       "    }\n",
       "\n",
       "    .dataframe thead th {\n",
       "        text-align: right;\n",
       "    }\n",
       "</style>\n",
       "<table border=\"1\" class=\"dataframe\">\n",
       "  <thead>\n",
       "    <tr style=\"text-align: right;\">\n",
       "      <th></th>\n",
       "      <th>feature</th>\n",
       "      <th>VIF</th>\n",
       "    </tr>\n",
       "  </thead>\n",
       "  <tbody>\n",
       "    <tr>\n",
       "      <th>0</th>\n",
       "      <td>GW_depth_Min</td>\n",
       "      <td>2.410118</td>\n",
       "    </tr>\n",
       "    <tr>\n",
       "      <th>1</th>\n",
       "      <td>GW_depth_Max</td>\n",
       "      <td>6.886306</td>\n",
       "    </tr>\n",
       "    <tr>\n",
       "      <th>2</th>\n",
       "      <td>Wells_depth_0_to_2</td>\n",
       "      <td>2.216787</td>\n",
       "    </tr>\n",
       "    <tr>\n",
       "      <th>3</th>\n",
       "      <td>Wells_depth_2_to_5</td>\n",
       "      <td>4.750615</td>\n",
       "    </tr>\n",
       "    <tr>\n",
       "      <th>4</th>\n",
       "      <td>Wells_depth_5_to_10</td>\n",
       "      <td>4.522863</td>\n",
       "    </tr>\n",
       "    <tr>\n",
       "      <th>5</th>\n",
       "      <td>Wells_depth_10_to_20</td>\n",
       "      <td>3.545022</td>\n",
       "    </tr>\n",
       "    <tr>\n",
       "      <th>6</th>\n",
       "      <td>Wells_depth_20_to_40</td>\n",
       "      <td>3.100321</td>\n",
       "    </tr>\n",
       "    <tr>\n",
       "      <th>7</th>\n",
       "      <td>Wells_depth_40_and_above</td>\n",
       "      <td>1.839187</td>\n",
       "    </tr>\n",
       "    <tr>\n",
       "      <th>8</th>\n",
       "      <td>Precipitation</td>\n",
       "      <td>10.420871</td>\n",
       "    </tr>\n",
       "    <tr>\n",
       "      <th>9</th>\n",
       "      <td>Solar_Radiation</td>\n",
       "      <td>167.891710</td>\n",
       "    </tr>\n",
       "    <tr>\n",
       "      <th>10</th>\n",
       "      <td>Surface_Pressure</td>\n",
       "      <td>857.152825</td>\n",
       "    </tr>\n",
       "    <tr>\n",
       "      <th>11</th>\n",
       "      <td>Humidity</td>\n",
       "      <td>455.586390</td>\n",
       "    </tr>\n",
       "    <tr>\n",
       "      <th>12</th>\n",
       "      <td>Temp_Max</td>\n",
       "      <td>834.956601</td>\n",
       "    </tr>\n",
       "    <tr>\n",
       "      <th>13</th>\n",
       "      <td>Temp_Min</td>\n",
       "      <td>553.436793</td>\n",
       "    </tr>\n",
       "    <tr>\n",
       "      <th>14</th>\n",
       "      <td>Dew_Frost_Point</td>\n",
       "      <td>320.047420</td>\n",
       "    </tr>\n",
       "    <tr>\n",
       "      <th>15</th>\n",
       "      <td>Wind_Speed</td>\n",
       "      <td>13.110239</td>\n",
       "    </tr>\n",
       "    <tr>\n",
       "      <th>16</th>\n",
       "      <td>log_Area</td>\n",
       "      <td>6.762752</td>\n",
       "    </tr>\n",
       "  </tbody>\n",
       "</table>\n",
       "</div>"
      ],
      "text/plain": [
       "                     feature         VIF\n",
       "0               GW_depth_Min    2.410118\n",
       "1               GW_depth_Max    6.886306\n",
       "2         Wells_depth_0_to_2    2.216787\n",
       "3         Wells_depth_2_to_5    4.750615\n",
       "4        Wells_depth_5_to_10    4.522863\n",
       "5       Wells_depth_10_to_20    3.545022\n",
       "6       Wells_depth_20_to_40    3.100321\n",
       "7   Wells_depth_40_and_above    1.839187\n",
       "8              Precipitation   10.420871\n",
       "9            Solar_Radiation  167.891710\n",
       "10          Surface_Pressure  857.152825\n",
       "11                  Humidity  455.586390\n",
       "12                  Temp_Max  834.956601\n",
       "13                  Temp_Min  553.436793\n",
       "14           Dew_Frost_Point  320.047420\n",
       "15                Wind_Speed   13.110239\n",
       "16                  log_Area    6.762752"
      ]
     },
     "execution_count": 96,
     "metadata": {},
     "output_type": "execute_result"
    }
   ],
   "source": [
    "test_vif(X_numerical)"
   ]
  },
  {
   "cell_type": "markdown",
   "metadata": {},
   "source": [
    "### Only among features related to water resource"
   ]
  },
  {
   "cell_type": "code",
   "execution_count": 104,
   "metadata": {},
   "outputs": [
    {
     "data": {
      "text/plain": [
       "<AxesSubplot:>"
      ]
     },
     "execution_count": 104,
     "metadata": {},
     "output_type": "execute_result"
    },
    {
     "data": {
      "image/png": "[encoded data removed]",
      "text/plain": [
       "<Figure size 720x576 with 2 Axes>"
      ]
     },
     "metadata": {
      "needs_background": "light"
     },
     "output_type": "display_data"
    }
   ],
   "source": [
    "X_water = X_numerical[['GW_depth_Min', 'GW_depth_Max', 'Wells_depth_0_to_2',\n",
    "       'Wells_depth_2_to_5', 'Wells_depth_5_to_10', 'Wells_depth_10_to_20',\n",
    "       'Wells_depth_20_to_40', 'Wells_depth_40_and_above']]\n",
    "plt.figure(figsize=(10, 8))\n",
    "sns.heatmap(X_water.corr().abs(), annot=True, cmap=plt.cm.BrBG, vmin=0, vmax=1)"
   ]
  },
  {
   "cell_type": "code",
   "execution_count": 98,
   "metadata": {
    "scrolled": true
   },
   "outputs": [
    {
     "data": {
      "text/html": [
       "<div>\n",
       "<style scoped>\n",
       "    .dataframe tbody tr th:only-of-type {\n",
       "        vertical-align: middle;\n",
       "    }\n",
       "\n",
       "    .dataframe tbody tr th {\n",
       "        vertical-align: top;\n",
       "    }\n",
       "\n",
       "    .dataframe thead th {\n",
       "        text-align: right;\n",
       "    }\n",
       "</style>\n",
       "<table border=\"1\" class=\"dataframe\">\n",
       "  <thead>\n",
       "    <tr style=\"text-align: right;\">\n",
       "      <th></th>\n",
       "      <th>feature</th>\n",
       "      <th>VIF</th>\n",
       "    </tr>\n",
       "  </thead>\n",
       "  <tbody>\n",
       "    <tr>\n",
       "      <th>0</th>\n",
       "      <td>GW_depth_Min</td>\n",
       "      <td>1.845133</td>\n",
       "    </tr>\n",
       "    <tr>\n",
       "      <th>1</th>\n",
       "      <td>GW_depth_Max</td>\n",
       "      <td>5.204883</td>\n",
       "    </tr>\n",
       "    <tr>\n",
       "      <th>2</th>\n",
       "      <td>Wells_depth_0_to_2</td>\n",
       "      <td>2.163746</td>\n",
       "    </tr>\n",
       "    <tr>\n",
       "      <th>3</th>\n",
       "      <td>Wells_depth_2_to_5</td>\n",
       "      <td>4.240354</td>\n",
       "    </tr>\n",
       "    <tr>\n",
       "      <th>4</th>\n",
       "      <td>Wells_depth_5_to_10</td>\n",
       "      <td>4.307797</td>\n",
       "    </tr>\n",
       "    <tr>\n",
       "      <th>5</th>\n",
       "      <td>Wells_depth_10_to_20</td>\n",
       "      <td>3.262948</td>\n",
       "    </tr>\n",
       "    <tr>\n",
       "      <th>6</th>\n",
       "      <td>Wells_depth_20_to_40</td>\n",
       "      <td>2.969650</td>\n",
       "    </tr>\n",
       "    <tr>\n",
       "      <th>7</th>\n",
       "      <td>Wells_depth_40_and_above</td>\n",
       "      <td>1.767062</td>\n",
       "    </tr>\n",
       "  </tbody>\n",
       "</table>\n",
       "</div>"
      ],
      "text/plain": [
       "                    feature       VIF\n",
       "0              GW_depth_Min  1.845133\n",
       "1              GW_depth_Max  5.204883\n",
       "2        Wells_depth_0_to_2  2.163746\n",
       "3        Wells_depth_2_to_5  4.240354\n",
       "4       Wells_depth_5_to_10  4.307797\n",
       "5      Wells_depth_10_to_20  3.262948\n",
       "6      Wells_depth_20_to_40  2.969650\n",
       "7  Wells_depth_40_and_above  1.767062"
      ]
     },
     "execution_count": 98,
     "metadata": {},
     "output_type": "execute_result"
    }
   ],
   "source": [
    "# VIF with features related to only water resources\n",
    "test_vif(X_water)"
   ]
  },
  {
   "cell_type": "markdown",
   "metadata": {},
   "source": [
    "**Note**\n",
    "\n",
    "Considering high multicollinearity at values of VIF above 5.\n",
    "\n",
    "GW_depth_Max shows the VIF of 5.204, which is negligibly higher than 5. Hence, we will retain it."
   ]
  },
  {
   "cell_type": "code",
   "execution_count": 119,
   "metadata": {},
   "outputs": [],
   "source": [
    "def ols_summary(cols, data):\n",
    "    formula_str = \"log_Production ~ \"\n",
    "    for col in cols:\n",
    "        formula_str += f\" + {col}\"\n",
    "    return smf.ols(formula=formula_str, data=df).fit().summary()"
   ]
  },
  {
   "cell_type": "code",
   "execution_count": 120,
   "metadata": {},
   "outputs": [
    {
     "data": {
      "text/html": [
       "<table class=\"simpletable\">\n",
       "<caption>OLS Regression Results</caption>\n",
       "<tr>\n",
       "  <th>Dep. Variable:</th>     <td>log_Production</td>  <th>  R-squared:         </th>  <td>   0.012</td>  \n",
       "</tr>\n",
       "<tr>\n",
       "  <th>Model:</th>                   <td>OLS</td>       <th>  Adj. R-squared:    </th>  <td>   0.012</td>  \n",
       "</tr>\n",
       "<tr>\n",
       "  <th>Method:</th>             <td>Least Squares</td>  <th>  F-statistic:       </th>  <td>   253.3</td>  \n",
       "</tr>\n",
       "<tr>\n",
       "  <th>Date:</th>             <td>Mon, 08 Feb 2021</td> <th>  Prob (F-statistic):</th>   <td>  0.00</td>   \n",
       "</tr>\n",
       "<tr>\n",
       "  <th>Time:</th>                 <td>14:30:19</td>     <th>  Log-Likelihood:    </th> <td>-4.2024e+05</td>\n",
       "</tr>\n",
       "<tr>\n",
       "  <th>No. Observations:</th>      <td>164161</td>      <th>  AIC:               </th>  <td>8.405e+05</td> \n",
       "</tr>\n",
       "<tr>\n",
       "  <th>Df Residuals:</th>          <td>164152</td>      <th>  BIC:               </th>  <td>8.406e+05</td> \n",
       "</tr>\n",
       "<tr>\n",
       "  <th>Df Model:</th>              <td>     8</td>      <th>                     </th>      <td> </td>     \n",
       "</tr>\n",
       "<tr>\n",
       "  <th>Covariance Type:</th>      <td>nonrobust</td>    <th>                     </th>      <td> </td>     \n",
       "</tr>\n",
       "</table>\n",
       "<table class=\"simpletable\">\n",
       "<tr>\n",
       "              <td></td>                <th>coef</th>     <th>std err</th>      <th>t</th>      <th>P>|t|</th>  <th>[0.025</th>    <th>0.975]</th>  \n",
       "</tr>\n",
       "<tr>\n",
       "  <th>Intercept</th>                <td>    6.5041</td> <td>    0.019</td> <td>  347.703</td> <td> 0.000</td> <td>    6.467</td> <td>    6.541</td>\n",
       "</tr>\n",
       "<tr>\n",
       "  <th>GW_depth_Min</th>             <td>    0.0044</td> <td>    0.003</td> <td>    1.546</td> <td> 0.122</td> <td>   -0.001</td> <td>    0.010</td>\n",
       "</tr>\n",
       "<tr>\n",
       "  <th>GW_depth_Max</th>             <td>    0.0022</td> <td>    0.001</td> <td>    3.040</td> <td> 0.002</td> <td>    0.001</td> <td>    0.004</td>\n",
       "</tr>\n",
       "<tr>\n",
       "  <th>Wells_depth_0_to_2</th>       <td>   -0.0314</td> <td>    0.004</td> <td>   -8.826</td> <td> 0.000</td> <td>   -0.038</td> <td>   -0.024</td>\n",
       "</tr>\n",
       "<tr>\n",
       "  <th>Wells_depth_2_to_5</th>       <td>    0.0158</td> <td>    0.002</td> <td>   10.121</td> <td> 0.000</td> <td>    0.013</td> <td>    0.019</td>\n",
       "</tr>\n",
       "<tr>\n",
       "  <th>Wells_depth_5_to_10</th>      <td>   -0.0089</td> <td>    0.001</td> <td>   -9.237</td> <td> 0.000</td> <td>   -0.011</td> <td>   -0.007</td>\n",
       "</tr>\n",
       "<tr>\n",
       "  <th>Wells_depth_10_to_20</th>     <td>    0.0295</td> <td>    0.001</td> <td>   22.529</td> <td> 0.000</td> <td>    0.027</td> <td>    0.032</td>\n",
       "</tr>\n",
       "<tr>\n",
       "  <th>Wells_depth_20_to_40</th>     <td>    0.0689</td> <td>    0.004</td> <td>   16.870</td> <td> 0.000</td> <td>    0.061</td> <td>    0.077</td>\n",
       "</tr>\n",
       "<tr>\n",
       "  <th>Wells_depth_40_and_above</th> <td>   -0.0669</td> <td>    0.004</td> <td>  -15.893</td> <td> 0.000</td> <td>   -0.075</td> <td>   -0.059</td>\n",
       "</tr>\n",
       "</table>\n",
       "<table class=\"simpletable\">\n",
       "<tr>\n",
       "  <th>Omnibus:</th>       <td>4160.946</td> <th>  Durbin-Watson:     </th> <td>   2.002</td>\n",
       "</tr>\n",
       "<tr>\n",
       "  <th>Prob(Omnibus):</th>  <td> 0.000</td>  <th>  Jarque-Bera (JB):  </th> <td>2099.408</td>\n",
       "</tr>\n",
       "<tr>\n",
       "  <th>Skew:</th>           <td> 0.029</td>  <th>  Prob(JB):          </th> <td>    0.00</td>\n",
       "</tr>\n",
       "<tr>\n",
       "  <th>Kurtosis:</th>       <td> 2.449</td>  <th>  Cond. No.          </th> <td>    76.7</td>\n",
       "</tr>\n",
       "</table><br/><br/>Notes:<br/>[1] Standard Errors assume that the covariance matrix of the errors is correctly specified."
      ],
      "text/plain": [
       "<class 'statsmodels.iolib.summary.Summary'>\n",
       "\"\"\"\n",
       "                            OLS Regression Results                            \n",
       "==============================================================================\n",
       "Dep. Variable:         log_Production   R-squared:                       0.012\n",
       "Model:                            OLS   Adj. R-squared:                  0.012\n",
       "Method:                 Least Squares   F-statistic:                     253.3\n",
       "Date:                Mon, 08 Feb 2021   Prob (F-statistic):               0.00\n",
       "Time:                        14:30:19   Log-Likelihood:            -4.2024e+05\n",
       "No. Observations:              164161   AIC:                         8.405e+05\n",
       "Df Residuals:                  164152   BIC:                         8.406e+05\n",
       "Df Model:                           8                                         \n",
       "Covariance Type:            nonrobust                                         \n",
       "============================================================================================\n",
       "                               coef    std err          t      P>|t|      [0.025      0.975]\n",
       "--------------------------------------------------------------------------------------------\n",
       "Intercept                    6.5041      0.019    347.703      0.000       6.467       6.541\n",
       "GW_depth_Min                 0.0044      0.003      1.546      0.122      -0.001       0.010\n",
       "GW_depth_Max                 0.0022      0.001      3.040      0.002       0.001       0.004\n",
       "Wells_depth_0_to_2          -0.0314      0.004     -8.826      0.000      -0.038      -0.024\n",
       "Wells_depth_2_to_5           0.0158      0.002     10.121      0.000       0.013       0.019\n",
       "Wells_depth_5_to_10         -0.0089      0.001     -9.237      0.000      -0.011      -0.007\n",
       "Wells_depth_10_to_20         0.0295      0.001     22.529      0.000       0.027       0.032\n",
       "Wells_depth_20_to_40         0.0689      0.004     16.870      0.000       0.061       0.077\n",
       "Wells_depth_40_and_above    -0.0669      0.004    -15.893      0.000      -0.075      -0.059\n",
       "==============================================================================\n",
       "Omnibus:                     4160.946   Durbin-Watson:                   2.002\n",
       "Prob(Omnibus):                  0.000   Jarque-Bera (JB):             2099.408\n",
       "Skew:                           0.029   Prob(JB):                         0.00\n",
       "Kurtosis:                       2.449   Cond. No.                         76.7\n",
       "==============================================================================\n",
       "\n",
       "Notes:\n",
       "[1] Standard Errors assume that the covariance matrix of the errors is correctly specified.\n",
       "\"\"\""
      ]
     },
     "execution_count": 120,
     "metadata": {},
     "output_type": "execute_result"
    }
   ],
   "source": [
    "ols_summary(X_water.columns, X_water)"
   ]
  },
  {
   "cell_type": "markdown",
   "metadata": {},
   "source": [
    "### Only among features related to climate"
   ]
  },
  {
   "cell_type": "code",
   "execution_count": 113,
   "metadata": {},
   "outputs": [
    {
     "data": {
      "text/plain": [
       "<AxesSubplot:>"
      ]
     },
     "execution_count": 113,
     "metadata": {},
     "output_type": "execute_result"
    },
    {
     "data": {
      "image/png": "[encoded data removed]",
      "text/plain": [
       "<Figure size 720x576 with 2 Axes>"
      ]
     },
     "metadata": {
      "needs_background": "light"
     },
     "output_type": "display_data"
    }
   ],
   "source": [
    "X_climate = X_numerical[['Precipitation',\n",
    "       'Solar_Radiation', 'Surface_Pressure', 'Humidity', 'Temp_Max',\n",
    "       'Temp_Min', 'Dew_Frost_Point', 'Wind_Speed']]\n",
    "\n",
    "plt.figure(figsize=(10, 8))\n",
    "sns.heatmap(X_climate.corr().abs(), annot=True, cmap=plt.cm.BrBG, vmin=0, vmax=1)"
   ]
  },
  {
   "cell_type": "code",
   "execution_count": 114,
   "metadata": {},
   "outputs": [
    {
     "data": {
      "text/html": [
       "<div>\n",
       "<style scoped>\n",
       "    .dataframe tbody tr th:only-of-type {\n",
       "        vertical-align: middle;\n",
       "    }\n",
       "\n",
       "    .dataframe tbody tr th {\n",
       "        vertical-align: top;\n",
       "    }\n",
       "\n",
       "    .dataframe thead th {\n",
       "        text-align: right;\n",
       "    }\n",
       "</style>\n",
       "<table border=\"1\" class=\"dataframe\">\n",
       "  <thead>\n",
       "    <tr style=\"text-align: right;\">\n",
       "      <th></th>\n",
       "      <th>feature</th>\n",
       "      <th>VIF</th>\n",
       "    </tr>\n",
       "  </thead>\n",
       "  <tbody>\n",
       "    <tr>\n",
       "      <th>0</th>\n",
       "      <td>Precipitation</td>\n",
       "      <td>10.126526</td>\n",
       "    </tr>\n",
       "    <tr>\n",
       "      <th>1</th>\n",
       "      <td>Solar_Radiation</td>\n",
       "      <td>162.093298</td>\n",
       "    </tr>\n",
       "    <tr>\n",
       "      <th>2</th>\n",
       "      <td>Surface_Pressure</td>\n",
       "      <td>798.687069</td>\n",
       "    </tr>\n",
       "    <tr>\n",
       "      <th>3</th>\n",
       "      <td>Humidity</td>\n",
       "      <td>447.630430</td>\n",
       "    </tr>\n",
       "    <tr>\n",
       "      <th>4</th>\n",
       "      <td>Temp_Max</td>\n",
       "      <td>742.189040</td>\n",
       "    </tr>\n",
       "    <tr>\n",
       "      <th>5</th>\n",
       "      <td>Temp_Min</td>\n",
       "      <td>516.726639</td>\n",
       "    </tr>\n",
       "    <tr>\n",
       "      <th>6</th>\n",
       "      <td>Dew_Frost_Point</td>\n",
       "      <td>313.737661</td>\n",
       "    </tr>\n",
       "    <tr>\n",
       "      <th>7</th>\n",
       "      <td>Wind_Speed</td>\n",
       "      <td>11.263729</td>\n",
       "    </tr>\n",
       "  </tbody>\n",
       "</table>\n",
       "</div>"
      ],
      "text/plain": [
       "            feature         VIF\n",
       "0     Precipitation   10.126526\n",
       "1   Solar_Radiation  162.093298\n",
       "2  Surface_Pressure  798.687069\n",
       "3          Humidity  447.630430\n",
       "4          Temp_Max  742.189040\n",
       "5          Temp_Min  516.726639\n",
       "6   Dew_Frost_Point  313.737661\n",
       "7        Wind_Speed   11.263729"
      ]
     },
     "execution_count": 114,
     "metadata": {},
     "output_type": "execute_result"
    }
   ],
   "source": [
    "# VIF with features related to only climate\n",
    "test_vif(X_climate)"
   ]
  },
  {
   "cell_type": "markdown",
   "metadata": {},
   "source": [
    "**Note**\n",
    "\n",
    "Taking correlation cut-off as 80."
   ]
  },
  {
   "cell_type": "markdown",
   "metadata": {},
   "source": [
    "We find following as highly correlated features:\n",
    "1. Humidity vs. Dew_Frost_Point\n",
    "2. Temp_Min vs Dew_Frost_Point"
   ]
  },
  {
   "cell_type": "markdown",
   "metadata": {},
   "source": [
    "**Pipeline Action**\n",
    "\n",
    "Drop column Dew_Frost_Point due to high correlation (above 80)"
   ]
  },
  {
   "cell_type": "code",
   "execution_count": 115,
   "metadata": {},
   "outputs": [],
   "source": [
    "# Dropping column Dew_Frost_Point\n",
    "X_climate = X_climate.drop('Dew_Frost_Point', axis=1)"
   ]
  },
  {
   "cell_type": "code",
   "execution_count": 116,
   "metadata": {},
   "outputs": [
    {
     "data": {
      "text/plain": [
       "<AxesSubplot:>"
      ]
     },
     "execution_count": 116,
     "metadata": {},
     "output_type": "execute_result"
    },
    {
     "data": {
      "image/png": "[encoded data removed]",
      "text/plain": [
       "<Figure size 720x576 with 2 Axes>"
      ]
     },
     "metadata": {
      "needs_background": "light"
     },
     "output_type": "display_data"
    }
   ],
   "source": [
    "plt.figure(figsize=(10, 8))\n",
    "sns.heatmap(X_climate.corr().abs(), annot=True, cmap=plt.cm.BrBG, vmin=0, vmax=1)"
   ]
  },
  {
   "cell_type": "code",
   "execution_count": 117,
   "metadata": {},
   "outputs": [
    {
     "data": {
      "text/html": [
       "<div>\n",
       "<style scoped>\n",
       "    .dataframe tbody tr th:only-of-type {\n",
       "        vertical-align: middle;\n",
       "    }\n",
       "\n",
       "    .dataframe tbody tr th {\n",
       "        vertical-align: top;\n",
       "    }\n",
       "\n",
       "    .dataframe thead th {\n",
       "        text-align: right;\n",
       "    }\n",
       "</style>\n",
       "<table border=\"1\" class=\"dataframe\">\n",
       "  <thead>\n",
       "    <tr style=\"text-align: right;\">\n",
       "      <th></th>\n",
       "      <th>feature</th>\n",
       "      <th>VIF</th>\n",
       "    </tr>\n",
       "  </thead>\n",
       "  <tbody>\n",
       "    <tr>\n",
       "      <th>0</th>\n",
       "      <td>Precipitation</td>\n",
       "      <td>7.252842</td>\n",
       "    </tr>\n",
       "    <tr>\n",
       "      <th>1</th>\n",
       "      <td>Solar_Radiation</td>\n",
       "      <td>139.573595</td>\n",
       "    </tr>\n",
       "    <tr>\n",
       "      <th>2</th>\n",
       "      <td>Surface_Pressure</td>\n",
       "      <td>371.456060</td>\n",
       "    </tr>\n",
       "    <tr>\n",
       "      <th>3</th>\n",
       "      <td>Humidity</td>\n",
       "      <td>71.846062</td>\n",
       "    </tr>\n",
       "    <tr>\n",
       "      <th>4</th>\n",
       "      <td>Temp_Max</td>\n",
       "      <td>687.281854</td>\n",
       "    </tr>\n",
       "    <tr>\n",
       "      <th>5</th>\n",
       "      <td>Temp_Min</td>\n",
       "      <td>198.895912</td>\n",
       "    </tr>\n",
       "    <tr>\n",
       "      <th>6</th>\n",
       "      <td>Wind_Speed</td>\n",
       "      <td>10.826716</td>\n",
       "    </tr>\n",
       "  </tbody>\n",
       "</table>\n",
       "</div>"
      ],
      "text/plain": [
       "            feature         VIF\n",
       "0     Precipitation    7.252842\n",
       "1   Solar_Radiation  139.573595\n",
       "2  Surface_Pressure  371.456060\n",
       "3          Humidity   71.846062\n",
       "4          Temp_Max  687.281854\n",
       "5          Temp_Min  198.895912\n",
       "6        Wind_Speed   10.826716"
      ]
     },
     "execution_count": 117,
     "metadata": {},
     "output_type": "execute_result"
    }
   ],
   "source": [
    "# VIF of climate features after removing Dew_Frost_Point\n",
    "test_vif(X_climate)"
   ]
  },
  {
   "cell_type": "code",
   "execution_count": 121,
   "metadata": {},
   "outputs": [
    {
     "data": {
      "text/html": [
       "<div>\n",
       "<style scoped>\n",
       "    .dataframe tbody tr th:only-of-type {\n",
       "        vertical-align: middle;\n",
       "    }\n",
       "\n",
       "    .dataframe tbody tr th {\n",
       "        vertical-align: top;\n",
       "    }\n",
       "\n",
       "    .dataframe thead th {\n",
       "        text-align: right;\n",
       "    }\n",
       "</style>\n",
       "<table border=\"1\" class=\"dataframe\">\n",
       "  <thead>\n",
       "    <tr style=\"text-align: right;\">\n",
       "      <th></th>\n",
       "      <th>feature</th>\n",
       "      <th>VIF</th>\n",
       "    </tr>\n",
       "  </thead>\n",
       "  <tbody>\n",
       "    <tr>\n",
       "      <th>0</th>\n",
       "      <td>Precipitation</td>\n",
       "      <td>7.239759</td>\n",
       "    </tr>\n",
       "    <tr>\n",
       "      <th>1</th>\n",
       "      <td>Solar_Radiation</td>\n",
       "      <td>114.937386</td>\n",
       "    </tr>\n",
       "    <tr>\n",
       "      <th>2</th>\n",
       "      <td>Surface_Pressure</td>\n",
       "      <td>116.740302</td>\n",
       "    </tr>\n",
       "    <tr>\n",
       "      <th>3</th>\n",
       "      <td>Humidity</td>\n",
       "      <td>33.365662</td>\n",
       "    </tr>\n",
       "    <tr>\n",
       "      <th>4</th>\n",
       "      <td>Temp_Min</td>\n",
       "      <td>50.730654</td>\n",
       "    </tr>\n",
       "    <tr>\n",
       "      <th>5</th>\n",
       "      <td>Wind_Speed</td>\n",
       "      <td>10.377438</td>\n",
       "    </tr>\n",
       "  </tbody>\n",
       "</table>\n",
       "</div>"
      ],
      "text/plain": [
       "            feature         VIF\n",
       "0     Precipitation    7.239759\n",
       "1   Solar_Radiation  114.937386\n",
       "2  Surface_Pressure  116.740302\n",
       "3          Humidity   33.365662\n",
       "4          Temp_Min   50.730654\n",
       "5        Wind_Speed   10.377438"
      ]
     },
     "execution_count": 121,
     "metadata": {},
     "output_type": "execute_result"
    }
   ],
   "source": [
    "test_vif(X_climate.drop('Temp_Max', axis=1))"
   ]
  },
  {
   "cell_type": "markdown",
   "metadata": {},
   "source": [
    "**Observations**\n",
    "\n",
    "1. We could not see direct high correation among features based on correlation matrix.\n",
    "2. VIF values are very high for features related to climate.\n",
    "3. We cannot continue feature selection based on OLS summary due to high multicollinearity indicated by VIF on features related to climate.\n",
    "\n",
    "Also, based upon EDA and analysis during Feature Engineering we saw that features except log-Area do not show linear relationship with log-Production (target)."
   ]
  },
  {
   "cell_type": "markdown",
   "metadata": {},
   "source": [
    "**Next step**\n",
    "\n",
    "Hence, we can try not to consider multicollinearity assuming the non-linearity factor and check importance of existing features using decision tree analysis."
   ]
  },
  {
   "cell_type": "code",
   "execution_count": null,
   "metadata": {},
   "outputs": [],
   "source": []
  }
 ],
 "metadata": {
  "kernelspec": {
   "display_name": "Python 3",
   "language": "python",
   "name": "python3"
  },
  "language_info": {
   "codemirror_mode": {
    "name": "ipython",
    "version": 3
   },
   "file_extension": ".py",
   "mimetype": "text/x-python",
   "name": "python",
   "nbconvert_exporter": "python",
   "pygments_lexer": "ipython3",
   "version": "3.8.5"
  }
 },
 "nbformat": 4,
 "nbformat_minor": 2
}
